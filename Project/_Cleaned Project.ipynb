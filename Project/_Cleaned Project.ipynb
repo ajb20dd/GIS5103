{
 "cells": [
  {
   "cell_type": "markdown",
   "metadata": {},
   "source": [
    "# GIS5103 Final Project\n",
    "**Water Infrastructure and GI Disease**  \n",
    "Alexander Bedine"
   ]
  },
  {
   "cell_type": "markdown",
   "metadata": {},
   "source": [
    "## Core Packages and Table of Contents"
   ]
  },
  {
   "cell_type": "markdown",
   "metadata": {},
   "source": [
    "### Table of Contents\n",
    "- [GI Disease Data](#gi-disease-data)\n",
    "    - [Pancreatic Cancer](#pancreatic-cancer)\n",
    "    - [Gastric Cancer](#gastric-cancer)\n",
    "- [Water Infrastructure](#water-infrastructure)\n",
    "    - [System Level Service Lines](#system-level-service-lines)\n",
    "    - [Geocoding](#geocoding)\n",
    "    - [Why did the Algorithm Fail?](#why-did-the-algorithm-fail)\n",
    "    - [Fixing the Data Manually](#fixing-the-data-manually)\n",
    "- [Analysis of Florida](#analysis-of-florida)\n",
    "    - [Adding Florida Data](#adding-florida-data)\n",
    "    - [Merging DataFrames](#merging-dataframes-fl)\n",
    "    - [Correlations and (Possible) Causations](#correlations-and-possible-causation-fl)\n",
    "    - [Spatial Autocorrelation](#spatial-autocorrelation-fl)\n",
    "- [Analysis of Maryland](#analysis-of-maryland)\n",
    "    - [Adding Maryland Data](#adding-maryland-data)\n",
    "    - [Merging DataFrames](#merging-dataframes-md)\n",
    "    - [Correlations and (Possible) Causations](#correlations-and-possible-causation-md)\n",
    "    - [Spatial Autocorrelation](#spatial-autocorrelation-md)"
   ]
  },
  {
   "cell_type": "markdown",
   "metadata": {},
   "source": [
    "### Importing Core Packages"
   ]
  },
  {
   "cell_type": "code",
   "execution_count": 324,
   "metadata": {},
   "outputs": [],
   "source": [
    "import pandas as pd\n",
    "import geopandas as gpd"
   ]
  },
  {
   "cell_type": "markdown",
   "metadata": {},
   "source": [
    "## GI Disease Data"
   ]
  },
  {
   "cell_type": "markdown",
   "metadata": {},
   "source": [
    "Since IBS and similar illnesses are not well reported on a county-level scale, we are going to use Pancreatic and Gastric (Stomach) Cancer as the proxies for GI Disease."
   ]
  },
  {
   "cell_type": "markdown",
   "metadata": {},
   "source": [
    "### Pancreatic Cancer"
   ]
  },
  {
   "cell_type": "code",
   "execution_count": 407,
   "metadata": {},
   "outputs": [],
   "source": [
    "file = \"C:/Users/alexb/Documents/GIS5103/GIS5103/Project/FL_Pancreatic Cancer incd Rates 2017-21.csv\"\n",
    "Pcancer_gdf = gpd.read_file(file)"
   ]
  },
  {
   "cell_type": "markdown",
   "metadata": {},
   "source": [
    "Importing manually cleaned data that has pancreatic cancer incident rates for Florida (2017-21)."
   ]
  },
  {
   "cell_type": "code",
   "execution_count": 418,
   "metadata": {},
   "outputs": [
    {
     "data": {
      "text/html": [
       "<div>\n",
       "<style scoped>\n",
       "    .dataframe tbody tr th:only-of-type {\n",
       "        vertical-align: middle;\n",
       "    }\n",
       "\n",
       "    .dataframe tbody tr th {\n",
       "        vertical-align: top;\n",
       "    }\n",
       "\n",
       "    .dataframe thead th {\n",
       "        text-align: right;\n",
       "    }\n",
       "</style>\n",
       "<table border=\"1\" class=\"dataframe\">\n",
       "  <thead>\n",
       "    <tr style=\"text-align: right;\">\n",
       "      <th></th>\n",
       "      <th>County</th>\n",
       "      <th>FIPS</th>\n",
       "      <th>2023 Continuum Codes</th>\n",
       "      <th>ageadj_incdrate</th>\n",
       "      <th>low95</th>\n",
       "      <th>upper95</th>\n",
       "      <th>5yr_incdtrend</th>\n",
       "      <th>low95_trend</th>\n",
       "      <th>upper95_trend</th>\n",
       "    </tr>\n",
       "  </thead>\n",
       "  <tbody>\n",
       "    <tr>\n",
       "      <th>0</th>\n",
       "      <td>Alachua County, Florida(6)</td>\n",
       "      <td>12001</td>\n",
       "      <td>Urban</td>\n",
       "      <td>15.2</td>\n",
       "      <td>13.2</td>\n",
       "      <td>17.3</td>\n",
       "      <td>2.6</td>\n",
       "      <td>1</td>\n",
       "      <td>3.7</td>\n",
       "    </tr>\n",
       "    <tr>\n",
       "      <th>1</th>\n",
       "      <td>Baker County, Florida(6)</td>\n",
       "      <td>12003</td>\n",
       "      <td>Urban</td>\n",
       "      <td>13.8</td>\n",
       "      <td>8.4</td>\n",
       "      <td>21.4</td>\n",
       "      <td>-2.2</td>\n",
       "      <td>-7.2</td>\n",
       "      <td>2.9</td>\n",
       "    </tr>\n",
       "    <tr>\n",
       "      <th>2</th>\n",
       "      <td>Bay County, Florida(6)</td>\n",
       "      <td>12005</td>\n",
       "      <td>Urban</td>\n",
       "      <td>13.6</td>\n",
       "      <td>11.6</td>\n",
       "      <td>15.9</td>\n",
       "      <td>9.1</td>\n",
       "      <td>1.2</td>\n",
       "      <td>17</td>\n",
       "    </tr>\n",
       "    <tr>\n",
       "      <th>3</th>\n",
       "      <td>Bradford County, Florida(6)</td>\n",
       "      <td>12007</td>\n",
       "      <td>Rural</td>\n",
       "      <td>8</td>\n",
       "      <td>4.6</td>\n",
       "      <td>13.5</td>\n",
       "      <td>-1.7</td>\n",
       "      <td>-9</td>\n",
       "      <td>5.4</td>\n",
       "    </tr>\n",
       "    <tr>\n",
       "      <th>4</th>\n",
       "      <td>Brevard County, Florida(6)</td>\n",
       "      <td>12009</td>\n",
       "      <td>Urban</td>\n",
       "      <td>13.7</td>\n",
       "      <td>12.7</td>\n",
       "      <td>14.9</td>\n",
       "      <td>-3.9</td>\n",
       "      <td>-9.9</td>\n",
       "      <td>0.9</td>\n",
       "    </tr>\n",
       "    <tr>\n",
       "      <th>...</th>\n",
       "      <td>...</td>\n",
       "      <td>...</td>\n",
       "      <td>...</td>\n",
       "      <td>...</td>\n",
       "      <td>...</td>\n",
       "      <td>...</td>\n",
       "      <td>...</td>\n",
       "      <td>...</td>\n",
       "      <td>...</td>\n",
       "    </tr>\n",
       "    <tr>\n",
       "      <th>62</th>\n",
       "      <td>Union County, Florida(6)</td>\n",
       "      <td>12125</td>\n",
       "      <td>Rural</td>\n",
       "      <td>27.7</td>\n",
       "      <td>18.1</td>\n",
       "      <td>40.9</td>\n",
       "      <td>-0.3</td>\n",
       "      <td>-5</td>\n",
       "      <td>5.1</td>\n",
       "    </tr>\n",
       "    <tr>\n",
       "      <th>63</th>\n",
       "      <td>Volusia County, Florida(6)</td>\n",
       "      <td>12127</td>\n",
       "      <td>Urban</td>\n",
       "      <td>14.4</td>\n",
       "      <td>13.3</td>\n",
       "      <td>15.5</td>\n",
       "      <td>1.9</td>\n",
       "      <td>0.8</td>\n",
       "      <td>3.3</td>\n",
       "    </tr>\n",
       "    <tr>\n",
       "      <th>64</th>\n",
       "      <td>Wakulla County, Florida(6)</td>\n",
       "      <td>12129</td>\n",
       "      <td>Urban</td>\n",
       "      <td>13.2</td>\n",
       "      <td>8.6</td>\n",
       "      <td>19.7</td>\n",
       "      <td>NaN</td>\n",
       "      <td>NaN</td>\n",
       "      <td>NaN</td>\n",
       "    </tr>\n",
       "    <tr>\n",
       "      <th>65</th>\n",
       "      <td>Walton County, Florida(6)</td>\n",
       "      <td>12131</td>\n",
       "      <td>Urban</td>\n",
       "      <td>12.3</td>\n",
       "      <td>9.5</td>\n",
       "      <td>15.9</td>\n",
       "      <td>-0.6</td>\n",
       "      <td>-4.5</td>\n",
       "      <td>4.1</td>\n",
       "    </tr>\n",
       "    <tr>\n",
       "      <th>66</th>\n",
       "      <td>Washington County, Florida(6)</td>\n",
       "      <td>12133</td>\n",
       "      <td>Urban</td>\n",
       "      <td>10.3</td>\n",
       "      <td>5.9</td>\n",
       "      <td>17.1</td>\n",
       "      <td>2.2</td>\n",
       "      <td>-2.8</td>\n",
       "      <td>9.1</td>\n",
       "    </tr>\n",
       "  </tbody>\n",
       "</table>\n",
       "<p>67 rows × 9 columns</p>\n",
       "</div>"
      ],
      "text/plain": [
       "                           County   FIPS 2023 Continuum Codes ageadj_incdrate  \\\n",
       "0      Alachua County, Florida(6)  12001                Urban            15.2   \n",
       "1        Baker County, Florida(6)  12003                Urban            13.8   \n",
       "2          Bay County, Florida(6)  12005                Urban            13.6   \n",
       "3     Bradford County, Florida(6)  12007                Rural               8   \n",
       "4      Brevard County, Florida(6)  12009                Urban            13.7   \n",
       "..                            ...    ...                  ...             ...   \n",
       "62       Union County, Florida(6)  12125                Rural            27.7   \n",
       "63     Volusia County, Florida(6)  12127                Urban            14.4   \n",
       "64     Wakulla County, Florida(6)  12129                Urban            13.2   \n",
       "65      Walton County, Florida(6)  12131                Urban            12.3   \n",
       "66  Washington County, Florida(6)  12133                Urban            10.3   \n",
       "\n",
       "   low95 upper95 5yr_incdtrend low95_trend upper95_trend  \n",
       "0   13.2    17.3           2.6           1           3.7  \n",
       "1    8.4    21.4          -2.2        -7.2           2.9  \n",
       "2   11.6    15.9           9.1         1.2            17  \n",
       "3    4.6    13.5          -1.7          -9           5.4  \n",
       "4   12.7    14.9          -3.9        -9.9           0.9  \n",
       "..   ...     ...           ...         ...           ...  \n",
       "62  18.1    40.9          -0.3          -5           5.1  \n",
       "63  13.3    15.5           1.9         0.8           3.3  \n",
       "64   8.6    19.7           NaN         NaN           NaN  \n",
       "65   9.5    15.9          -0.6        -4.5           4.1  \n",
       "66   5.9    17.1           2.2        -2.8           9.1  \n",
       "\n",
       "[67 rows x 9 columns]"
      ]
     },
     "execution_count": 418,
     "metadata": {},
     "output_type": "execute_result"
    }
   ],
   "source": [
    "Pcancer_gdf.fillna(0)"
   ]
  },
  {
   "cell_type": "markdown",
   "metadata": {},
   "source": [
    "Filling null entries, this will fix some issues we would otherwise run into later"
   ]
  },
  {
   "cell_type": "code",
   "execution_count": 409,
   "metadata": {},
   "outputs": [],
   "source": [
    "Pcancer_fix = Pcancer_gdf.astype({\n",
    "    'ageadj_incdrate': 'float',\n",
    "     'low95': 'float',\n",
    "     'upper95': 'float',\n",
    "     '5yr_incdtrend': 'float',\n",
    "     'low95_trend': 'float',\n",
    "     'upper95_trend': 'float'}\n",
    ")"
   ]
  },
  {
   "cell_type": "markdown",
   "metadata": {},
   "source": [
    "Fixing the datatypes for the DataFrame so they can be used for proper calculations later on."
   ]
  },
  {
   "cell_type": "code",
   "execution_count": 410,
   "metadata": {},
   "outputs": [],
   "source": [
    "Pcancer_fix['COUNTY'] = Pcancer_fix['FIPS'].str[2:]"
   ]
  },
  {
   "cell_type": "markdown",
   "metadata": {},
   "source": [
    "Adding a column that will be useful for merging with other DataFrames later on."
   ]
  },
  {
   "cell_type": "markdown",
   "metadata": {},
   "source": [
    "### Gastric Cancer"
   ]
  },
  {
   "cell_type": "code",
   "execution_count": 411,
   "metadata": {},
   "outputs": [],
   "source": [
    "file = \"C:/Users/alexb/Documents/GIS5103/GIS5103/Project/FL_stomachcancer_incd_fix.csv\"\n",
    "STcancer_gdf = gpd.read_file(file)"
   ]
  },
  {
   "cell_type": "markdown",
   "metadata": {},
   "source": [
    "Importing manually cleaned data that has stomach cancer incident rates for Florida (2017-21).  \n",
    "We will repeat the basic steps to prep the data for analysis later that we did above with pancreatic data."
   ]
  },
  {
   "cell_type": "code",
   "execution_count": 412,
   "metadata": {},
   "outputs": [
    {
     "data": {
      "text/html": [
       "<div>\n",
       "<style scoped>\n",
       "    .dataframe tbody tr th:only-of-type {\n",
       "        vertical-align: middle;\n",
       "    }\n",
       "\n",
       "    .dataframe tbody tr th {\n",
       "        vertical-align: top;\n",
       "    }\n",
       "\n",
       "    .dataframe thead th {\n",
       "        text-align: right;\n",
       "    }\n",
       "</style>\n",
       "<table border=\"1\" class=\"dataframe\">\n",
       "  <thead>\n",
       "    <tr style=\"text-align: right;\">\n",
       "      <th></th>\n",
       "      <th>County</th>\n",
       "      <th>FIPS</th>\n",
       "      <th>2023 Continuum Codes</th>\n",
       "      <th>ageadj_incdrate</th>\n",
       "      <th>low95</th>\n",
       "      <th>upper95</th>\n",
       "      <th>5yr_incdtrend</th>\n",
       "      <th>low95_trend</th>\n",
       "      <th>upper95_trend</th>\n",
       "    </tr>\n",
       "  </thead>\n",
       "  <tbody>\n",
       "    <tr>\n",
       "      <th>0</th>\n",
       "      <td>Alachua County(6)</td>\n",
       "      <td>12001</td>\n",
       "      <td>Urban</td>\n",
       "      <td>5.8</td>\n",
       "      <td>4.6</td>\n",
       "      <td>7.2</td>\n",
       "      <td>-0.3</td>\n",
       "      <td>-1.9</td>\n",
       "      <td>1.5</td>\n",
       "    </tr>\n",
       "    <tr>\n",
       "      <th>1</th>\n",
       "      <td>Baker County(6)</td>\n",
       "      <td>12003</td>\n",
       "      <td>Urban</td>\n",
       "      <td>NaN</td>\n",
       "      <td>NaN</td>\n",
       "      <td>NaN</td>\n",
       "      <td>NaN</td>\n",
       "      <td>NaN</td>\n",
       "      <td>NaN</td>\n",
       "    </tr>\n",
       "    <tr>\n",
       "      <th>2</th>\n",
       "      <td>Bay County(6)</td>\n",
       "      <td>12005</td>\n",
       "      <td>Urban</td>\n",
       "      <td>5.5</td>\n",
       "      <td>4.2</td>\n",
       "      <td>7.1</td>\n",
       "      <td>-1.2</td>\n",
       "      <td>-4.3</td>\n",
       "      <td>1.8</td>\n",
       "    </tr>\n",
       "    <tr>\n",
       "      <th>3</th>\n",
       "      <td>Bradford County(6)</td>\n",
       "      <td>12007</td>\n",
       "      <td>Rural</td>\n",
       "      <td>NaN</td>\n",
       "      <td>NaN</td>\n",
       "      <td>NaN</td>\n",
       "      <td>NaN</td>\n",
       "      <td>NaN</td>\n",
       "      <td>NaN</td>\n",
       "    </tr>\n",
       "    <tr>\n",
       "      <th>4</th>\n",
       "      <td>Brevard County(6)</td>\n",
       "      <td>12009</td>\n",
       "      <td>Urban</td>\n",
       "      <td>5.9</td>\n",
       "      <td>5.2</td>\n",
       "      <td>6.7</td>\n",
       "      <td>0</td>\n",
       "      <td>-1.7</td>\n",
       "      <td>1.9</td>\n",
       "    </tr>\n",
       "    <tr>\n",
       "      <th>...</th>\n",
       "      <td>...</td>\n",
       "      <td>...</td>\n",
       "      <td>...</td>\n",
       "      <td>...</td>\n",
       "      <td>...</td>\n",
       "      <td>...</td>\n",
       "      <td>...</td>\n",
       "      <td>...</td>\n",
       "      <td>...</td>\n",
       "    </tr>\n",
       "    <tr>\n",
       "      <th>62</th>\n",
       "      <td>Union County(6)</td>\n",
       "      <td>12125</td>\n",
       "      <td>Rural</td>\n",
       "      <td>15.9</td>\n",
       "      <td>9.1</td>\n",
       "      <td>26.2</td>\n",
       "      <td>1.7</td>\n",
       "      <td>-4.4</td>\n",
       "      <td>9.3</td>\n",
       "    </tr>\n",
       "    <tr>\n",
       "      <th>63</th>\n",
       "      <td>Volusia County(6)</td>\n",
       "      <td>12127</td>\n",
       "      <td>Urban</td>\n",
       "      <td>5.6</td>\n",
       "      <td>4.9</td>\n",
       "      <td>6.4</td>\n",
       "      <td>-0.5</td>\n",
       "      <td>-1.8</td>\n",
       "      <td>0.9</td>\n",
       "    </tr>\n",
       "    <tr>\n",
       "      <th>64</th>\n",
       "      <td>Wakulla County(6)</td>\n",
       "      <td>12129</td>\n",
       "      <td>Urban</td>\n",
       "      <td>NaN</td>\n",
       "      <td>NaN</td>\n",
       "      <td>NaN</td>\n",
       "      <td>NaN</td>\n",
       "      <td>NaN</td>\n",
       "      <td>NaN</td>\n",
       "    </tr>\n",
       "    <tr>\n",
       "      <th>65</th>\n",
       "      <td>Walton County(6)</td>\n",
       "      <td>12131</td>\n",
       "      <td>Urban</td>\n",
       "      <td>3</td>\n",
       "      <td>1.7</td>\n",
       "      <td>5.1</td>\n",
       "      <td>NaN</td>\n",
       "      <td>NaN</td>\n",
       "      <td>NaN</td>\n",
       "    </tr>\n",
       "    <tr>\n",
       "      <th>66</th>\n",
       "      <td>Washington County(6)</td>\n",
       "      <td>12133</td>\n",
       "      <td>Urban</td>\n",
       "      <td>NaN</td>\n",
       "      <td>NaN</td>\n",
       "      <td>NaN</td>\n",
       "      <td>NaN</td>\n",
       "      <td>NaN</td>\n",
       "      <td>NaN</td>\n",
       "    </tr>\n",
       "  </tbody>\n",
       "</table>\n",
       "<p>67 rows × 9 columns</p>\n",
       "</div>"
      ],
      "text/plain": [
       "                  County   FIPS 2023 Continuum Codes ageadj_incdrate low95  \\\n",
       "0      Alachua County(6)  12001                Urban             5.8   4.6   \n",
       "1        Baker County(6)  12003                Urban             NaN   NaN   \n",
       "2          Bay County(6)  12005                Urban             5.5   4.2   \n",
       "3     Bradford County(6)  12007                Rural             NaN   NaN   \n",
       "4      Brevard County(6)  12009                Urban             5.9   5.2   \n",
       "..                   ...    ...                  ...             ...   ...   \n",
       "62       Union County(6)  12125                Rural            15.9   9.1   \n",
       "63     Volusia County(6)  12127                Urban             5.6   4.9   \n",
       "64     Wakulla County(6)  12129                Urban             NaN   NaN   \n",
       "65      Walton County(6)  12131                Urban               3   1.7   \n",
       "66  Washington County(6)  12133                Urban             NaN   NaN   \n",
       "\n",
       "   upper95 5yr_incdtrend low95_trend upper95_trend  \n",
       "0      7.2          -0.3        -1.9           1.5  \n",
       "1      NaN           NaN         NaN           NaN  \n",
       "2      7.1          -1.2        -4.3           1.8  \n",
       "3      NaN           NaN         NaN           NaN  \n",
       "4      6.7             0        -1.7           1.9  \n",
       "..     ...           ...         ...           ...  \n",
       "62    26.2           1.7        -4.4           9.3  \n",
       "63     6.4          -0.5        -1.8           0.9  \n",
       "64     NaN           NaN         NaN           NaN  \n",
       "65     5.1           NaN         NaN           NaN  \n",
       "66     NaN           NaN         NaN           NaN  \n",
       "\n",
       "[67 rows x 9 columns]"
      ]
     },
     "execution_count": 412,
     "metadata": {},
     "output_type": "execute_result"
    }
   ],
   "source": [
    "STcancer_gdf.fillna(0)"
   ]
  },
  {
   "cell_type": "code",
   "execution_count": 413,
   "metadata": {},
   "outputs": [],
   "source": [
    "STcancer_fix = STcancer_gdf.astype({\n",
    "    'ageadj_incdrate': 'float',\n",
    "     'low95': 'float',\n",
    "     'upper95': 'float',\n",
    "     '5yr_incdtrend': 'float',\n",
    "     'low95_trend': 'float',\n",
    "     'upper95_trend': 'float'}\n",
    ")"
   ]
  },
  {
   "cell_type": "code",
   "execution_count": 414,
   "metadata": {},
   "outputs": [],
   "source": [
    "STcancer_fix['COUNTY'] = STcancer_fix['FIPS'].str[2:]"
   ]
  },
  {
   "cell_type": "markdown",
   "metadata": {},
   "source": [
    "## Water Infrastructure"
   ]
  },
  {
   "cell_type": "markdown",
   "metadata": {},
   "source": [
    "Using Data from the 7th EPA Water Needs Survey, we can estimate what percentage of a county's water infrastructure contains lead."
   ]
  },
  {
   "cell_type": "markdown",
   "metadata": {},
   "source": [
    "### System Level Service Lines"
   ]
  },
  {
   "cell_type": "code",
   "execution_count": 333,
   "metadata": {},
   "outputs": [],
   "source": [
    "file = \"C:/Users/alexb/Documents/GIS5103/GIS5103/Project/updated-7th-dwinsa-system-level-service-lines-2.xlsx\"\n",
    "SSL_gdf = gpd.read_file(file)"
   ]
  },
  {
   "cell_type": "code",
   "execution_count": 334,
   "metadata": {},
   "outputs": [
    {
     "data": {
      "text/html": [
       "<div>\n",
       "<style scoped>\n",
       "    .dataframe tbody tr th:only-of-type {\n",
       "        vertical-align: middle;\n",
       "    }\n",
       "\n",
       "    .dataframe tbody tr th {\n",
       "        vertical-align: top;\n",
       "    }\n",
       "\n",
       "    .dataframe thead th {\n",
       "        text-align: right;\n",
       "    }\n",
       "</style>\n",
       "<table border=\"1\" class=\"dataframe\">\n",
       "  <thead>\n",
       "    <tr style=\"text-align: right;\">\n",
       "      <th></th>\n",
       "      <th>Primacy Agency</th>\n",
       "      <th>PWSID</th>\n",
       "      <th>PWS Name</th>\n",
       "      <th>Reported System Size</th>\n",
       "      <th>Service Lines</th>\n",
       "      <th>1. Service lines that contain any lead pipe</th>\n",
       "      <th>2. Service lines that do not contain any lead pipe but have lead connectors</th>\n",
       "      <th>3a. Service lines that contain galvanized pipe and were previously downstream from a lead source</th>\n",
       "      <th>3b. Service lines that contain galvanized pipe that have never been downstream from any lead source</th>\n",
       "      <th>4a. Service lines that do not contain any lead pipe or galvanized pipe and that do not have lead connectors</th>\n",
       "      <th>4b. Service lines for which the material makeup of the service line and of the connector are not known</th>\n",
       "      <th>Not reported</th>\n",
       "      <th>Total</th>\n",
       "    </tr>\n",
       "  </thead>\n",
       "  <tbody>\n",
       "    <tr>\n",
       "      <th>0</th>\n",
       "      <td>AK</td>\n",
       "      <td>AK2110342</td>\n",
       "      <td>CITY AND BOROUGH OF JUNEAU</td>\n",
       "      <td>Medium</td>\n",
       "      <td>9705</td>\n",
       "      <td>0</td>\n",
       "      <td>0.0</td>\n",
       "      <td>0</td>\n",
       "      <td>0</td>\n",
       "      <td>0.0</td>\n",
       "      <td>9705</td>\n",
       "      <td>0</td>\n",
       "      <td>9705</td>\n",
       "    </tr>\n",
       "    <tr>\n",
       "      <th>1</th>\n",
       "      <td>AK</td>\n",
       "      <td>AK2110601</td>\n",
       "      <td>SKAGWAY</td>\n",
       "      <td>Medium</td>\n",
       "      <td>375</td>\n",
       "      <td>0</td>\n",
       "      <td>0.0</td>\n",
       "      <td>0</td>\n",
       "      <td>0</td>\n",
       "      <td>0.0</td>\n",
       "      <td>0</td>\n",
       "      <td>375</td>\n",
       "      <td>375</td>\n",
       "    </tr>\n",
       "  </tbody>\n",
       "</table>\n",
       "</div>"
      ],
      "text/plain": [
       "  Primacy Agency      PWSID                    PWS Name Reported System Size  \\\n",
       "0             AK  AK2110342  CITY AND BOROUGH OF JUNEAU               Medium   \n",
       "1             AK  AK2110601                     SKAGWAY               Medium   \n",
       "\n",
       "   Service Lines  1. Service lines that contain any lead pipe  \\\n",
       "0           9705                                            0   \n",
       "1            375                                            0   \n",
       "\n",
       "   2. Service lines that do not contain any lead pipe but have lead connectors  \\\n",
       "0                                                0.0                             \n",
       "1                                                0.0                             \n",
       "\n",
       "   3a. Service lines that contain galvanized pipe and were previously downstream from a lead source  \\\n",
       "0                                                  0                                                  \n",
       "1                                                  0                                                  \n",
       "\n",
       "   3b. Service lines that contain galvanized pipe that have never been downstream from any lead source  \\\n",
       "0                                                  0                                                     \n",
       "1                                                  0                                                     \n",
       "\n",
       "   4a. Service lines that do not contain any lead pipe or galvanized pipe and that do not have lead connectors  \\\n",
       "0                                                0.0                                                             \n",
       "1                                                0.0                                                             \n",
       "\n",
       "   4b. Service lines for which the material makeup of the service line and of the connector are not known  \\\n",
       "0                                               9705                                                        \n",
       "1                                                  0                                                        \n",
       "\n",
       "   Not reported  Total  \n",
       "0             0   9705  \n",
       "1           375    375  "
      ]
     },
     "execution_count": 334,
     "metadata": {},
     "output_type": "execute_result"
    }
   ],
   "source": [
    "SSL_gdf.head(2)"
   ]
  },
  {
   "cell_type": "markdown",
   "metadata": {},
   "source": [
    "### Geocoding"
   ]
  },
  {
   "cell_type": "code",
   "execution_count": 335,
   "metadata": {},
   "outputs": [],
   "source": [
    "SSL_gdf['COUNTY_FIPS'] = SSL_gdf['PWSID'].str[3:6]"
   ]
  },
  {
   "cell_type": "markdown",
   "metadata": {},
   "source": [
    "PWSID is a unique identifier for a water treatment site.  \n",
    "Using this splice, we should be able to extract the correct FIPS code for the water treatment site."
   ]
  },
  {
   "cell_type": "code",
   "execution_count": 336,
   "metadata": {},
   "outputs": [],
   "source": [
    "state_fips_dict = {\n",
    "    'AL': '01', 'AK': '02', 'AZ': '04', 'AR': '05', 'CA': '06',\n",
    "    'CO': '08', 'CT': '09', 'DE': '10', 'FL': '12', 'GA': '13',\n",
    "    'HI': '15', 'ID': '16', 'IL': '17', 'IN': '18', 'IA': '19',\n",
    "    'KS': '20', 'KY': '21', 'LA': '22', 'ME': '23', 'MD': '24',\n",
    "    'MA': '25', 'MI': '26', 'MN': '27', 'MS': '28', 'MO': '29',\n",
    "    'MT': '30', 'NE': '31', 'NV': '32', 'NH': '33', 'NJ': '34',\n",
    "    'NM': '35', 'NY': '36', 'NC': '37', 'ND': '38', 'OH': '39',\n",
    "    'OK': '40', 'OR': '41', 'PA': '42', 'RI': '44', 'SC': '45',\n",
    "    'SD': '46', 'TN': '47', 'TX': '48', 'UT': '49', 'VT': '50',\n",
    "    'VA': '51', 'WA': '53', 'WV': '54', 'WI': '55', 'WY': '56'\n",
    "}"
   ]
  },
  {
   "cell_type": "markdown",
   "metadata": {},
   "source": [
    "We can create a dictionary to assign the States FIPS code to every water treatment site."
   ]
  },
  {
   "cell_type": "code",
   "execution_count": 337,
   "metadata": {},
   "outputs": [],
   "source": [
    "SSL_gdf['STATE_FIPS'] = SSL_gdf['Primacy Agency'].map(state_fips_dict)"
   ]
  },
  {
   "cell_type": "code",
   "execution_count": 338,
   "metadata": {},
   "outputs": [],
   "source": [
    "SSL_gdf['FIPS'] = SSL_gdf['STATE_FIPS'] + SSL_gdf['COUNTY_FIPS']"
   ]
  },
  {
   "cell_type": "code",
   "execution_count": 339,
   "metadata": {},
   "outputs": [
    {
     "data": {
      "text/html": [
       "<div>\n",
       "<style scoped>\n",
       "    .dataframe tbody tr th:only-of-type {\n",
       "        vertical-align: middle;\n",
       "    }\n",
       "\n",
       "    .dataframe tbody tr th {\n",
       "        vertical-align: top;\n",
       "    }\n",
       "\n",
       "    .dataframe thead th {\n",
       "        text-align: right;\n",
       "    }\n",
       "</style>\n",
       "<table border=\"1\" class=\"dataframe\">\n",
       "  <thead>\n",
       "    <tr style=\"text-align: right;\">\n",
       "      <th></th>\n",
       "      <th>Primacy Agency</th>\n",
       "      <th>PWSID</th>\n",
       "      <th>PWS Name</th>\n",
       "      <th>Reported System Size</th>\n",
       "      <th>Service Lines</th>\n",
       "      <th>1. Service lines that contain any lead pipe</th>\n",
       "      <th>2. Service lines that do not contain any lead pipe but have lead connectors</th>\n",
       "      <th>3a. Service lines that contain galvanized pipe and were previously downstream from a lead source</th>\n",
       "      <th>3b. Service lines that contain galvanized pipe that have never been downstream from any lead source</th>\n",
       "      <th>4a. Service lines that do not contain any lead pipe or galvanized pipe and that do not have lead connectors</th>\n",
       "      <th>4b. Service lines for which the material makeup of the service line and of the connector are not known</th>\n",
       "      <th>Not reported</th>\n",
       "      <th>Total</th>\n",
       "      <th>COUNTY_FIPS</th>\n",
       "      <th>STATE_FIPS</th>\n",
       "      <th>FIPS</th>\n",
       "    </tr>\n",
       "  </thead>\n",
       "  <tbody>\n",
       "    <tr>\n",
       "      <th>0</th>\n",
       "      <td>AK</td>\n",
       "      <td>AK2110342</td>\n",
       "      <td>CITY AND BOROUGH OF JUNEAU</td>\n",
       "      <td>Medium</td>\n",
       "      <td>9705</td>\n",
       "      <td>0</td>\n",
       "      <td>0.0</td>\n",
       "      <td>0</td>\n",
       "      <td>0</td>\n",
       "      <td>0.0</td>\n",
       "      <td>9705</td>\n",
       "      <td>0</td>\n",
       "      <td>9705</td>\n",
       "      <td>110</td>\n",
       "      <td>02</td>\n",
       "      <td>02110</td>\n",
       "    </tr>\n",
       "    <tr>\n",
       "      <th>1</th>\n",
       "      <td>AK</td>\n",
       "      <td>AK2110601</td>\n",
       "      <td>SKAGWAY</td>\n",
       "      <td>Medium</td>\n",
       "      <td>375</td>\n",
       "      <td>0</td>\n",
       "      <td>0.0</td>\n",
       "      <td>0</td>\n",
       "      <td>0</td>\n",
       "      <td>0.0</td>\n",
       "      <td>0</td>\n",
       "      <td>375</td>\n",
       "      <td>375</td>\n",
       "      <td>110</td>\n",
       "      <td>02</td>\n",
       "      <td>02110</td>\n",
       "    </tr>\n",
       "    <tr>\n",
       "      <th>2</th>\n",
       "      <td>AK</td>\n",
       "      <td>AK2120232</td>\n",
       "      <td>KETCHIKAN PUBLIC UTILITIES</td>\n",
       "      <td>Medium</td>\n",
       "      <td>3242</td>\n",
       "      <td>0</td>\n",
       "      <td>0.0</td>\n",
       "      <td>0</td>\n",
       "      <td>0</td>\n",
       "      <td>0.0</td>\n",
       "      <td>0</td>\n",
       "      <td>3242</td>\n",
       "      <td>3242</td>\n",
       "      <td>120</td>\n",
       "      <td>02</td>\n",
       "      <td>02120</td>\n",
       "    </tr>\n",
       "    <tr>\n",
       "      <th>3</th>\n",
       "      <td>AK</td>\n",
       "      <td>AK2130075</td>\n",
       "      <td>SITKA</td>\n",
       "      <td>Medium</td>\n",
       "      <td>3620</td>\n",
       "      <td>0</td>\n",
       "      <td>0.0</td>\n",
       "      <td>0</td>\n",
       "      <td>0</td>\n",
       "      <td>0.0</td>\n",
       "      <td>0</td>\n",
       "      <td>3620</td>\n",
       "      <td>3620</td>\n",
       "      <td>130</td>\n",
       "      <td>02</td>\n",
       "      <td>02130</td>\n",
       "    </tr>\n",
       "    <tr>\n",
       "      <th>4</th>\n",
       "      <td>AK</td>\n",
       "      <td>AK2210320</td>\n",
       "      <td>FOUR SEASONS TC</td>\n",
       "      <td>Small</td>\n",
       "      <td>120</td>\n",
       "      <td>0</td>\n",
       "      <td>0.0</td>\n",
       "      <td>0</td>\n",
       "      <td>0</td>\n",
       "      <td>0.0</td>\n",
       "      <td>120</td>\n",
       "      <td>0</td>\n",
       "      <td>120</td>\n",
       "      <td>210</td>\n",
       "      <td>02</td>\n",
       "      <td>02210</td>\n",
       "    </tr>\n",
       "  </tbody>\n",
       "</table>\n",
       "</div>"
      ],
      "text/plain": [
       "  Primacy Agency      PWSID                    PWS Name Reported System Size  \\\n",
       "0             AK  AK2110342  CITY AND BOROUGH OF JUNEAU               Medium   \n",
       "1             AK  AK2110601                     SKAGWAY               Medium   \n",
       "2             AK  AK2120232  KETCHIKAN PUBLIC UTILITIES               Medium   \n",
       "3             AK  AK2130075                       SITKA               Medium   \n",
       "4             AK  AK2210320             FOUR SEASONS TC                Small   \n",
       "\n",
       "   Service Lines  1. Service lines that contain any lead pipe  \\\n",
       "0           9705                                            0   \n",
       "1            375                                            0   \n",
       "2           3242                                            0   \n",
       "3           3620                                            0   \n",
       "4            120                                            0   \n",
       "\n",
       "   2. Service lines that do not contain any lead pipe but have lead connectors  \\\n",
       "0                                                0.0                             \n",
       "1                                                0.0                             \n",
       "2                                                0.0                             \n",
       "3                                                0.0                             \n",
       "4                                                0.0                             \n",
       "\n",
       "   3a. Service lines that contain galvanized pipe and were previously downstream from a lead source  \\\n",
       "0                                                  0                                                  \n",
       "1                                                  0                                                  \n",
       "2                                                  0                                                  \n",
       "3                                                  0                                                  \n",
       "4                                                  0                                                  \n",
       "\n",
       "   3b. Service lines that contain galvanized pipe that have never been downstream from any lead source  \\\n",
       "0                                                  0                                                     \n",
       "1                                                  0                                                     \n",
       "2                                                  0                                                     \n",
       "3                                                  0                                                     \n",
       "4                                                  0                                                     \n",
       "\n",
       "   4a. Service lines that do not contain any lead pipe or galvanized pipe and that do not have lead connectors  \\\n",
       "0                                                0.0                                                             \n",
       "1                                                0.0                                                             \n",
       "2                                                0.0                                                             \n",
       "3                                                0.0                                                             \n",
       "4                                                0.0                                                             \n",
       "\n",
       "   4b. Service lines for which the material makeup of the service line and of the connector are not known  \\\n",
       "0                                               9705                                                        \n",
       "1                                                  0                                                        \n",
       "2                                                  0                                                        \n",
       "3                                                  0                                                        \n",
       "4                                                120                                                        \n",
       "\n",
       "   Not reported  Total COUNTY_FIPS STATE_FIPS   FIPS  \n",
       "0             0   9705         110         02  02110  \n",
       "1           375    375         110         02  02110  \n",
       "2          3242   3242         120         02  02120  \n",
       "3          3620   3620         130         02  02130  \n",
       "4             0    120         210         02  02210  "
      ]
     },
     "execution_count": 339,
     "metadata": {},
     "output_type": "execute_result"
    }
   ],
   "source": [
    "SSL_gdf.head()"
   ]
  },
  {
   "cell_type": "markdown",
   "metadata": {},
   "source": [
    "Now, we could try to merge this with any county-level DataFrame, but it is going to fail. . .  \n",
    "For example, we can see above that the **Four Seasons TC** PWS has the FIPS code **02210**, but no county in AK has that FIPS code. . ."
   ]
  },
  {
   "cell_type": "markdown",
   "metadata": {},
   "source": [
    "### Why did the Algorithm Fail?"
   ]
  },
  {
   "cell_type": "markdown",
   "metadata": {},
   "source": [
    "PWSID seemed to only work on specific entries, so we have to manually geocode this."
   ]
  },
  {
   "cell_type": "code",
   "execution_count": 340,
   "metadata": {},
   "outputs": [],
   "source": [
    "SSL_gdf.to_csv('system_level_service.csv')"
   ]
  },
  {
   "cell_type": "markdown",
   "metadata": {},
   "source": [
    "Export this out so it can be manually fixed."
   ]
  },
  {
   "cell_type": "markdown",
   "metadata": {},
   "source": [
    "### Fixing the Data Manually"
   ]
  },
  {
   "cell_type": "code",
   "execution_count": 341,
   "metadata": {},
   "outputs": [],
   "source": [
    "file = 'C:/Users/alexb/Documents/GIS5103/GIS5103/Project/pleasefix.csv'\n",
    "SSL_gdf = gpd.read_file(file)"
   ]
  },
  {
   "cell_type": "code",
   "execution_count": 342,
   "metadata": {},
   "outputs": [],
   "source": [
    "SSL_gdf = SSL_gdf.astype(\n",
    "    {'Pb_Pipe': 'int',\n",
    "    'Pb_Connector': 'int',\n",
    "    'Galv_Pb': 'int',\n",
    "    'Galv_noPb': 'int',\n",
    "    'Unknown': 'int',\n",
    "    'no_reports': 'int',\n",
    "    'Total': 'int',\n",
    "    'Total_Pb': 'int',\n",
    "    'pct_Pb': 'float'}\n",
    ")"
   ]
  },
  {
   "cell_type": "code",
   "execution_count": 343,
   "metadata": {},
   "outputs": [
    {
     "data": {
      "text/plain": [
       "Primacy_Agency     object\n",
       "PWSID              object\n",
       "PWS_Name           object\n",
       "Sys_Size           object\n",
       "Pb_Pipe             int64\n",
       "Pb_Connector        int64\n",
       "Galv_Pb             int64\n",
       "Galv_noPb           int64\n",
       "Unknown             int64\n",
       "no_reports          int64\n",
       "Total               int64\n",
       "county_fips        object\n",
       "states_fips        object\n",
       "Total_Pb            int64\n",
       "pct_Pb            float64\n",
       "dtype: object"
      ]
     },
     "execution_count": 343,
     "metadata": {},
     "output_type": "execute_result"
    }
   ],
   "source": [
    "SSL_gdf.dtypes"
   ]
  },
  {
   "cell_type": "markdown",
   "metadata": {},
   "source": [
    "We've manually assigned the FIPS codes for FL PWS sites and fixed the DataFrame."
   ]
  },
  {
   "cell_type": "markdown",
   "metadata": {},
   "source": [
    "## Analysis of Florida"
   ]
  },
  {
   "cell_type": "markdown",
   "metadata": {},
   "source": [
    "### Adding Florida Data"
   ]
  },
  {
   "cell_type": "code",
   "execution_count": 446,
   "metadata": {},
   "outputs": [],
   "source": [
    "FL_counties = gpd.read_file(\"C:/Users/alexb/Documents/GIS5103/GIS5103/data/Florida_Counties.geojson\")"
   ]
  },
  {
   "cell_type": "code",
   "execution_count": 447,
   "metadata": {},
   "outputs": [
    {
     "data": {
      "text/html": [
       "<div>\n",
       "<style scoped>\n",
       "    .dataframe tbody tr th:only-of-type {\n",
       "        vertical-align: middle;\n",
       "    }\n",
       "\n",
       "    .dataframe tbody tr th {\n",
       "        vertical-align: top;\n",
       "    }\n",
       "\n",
       "    .dataframe thead th {\n",
       "        text-align: right;\n",
       "    }\n",
       "</style>\n",
       "<table border=\"1\" class=\"dataframe\">\n",
       "  <thead>\n",
       "    <tr style=\"text-align: right;\">\n",
       "      <th></th>\n",
       "      <th>OBJECTID</th>\n",
       "      <th>DEPCODE</th>\n",
       "      <th>COUNTY</th>\n",
       "      <th>COUNTYNAME</th>\n",
       "      <th>DATESTAMP</th>\n",
       "      <th>ShapeSTArea</th>\n",
       "      <th>ShapeSTLength</th>\n",
       "      <th>geometry</th>\n",
       "    </tr>\n",
       "  </thead>\n",
       "  <tbody>\n",
       "    <tr>\n",
       "      <th>0</th>\n",
       "      <td>1</td>\n",
       "      <td>21</td>\n",
       "      <td>041</td>\n",
       "      <td>GILCHRIST</td>\n",
       "      <td>2000-05-16 00:00:00+00:00</td>\n",
       "      <td>9.908353e+09</td>\n",
       "      <td>4.873000e+05</td>\n",
       "      <td>POLYGON ((-82.65814 29.83028, -82.65887 29.830...</td>\n",
       "    </tr>\n",
       "    <tr>\n",
       "      <th>1</th>\n",
       "      <td>2</td>\n",
       "      <td>54</td>\n",
       "      <td>107</td>\n",
       "      <td>PUTNAM</td>\n",
       "      <td>2000-05-16 00:00:00+00:00</td>\n",
       "      <td>2.305869e+10</td>\n",
       "      <td>7.629677e+05</td>\n",
       "      <td>POLYGON ((-81.58084 29.83956, -81.60611 29.839...</td>\n",
       "    </tr>\n",
       "    <tr>\n",
       "      <th>2</th>\n",
       "      <td>3</td>\n",
       "      <td>62</td>\n",
       "      <td>123</td>\n",
       "      <td>TAYLOR</td>\n",
       "      <td>2000-05-16 00:00:00+00:00</td>\n",
       "      <td>2.891747e+10</td>\n",
       "      <td>8.772527e+05</td>\n",
       "      <td>MULTIPOLYGON (((-83.73037 30.30358, -83.73987 ...</td>\n",
       "    </tr>\n",
       "    <tr>\n",
       "      <th>3</th>\n",
       "      <td>4</td>\n",
       "      <td>46</td>\n",
       "      <td>091</td>\n",
       "      <td>OKALOOSA</td>\n",
       "      <td>2000-05-16 00:00:00+00:00</td>\n",
       "      <td>2.562159e+10</td>\n",
       "      <td>1.087058e+06</td>\n",
       "      <td>MULTIPOLYGON (((-86.39159 30.6497, -86.39157 3...</td>\n",
       "    </tr>\n",
       "    <tr>\n",
       "      <th>4</th>\n",
       "      <td>5</td>\n",
       "      <td>7</td>\n",
       "      <td>013</td>\n",
       "      <td>CALHOUN</td>\n",
       "      <td>2000-05-16 00:00:00+00:00</td>\n",
       "      <td>1.604809e+10</td>\n",
       "      <td>6.313440e+05</td>\n",
       "      <td>POLYGON ((-84.93266 30.60637, -84.95729 30.606...</td>\n",
       "    </tr>\n",
       "  </tbody>\n",
       "</table>\n",
       "</div>"
      ],
      "text/plain": [
       "   OBJECTID  DEPCODE COUNTY COUNTYNAME                 DATESTAMP  \\\n",
       "0         1       21    041  GILCHRIST 2000-05-16 00:00:00+00:00   \n",
       "1         2       54    107     PUTNAM 2000-05-16 00:00:00+00:00   \n",
       "2         3       62    123     TAYLOR 2000-05-16 00:00:00+00:00   \n",
       "3         4       46    091   OKALOOSA 2000-05-16 00:00:00+00:00   \n",
       "4         5        7    013    CALHOUN 2000-05-16 00:00:00+00:00   \n",
       "\n",
       "    ShapeSTArea  ShapeSTLength  \\\n",
       "0  9.908353e+09   4.873000e+05   \n",
       "1  2.305869e+10   7.629677e+05   \n",
       "2  2.891747e+10   8.772527e+05   \n",
       "3  2.562159e+10   1.087058e+06   \n",
       "4  1.604809e+10   6.313440e+05   \n",
       "\n",
       "                                            geometry  \n",
       "0  POLYGON ((-82.65814 29.83028, -82.65887 29.830...  \n",
       "1  POLYGON ((-81.58084 29.83956, -81.60611 29.839...  \n",
       "2  MULTIPOLYGON (((-83.73037 30.30358, -83.73987 ...  \n",
       "3  MULTIPOLYGON (((-86.39159 30.6497, -86.39157 3...  \n",
       "4  POLYGON ((-84.93266 30.60637, -84.95729 30.606...  "
      ]
     },
     "execution_count": 447,
     "metadata": {},
     "output_type": "execute_result"
    }
   ],
   "source": [
    "FL_counties.head()"
   ]
  },
  {
   "cell_type": "code",
   "execution_count": 346,
   "metadata": {},
   "outputs": [
    {
     "data": {
      "text/plain": [
       "<Axes: >"
      ]
     },
     "execution_count": 346,
     "metadata": {},
     "output_type": "execute_result"
    },
    {
     "data": {
      "image/png": "[encoded data removed]",
      "text/plain": [
       "<Figure size 640x480 with 1 Axes>"
      ]
     },
     "metadata": {},
     "output_type": "display_data"
    }
   ],
   "source": [
    "FL_counties.plot()"
   ]
  },
  {
   "cell_type": "markdown",
   "metadata": {},
   "source": [
    "### Merging DataFrames (FL)"
   ]
  },
  {
   "cell_type": "code",
   "execution_count": 347,
   "metadata": {},
   "outputs": [],
   "source": [
    "SSL_agg = SSL_gdf.groupby('county_fips').agg({\n",
    "    'Total_Pb': 'sum', \n",
    "    'Total': 'sum'\n",
    "}).reset_index()"
   ]
  },
  {
   "cell_type": "markdown",
   "metadata": {},
   "source": [
    "We're going to aggregate our system level infrastructure data to match the level our public health data is on."
   ]
  },
  {
   "cell_type": "code",
   "execution_count": 348,
   "metadata": {},
   "outputs": [],
   "source": [
    "SSL_agg['pct_Pb'] = (SSL_agg['Total_Pb'] / SSL_agg['Total']).round(3)"
   ]
  },
  {
   "cell_type": "markdown",
   "metadata": {},
   "source": [
    "Adding a column that calculates the % of the infrastructure that is leaded"
   ]
  },
  {
   "cell_type": "code",
   "execution_count": 349,
   "metadata": {},
   "outputs": [
    {
     "data": {
      "text/html": [
       "<div>\n",
       "<style scoped>\n",
       "    .dataframe tbody tr th:only-of-type {\n",
       "        vertical-align: middle;\n",
       "    }\n",
       "\n",
       "    .dataframe tbody tr th {\n",
       "        vertical-align: top;\n",
       "    }\n",
       "\n",
       "    .dataframe thead th {\n",
       "        text-align: right;\n",
       "    }\n",
       "</style>\n",
       "<table border=\"1\" class=\"dataframe\">\n",
       "  <thead>\n",
       "    <tr style=\"text-align: right;\">\n",
       "      <th></th>\n",
       "      <th>Total_Pb</th>\n",
       "      <th>Total</th>\n",
       "      <th>pct_Pb</th>\n",
       "    </tr>\n",
       "  </thead>\n",
       "  <tbody>\n",
       "    <tr>\n",
       "      <th>count</th>\n",
       "      <td>41.000000</td>\n",
       "      <td>41.000000</td>\n",
       "      <td>41.000000</td>\n",
       "    </tr>\n",
       "    <tr>\n",
       "      <th>mean</th>\n",
       "      <td>10263.219512</td>\n",
       "      <td>107239.926829</td>\n",
       "      <td>0.108780</td>\n",
       "    </tr>\n",
       "    <tr>\n",
       "      <th>std</th>\n",
       "      <td>15121.877171</td>\n",
       "      <td>136827.070677</td>\n",
       "      <td>0.115265</td>\n",
       "    </tr>\n",
       "    <tr>\n",
       "      <th>min</th>\n",
       "      <td>0.000000</td>\n",
       "      <td>2.000000</td>\n",
       "      <td>0.000000</td>\n",
       "    </tr>\n",
       "    <tr>\n",
       "      <th>25%</th>\n",
       "      <td>0.000000</td>\n",
       "      <td>15642.000000</td>\n",
       "      <td>0.000000</td>\n",
       "    </tr>\n",
       "    <tr>\n",
       "      <th>50%</th>\n",
       "      <td>2461.000000</td>\n",
       "      <td>49499.000000</td>\n",
       "      <td>0.076000</td>\n",
       "    </tr>\n",
       "    <tr>\n",
       "      <th>75%</th>\n",
       "      <td>14243.000000</td>\n",
       "      <td>120948.000000</td>\n",
       "      <td>0.173000</td>\n",
       "    </tr>\n",
       "    <tr>\n",
       "      <th>max</th>\n",
       "      <td>55950.000000</td>\n",
       "      <td>530295.000000</td>\n",
       "      <td>0.463000</td>\n",
       "    </tr>\n",
       "  </tbody>\n",
       "</table>\n",
       "</div>"
      ],
      "text/plain": [
       "           Total_Pb          Total     pct_Pb\n",
       "count     41.000000      41.000000  41.000000\n",
       "mean   10263.219512  107239.926829   0.108780\n",
       "std    15121.877171  136827.070677   0.115265\n",
       "min        0.000000       2.000000   0.000000\n",
       "25%        0.000000   15642.000000   0.000000\n",
       "50%     2461.000000   49499.000000   0.076000\n",
       "75%    14243.000000  120948.000000   0.173000\n",
       "max    55950.000000  530295.000000   0.463000"
      ]
     },
     "execution_count": 349,
     "metadata": {},
     "output_type": "execute_result"
    }
   ],
   "source": [
    "SSL_agg.describe()"
   ]
  },
  {
   "cell_type": "markdown",
   "metadata": {},
   "source": [
    "So we have data for 41 out of 67 counties in the state of FL  \n",
    "Which means the EPA either did not survey sites or there were no sites to survey in the missing 27 counties"
   ]
  },
  {
   "cell_type": "code",
   "execution_count": 350,
   "metadata": {},
   "outputs": [],
   "source": [
    "FL_SSL = SSL_agg.merge(FL_counties, left_on='county_fips', right_on='COUNTY')"
   ]
  },
  {
   "cell_type": "code",
   "execution_count": 351,
   "metadata": {},
   "outputs": [
    {
     "data": {
      "text/html": [
       "<div>\n",
       "<style scoped>\n",
       "    .dataframe tbody tr th:only-of-type {\n",
       "        vertical-align: middle;\n",
       "    }\n",
       "\n",
       "    .dataframe tbody tr th {\n",
       "        vertical-align: top;\n",
       "    }\n",
       "\n",
       "    .dataframe thead th {\n",
       "        text-align: right;\n",
       "    }\n",
       "</style>\n",
       "<table border=\"1\" class=\"dataframe\">\n",
       "  <thead>\n",
       "    <tr style=\"text-align: right;\">\n",
       "      <th></th>\n",
       "      <th>county_fips</th>\n",
       "      <th>Total_Pb</th>\n",
       "      <th>Total</th>\n",
       "      <th>pct_Pb</th>\n",
       "      <th>OBJECTID</th>\n",
       "      <th>DEPCODE</th>\n",
       "      <th>COUNTY</th>\n",
       "      <th>COUNTYNAME</th>\n",
       "      <th>DATESTAMP</th>\n",
       "      <th>ShapeSTArea</th>\n",
       "      <th>ShapeSTLength</th>\n",
       "      <th>geometry</th>\n",
       "    </tr>\n",
       "  </thead>\n",
       "  <tbody>\n",
       "    <tr>\n",
       "      <th>0</th>\n",
       "      <td>001</td>\n",
       "      <td>18613</td>\n",
       "      <td>73013</td>\n",
       "      <td>0.255</td>\n",
       "      <td>66</td>\n",
       "      <td>1</td>\n",
       "      <td>001</td>\n",
       "      <td>ALACHUA</td>\n",
       "      <td>2000-05-16 00:00:00+00:00</td>\n",
       "      <td>2.702324e+10</td>\n",
       "      <td>8.927266e+05</td>\n",
       "      <td>POLYGON ((-82.41869 29.92298, -82.41906 29.922...</td>\n",
       "    </tr>\n",
       "    <tr>\n",
       "      <th>1</th>\n",
       "      <td>005</td>\n",
       "      <td>1080</td>\n",
       "      <td>37718</td>\n",
       "      <td>0.029</td>\n",
       "      <td>15</td>\n",
       "      <td>3</td>\n",
       "      <td>005</td>\n",
       "      <td>BAY</td>\n",
       "      <td>2000-05-16 00:00:00+00:00</td>\n",
       "      <td>2.084232e+10</td>\n",
       "      <td>1.834701e+06</td>\n",
       "      <td>MULTIPOLYGON (((-85.38551 30.50018, -85.38528 ...</td>\n",
       "    </tr>\n",
       "    <tr>\n",
       "      <th>2</th>\n",
       "      <td>007</td>\n",
       "      <td>24</td>\n",
       "      <td>255</td>\n",
       "      <td>0.094</td>\n",
       "      <td>40</td>\n",
       "      <td>4</td>\n",
       "      <td>007</td>\n",
       "      <td>BRADFORD</td>\n",
       "      <td>2000-05-16 00:00:00+00:00</td>\n",
       "      <td>8.359863e+09</td>\n",
       "      <td>5.483267e+05</td>\n",
       "      <td>POLYGON ((-82.04939 30.14322, -82.08203 30.143...</td>\n",
       "    </tr>\n",
       "    <tr>\n",
       "      <th>3</th>\n",
       "      <td>009</td>\n",
       "      <td>45766</td>\n",
       "      <td>196357</td>\n",
       "      <td>0.233</td>\n",
       "      <td>42</td>\n",
       "      <td>5</td>\n",
       "      <td>009</td>\n",
       "      <td>BREVARD</td>\n",
       "      <td>2000-05-16 00:00:00+00:00</td>\n",
       "      <td>2.893695e+10</td>\n",
       "      <td>2.600567e+06</td>\n",
       "      <td>MULTIPOLYGON (((-80.80666 28.61413, -80.80439 ...</td>\n",
       "    </tr>\n",
       "    <tr>\n",
       "      <th>4</th>\n",
       "      <td>011</td>\n",
       "      <td>55950</td>\n",
       "      <td>339989</td>\n",
       "      <td>0.165</td>\n",
       "      <td>62</td>\n",
       "      <td>6</td>\n",
       "      <td>011</td>\n",
       "      <td>BROWARD</td>\n",
       "      <td>2000-05-16 00:00:00+00:00</td>\n",
       "      <td>3.383955e+10</td>\n",
       "      <td>9.580261e+05</td>\n",
       "      <td>MULTIPOLYGON (((-80.2268 26.33478, -80.24976 2...</td>\n",
       "    </tr>\n",
       "  </tbody>\n",
       "</table>\n",
       "</div>"
      ],
      "text/plain": [
       "  county_fips  Total_Pb   Total  pct_Pb  OBJECTID  DEPCODE COUNTY COUNTYNAME  \\\n",
       "0         001     18613   73013   0.255        66        1    001    ALACHUA   \n",
       "1         005      1080   37718   0.029        15        3    005        BAY   \n",
       "2         007        24     255   0.094        40        4    007   BRADFORD   \n",
       "3         009     45766  196357   0.233        42        5    009    BREVARD   \n",
       "4         011     55950  339989   0.165        62        6    011    BROWARD   \n",
       "\n",
       "                  DATESTAMP   ShapeSTArea  ShapeSTLength  \\\n",
       "0 2000-05-16 00:00:00+00:00  2.702324e+10   8.927266e+05   \n",
       "1 2000-05-16 00:00:00+00:00  2.084232e+10   1.834701e+06   \n",
       "2 2000-05-16 00:00:00+00:00  8.359863e+09   5.483267e+05   \n",
       "3 2000-05-16 00:00:00+00:00  2.893695e+10   2.600567e+06   \n",
       "4 2000-05-16 00:00:00+00:00  3.383955e+10   9.580261e+05   \n",
       "\n",
       "                                            geometry  \n",
       "0  POLYGON ((-82.41869 29.92298, -82.41906 29.922...  \n",
       "1  MULTIPOLYGON (((-85.38551 30.50018, -85.38528 ...  \n",
       "2  POLYGON ((-82.04939 30.14322, -82.08203 30.143...  \n",
       "3  MULTIPOLYGON (((-80.80666 28.61413, -80.80439 ...  \n",
       "4  MULTIPOLYGON (((-80.2268 26.33478, -80.24976 2...  "
      ]
     },
     "execution_count": 351,
     "metadata": {},
     "output_type": "execute_result"
    }
   ],
   "source": [
    "FL_SSL.head()"
   ]
  },
  {
   "cell_type": "markdown",
   "metadata": {},
   "source": [
    "Now we have merged our lead infrastructure dataframe and our Florida Counties DataFrame"
   ]
  },
  {
   "cell_type": "code",
   "execution_count": 352,
   "metadata": {},
   "outputs": [],
   "source": [
    "FL_Pcancer_SSL = pd.merge(Pcancer_fix, FL_SSL, on='COUNTY', how='inner')"
   ]
  },
  {
   "cell_type": "code",
   "execution_count": 353,
   "metadata": {},
   "outputs": [
    {
     "data": {
      "text/html": [
       "<div>\n",
       "<style scoped>\n",
       "    .dataframe tbody tr th:only-of-type {\n",
       "        vertical-align: middle;\n",
       "    }\n",
       "\n",
       "    .dataframe tbody tr th {\n",
       "        vertical-align: top;\n",
       "    }\n",
       "\n",
       "    .dataframe thead th {\n",
       "        text-align: right;\n",
       "    }\n",
       "</style>\n",
       "<table border=\"1\" class=\"dataframe\">\n",
       "  <thead>\n",
       "    <tr style=\"text-align: right;\">\n",
       "      <th></th>\n",
       "      <th>County</th>\n",
       "      <th>FIPS</th>\n",
       "      <th>2023 Continuum Codes</th>\n",
       "      <th>ageadj_incdrate</th>\n",
       "      <th>low95</th>\n",
       "      <th>upper95</th>\n",
       "      <th>5yr_incdtrend</th>\n",
       "      <th>low95_trend</th>\n",
       "      <th>upper95_trend</th>\n",
       "      <th>COUNTY</th>\n",
       "      <th>...</th>\n",
       "      <th>Total_Pb</th>\n",
       "      <th>Total</th>\n",
       "      <th>pct_Pb</th>\n",
       "      <th>OBJECTID</th>\n",
       "      <th>DEPCODE</th>\n",
       "      <th>COUNTYNAME</th>\n",
       "      <th>DATESTAMP</th>\n",
       "      <th>ShapeSTArea</th>\n",
       "      <th>ShapeSTLength</th>\n",
       "      <th>geometry</th>\n",
       "    </tr>\n",
       "  </thead>\n",
       "  <tbody>\n",
       "    <tr>\n",
       "      <th>0</th>\n",
       "      <td>Alachua County, Florida(6)</td>\n",
       "      <td>12001</td>\n",
       "      <td>Urban</td>\n",
       "      <td>15.2</td>\n",
       "      <td>13.2</td>\n",
       "      <td>17.3</td>\n",
       "      <td>2.6</td>\n",
       "      <td>1.0</td>\n",
       "      <td>3.7</td>\n",
       "      <td>001</td>\n",
       "      <td>...</td>\n",
       "      <td>18613</td>\n",
       "      <td>73013</td>\n",
       "      <td>0.255</td>\n",
       "      <td>66</td>\n",
       "      <td>1</td>\n",
       "      <td>ALACHUA</td>\n",
       "      <td>2000-05-16 00:00:00+00:00</td>\n",
       "      <td>2.702324e+10</td>\n",
       "      <td>8.927266e+05</td>\n",
       "      <td>POLYGON ((-82.41869 29.92298, -82.41906 29.922...</td>\n",
       "    </tr>\n",
       "    <tr>\n",
       "      <th>1</th>\n",
       "      <td>Bay County, Florida(6)</td>\n",
       "      <td>12005</td>\n",
       "      <td>Urban</td>\n",
       "      <td>13.6</td>\n",
       "      <td>11.6</td>\n",
       "      <td>15.9</td>\n",
       "      <td>9.1</td>\n",
       "      <td>1.2</td>\n",
       "      <td>17.0</td>\n",
       "      <td>005</td>\n",
       "      <td>...</td>\n",
       "      <td>1080</td>\n",
       "      <td>37718</td>\n",
       "      <td>0.029</td>\n",
       "      <td>15</td>\n",
       "      <td>3</td>\n",
       "      <td>BAY</td>\n",
       "      <td>2000-05-16 00:00:00+00:00</td>\n",
       "      <td>2.084232e+10</td>\n",
       "      <td>1.834701e+06</td>\n",
       "      <td>MULTIPOLYGON (((-85.38551 30.50018, -85.38528 ...</td>\n",
       "    </tr>\n",
       "    <tr>\n",
       "      <th>2</th>\n",
       "      <td>Bradford County, Florida(6)</td>\n",
       "      <td>12007</td>\n",
       "      <td>Rural</td>\n",
       "      <td>8.0</td>\n",
       "      <td>4.6</td>\n",
       "      <td>13.5</td>\n",
       "      <td>-1.7</td>\n",
       "      <td>-9.0</td>\n",
       "      <td>5.4</td>\n",
       "      <td>007</td>\n",
       "      <td>...</td>\n",
       "      <td>24</td>\n",
       "      <td>255</td>\n",
       "      <td>0.094</td>\n",
       "      <td>40</td>\n",
       "      <td>4</td>\n",
       "      <td>BRADFORD</td>\n",
       "      <td>2000-05-16 00:00:00+00:00</td>\n",
       "      <td>8.359863e+09</td>\n",
       "      <td>5.483267e+05</td>\n",
       "      <td>POLYGON ((-82.04939 30.14322, -82.08203 30.143...</td>\n",
       "    </tr>\n",
       "    <tr>\n",
       "      <th>3</th>\n",
       "      <td>Brevard County, Florida(6)</td>\n",
       "      <td>12009</td>\n",
       "      <td>Urban</td>\n",
       "      <td>13.7</td>\n",
       "      <td>12.7</td>\n",
       "      <td>14.9</td>\n",
       "      <td>-3.9</td>\n",
       "      <td>-9.9</td>\n",
       "      <td>0.9</td>\n",
       "      <td>009</td>\n",
       "      <td>...</td>\n",
       "      <td>45766</td>\n",
       "      <td>196357</td>\n",
       "      <td>0.233</td>\n",
       "      <td>42</td>\n",
       "      <td>5</td>\n",
       "      <td>BREVARD</td>\n",
       "      <td>2000-05-16 00:00:00+00:00</td>\n",
       "      <td>2.893695e+10</td>\n",
       "      <td>2.600567e+06</td>\n",
       "      <td>MULTIPOLYGON (((-80.80666 28.61413, -80.80439 ...</td>\n",
       "    </tr>\n",
       "    <tr>\n",
       "      <th>4</th>\n",
       "      <td>Broward County, Florida(6)</td>\n",
       "      <td>12011</td>\n",
       "      <td>Urban</td>\n",
       "      <td>13.1</td>\n",
       "      <td>12.5</td>\n",
       "      <td>13.8</td>\n",
       "      <td>0.4</td>\n",
       "      <td>-0.4</td>\n",
       "      <td>1.2</td>\n",
       "      <td>011</td>\n",
       "      <td>...</td>\n",
       "      <td>55950</td>\n",
       "      <td>339989</td>\n",
       "      <td>0.165</td>\n",
       "      <td>62</td>\n",
       "      <td>6</td>\n",
       "      <td>BROWARD</td>\n",
       "      <td>2000-05-16 00:00:00+00:00</td>\n",
       "      <td>3.383955e+10</td>\n",
       "      <td>9.580261e+05</td>\n",
       "      <td>MULTIPOLYGON (((-80.2268 26.33478, -80.24976 2...</td>\n",
       "    </tr>\n",
       "  </tbody>\n",
       "</table>\n",
       "<p>5 rows × 21 columns</p>\n",
       "</div>"
      ],
      "text/plain": [
       "                        County   FIPS 2023 Continuum Codes  ageadj_incdrate  \\\n",
       "0   Alachua County, Florida(6)  12001                Urban             15.2   \n",
       "1       Bay County, Florida(6)  12005                Urban             13.6   \n",
       "2  Bradford County, Florida(6)  12007                Rural              8.0   \n",
       "3   Brevard County, Florida(6)  12009                Urban             13.7   \n",
       "4   Broward County, Florida(6)  12011                Urban             13.1   \n",
       "\n",
       "   low95  upper95  5yr_incdtrend  low95_trend  upper95_trend COUNTY  ...  \\\n",
       "0   13.2     17.3            2.6          1.0            3.7    001  ...   \n",
       "1   11.6     15.9            9.1          1.2           17.0    005  ...   \n",
       "2    4.6     13.5           -1.7         -9.0            5.4    007  ...   \n",
       "3   12.7     14.9           -3.9         -9.9            0.9    009  ...   \n",
       "4   12.5     13.8            0.4         -0.4            1.2    011  ...   \n",
       "\n",
       "  Total_Pb   Total  pct_Pb  OBJECTID  DEPCODE  COUNTYNAME  \\\n",
       "0    18613   73013   0.255        66        1     ALACHUA   \n",
       "1     1080   37718   0.029        15        3         BAY   \n",
       "2       24     255   0.094        40        4    BRADFORD   \n",
       "3    45766  196357   0.233        42        5     BREVARD   \n",
       "4    55950  339989   0.165        62        6     BROWARD   \n",
       "\n",
       "                  DATESTAMP   ShapeSTArea  ShapeSTLength  \\\n",
       "0 2000-05-16 00:00:00+00:00  2.702324e+10   8.927266e+05   \n",
       "1 2000-05-16 00:00:00+00:00  2.084232e+10   1.834701e+06   \n",
       "2 2000-05-16 00:00:00+00:00  8.359863e+09   5.483267e+05   \n",
       "3 2000-05-16 00:00:00+00:00  2.893695e+10   2.600567e+06   \n",
       "4 2000-05-16 00:00:00+00:00  3.383955e+10   9.580261e+05   \n",
       "\n",
       "                                            geometry  \n",
       "0  POLYGON ((-82.41869 29.92298, -82.41906 29.922...  \n",
       "1  MULTIPOLYGON (((-85.38551 30.50018, -85.38528 ...  \n",
       "2  POLYGON ((-82.04939 30.14322, -82.08203 30.143...  \n",
       "3  MULTIPOLYGON (((-80.80666 28.61413, -80.80439 ...  \n",
       "4  MULTIPOLYGON (((-80.2268 26.33478, -80.24976 2...  \n",
       "\n",
       "[5 rows x 21 columns]"
      ]
     },
     "execution_count": 353,
     "metadata": {},
     "output_type": "execute_result"
    }
   ],
   "source": [
    "FL_Pcancer_SSL.head()"
   ]
  },
  {
   "cell_type": "markdown",
   "metadata": {},
   "source": [
    "Now we have merged our lead infrastructure data with our pancreatic cancer data."
   ]
  },
  {
   "cell_type": "code",
   "execution_count": 354,
   "metadata": {},
   "outputs": [],
   "source": [
    "FL_Pcancer_SSL = gpd.GeoDataFrame(FL_Pcancer_SSL, geometry=FL_Pcancer_SSL['geometry'])"
   ]
  },
  {
   "cell_type": "markdown",
   "metadata": {},
   "source": [
    "Since the DataFrame was migrated to a pandas DF when we did the merge, we are going to use this code to turn it back into a GeoDataFrame"
   ]
  },
  {
   "cell_type": "code",
   "execution_count": 355,
   "metadata": {},
   "outputs": [],
   "source": [
    "FL_STcancer_SSL = pd.merge(STcancer_fix, FL_SSL, on='COUNTY', how='inner')"
   ]
  },
  {
   "cell_type": "code",
   "execution_count": 356,
   "metadata": {},
   "outputs": [
    {
     "data": {
      "text/html": [
       "<div>\n",
       "<style scoped>\n",
       "    .dataframe tbody tr th:only-of-type {\n",
       "        vertical-align: middle;\n",
       "    }\n",
       "\n",
       "    .dataframe tbody tr th {\n",
       "        vertical-align: top;\n",
       "    }\n",
       "\n",
       "    .dataframe thead th {\n",
       "        text-align: right;\n",
       "    }\n",
       "</style>\n",
       "<table border=\"1\" class=\"dataframe\">\n",
       "  <thead>\n",
       "    <tr style=\"text-align: right;\">\n",
       "      <th></th>\n",
       "      <th>County</th>\n",
       "      <th>FIPS</th>\n",
       "      <th>2023 Continuum Codes</th>\n",
       "      <th>ageadj_incdrate</th>\n",
       "      <th>low95</th>\n",
       "      <th>upper95</th>\n",
       "      <th>5yr_incdtrend</th>\n",
       "      <th>low95_trend</th>\n",
       "      <th>upper95_trend</th>\n",
       "      <th>COUNTY</th>\n",
       "      <th>...</th>\n",
       "      <th>Total_Pb</th>\n",
       "      <th>Total</th>\n",
       "      <th>pct_Pb</th>\n",
       "      <th>OBJECTID</th>\n",
       "      <th>DEPCODE</th>\n",
       "      <th>COUNTYNAME</th>\n",
       "      <th>DATESTAMP</th>\n",
       "      <th>ShapeSTArea</th>\n",
       "      <th>ShapeSTLength</th>\n",
       "      <th>geometry</th>\n",
       "    </tr>\n",
       "  </thead>\n",
       "  <tbody>\n",
       "    <tr>\n",
       "      <th>0</th>\n",
       "      <td>Alachua County(6)</td>\n",
       "      <td>12001</td>\n",
       "      <td>Urban</td>\n",
       "      <td>5.8</td>\n",
       "      <td>4.6</td>\n",
       "      <td>7.2</td>\n",
       "      <td>-0.3</td>\n",
       "      <td>-1.9</td>\n",
       "      <td>1.5</td>\n",
       "      <td>001</td>\n",
       "      <td>...</td>\n",
       "      <td>18613</td>\n",
       "      <td>73013</td>\n",
       "      <td>0.255</td>\n",
       "      <td>66</td>\n",
       "      <td>1</td>\n",
       "      <td>ALACHUA</td>\n",
       "      <td>2000-05-16 00:00:00+00:00</td>\n",
       "      <td>2.702324e+10</td>\n",
       "      <td>8.927266e+05</td>\n",
       "      <td>POLYGON ((-82.41869 29.92298, -82.41906 29.922...</td>\n",
       "    </tr>\n",
       "    <tr>\n",
       "      <th>1</th>\n",
       "      <td>Bay County(6)</td>\n",
       "      <td>12005</td>\n",
       "      <td>Urban</td>\n",
       "      <td>5.5</td>\n",
       "      <td>4.2</td>\n",
       "      <td>7.1</td>\n",
       "      <td>-1.2</td>\n",
       "      <td>-4.3</td>\n",
       "      <td>1.8</td>\n",
       "      <td>005</td>\n",
       "      <td>...</td>\n",
       "      <td>1080</td>\n",
       "      <td>37718</td>\n",
       "      <td>0.029</td>\n",
       "      <td>15</td>\n",
       "      <td>3</td>\n",
       "      <td>BAY</td>\n",
       "      <td>2000-05-16 00:00:00+00:00</td>\n",
       "      <td>2.084232e+10</td>\n",
       "      <td>1.834701e+06</td>\n",
       "      <td>MULTIPOLYGON (((-85.38551 30.50018, -85.38528 ...</td>\n",
       "    </tr>\n",
       "    <tr>\n",
       "      <th>2</th>\n",
       "      <td>Bradford County(6)</td>\n",
       "      <td>12007</td>\n",
       "      <td>Rural</td>\n",
       "      <td>NaN</td>\n",
       "      <td>NaN</td>\n",
       "      <td>NaN</td>\n",
       "      <td>NaN</td>\n",
       "      <td>NaN</td>\n",
       "      <td>NaN</td>\n",
       "      <td>007</td>\n",
       "      <td>...</td>\n",
       "      <td>24</td>\n",
       "      <td>255</td>\n",
       "      <td>0.094</td>\n",
       "      <td>40</td>\n",
       "      <td>4</td>\n",
       "      <td>BRADFORD</td>\n",
       "      <td>2000-05-16 00:00:00+00:00</td>\n",
       "      <td>8.359863e+09</td>\n",
       "      <td>5.483267e+05</td>\n",
       "      <td>POLYGON ((-82.04939 30.14322, -82.08203 30.143...</td>\n",
       "    </tr>\n",
       "    <tr>\n",
       "      <th>3</th>\n",
       "      <td>Brevard County(6)</td>\n",
       "      <td>12009</td>\n",
       "      <td>Urban</td>\n",
       "      <td>5.9</td>\n",
       "      <td>5.2</td>\n",
       "      <td>6.7</td>\n",
       "      <td>0.0</td>\n",
       "      <td>-1.7</td>\n",
       "      <td>1.9</td>\n",
       "      <td>009</td>\n",
       "      <td>...</td>\n",
       "      <td>45766</td>\n",
       "      <td>196357</td>\n",
       "      <td>0.233</td>\n",
       "      <td>42</td>\n",
       "      <td>5</td>\n",
       "      <td>BREVARD</td>\n",
       "      <td>2000-05-16 00:00:00+00:00</td>\n",
       "      <td>2.893695e+10</td>\n",
       "      <td>2.600567e+06</td>\n",
       "      <td>MULTIPOLYGON (((-80.80666 28.61413, -80.80439 ...</td>\n",
       "    </tr>\n",
       "    <tr>\n",
       "      <th>4</th>\n",
       "      <td>Broward County(6)</td>\n",
       "      <td>12011</td>\n",
       "      <td>Urban</td>\n",
       "      <td>7.0</td>\n",
       "      <td>6.5</td>\n",
       "      <td>7.5</td>\n",
       "      <td>-0.8</td>\n",
       "      <td>-1.5</td>\n",
       "      <td>0.0</td>\n",
       "      <td>011</td>\n",
       "      <td>...</td>\n",
       "      <td>55950</td>\n",
       "      <td>339989</td>\n",
       "      <td>0.165</td>\n",
       "      <td>62</td>\n",
       "      <td>6</td>\n",
       "      <td>BROWARD</td>\n",
       "      <td>2000-05-16 00:00:00+00:00</td>\n",
       "      <td>3.383955e+10</td>\n",
       "      <td>9.580261e+05</td>\n",
       "      <td>MULTIPOLYGON (((-80.2268 26.33478, -80.24976 2...</td>\n",
       "    </tr>\n",
       "  </tbody>\n",
       "</table>\n",
       "<p>5 rows × 21 columns</p>\n",
       "</div>"
      ],
      "text/plain": [
       "               County   FIPS 2023 Continuum Codes  ageadj_incdrate  low95  \\\n",
       "0   Alachua County(6)  12001                Urban              5.8    4.6   \n",
       "1       Bay County(6)  12005                Urban              5.5    4.2   \n",
       "2  Bradford County(6)  12007                Rural              NaN    NaN   \n",
       "3   Brevard County(6)  12009                Urban              5.9    5.2   \n",
       "4   Broward County(6)  12011                Urban              7.0    6.5   \n",
       "\n",
       "   upper95  5yr_incdtrend  low95_trend  upper95_trend COUNTY  ... Total_Pb  \\\n",
       "0      7.2           -0.3         -1.9            1.5    001  ...    18613   \n",
       "1      7.1           -1.2         -4.3            1.8    005  ...     1080   \n",
       "2      NaN            NaN          NaN            NaN    007  ...       24   \n",
       "3      6.7            0.0         -1.7            1.9    009  ...    45766   \n",
       "4      7.5           -0.8         -1.5            0.0    011  ...    55950   \n",
       "\n",
       "    Total  pct_Pb  OBJECTID  DEPCODE  COUNTYNAME                 DATESTAMP  \\\n",
       "0   73013   0.255        66        1     ALACHUA 2000-05-16 00:00:00+00:00   \n",
       "1   37718   0.029        15        3         BAY 2000-05-16 00:00:00+00:00   \n",
       "2     255   0.094        40        4    BRADFORD 2000-05-16 00:00:00+00:00   \n",
       "3  196357   0.233        42        5     BREVARD 2000-05-16 00:00:00+00:00   \n",
       "4  339989   0.165        62        6     BROWARD 2000-05-16 00:00:00+00:00   \n",
       "\n",
       "    ShapeSTArea  ShapeSTLength  \\\n",
       "0  2.702324e+10   8.927266e+05   \n",
       "1  2.084232e+10   1.834701e+06   \n",
       "2  8.359863e+09   5.483267e+05   \n",
       "3  2.893695e+10   2.600567e+06   \n",
       "4  3.383955e+10   9.580261e+05   \n",
       "\n",
       "                                            geometry  \n",
       "0  POLYGON ((-82.41869 29.92298, -82.41906 29.922...  \n",
       "1  MULTIPOLYGON (((-85.38551 30.50018, -85.38528 ...  \n",
       "2  POLYGON ((-82.04939 30.14322, -82.08203 30.143...  \n",
       "3  MULTIPOLYGON (((-80.80666 28.61413, -80.80439 ...  \n",
       "4  MULTIPOLYGON (((-80.2268 26.33478, -80.24976 2...  \n",
       "\n",
       "[5 rows x 21 columns]"
      ]
     },
     "execution_count": 356,
     "metadata": {},
     "output_type": "execute_result"
    }
   ],
   "source": [
    "FL_STcancer_SSL.head()"
   ]
  },
  {
   "cell_type": "markdown",
   "metadata": {},
   "source": [
    "Now we have a 2nd DataFrame that merges our lead infrastructure data with our stomach cancer data."
   ]
  },
  {
   "cell_type": "code",
   "execution_count": 357,
   "metadata": {},
   "outputs": [],
   "source": [
    "FL_STcancer_SSL = gpd.GeoDataFrame(FL_STcancer_SSL, geometry=FL_STcancer_SSL['geometry'])"
   ]
  },
  {
   "cell_type": "markdown",
   "metadata": {},
   "source": [
    "### Correlations and (Possible) Causation (FL)"
   ]
  },
  {
   "cell_type": "code",
   "execution_count": 463,
   "metadata": {},
   "outputs": [],
   "source": [
    "import matplotlib.pyplot as plt\n",
    "import numpy as np"
   ]
  },
  {
   "cell_type": "markdown",
   "metadata": {},
   "source": [
    "Import some new packages to create some charts and plots"
   ]
  },
  {
   "cell_type": "code",
   "execution_count": 359,
   "metadata": {},
   "outputs": [],
   "source": [
    "Pcancer_Lead = FL_Pcancer_SSL['pct_Pb'].corr(FL_Pcancer_SSL['ageadj_incdrate'])"
   ]
  },
  {
   "cell_type": "code",
   "execution_count": 360,
   "metadata": {},
   "outputs": [
    {
     "data": {
      "text/plain": [
       "np.float64(0.04940208190951645)"
      ]
     },
     "execution_count": 360,
     "metadata": {},
     "output_type": "execute_result"
    }
   ],
   "source": [
    "Pcancer_Lead"
   ]
  },
  {
   "cell_type": "code",
   "execution_count": 361,
   "metadata": {},
   "outputs": [
    {
     "data": {
      "image/png": "[encoded data removed]",
      "text/plain": [
       "<Figure size 640x480 with 1 Axes>"
      ]
     },
     "metadata": {},
     "output_type": "display_data"
    }
   ],
   "source": [
    "data = FL_Pcancer_SSL[['pct_Pb', 'ageadj_incdrate']]\n",
    "x = data['pct_Pb']\n",
    "y = data['ageadj_incdrate']\n",
    "plt.scatter(x, y)\n",
    "\n",
    "z = np.polyfit(x, y, 1)\n",
    "p = np.poly1d(z)\n",
    "\n",
    "plt.plot(x,p(x),\"r--\")\n",
    "plt.xlabel(\"Percentage of Leaded Infrastructure\")\n",
    "plt.ylabel(\"Pancreatic Cancer Incidence Rate\")\n",
    "\n",
    "plt.savefig('FL_PCancerplot.png')\n",
    "plt.show()"
   ]
  },
  {
   "cell_type": "markdown",
   "metadata": {},
   "source": [
    "So lead infrastructure does not appear to correlate with Pancreatic Cancer rates."
   ]
  },
  {
   "cell_type": "code",
   "execution_count": 362,
   "metadata": {},
   "outputs": [],
   "source": [
    "STcancer_Lead = FL_STcancer_SSL['pct_Pb'].corr(FL_STcancer_SSL['ageadj_incdrate'])"
   ]
  },
  {
   "cell_type": "code",
   "execution_count": 363,
   "metadata": {},
   "outputs": [
    {
     "data": {
      "text/plain": [
       "np.float64(0.14312933073524425)"
      ]
     },
     "execution_count": 363,
     "metadata": {},
     "output_type": "execute_result"
    }
   ],
   "source": [
    "STcancer_Lead"
   ]
  },
  {
   "cell_type": "code",
   "execution_count": 364,
   "metadata": {},
   "outputs": [
    {
     "data": {
      "image/png": "[encoded data removed]",
      "text/plain": [
       "<Figure size 640x480 with 1 Axes>"
      ]
     },
     "metadata": {},
     "output_type": "display_data"
    }
   ],
   "source": [
    "data = FL_STcancer_SSL[['pct_Pb', 'ageadj_incdrate']]\n",
    "x = data['pct_Pb']\n",
    "y = data['ageadj_incdrate']\n",
    "plt.scatter(x, y)\n",
    "\n",
    "z = np.polyfit(x, y, 1)\n",
    "p = np.poly1d(z)\n",
    "\n",
    "plt.plot(x,p(x),\"r--\")\n",
    "plt.xlabel(\"Percentage of Leaded Infrastructure\")\n",
    "plt.ylabel(\"Stomach Cancer Incidence Rate\")\n",
    "\n",
    "plt.savefig('FL_STCancerplot.png')\n",
    "plt.show()"
   ]
  },
  {
   "cell_type": "markdown",
   "metadata": {},
   "source": [
    "So lead infrastructure correlates *slightly* stronger with stomach cancer rates, but still too low to be significant."
   ]
  },
  {
   "cell_type": "markdown",
   "metadata": {},
   "source": [
    "### Spatial Autocorrelation (FL)"
   ]
  },
  {
   "cell_type": "code",
   "execution_count": 539,
   "metadata": {},
   "outputs": [],
   "source": [
    "from libpysal.weights.contiguity import Queen, Rook\n",
    "import splot\n",
    "from splot.esda import moran_scatterplot,plot_moran,lisa_cluster\n",
    "from esda.moran import Moran, Moran_Local, Moran_Local_BV"
   ]
  },
  {
   "cell_type": "markdown",
   "metadata": {},
   "source": [
    "Import some new packages to use for SA."
   ]
  },
  {
   "cell_type": "markdown",
   "metadata": {},
   "source": [
    "We're going to do some Bivariate Analysis with our variables"
   ]
  },
  {
   "cell_type": "code",
   "execution_count": 366,
   "metadata": {},
   "outputs": [
    {
     "name": "stderr",
     "output_type": "stream",
     "text": [
      "C:\\Users\\alexb\\AppData\\Local\\Temp\\ipykernel_8024\\2885422225.py:1: FutureWarning: `use_index` defaults to False but will default to True in future. Set True/False directly to control this behavior and silence this warning\n",
      "  w = Queen.from_dataframe(FL_Pcancer_SSL)\n",
      "c:\\Users\\alexb\\Documents\\GIS5103\\GIS5103\\.conda\\Lib\\site-packages\\libpysal\\weights\\contiguity.py:347: UserWarning: The weights matrix is not fully connected: \n",
      " There are 5 disconnected components.\n",
      " There is 1 island with id: 20.\n",
      "  W.__init__(self, neighbors, ids=ids, **kw)\n"
     ]
    }
   ],
   "source": [
    "w = Queen.from_dataframe(FL_Pcancer_SSL)"
   ]
  },
  {
   "cell_type": "code",
   "execution_count": 367,
   "metadata": {},
   "outputs": [
    {
     "name": "stdout",
     "output_type": "stream",
     "text": [
      "('WARNING: ', 20, ' is an island (no neighbors)')\n"
     ]
    }
   ],
   "source": [
    "w.transform = 'r'"
   ]
  },
  {
   "cell_type": "code",
   "execution_count": 368,
   "metadata": {},
   "outputs": [
    {
     "ename": "Exception",
     "evalue": "one or more input arrays have missing/NaN values",
     "output_type": "error",
     "traceback": [
      "\u001b[1;31m---------------------------------------------------------------------------\u001b[0m",
      "\u001b[1;31mException\u001b[0m                                 Traceback (most recent call last)",
      "Cell \u001b[1;32mIn[368], line 5\u001b[0m\n\u001b[0;32m      2\u001b[0m y \u001b[38;5;241m=\u001b[39m FL_Pcancer_SSL[\u001b[38;5;124m'\u001b[39m\u001b[38;5;124mageadj_incdrate\u001b[39m\u001b[38;5;124m'\u001b[39m]\u001b[38;5;241m.\u001b[39mvalues\n\u001b[0;32m      4\u001b[0m moran_loc \u001b[38;5;241m=\u001b[39m Moran_Local(y, w)\n\u001b[1;32m----> 5\u001b[0m fig, ax \u001b[38;5;241m=\u001b[39m \u001b[43mmoran_scatterplot\u001b[49m\u001b[43m(\u001b[49m\u001b[43mmoran_loc\u001b[49m\u001b[43m)\u001b[49m\n\u001b[0;32m      7\u001b[0m ax\u001b[38;5;241m.\u001b[39mset_xlabel(\u001b[38;5;124m'\u001b[39m\u001b[38;5;124mPancreatic Cancer Incidence Rates\u001b[39m\u001b[38;5;124m'\u001b[39m)\n\u001b[0;32m      8\u001b[0m ax\u001b[38;5;241m.\u001b[39mset_ylabel(\u001b[38;5;124m'\u001b[39m\u001b[38;5;124mSpatial Lag of Pancreatic Cancer Rates\u001b[39m\u001b[38;5;124m'\u001b[39m)\n",
      "File \u001b[1;32mc:\\Users\\alexb\\Documents\\GIS5103\\GIS5103\\.conda\\Lib\\site-packages\\splot\\_viz_esda_mpl.py:157\u001b[0m, in \u001b[0;36mmoran_scatterplot\u001b[1;34m(moran, zstandard, p, aspect_equal, ax, scatter_kwds, fitline_kwds)\u001b[0m\n\u001b[0;32m    149\u001b[0m     fig, ax \u001b[38;5;241m=\u001b[39m _moran_bv_scatterplot(\n\u001b[0;32m    150\u001b[0m         moran_bv\u001b[38;5;241m=\u001b[39mmoran,\n\u001b[0;32m    151\u001b[0m         ax\u001b[38;5;241m=\u001b[39max,\n\u001b[1;32m   (...)\u001b[0m\n\u001b[0;32m    154\u001b[0m         fitline_kwds\u001b[38;5;241m=\u001b[39mfitline_kwds,\n\u001b[0;32m    155\u001b[0m     )\n\u001b[0;32m    156\u001b[0m \u001b[38;5;28;01melif\u001b[39;00m \u001b[38;5;28misinstance\u001b[39m(moran, Moran_Local):\n\u001b[1;32m--> 157\u001b[0m     fig, ax \u001b[38;5;241m=\u001b[39m \u001b[43m_moran_loc_scatterplot\u001b[49m\u001b[43m(\u001b[49m\n\u001b[0;32m    158\u001b[0m \u001b[43m        \u001b[49m\u001b[43mmoran_loc\u001b[49m\u001b[38;5;241;43m=\u001b[39;49m\u001b[43mmoran\u001b[49m\u001b[43m,\u001b[49m\n\u001b[0;32m    159\u001b[0m \u001b[43m        \u001b[49m\u001b[43mzstandard\u001b[49m\u001b[38;5;241;43m=\u001b[39;49m\u001b[43mzstandard\u001b[49m\u001b[43m,\u001b[49m\n\u001b[0;32m    160\u001b[0m \u001b[43m        \u001b[49m\u001b[43max\u001b[49m\u001b[38;5;241;43m=\u001b[39;49m\u001b[43max\u001b[49m\u001b[43m,\u001b[49m\n\u001b[0;32m    161\u001b[0m \u001b[43m        \u001b[49m\u001b[43mp\u001b[49m\u001b[38;5;241;43m=\u001b[39;49m\u001b[43mp\u001b[49m\u001b[43m,\u001b[49m\n\u001b[0;32m    162\u001b[0m \u001b[43m        \u001b[49m\u001b[43maspect_equal\u001b[49m\u001b[38;5;241;43m=\u001b[39;49m\u001b[43maspect_equal\u001b[49m\u001b[43m,\u001b[49m\n\u001b[0;32m    163\u001b[0m \u001b[43m        \u001b[49m\u001b[43mscatter_kwds\u001b[49m\u001b[38;5;241;43m=\u001b[39;49m\u001b[43mscatter_kwds\u001b[49m\u001b[43m,\u001b[49m\n\u001b[0;32m    164\u001b[0m \u001b[43m        \u001b[49m\u001b[43mfitline_kwds\u001b[49m\u001b[38;5;241;43m=\u001b[39;49m\u001b[43mfitline_kwds\u001b[49m\u001b[43m,\u001b[49m\n\u001b[0;32m    165\u001b[0m \u001b[43m    \u001b[49m\u001b[43m)\u001b[49m\n\u001b[0;32m    166\u001b[0m \u001b[38;5;28;01melif\u001b[39;00m \u001b[38;5;28misinstance\u001b[39m(moran, Moran_Local_BV):\n\u001b[0;32m    167\u001b[0m     fig, ax \u001b[38;5;241m=\u001b[39m _moran_loc_bv_scatterplot(\n\u001b[0;32m    168\u001b[0m         moran_loc_bv\u001b[38;5;241m=\u001b[39mmoran,\n\u001b[0;32m    169\u001b[0m         ax\u001b[38;5;241m=\u001b[39max,\n\u001b[1;32m   (...)\u001b[0m\n\u001b[0;32m    173\u001b[0m         fitline_kwds\u001b[38;5;241m=\u001b[39mfitline_kwds,\n\u001b[0;32m    174\u001b[0m     )\n",
      "File \u001b[1;32mc:\\Users\\alexb\\Documents\\GIS5103\\GIS5103\\.conda\\Lib\\site-packages\\splot\\_viz_esda_mpl.py:866\u001b[0m, in \u001b[0;36m_moran_loc_scatterplot\u001b[1;34m(moran_loc, zstandard, p, aspect_equal, ax, scatter_kwds, fitline_kwds)\u001b[0m\n\u001b[0;32m    864\u001b[0m \u001b[38;5;28;01mif\u001b[39;00m zstandard \u001b[38;5;129;01mis\u001b[39;00m \u001b[38;5;28;01mTrue\u001b[39;00m:\n\u001b[0;32m    865\u001b[0m     lag \u001b[38;5;241m=\u001b[39m lag_spatial(moran_loc\u001b[38;5;241m.\u001b[39mw, moran_loc\u001b[38;5;241m.\u001b[39mz)\n\u001b[1;32m--> 866\u001b[0m     fit \u001b[38;5;241m=\u001b[39m \u001b[43mOLS\u001b[49m\u001b[43m(\u001b[49m\u001b[43mmoran_loc\u001b[49m\u001b[38;5;241;43m.\u001b[39;49m\u001b[43mz\u001b[49m\u001b[43m[\u001b[49m\u001b[43m:\u001b[49m\u001b[43m,\u001b[49m\u001b[43m \u001b[49m\u001b[38;5;28;43;01mNone\u001b[39;49;00m\u001b[43m]\u001b[49m\u001b[43m,\u001b[49m\u001b[43m \u001b[49m\u001b[43mlag\u001b[49m\u001b[43m[\u001b[49m\u001b[43m:\u001b[49m\u001b[43m,\u001b[49m\u001b[43m \u001b[49m\u001b[38;5;28;43;01mNone\u001b[39;49;00m\u001b[43m]\u001b[49m\u001b[43m)\u001b[49m\n\u001b[0;32m    867\u001b[0m     \u001b[38;5;66;03m# v- and hlines\u001b[39;00m\n\u001b[0;32m    868\u001b[0m     ax\u001b[38;5;241m.\u001b[39maxvline(\u001b[38;5;241m0\u001b[39m, alpha\u001b[38;5;241m=\u001b[39m\u001b[38;5;241m0.5\u001b[39m, color\u001b[38;5;241m=\u001b[39m\u001b[38;5;124m\"\u001b[39m\u001b[38;5;124mk\u001b[39m\u001b[38;5;124m\"\u001b[39m, linestyle\u001b[38;5;241m=\u001b[39m\u001b[38;5;124m\"\u001b[39m\u001b[38;5;124m--\u001b[39m\u001b[38;5;124m\"\u001b[39m)\n",
      "File \u001b[1;32mc:\\Users\\alexb\\Documents\\GIS5103\\GIS5103\\.conda\\Lib\\site-packages\\spreg\\ols.py:458\u001b[0m, in \u001b[0;36mOLS.__init__\u001b[1;34m(self, y, x, w, robust, gwk, slx_lags, slx_vars, sig2n_k, nonspat_diag, spat_diag, moran, white_test, vif, vm, name_y, name_x, name_w, name_gwk, name_ds, latex)\u001b[0m\n\u001b[0;32m    434\u001b[0m \u001b[38;5;28;01mdef\u001b[39;00m \u001b[38;5;21m__init__\u001b[39m(\n\u001b[0;32m    435\u001b[0m     \u001b[38;5;28mself\u001b[39m,\n\u001b[0;32m    436\u001b[0m     y,\n\u001b[1;32m   (...)\u001b[0m\n\u001b[0;32m    455\u001b[0m     latex\u001b[38;5;241m=\u001b[39m\u001b[38;5;28;01mFalse\u001b[39;00m,\n\u001b[0;32m    456\u001b[0m ):\n\u001b[1;32m--> 458\u001b[0m     n \u001b[38;5;241m=\u001b[39m \u001b[43mUSER\u001b[49m\u001b[38;5;241;43m.\u001b[39;49m\u001b[43mcheck_arrays\u001b[49m\u001b[43m(\u001b[49m\u001b[43my\u001b[49m\u001b[43m,\u001b[49m\u001b[43m \u001b[49m\u001b[43mx\u001b[49m\u001b[43m)\u001b[49m\n\u001b[0;32m    459\u001b[0m     y, name_y \u001b[38;5;241m=\u001b[39m USER\u001b[38;5;241m.\u001b[39mcheck_y(y, n, name_y)\n\u001b[0;32m    460\u001b[0m     USER\u001b[38;5;241m.\u001b[39mcheck_robust(robust, gwk)\n",
      "File \u001b[1;32mc:\\Users\\alexb\\Documents\\GIS5103\\GIS5103\\.conda\\Lib\\site-packages\\spreg\\user_output.py:397\u001b[0m, in \u001b[0;36mcheck_arrays\u001b[1;34m(*arrays)\u001b[0m\n\u001b[0;32m    395\u001b[0m         \u001b[38;5;28;01mraise\u001b[39;00m \u001b[38;5;167;01mException\u001b[39;00m(\u001b[38;5;124m\"\u001b[39m\u001b[38;5;124mone or more input arrays have more columns than rows\u001b[39m\u001b[38;5;124m\"\u001b[39m)\n\u001b[0;32m    396\u001b[0m     \u001b[38;5;28;01mif\u001b[39;00m \u001b[38;5;129;01mnot\u001b[39;00m spu\u001b[38;5;241m.\u001b[39mspisfinite(i):\n\u001b[1;32m--> 397\u001b[0m         \u001b[38;5;28;01mraise\u001b[39;00m \u001b[38;5;167;01mException\u001b[39;00m(\u001b[38;5;124m\"\u001b[39m\u001b[38;5;124mone or more input arrays have missing/NaN values\u001b[39m\u001b[38;5;124m\"\u001b[39m)\n\u001b[0;32m    398\u001b[0m     rows\u001b[38;5;241m.\u001b[39mappend(shape[\u001b[38;5;241m0\u001b[39m])\n\u001b[0;32m    399\u001b[0m \u001b[38;5;28;01mif\u001b[39;00m \u001b[38;5;28mlen\u001b[39m(\u001b[38;5;28mset\u001b[39m(rows)) \u001b[38;5;241m>\u001b[39m \u001b[38;5;241m1\u001b[39m:\n",
      "\u001b[1;31mException\u001b[0m: one or more input arrays have missing/NaN values"
     ]
    },
    {
     "data": {
      "image/png": "[encoded data removed]",
      "text/plain": [
       "<Figure size 700x700 with 1 Axes>"
      ]
     },
     "metadata": {},
     "output_type": "display_data"
    }
   ],
   "source": [
    "x = FL_Pcancer_SSL['pct_Pb'].values\n",
    "y = FL_Pcancer_SSL['ageadj_incdrate'].values\n",
    "\n",
    "moran_loc = Moran_Local(y, w)\n",
    "fig, ax = moran_scatterplot(moran_loc)\n",
    "\n",
    "ax.set_xlabel('Pancreatic Cancer Incidence Rates')\n",
    "ax.set_ylabel('Spatial Lag of Pancreatic Cancer Rates')\n",
    "plt.show()"
   ]
  },
  {
   "cell_type": "code",
   "execution_count": null,
   "metadata": {},
   "outputs": [
    {
     "name": "stdout",
     "output_type": "stream",
     "text": [
      "('WARNING: ', 20, ' is an island (no neighbors)')\n"
     ]
    },
    {
     "ename": "Exception",
     "evalue": "one or more input arrays have missing/NaN values",
     "output_type": "error",
     "traceback": [
      "\u001b[1;31m---------------------------------------------------------------------------\u001b[0m",
      "\u001b[1;31mException\u001b[0m                                 Traceback (most recent call last)",
      "Cell \u001b[1;32mIn[65], line 6\u001b[0m\n\u001b[0;32m      2\u001b[0m y \u001b[38;5;241m=\u001b[39m FL_Pcancer_SSL[\u001b[38;5;124m'\u001b[39m\u001b[38;5;124mageadj_incdrate\u001b[39m\u001b[38;5;124m'\u001b[39m]\u001b[38;5;241m.\u001b[39mvalues\n\u001b[0;32m      4\u001b[0m moran_loc_bv \u001b[38;5;241m=\u001b[39m Moran_Local_BV(x, y, w)\n\u001b[1;32m----> 6\u001b[0m fig, ax \u001b[38;5;241m=\u001b[39m \u001b[43mmoran_scatterplot\u001b[49m\u001b[43m(\u001b[49m\u001b[43mmoran_loc_bv\u001b[49m\u001b[43m,\u001b[49m\u001b[43m \u001b[49m\u001b[43mp\u001b[49m\u001b[38;5;241;43m=\u001b[39;49m\u001b[38;5;241;43m0.05\u001b[39;49m\u001b[43m,\u001b[49m\u001b[43mzstandard\u001b[49m\u001b[38;5;241;43m=\u001b[39;49m\u001b[38;5;28;43;01mFalse\u001b[39;49;00m\u001b[43m)\u001b[49m\n\u001b[0;32m      9\u001b[0m ax\u001b[38;5;241m.\u001b[39mset_xlabel(\u001b[38;5;124m'\u001b[39m\u001b[38;5;132;01m% o\u001b[39;00m\u001b[38;5;124mf Leaded Infrastructure\u001b[39m\u001b[38;5;124m'\u001b[39m)\n\u001b[0;32m     10\u001b[0m ax\u001b[38;5;241m.\u001b[39mset_ylabel(\u001b[38;5;124m'\u001b[39m\u001b[38;5;124mAveraged Incidence Rates in the Close Neighborhood\u001b[39m\u001b[38;5;124m'\u001b[39m)\n",
      "File \u001b[1;32mc:\\Users\\alexb\\Documents\\GIS5103\\GIS5103\\.conda\\Lib\\site-packages\\splot\\_viz_esda_mpl.py:167\u001b[0m, in \u001b[0;36mmoran_scatterplot\u001b[1;34m(moran, zstandard, p, aspect_equal, ax, scatter_kwds, fitline_kwds)\u001b[0m\n\u001b[0;32m    157\u001b[0m     fig, ax \u001b[38;5;241m=\u001b[39m _moran_loc_scatterplot(\n\u001b[0;32m    158\u001b[0m         moran_loc\u001b[38;5;241m=\u001b[39mmoran,\n\u001b[0;32m    159\u001b[0m         zstandard\u001b[38;5;241m=\u001b[39mzstandard,\n\u001b[1;32m   (...)\u001b[0m\n\u001b[0;32m    164\u001b[0m         fitline_kwds\u001b[38;5;241m=\u001b[39mfitline_kwds,\n\u001b[0;32m    165\u001b[0m     )\n\u001b[0;32m    166\u001b[0m \u001b[38;5;28;01melif\u001b[39;00m \u001b[38;5;28misinstance\u001b[39m(moran, Moran_Local_BV):\n\u001b[1;32m--> 167\u001b[0m     fig, ax \u001b[38;5;241m=\u001b[39m \u001b[43m_moran_loc_bv_scatterplot\u001b[49m\u001b[43m(\u001b[49m\n\u001b[0;32m    168\u001b[0m \u001b[43m        \u001b[49m\u001b[43mmoran_loc_bv\u001b[49m\u001b[38;5;241;43m=\u001b[39;49m\u001b[43mmoran\u001b[49m\u001b[43m,\u001b[49m\n\u001b[0;32m    169\u001b[0m \u001b[43m        \u001b[49m\u001b[43max\u001b[49m\u001b[38;5;241;43m=\u001b[39;49m\u001b[43max\u001b[49m\u001b[43m,\u001b[49m\n\u001b[0;32m    170\u001b[0m \u001b[43m        \u001b[49m\u001b[43mp\u001b[49m\u001b[38;5;241;43m=\u001b[39;49m\u001b[43mp\u001b[49m\u001b[43m,\u001b[49m\n\u001b[0;32m    171\u001b[0m \u001b[43m        \u001b[49m\u001b[43maspect_equal\u001b[49m\u001b[38;5;241;43m=\u001b[39;49m\u001b[43maspect_equal\u001b[49m\u001b[43m,\u001b[49m\n\u001b[0;32m    172\u001b[0m \u001b[43m        \u001b[49m\u001b[43mscatter_kwds\u001b[49m\u001b[38;5;241;43m=\u001b[39;49m\u001b[43mscatter_kwds\u001b[49m\u001b[43m,\u001b[49m\n\u001b[0;32m    173\u001b[0m \u001b[43m        \u001b[49m\u001b[43mfitline_kwds\u001b[49m\u001b[38;5;241;43m=\u001b[39;49m\u001b[43mfitline_kwds\u001b[49m\u001b[43m,\u001b[49m\n\u001b[0;32m    174\u001b[0m \u001b[43m    \u001b[49m\u001b[43m)\u001b[49m\n\u001b[0;32m    175\u001b[0m ax\u001b[38;5;241m.\u001b[39mxaxis\u001b[38;5;241m.\u001b[39mset_ticks_position(\u001b[38;5;124m\"\u001b[39m\u001b[38;5;124mbottom\u001b[39m\u001b[38;5;124m\"\u001b[39m)\n\u001b[0;32m    176\u001b[0m ax\u001b[38;5;241m.\u001b[39myaxis\u001b[38;5;241m.\u001b[39mset_ticks_position(\u001b[38;5;124m\"\u001b[39m\u001b[38;5;124mleft\u001b[39m\u001b[38;5;124m\"\u001b[39m)\n",
      "File \u001b[1;32mc:\\Users\\alexb\\Documents\\GIS5103\\GIS5103\\.conda\\Lib\\site-packages\\splot\\_viz_esda_mpl.py:1352\u001b[0m, in \u001b[0;36m_moran_loc_bv_scatterplot\u001b[1;34m(moran_loc_bv, p, aspect_equal, ax, scatter_kwds, fitline_kwds)\u001b[0m\n\u001b[0;32m   1350\u001b[0m \u001b[38;5;66;03m# plot and set standards\u001b[39;00m\n\u001b[0;32m   1351\u001b[0m lag \u001b[38;5;241m=\u001b[39m lag_spatial(moran_loc_bv\u001b[38;5;241m.\u001b[39mw, moran_loc_bv\u001b[38;5;241m.\u001b[39mzy)\n\u001b[1;32m-> 1352\u001b[0m fit \u001b[38;5;241m=\u001b[39m \u001b[43mOLS\u001b[49m\u001b[43m(\u001b[49m\u001b[43mmoran_loc_bv\u001b[49m\u001b[38;5;241;43m.\u001b[39;49m\u001b[43mzy\u001b[49m\u001b[43m[\u001b[49m\u001b[43m:\u001b[49m\u001b[43m,\u001b[49m\u001b[43m \u001b[49m\u001b[38;5;28;43;01mNone\u001b[39;49;00m\u001b[43m]\u001b[49m\u001b[43m,\u001b[49m\u001b[43m \u001b[49m\u001b[43mlag\u001b[49m\u001b[43m[\u001b[49m\u001b[43m:\u001b[49m\u001b[43m,\u001b[49m\u001b[43m \u001b[49m\u001b[38;5;28;43;01mNone\u001b[39;49;00m\u001b[43m]\u001b[49m\u001b[43m)\u001b[49m\n\u001b[0;32m   1353\u001b[0m \u001b[38;5;66;03m# v- and hlines\u001b[39;00m\n\u001b[0;32m   1354\u001b[0m ax\u001b[38;5;241m.\u001b[39maxvline(\u001b[38;5;241m0\u001b[39m, alpha\u001b[38;5;241m=\u001b[39m\u001b[38;5;241m0.5\u001b[39m, color\u001b[38;5;241m=\u001b[39m\u001b[38;5;124m\"\u001b[39m\u001b[38;5;124mk\u001b[39m\u001b[38;5;124m\"\u001b[39m, linestyle\u001b[38;5;241m=\u001b[39m\u001b[38;5;124m\"\u001b[39m\u001b[38;5;124m--\u001b[39m\u001b[38;5;124m\"\u001b[39m)\n",
      "File \u001b[1;32mc:\\Users\\alexb\\Documents\\GIS5103\\GIS5103\\.conda\\Lib\\site-packages\\spreg\\ols.py:458\u001b[0m, in \u001b[0;36mOLS.__init__\u001b[1;34m(self, y, x, w, robust, gwk, slx_lags, slx_vars, sig2n_k, nonspat_diag, spat_diag, moran, white_test, vif, vm, name_y, name_x, name_w, name_gwk, name_ds, latex)\u001b[0m\n\u001b[0;32m    434\u001b[0m \u001b[38;5;28;01mdef\u001b[39;00m \u001b[38;5;21m__init__\u001b[39m(\n\u001b[0;32m    435\u001b[0m     \u001b[38;5;28mself\u001b[39m,\n\u001b[0;32m    436\u001b[0m     y,\n\u001b[1;32m   (...)\u001b[0m\n\u001b[0;32m    455\u001b[0m     latex\u001b[38;5;241m=\u001b[39m\u001b[38;5;28;01mFalse\u001b[39;00m,\n\u001b[0;32m    456\u001b[0m ):\n\u001b[1;32m--> 458\u001b[0m     n \u001b[38;5;241m=\u001b[39m \u001b[43mUSER\u001b[49m\u001b[38;5;241;43m.\u001b[39;49m\u001b[43mcheck_arrays\u001b[49m\u001b[43m(\u001b[49m\u001b[43my\u001b[49m\u001b[43m,\u001b[49m\u001b[43m \u001b[49m\u001b[43mx\u001b[49m\u001b[43m)\u001b[49m\n\u001b[0;32m    459\u001b[0m     y, name_y \u001b[38;5;241m=\u001b[39m USER\u001b[38;5;241m.\u001b[39mcheck_y(y, n, name_y)\n\u001b[0;32m    460\u001b[0m     USER\u001b[38;5;241m.\u001b[39mcheck_robust(robust, gwk)\n",
      "File \u001b[1;32mc:\\Users\\alexb\\Documents\\GIS5103\\GIS5103\\.conda\\Lib\\site-packages\\spreg\\user_output.py:397\u001b[0m, in \u001b[0;36mcheck_arrays\u001b[1;34m(*arrays)\u001b[0m\n\u001b[0;32m    395\u001b[0m         \u001b[38;5;28;01mraise\u001b[39;00m \u001b[38;5;167;01mException\u001b[39;00m(\u001b[38;5;124m\"\u001b[39m\u001b[38;5;124mone or more input arrays have more columns than rows\u001b[39m\u001b[38;5;124m\"\u001b[39m)\n\u001b[0;32m    396\u001b[0m     \u001b[38;5;28;01mif\u001b[39;00m \u001b[38;5;129;01mnot\u001b[39;00m spu\u001b[38;5;241m.\u001b[39mspisfinite(i):\n\u001b[1;32m--> 397\u001b[0m         \u001b[38;5;28;01mraise\u001b[39;00m \u001b[38;5;167;01mException\u001b[39;00m(\u001b[38;5;124m\"\u001b[39m\u001b[38;5;124mone or more input arrays have missing/NaN values\u001b[39m\u001b[38;5;124m\"\u001b[39m)\n\u001b[0;32m    398\u001b[0m     rows\u001b[38;5;241m.\u001b[39mappend(shape[\u001b[38;5;241m0\u001b[39m])\n\u001b[0;32m    399\u001b[0m \u001b[38;5;28;01mif\u001b[39;00m \u001b[38;5;28mlen\u001b[39m(\u001b[38;5;28mset\u001b[39m(rows)) \u001b[38;5;241m>\u001b[39m \u001b[38;5;241m1\u001b[39m:\n",
      "\u001b[1;31mException\u001b[0m: one or more input arrays have missing/NaN values"
     ]
    },
    {
     "data": {
      "image/png": "[encoded data removed]",
      "text/plain": [
       "<Figure size 700x700 with 1 Axes>"
      ]
     },
     "metadata": {},
     "output_type": "display_data"
    }
   ],
   "source": [
    "x = FL_Pcancer_SSL['pct_Pb'].values\n",
    "y = FL_Pcancer_SSL['ageadj_incdrate'].values\n",
    "\n",
    "moran_loc_bv = Moran_Local_BV(x, y, w)\n",
    "\n",
    "fig, ax = moran_scatterplot(moran_loc_bv, p=0.05,zstandard=False)\n",
    "\n",
    "\n",
    "ax.set_xlabel('% of Leaded Infrastructure')\n",
    "ax.set_ylabel('Averaged Incidence Rates in the Close Neighborhood')"
   ]
  },
  {
   "cell_type": "markdown",
   "metadata": {},
   "source": [
    "Yeah so our SA calculations fail for unknown reasons"
   ]
  },
  {
   "cell_type": "markdown",
   "metadata": {},
   "source": [
    "## Analysis of Maryland"
   ]
  },
  {
   "cell_type": "markdown",
   "metadata": {},
   "source": [
    "We're going to also run up some analysis using the state of MD for two reasons:\n",
    "1. it has relatively complete (non suppressed) cancer data for *all* counties.\n",
    "2. it has relatively few counties, so it was easy to geocode manually."
   ]
  },
  {
   "cell_type": "markdown",
   "metadata": {},
   "source": [
    "### Adding Maryland Data"
   ]
  },
  {
   "cell_type": "code",
   "execution_count": 369,
   "metadata": {},
   "outputs": [],
   "source": [
    "file = 'C:/Users/alexb/Documents/GIS5103/GIS5103/Project/MD_system_level_service.csv'\n",
    "SSL_gdf = gpd.read_file(file)"
   ]
  },
  {
   "cell_type": "code",
   "execution_count": 370,
   "metadata": {},
   "outputs": [],
   "source": [
    "SSL_gdf = SSL_gdf.astype(\n",
    "    {'Pb_Pipe': 'int',\n",
    "    'Pb_Connector': 'int',\n",
    "    'Galv_Pb': 'int',\n",
    "    'Galv_noPb': 'int',\n",
    "    'Unknown': 'int',\n",
    "    'no_reports': 'int',\n",
    "    'Total': 'int',\n",
    "    'Total_Pb': 'int',\n",
    "    'pct_Pb': 'float'}\n",
    ")"
   ]
  },
  {
   "cell_type": "code",
   "execution_count": 371,
   "metadata": {},
   "outputs": [
    {
     "data": {
      "text/plain": [
       "Primacy_Agency     object\n",
       "PWSID              object\n",
       "PWS_Name           object\n",
       "Sys_Size           object\n",
       "Pb_Pipe             int64\n",
       "Pb_Connector        int64\n",
       "Galv_Pb             int64\n",
       "Galv_noPb           int64\n",
       "Unknown             int64\n",
       "no_reports          int64\n",
       "Total               int64\n",
       "county_fips        object\n",
       "states_fips        object\n",
       "Total_Pb            int64\n",
       "pct_Pb            float64\n",
       "dtype: object"
      ]
     },
     "execution_count": 371,
     "metadata": {},
     "output_type": "execute_result"
    }
   ],
   "source": [
    "SSL_gdf.dtypes"
   ]
  },
  {
   "cell_type": "markdown",
   "metadata": {},
   "source": [
    "Above is the infrastructure data for Maryland"
   ]
  },
  {
   "cell_type": "code",
   "execution_count": 372,
   "metadata": {},
   "outputs": [],
   "source": [
    "file = \"C:/Users/alexb/Documents/GIS5103/GIS5103/Project/MD_PCancer.csv\"\n",
    "Pcancer_gdf = gpd.read_file(file)"
   ]
  },
  {
   "cell_type": "code",
   "execution_count": 373,
   "metadata": {},
   "outputs": [],
   "source": [
    "Pcancer_gdf.fillna(0);"
   ]
  },
  {
   "cell_type": "code",
   "execution_count": 374,
   "metadata": {},
   "outputs": [],
   "source": [
    "Pcancer_fix = Pcancer_gdf.astype({\n",
    "    'ageadj_incdrate': 'float',\n",
    "     'low95': 'float',\n",
    "     'upper95': 'float',\n",
    "     '5yr_incdtrend': 'float',\n",
    "     'low95_trend': 'float',\n",
    "     'upper95_trend': 'float'}\n",
    ")"
   ]
  },
  {
   "cell_type": "code",
   "execution_count": 375,
   "metadata": {},
   "outputs": [],
   "source": [
    "Pcancer_fix['COUNTY'] = Pcancer_fix['FIPS'].str[2:]"
   ]
  },
  {
   "cell_type": "code",
   "execution_count": 376,
   "metadata": {},
   "outputs": [
    {
     "data": {
      "text/html": [
       "<div>\n",
       "<style scoped>\n",
       "    .dataframe tbody tr th:only-of-type {\n",
       "        vertical-align: middle;\n",
       "    }\n",
       "\n",
       "    .dataframe tbody tr th {\n",
       "        vertical-align: top;\n",
       "    }\n",
       "\n",
       "    .dataframe thead th {\n",
       "        text-align: right;\n",
       "    }\n",
       "</style>\n",
       "<table border=\"1\" class=\"dataframe\">\n",
       "  <thead>\n",
       "    <tr style=\"text-align: right;\">\n",
       "      <th></th>\n",
       "      <th>County</th>\n",
       "      <th>FIPS</th>\n",
       "      <th>2023 Rural-Urban Continuum Codes([rural urban note])</th>\n",
       "      <th>ageadj_incdrate</th>\n",
       "      <th>low95</th>\n",
       "      <th>upper95</th>\n",
       "      <th>5yr_incdtrend</th>\n",
       "      <th>low95_trend</th>\n",
       "      <th>upper95_trend</th>\n",
       "      <th>COUNTY</th>\n",
       "    </tr>\n",
       "  </thead>\n",
       "  <tbody>\n",
       "    <tr>\n",
       "      <th>0</th>\n",
       "      <td>Baltimore City(6)</td>\n",
       "      <td>24510</td>\n",
       "      <td>Urban</td>\n",
       "      <td>17.4</td>\n",
       "      <td>16.0</td>\n",
       "      <td>18.9</td>\n",
       "      <td>0.9</td>\n",
       "      <td>-0.1</td>\n",
       "      <td>2.0</td>\n",
       "      <td>510</td>\n",
       "    </tr>\n",
       "    <tr>\n",
       "      <th>1</th>\n",
       "      <td>Somerset County(6)</td>\n",
       "      <td>24039</td>\n",
       "      <td>Urban</td>\n",
       "      <td>16.3</td>\n",
       "      <td>10.4</td>\n",
       "      <td>24.5</td>\n",
       "      <td>NaN</td>\n",
       "      <td>NaN</td>\n",
       "      <td>NaN</td>\n",
       "      <td>039</td>\n",
       "    </tr>\n",
       "    <tr>\n",
       "      <th>2</th>\n",
       "      <td>Charles County(6)</td>\n",
       "      <td>24017</td>\n",
       "      <td>Urban</td>\n",
       "      <td>15.5</td>\n",
       "      <td>13.0</td>\n",
       "      <td>18.5</td>\n",
       "      <td>2.3</td>\n",
       "      <td>0.5</td>\n",
       "      <td>4.4</td>\n",
       "      <td>017</td>\n",
       "    </tr>\n",
       "    <tr>\n",
       "      <th>3</th>\n",
       "      <td>Wicomico County(6)</td>\n",
       "      <td>24045</td>\n",
       "      <td>Urban</td>\n",
       "      <td>15.1</td>\n",
       "      <td>12.1</td>\n",
       "      <td>18.5</td>\n",
       "      <td>1.6</td>\n",
       "      <td>-1.2</td>\n",
       "      <td>4.7</td>\n",
       "      <td>045</td>\n",
       "    </tr>\n",
       "    <tr>\n",
       "      <th>4</th>\n",
       "      <td>Cecil County(6)</td>\n",
       "      <td>24015</td>\n",
       "      <td>Urban</td>\n",
       "      <td>14.5</td>\n",
       "      <td>11.7</td>\n",
       "      <td>17.9</td>\n",
       "      <td>0.2</td>\n",
       "      <td>-3.8</td>\n",
       "      <td>2.6</td>\n",
       "      <td>015</td>\n",
       "    </tr>\n",
       "    <tr>\n",
       "      <th>5</th>\n",
       "      <td>St. Marys County(6)</td>\n",
       "      <td>24037</td>\n",
       "      <td>Urban</td>\n",
       "      <td>14.3</td>\n",
       "      <td>11.5</td>\n",
       "      <td>17.7</td>\n",
       "      <td>0.9</td>\n",
       "      <td>-2.0</td>\n",
       "      <td>4.4</td>\n",
       "      <td>037</td>\n",
       "    </tr>\n",
       "    <tr>\n",
       "      <th>6</th>\n",
       "      <td>Talbot County(6)</td>\n",
       "      <td>24041</td>\n",
       "      <td>Rural</td>\n",
       "      <td>14.2</td>\n",
       "      <td>10.4</td>\n",
       "      <td>19.3</td>\n",
       "      <td>3.7</td>\n",
       "      <td>0.5</td>\n",
       "      <td>7.6</td>\n",
       "      <td>041</td>\n",
       "    </tr>\n",
       "    <tr>\n",
       "      <th>7</th>\n",
       "      <td>Worcester County(6)</td>\n",
       "      <td>24047</td>\n",
       "      <td>Rural</td>\n",
       "      <td>14.2</td>\n",
       "      <td>10.9</td>\n",
       "      <td>18.4</td>\n",
       "      <td>2.2</td>\n",
       "      <td>-2.2</td>\n",
       "      <td>6.9</td>\n",
       "      <td>047</td>\n",
       "    </tr>\n",
       "    <tr>\n",
       "      <th>8</th>\n",
       "      <td>Anne Arundel County(6)</td>\n",
       "      <td>24003</td>\n",
       "      <td>Urban</td>\n",
       "      <td>14.2</td>\n",
       "      <td>12.9</td>\n",
       "      <td>15.5</td>\n",
       "      <td>0.7</td>\n",
       "      <td>-0.5</td>\n",
       "      <td>2.1</td>\n",
       "      <td>003</td>\n",
       "    </tr>\n",
       "    <tr>\n",
       "      <th>9</th>\n",
       "      <td>Calvert County(6)</td>\n",
       "      <td>24009</td>\n",
       "      <td>Urban</td>\n",
       "      <td>14.1</td>\n",
       "      <td>11.2</td>\n",
       "      <td>17.7</td>\n",
       "      <td>2.1</td>\n",
       "      <td>-0.9</td>\n",
       "      <td>6.0</td>\n",
       "      <td>009</td>\n",
       "    </tr>\n",
       "    <tr>\n",
       "      <th>10</th>\n",
       "      <td>Harford County(6)</td>\n",
       "      <td>24025</td>\n",
       "      <td>Urban</td>\n",
       "      <td>14.0</td>\n",
       "      <td>12.2</td>\n",
       "      <td>16.0</td>\n",
       "      <td>0.6</td>\n",
       "      <td>-0.9</td>\n",
       "      <td>2.4</td>\n",
       "      <td>025</td>\n",
       "    </tr>\n",
       "    <tr>\n",
       "      <th>11</th>\n",
       "      <td>Baltimore County(6)</td>\n",
       "      <td>24005</td>\n",
       "      <td>Urban</td>\n",
       "      <td>13.7</td>\n",
       "      <td>12.8</td>\n",
       "      <td>14.8</td>\n",
       "      <td>0.8</td>\n",
       "      <td>-0.6</td>\n",
       "      <td>2.3</td>\n",
       "      <td>005</td>\n",
       "    </tr>\n",
       "    <tr>\n",
       "      <th>12</th>\n",
       "      <td>Carroll County(6)</td>\n",
       "      <td>24013</td>\n",
       "      <td>Urban</td>\n",
       "      <td>13.5</td>\n",
       "      <td>11.4</td>\n",
       "      <td>16.0</td>\n",
       "      <td>0.5</td>\n",
       "      <td>-1.6</td>\n",
       "      <td>2.9</td>\n",
       "      <td>013</td>\n",
       "    </tr>\n",
       "    <tr>\n",
       "      <th>13</th>\n",
       "      <td>Dorchester County(6)</td>\n",
       "      <td>24019</td>\n",
       "      <td>Rural</td>\n",
       "      <td>13.5</td>\n",
       "      <td>9.1</td>\n",
       "      <td>19.6</td>\n",
       "      <td>-1.6</td>\n",
       "      <td>-4.8</td>\n",
       "      <td>1.7</td>\n",
       "      <td>019</td>\n",
       "    </tr>\n",
       "    <tr>\n",
       "      <th>14</th>\n",
       "      <td>Howard County(6)</td>\n",
       "      <td>24027</td>\n",
       "      <td>Urban</td>\n",
       "      <td>13.5</td>\n",
       "      <td>11.8</td>\n",
       "      <td>15.3</td>\n",
       "      <td>0.1</td>\n",
       "      <td>-1.9</td>\n",
       "      <td>2.6</td>\n",
       "      <td>027</td>\n",
       "    </tr>\n",
       "    <tr>\n",
       "      <th>15</th>\n",
       "      <td>Prince Georges County(6)</td>\n",
       "      <td>24033</td>\n",
       "      <td>Urban</td>\n",
       "      <td>13.1</td>\n",
       "      <td>12.2</td>\n",
       "      <td>14.2</td>\n",
       "      <td>0.5</td>\n",
       "      <td>-0.1</td>\n",
       "      <td>1.1</td>\n",
       "      <td>033</td>\n",
       "    </tr>\n",
       "    <tr>\n",
       "      <th>16</th>\n",
       "      <td>Washington County(6)</td>\n",
       "      <td>24043</td>\n",
       "      <td>Urban</td>\n",
       "      <td>13.0</td>\n",
       "      <td>10.9</td>\n",
       "      <td>15.5</td>\n",
       "      <td>0.6</td>\n",
       "      <td>-1.8</td>\n",
       "      <td>3.2</td>\n",
       "      <td>043</td>\n",
       "    </tr>\n",
       "    <tr>\n",
       "      <th>17</th>\n",
       "      <td>Allegany County(6)</td>\n",
       "      <td>24001</td>\n",
       "      <td>Rural</td>\n",
       "      <td>12.7</td>\n",
       "      <td>9.7</td>\n",
       "      <td>16.5</td>\n",
       "      <td>1.5</td>\n",
       "      <td>-2.0</td>\n",
       "      <td>5.0</td>\n",
       "      <td>001</td>\n",
       "    </tr>\n",
       "    <tr>\n",
       "      <th>18</th>\n",
       "      <td>Caroline County(6)</td>\n",
       "      <td>24011</td>\n",
       "      <td>Rural</td>\n",
       "      <td>12.7</td>\n",
       "      <td>8.4</td>\n",
       "      <td>18.6</td>\n",
       "      <td>-2.6</td>\n",
       "      <td>-6.9</td>\n",
       "      <td>1.7</td>\n",
       "      <td>011</td>\n",
       "    </tr>\n",
       "    <tr>\n",
       "      <th>19</th>\n",
       "      <td>Queen Annes County(6)</td>\n",
       "      <td>24035</td>\n",
       "      <td>Urban</td>\n",
       "      <td>12.3</td>\n",
       "      <td>8.9</td>\n",
       "      <td>16.8</td>\n",
       "      <td>0.3</td>\n",
       "      <td>-3.3</td>\n",
       "      <td>4.5</td>\n",
       "      <td>035</td>\n",
       "    </tr>\n",
       "    <tr>\n",
       "      <th>20</th>\n",
       "      <td>Garrett County(6)</td>\n",
       "      <td>24023</td>\n",
       "      <td>Rural</td>\n",
       "      <td>11.9</td>\n",
       "      <td>7.7</td>\n",
       "      <td>18.1</td>\n",
       "      <td>2.0</td>\n",
       "      <td>-1.4</td>\n",
       "      <td>6.2</td>\n",
       "      <td>023</td>\n",
       "    </tr>\n",
       "    <tr>\n",
       "      <th>21</th>\n",
       "      <td>Frederick County(6)</td>\n",
       "      <td>24021</td>\n",
       "      <td>Urban</td>\n",
       "      <td>11.5</td>\n",
       "      <td>9.9</td>\n",
       "      <td>13.4</td>\n",
       "      <td>0.2</td>\n",
       "      <td>-1.9</td>\n",
       "      <td>2.7</td>\n",
       "      <td>021</td>\n",
       "    </tr>\n",
       "    <tr>\n",
       "      <th>22</th>\n",
       "      <td>Montgomery County(6)</td>\n",
       "      <td>24031</td>\n",
       "      <td>Urban</td>\n",
       "      <td>11.4</td>\n",
       "      <td>10.6</td>\n",
       "      <td>12.3</td>\n",
       "      <td>0.2</td>\n",
       "      <td>-0.7</td>\n",
       "      <td>1.2</td>\n",
       "      <td>031</td>\n",
       "    </tr>\n",
       "    <tr>\n",
       "      <th>23</th>\n",
       "      <td>Kent County(6)</td>\n",
       "      <td>24029</td>\n",
       "      <td>Rural</td>\n",
       "      <td>9.6</td>\n",
       "      <td>5.7</td>\n",
       "      <td>16.5</td>\n",
       "      <td>-1.6</td>\n",
       "      <td>-9.5</td>\n",
       "      <td>6.1</td>\n",
       "      <td>029</td>\n",
       "    </tr>\n",
       "  </tbody>\n",
       "</table>\n",
       "</div>"
      ],
      "text/plain": [
       "                      County   FIPS  \\\n",
       "0          Baltimore City(6)  24510   \n",
       "1         Somerset County(6)  24039   \n",
       "2          Charles County(6)  24017   \n",
       "3         Wicomico County(6)  24045   \n",
       "4            Cecil County(6)  24015   \n",
       "5        St. Marys County(6)  24037   \n",
       "6           Talbot County(6)  24041   \n",
       "7        Worcester County(6)  24047   \n",
       "8     Anne Arundel County(6)  24003   \n",
       "9          Calvert County(6)  24009   \n",
       "10         Harford County(6)  24025   \n",
       "11       Baltimore County(6)  24005   \n",
       "12         Carroll County(6)  24013   \n",
       "13      Dorchester County(6)  24019   \n",
       "14          Howard County(6)  24027   \n",
       "15  Prince Georges County(6)  24033   \n",
       "16      Washington County(6)  24043   \n",
       "17        Allegany County(6)  24001   \n",
       "18        Caroline County(6)  24011   \n",
       "19     Queen Annes County(6)  24035   \n",
       "20         Garrett County(6)  24023   \n",
       "21       Frederick County(6)  24021   \n",
       "22      Montgomery County(6)  24031   \n",
       "23            Kent County(6)  24029   \n",
       "\n",
       "   2023 Rural-Urban Continuum Codes([rural urban note])  ageadj_incdrate  \\\n",
       "0                                               Urban               17.4   \n",
       "1                                               Urban               16.3   \n",
       "2                                               Urban               15.5   \n",
       "3                                               Urban               15.1   \n",
       "4                                               Urban               14.5   \n",
       "5                                               Urban               14.3   \n",
       "6                                               Rural               14.2   \n",
       "7                                               Rural               14.2   \n",
       "8                                               Urban               14.2   \n",
       "9                                               Urban               14.1   \n",
       "10                                              Urban               14.0   \n",
       "11                                              Urban               13.7   \n",
       "12                                              Urban               13.5   \n",
       "13                                              Rural               13.5   \n",
       "14                                              Urban               13.5   \n",
       "15                                              Urban               13.1   \n",
       "16                                              Urban               13.0   \n",
       "17                                              Rural               12.7   \n",
       "18                                              Rural               12.7   \n",
       "19                                              Urban               12.3   \n",
       "20                                              Rural               11.9   \n",
       "21                                              Urban               11.5   \n",
       "22                                              Urban               11.4   \n",
       "23                                              Rural                9.6   \n",
       "\n",
       "    low95  upper95  5yr_incdtrend  low95_trend  upper95_trend COUNTY  \n",
       "0    16.0     18.9            0.9         -0.1            2.0    510  \n",
       "1    10.4     24.5            NaN          NaN            NaN    039  \n",
       "2    13.0     18.5            2.3          0.5            4.4    017  \n",
       "3    12.1     18.5            1.6         -1.2            4.7    045  \n",
       "4    11.7     17.9            0.2         -3.8            2.6    015  \n",
       "5    11.5     17.7            0.9         -2.0            4.4    037  \n",
       "6    10.4     19.3            3.7          0.5            7.6    041  \n",
       "7    10.9     18.4            2.2         -2.2            6.9    047  \n",
       "8    12.9     15.5            0.7         -0.5            2.1    003  \n",
       "9    11.2     17.7            2.1         -0.9            6.0    009  \n",
       "10   12.2     16.0            0.6         -0.9            2.4    025  \n",
       "11   12.8     14.8            0.8         -0.6            2.3    005  \n",
       "12   11.4     16.0            0.5         -1.6            2.9    013  \n",
       "13    9.1     19.6           -1.6         -4.8            1.7    019  \n",
       "14   11.8     15.3            0.1         -1.9            2.6    027  \n",
       "15   12.2     14.2            0.5         -0.1            1.1    033  \n",
       "16   10.9     15.5            0.6         -1.8            3.2    043  \n",
       "17    9.7     16.5            1.5         -2.0            5.0    001  \n",
       "18    8.4     18.6           -2.6         -6.9            1.7    011  \n",
       "19    8.9     16.8            0.3         -3.3            4.5    035  \n",
       "20    7.7     18.1            2.0         -1.4            6.2    023  \n",
       "21    9.9     13.4            0.2         -1.9            2.7    021  \n",
       "22   10.6     12.3            0.2         -0.7            1.2    031  \n",
       "23    5.7     16.5           -1.6         -9.5            6.1    029  "
      ]
     },
     "execution_count": 376,
     "metadata": {},
     "output_type": "execute_result"
    }
   ],
   "source": [
    "Pcancer_fix"
   ]
  },
  {
   "cell_type": "code",
   "execution_count": 377,
   "metadata": {},
   "outputs": [],
   "source": [
    "file = \"C:/Users/alexb/Documents/GIS5103/GIS5103/Project/MD_STCancer.csv\"\n",
    "STcancer_gdf = gpd.read_file(file)"
   ]
  },
  {
   "cell_type": "code",
   "execution_count": 378,
   "metadata": {},
   "outputs": [],
   "source": [
    "STcancer_gdf.fillna(0);"
   ]
  },
  {
   "cell_type": "code",
   "execution_count": 379,
   "metadata": {},
   "outputs": [],
   "source": [
    "STcancer_fix = STcancer_gdf.astype({\n",
    "    'ageadj_incdrate': 'float',\n",
    "     'low95': 'float',\n",
    "     'upper95': 'float',\n",
    "     '5yr_incdtrend': 'float',\n",
    "     'low95_trend': 'float',\n",
    "     'upper95_trend': 'float'}\n",
    ")"
   ]
  },
  {
   "cell_type": "code",
   "execution_count": 380,
   "metadata": {},
   "outputs": [],
   "source": [
    "STcancer_fix['COUNTY'] = STcancer_fix['FIPS'].str[2:]"
   ]
  },
  {
   "cell_type": "markdown",
   "metadata": {},
   "source": [
    "We've now integrated our DataFrames for GI Diseases."
   ]
  },
  {
   "cell_type": "code",
   "execution_count": 442,
   "metadata": {},
   "outputs": [],
   "source": [
    "MD_counties = gpd.read_file(\"C:/Users/alexb/Documents/GIS5103/GIS5103/Project/MD_Counties.geojson\")"
   ]
  },
  {
   "cell_type": "code",
   "execution_count": 443,
   "metadata": {},
   "outputs": [
    {
     "data": {
      "text/html": [
       "<div>\n",
       "<style scoped>\n",
       "    .dataframe tbody tr th:only-of-type {\n",
       "        vertical-align: middle;\n",
       "    }\n",
       "\n",
       "    .dataframe tbody tr th {\n",
       "        vertical-align: top;\n",
       "    }\n",
       "\n",
       "    .dataframe thead th {\n",
       "        text-align: right;\n",
       "    }\n",
       "</style>\n",
       "<table border=\"1\" class=\"dataframe\">\n",
       "  <thead>\n",
       "    <tr style=\"text-align: right;\">\n",
       "      <th></th>\n",
       "      <th>OBJECTID</th>\n",
       "      <th>COUNTY</th>\n",
       "      <th>DISTRICT</th>\n",
       "      <th>COUNTY_FIP</th>\n",
       "      <th>COUNTYNUM</th>\n",
       "      <th>CREATION_D</th>\n",
       "      <th>LAST_UPDAT</th>\n",
       "      <th>Shape_Length</th>\n",
       "      <th>Shape_Area</th>\n",
       "      <th>geometry</th>\n",
       "    </tr>\n",
       "  </thead>\n",
       "  <tbody>\n",
       "    <tr>\n",
       "      <th>0</th>\n",
       "      <td>1</td>\n",
       "      <td>Allegany</td>\n",
       "      <td>6.0</td>\n",
       "      <td>1</td>\n",
       "      <td>1</td>\n",
       "      <td>2010-01-28 00:00:00+00:00</td>\n",
       "      <td>2010-01-28 00:00:00+00:00</td>\n",
       "      <td>3.814949</td>\n",
       "      <td>0.115028</td>\n",
       "      <td>MULTIPOLYGON (((-78.34284 39.72224, -78.34303 ...</td>\n",
       "    </tr>\n",
       "    <tr>\n",
       "      <th>1</th>\n",
       "      <td>2</td>\n",
       "      <td>Anne Arundel</td>\n",
       "      <td>5.0</td>\n",
       "      <td>3</td>\n",
       "      <td>2</td>\n",
       "      <td>2006-04-18 00:00:00+00:00</td>\n",
       "      <td>2006-04-18 00:00:00+00:00</td>\n",
       "      <td>10.040214</td>\n",
       "      <td>0.111483</td>\n",
       "      <td>MULTIPOLYGON (((-76.606 39.22913, -76.60503 39...</td>\n",
       "    </tr>\n",
       "    <tr>\n",
       "      <th>2</th>\n",
       "      <td>3</td>\n",
       "      <td>Baltimore</td>\n",
       "      <td>4.0</td>\n",
       "      <td>5</td>\n",
       "      <td>3</td>\n",
       "      <td>2006-10-09 00:00:00+00:00</td>\n",
       "      <td>2006-10-09 00:00:00+00:00</td>\n",
       "      <td>9.470194</td>\n",
       "      <td>0.162506</td>\n",
       "      <td>MULTIPOLYGON (((-76.56796 39.68592, -76.56795 ...</td>\n",
       "    </tr>\n",
       "    <tr>\n",
       "      <th>3</th>\n",
       "      <td>4</td>\n",
       "      <td>Baltimore City</td>\n",
       "      <td>0.0</td>\n",
       "      <td>510</td>\n",
       "      <td>24</td>\n",
       "      <td>2006-04-18 00:00:00+00:00</td>\n",
       "      <td>2009-11-16 00:00:00+00:00</td>\n",
       "      <td>1.978908</td>\n",
       "      <td>0.021987</td>\n",
       "      <td>MULTIPOLYGON (((-76.52967 39.37196, -76.52975 ...</td>\n",
       "    </tr>\n",
       "    <tr>\n",
       "      <th>4</th>\n",
       "      <td>5</td>\n",
       "      <td>Calvert</td>\n",
       "      <td>5.0</td>\n",
       "      <td>9</td>\n",
       "      <td>4</td>\n",
       "      <td>2010-01-28 00:00:00+00:00</td>\n",
       "      <td>2010-01-28 00:00:00+00:00</td>\n",
       "      <td>3.576389</td>\n",
       "      <td>0.057350</td>\n",
       "      <td>MULTIPOLYGON (((-76.64212 38.76921, -76.64191 ...</td>\n",
       "    </tr>\n",
       "  </tbody>\n",
       "</table>\n",
       "</div>"
      ],
      "text/plain": [
       "   OBJECTID          COUNTY  DISTRICT  COUNTY_FIP  COUNTYNUM  \\\n",
       "0         1        Allegany       6.0           1          1   \n",
       "1         2    Anne Arundel       5.0           3          2   \n",
       "2         3       Baltimore       4.0           5          3   \n",
       "3         4  Baltimore City       0.0         510         24   \n",
       "4         5         Calvert       5.0           9          4   \n",
       "\n",
       "                 CREATION_D                LAST_UPDAT  Shape_Length  \\\n",
       "0 2010-01-28 00:00:00+00:00 2010-01-28 00:00:00+00:00      3.814949   \n",
       "1 2006-04-18 00:00:00+00:00 2006-04-18 00:00:00+00:00     10.040214   \n",
       "2 2006-10-09 00:00:00+00:00 2006-10-09 00:00:00+00:00      9.470194   \n",
       "3 2006-04-18 00:00:00+00:00 2009-11-16 00:00:00+00:00      1.978908   \n",
       "4 2010-01-28 00:00:00+00:00 2010-01-28 00:00:00+00:00      3.576389   \n",
       "\n",
       "   Shape_Area                                           geometry  \n",
       "0    0.115028  MULTIPOLYGON (((-78.34284 39.72224, -78.34303 ...  \n",
       "1    0.111483  MULTIPOLYGON (((-76.606 39.22913, -76.60503 39...  \n",
       "2    0.162506  MULTIPOLYGON (((-76.56796 39.68592, -76.56795 ...  \n",
       "3    0.021987  MULTIPOLYGON (((-76.52967 39.37196, -76.52975 ...  \n",
       "4    0.057350  MULTIPOLYGON (((-76.64212 38.76921, -76.64191 ...  "
      ]
     },
     "execution_count": 443,
     "metadata": {},
     "output_type": "execute_result"
    }
   ],
   "source": [
    "MD_counties.head()"
   ]
  },
  {
   "cell_type": "code",
   "execution_count": 444,
   "metadata": {},
   "outputs": [],
   "source": [
    "MD_counties['FIPS'] = MD_counties['COUNTY_FIP'].astype(str).str.zfill(3)"
   ]
  },
  {
   "cell_type": "markdown",
   "metadata": {},
   "source": [
    "We want to make a column that has the FULL county fip code (3 characters) since that is the format of our fips code in other dataframes."
   ]
  },
  {
   "cell_type": "code",
   "execution_count": 445,
   "metadata": {},
   "outputs": [
    {
     "data": {
      "text/html": [
       "<div>\n",
       "<style scoped>\n",
       "    .dataframe tbody tr th:only-of-type {\n",
       "        vertical-align: middle;\n",
       "    }\n",
       "\n",
       "    .dataframe tbody tr th {\n",
       "        vertical-align: top;\n",
       "    }\n",
       "\n",
       "    .dataframe thead th {\n",
       "        text-align: right;\n",
       "    }\n",
       "</style>\n",
       "<table border=\"1\" class=\"dataframe\">\n",
       "  <thead>\n",
       "    <tr style=\"text-align: right;\">\n",
       "      <th></th>\n",
       "      <th>OBJECTID</th>\n",
       "      <th>COUNTY</th>\n",
       "      <th>DISTRICT</th>\n",
       "      <th>COUNTY_FIP</th>\n",
       "      <th>COUNTYNUM</th>\n",
       "      <th>CREATION_D</th>\n",
       "      <th>LAST_UPDAT</th>\n",
       "      <th>Shape_Length</th>\n",
       "      <th>Shape_Area</th>\n",
       "      <th>geometry</th>\n",
       "      <th>FIPS</th>\n",
       "    </tr>\n",
       "  </thead>\n",
       "  <tbody>\n",
       "    <tr>\n",
       "      <th>0</th>\n",
       "      <td>1</td>\n",
       "      <td>Allegany</td>\n",
       "      <td>6.0</td>\n",
       "      <td>1</td>\n",
       "      <td>1</td>\n",
       "      <td>2010-01-28 00:00:00+00:00</td>\n",
       "      <td>2010-01-28 00:00:00+00:00</td>\n",
       "      <td>3.814949</td>\n",
       "      <td>0.115028</td>\n",
       "      <td>MULTIPOLYGON (((-78.34284 39.72224, -78.34303 ...</td>\n",
       "      <td>001</td>\n",
       "    </tr>\n",
       "    <tr>\n",
       "      <th>1</th>\n",
       "      <td>2</td>\n",
       "      <td>Anne Arundel</td>\n",
       "      <td>5.0</td>\n",
       "      <td>3</td>\n",
       "      <td>2</td>\n",
       "      <td>2006-04-18 00:00:00+00:00</td>\n",
       "      <td>2006-04-18 00:00:00+00:00</td>\n",
       "      <td>10.040214</td>\n",
       "      <td>0.111483</td>\n",
       "      <td>MULTIPOLYGON (((-76.606 39.22913, -76.60503 39...</td>\n",
       "      <td>003</td>\n",
       "    </tr>\n",
       "    <tr>\n",
       "      <th>2</th>\n",
       "      <td>3</td>\n",
       "      <td>Baltimore</td>\n",
       "      <td>4.0</td>\n",
       "      <td>5</td>\n",
       "      <td>3</td>\n",
       "      <td>2006-10-09 00:00:00+00:00</td>\n",
       "      <td>2006-10-09 00:00:00+00:00</td>\n",
       "      <td>9.470194</td>\n",
       "      <td>0.162506</td>\n",
       "      <td>MULTIPOLYGON (((-76.56796 39.68592, -76.56795 ...</td>\n",
       "      <td>005</td>\n",
       "    </tr>\n",
       "    <tr>\n",
       "      <th>3</th>\n",
       "      <td>4</td>\n",
       "      <td>Baltimore City</td>\n",
       "      <td>0.0</td>\n",
       "      <td>510</td>\n",
       "      <td>24</td>\n",
       "      <td>2006-04-18 00:00:00+00:00</td>\n",
       "      <td>2009-11-16 00:00:00+00:00</td>\n",
       "      <td>1.978908</td>\n",
       "      <td>0.021987</td>\n",
       "      <td>MULTIPOLYGON (((-76.52967 39.37196, -76.52975 ...</td>\n",
       "      <td>510</td>\n",
       "    </tr>\n",
       "    <tr>\n",
       "      <th>4</th>\n",
       "      <td>5</td>\n",
       "      <td>Calvert</td>\n",
       "      <td>5.0</td>\n",
       "      <td>9</td>\n",
       "      <td>4</td>\n",
       "      <td>2010-01-28 00:00:00+00:00</td>\n",
       "      <td>2010-01-28 00:00:00+00:00</td>\n",
       "      <td>3.576389</td>\n",
       "      <td>0.057350</td>\n",
       "      <td>MULTIPOLYGON (((-76.64212 38.76921, -76.64191 ...</td>\n",
       "      <td>009</td>\n",
       "    </tr>\n",
       "  </tbody>\n",
       "</table>\n",
       "</div>"
      ],
      "text/plain": [
       "   OBJECTID          COUNTY  DISTRICT  COUNTY_FIP  COUNTYNUM  \\\n",
       "0         1        Allegany       6.0           1          1   \n",
       "1         2    Anne Arundel       5.0           3          2   \n",
       "2         3       Baltimore       4.0           5          3   \n",
       "3         4  Baltimore City       0.0         510         24   \n",
       "4         5         Calvert       5.0           9          4   \n",
       "\n",
       "                 CREATION_D                LAST_UPDAT  Shape_Length  \\\n",
       "0 2010-01-28 00:00:00+00:00 2010-01-28 00:00:00+00:00      3.814949   \n",
       "1 2006-04-18 00:00:00+00:00 2006-04-18 00:00:00+00:00     10.040214   \n",
       "2 2006-10-09 00:00:00+00:00 2006-10-09 00:00:00+00:00      9.470194   \n",
       "3 2006-04-18 00:00:00+00:00 2009-11-16 00:00:00+00:00      1.978908   \n",
       "4 2010-01-28 00:00:00+00:00 2010-01-28 00:00:00+00:00      3.576389   \n",
       "\n",
       "   Shape_Area                                           geometry FIPS  \n",
       "0    0.115028  MULTIPOLYGON (((-78.34284 39.72224, -78.34303 ...  001  \n",
       "1    0.111483  MULTIPOLYGON (((-76.606 39.22913, -76.60503 39...  003  \n",
       "2    0.162506  MULTIPOLYGON (((-76.56796 39.68592, -76.56795 ...  005  \n",
       "3    0.021987  MULTIPOLYGON (((-76.52967 39.37196, -76.52975 ...  510  \n",
       "4    0.057350  MULTIPOLYGON (((-76.64212 38.76921, -76.64191 ...  009  "
      ]
     },
     "execution_count": 445,
     "metadata": {},
     "output_type": "execute_result"
    }
   ],
   "source": [
    "MD_counties.head()"
   ]
  },
  {
   "cell_type": "markdown",
   "metadata": {},
   "source": [
    "verify our new column"
   ]
  },
  {
   "cell_type": "code",
   "execution_count": 385,
   "metadata": {},
   "outputs": [
    {
     "data": {
      "text/plain": [
       "<Axes: >"
      ]
     },
     "execution_count": 385,
     "metadata": {},
     "output_type": "execute_result"
    },
    {
     "data": {
      "image/png": "[encoded data removed]",
      "text/plain": [
       "<Figure size 640x480 with 1 Axes>"
      ]
     },
     "metadata": {},
     "output_type": "display_data"
    }
   ],
   "source": [
    "MD_counties.plot()"
   ]
  },
  {
   "cell_type": "markdown",
   "metadata": {},
   "source": [
    "### Merging DataFrames (MD)"
   ]
  },
  {
   "cell_type": "code",
   "execution_count": 386,
   "metadata": {},
   "outputs": [],
   "source": [
    "SSL_agg = SSL_gdf.groupby('county_fips').agg({\n",
    "    'Total_Pb': 'sum', \n",
    "    'Total': 'sum'\n",
    "}).reset_index()"
   ]
  },
  {
   "cell_type": "code",
   "execution_count": 387,
   "metadata": {},
   "outputs": [],
   "source": [
    "SSL_agg['pct_Pb'] = (SSL_agg['Total_Pb'] / SSL_agg['Total']).round(3)"
   ]
  },
  {
   "cell_type": "code",
   "execution_count": 388,
   "metadata": {},
   "outputs": [
    {
     "data": {
      "text/html": [
       "<div>\n",
       "<style scoped>\n",
       "    .dataframe tbody tr th:only-of-type {\n",
       "        vertical-align: middle;\n",
       "    }\n",
       "\n",
       "    .dataframe tbody tr th {\n",
       "        vertical-align: top;\n",
       "    }\n",
       "\n",
       "    .dataframe thead th {\n",
       "        text-align: right;\n",
       "    }\n",
       "</style>\n",
       "<table border=\"1\" class=\"dataframe\">\n",
       "  <thead>\n",
       "    <tr style=\"text-align: right;\">\n",
       "      <th></th>\n",
       "      <th>Total_Pb</th>\n",
       "      <th>Total</th>\n",
       "      <th>pct_Pb</th>\n",
       "    </tr>\n",
       "  </thead>\n",
       "  <tbody>\n",
       "    <tr>\n",
       "      <th>count</th>\n",
       "      <td>18.000000</td>\n",
       "      <td>18.000000</td>\n",
       "      <td>18.000000</td>\n",
       "    </tr>\n",
       "    <tr>\n",
       "      <th>mean</th>\n",
       "      <td>3466.166667</td>\n",
       "      <td>97236.666667</td>\n",
       "      <td>0.030500</td>\n",
       "    </tr>\n",
       "    <tr>\n",
       "      <th>std</th>\n",
       "      <td>12054.494457</td>\n",
       "      <td>169673.603463</td>\n",
       "      <td>0.056956</td>\n",
       "    </tr>\n",
       "    <tr>\n",
       "      <th>min</th>\n",
       "      <td>0.000000</td>\n",
       "      <td>2132.000000</td>\n",
       "      <td>0.000000</td>\n",
       "    </tr>\n",
       "    <tr>\n",
       "      <th>25%</th>\n",
       "      <td>0.000000</td>\n",
       "      <td>10416.000000</td>\n",
       "      <td>0.000000</td>\n",
       "    </tr>\n",
       "    <tr>\n",
       "      <th>50%</th>\n",
       "      <td>62.500000</td>\n",
       "      <td>17785.500000</td>\n",
       "      <td>0.002000</td>\n",
       "    </tr>\n",
       "    <tr>\n",
       "      <th>75%</th>\n",
       "      <td>1381.500000</td>\n",
       "      <td>62360.500000</td>\n",
       "      <td>0.039750</td>\n",
       "    </tr>\n",
       "    <tr>\n",
       "      <th>max</th>\n",
       "      <td>51610.000000</td>\n",
       "      <td>506540.000000</td>\n",
       "      <td>0.227000</td>\n",
       "    </tr>\n",
       "  </tbody>\n",
       "</table>\n",
       "</div>"
      ],
      "text/plain": [
       "           Total_Pb          Total     pct_Pb\n",
       "count     18.000000      18.000000  18.000000\n",
       "mean    3466.166667   97236.666667   0.030500\n",
       "std    12054.494457  169673.603463   0.056956\n",
       "min        0.000000    2132.000000   0.000000\n",
       "25%        0.000000   10416.000000   0.000000\n",
       "50%       62.500000   17785.500000   0.002000\n",
       "75%     1381.500000   62360.500000   0.039750\n",
       "max    51610.000000  506540.000000   0.227000"
      ]
     },
     "execution_count": 388,
     "metadata": {},
     "output_type": "execute_result"
    }
   ],
   "source": [
    "SSL_agg.describe()"
   ]
  },
  {
   "cell_type": "markdown",
   "metadata": {},
   "source": [
    "We have data for 18 out of 24 counties"
   ]
  },
  {
   "cell_type": "code",
   "execution_count": 389,
   "metadata": {},
   "outputs": [],
   "source": [
    "MD_SSL = SSL_agg.merge(MD_counties, left_on='county_fips', right_on='FIPS')"
   ]
  },
  {
   "cell_type": "code",
   "execution_count": 390,
   "metadata": {},
   "outputs": [
    {
     "data": {
      "text/html": [
       "<div>\n",
       "<style scoped>\n",
       "    .dataframe tbody tr th:only-of-type {\n",
       "        vertical-align: middle;\n",
       "    }\n",
       "\n",
       "    .dataframe tbody tr th {\n",
       "        vertical-align: top;\n",
       "    }\n",
       "\n",
       "    .dataframe thead th {\n",
       "        text-align: right;\n",
       "    }\n",
       "</style>\n",
       "<table border=\"1\" class=\"dataframe\">\n",
       "  <thead>\n",
       "    <tr style=\"text-align: right;\">\n",
       "      <th></th>\n",
       "      <th>county_fips</th>\n",
       "      <th>Total_Pb</th>\n",
       "      <th>Total</th>\n",
       "      <th>pct_Pb</th>\n",
       "      <th>OBJECTID</th>\n",
       "      <th>COUNTY</th>\n",
       "      <th>DISTRICT</th>\n",
       "      <th>COUNTY_FIP</th>\n",
       "      <th>COUNTYNUM</th>\n",
       "      <th>CREATION_D</th>\n",
       "      <th>LAST_UPDAT</th>\n",
       "      <th>Shape_Length</th>\n",
       "      <th>Shape_Area</th>\n",
       "      <th>geometry</th>\n",
       "      <th>FIPS</th>\n",
       "    </tr>\n",
       "  </thead>\n",
       "  <tbody>\n",
       "    <tr>\n",
       "      <th>0</th>\n",
       "      <td>001</td>\n",
       "      <td>0</td>\n",
       "      <td>11591</td>\n",
       "      <td>0.000</td>\n",
       "      <td>1</td>\n",
       "      <td>Allegany</td>\n",
       "      <td>6.0</td>\n",
       "      <td>1</td>\n",
       "      <td>1</td>\n",
       "      <td>2010-01-28 00:00:00+00:00</td>\n",
       "      <td>2010-01-28 00:00:00+00:00</td>\n",
       "      <td>3.814949</td>\n",
       "      <td>0.115028</td>\n",
       "      <td>MULTIPOLYGON (((-78.34284 39.72224, -78.34303 ...</td>\n",
       "      <td>001</td>\n",
       "    </tr>\n",
       "    <tr>\n",
       "      <th>1</th>\n",
       "      <td>003</td>\n",
       "      <td>1894</td>\n",
       "      <td>34465</td>\n",
       "      <td>0.055</td>\n",
       "      <td>2</td>\n",
       "      <td>Anne Arundel</td>\n",
       "      <td>5.0</td>\n",
       "      <td>3</td>\n",
       "      <td>2</td>\n",
       "      <td>2006-04-18 00:00:00+00:00</td>\n",
       "      <td>2006-04-18 00:00:00+00:00</td>\n",
       "      <td>10.040214</td>\n",
       "      <td>0.111483</td>\n",
       "      <td>MULTIPOLYGON (((-76.606 39.22913, -76.60503 39...</td>\n",
       "      <td>003</td>\n",
       "    </tr>\n",
       "    <tr>\n",
       "      <th>2</th>\n",
       "      <td>005</td>\n",
       "      <td>0</td>\n",
       "      <td>439293</td>\n",
       "      <td>0.000</td>\n",
       "      <td>3</td>\n",
       "      <td>Baltimore</td>\n",
       "      <td>4.0</td>\n",
       "      <td>5</td>\n",
       "      <td>3</td>\n",
       "      <td>2006-10-09 00:00:00+00:00</td>\n",
       "      <td>2006-10-09 00:00:00+00:00</td>\n",
       "      <td>9.470194</td>\n",
       "      <td>0.162506</td>\n",
       "      <td>MULTIPOLYGON (((-76.56796 39.68592, -76.56795 ...</td>\n",
       "      <td>005</td>\n",
       "    </tr>\n",
       "    <tr>\n",
       "      <th>3</th>\n",
       "      <td>009</td>\n",
       "      <td>0</td>\n",
       "      <td>3899</td>\n",
       "      <td>0.000</td>\n",
       "      <td>5</td>\n",
       "      <td>Calvert</td>\n",
       "      <td>5.0</td>\n",
       "      <td>9</td>\n",
       "      <td>4</td>\n",
       "      <td>2010-01-28 00:00:00+00:00</td>\n",
       "      <td>2010-01-28 00:00:00+00:00</td>\n",
       "      <td>3.576389</td>\n",
       "      <td>0.057350</td>\n",
       "      <td>MULTIPOLYGON (((-76.64212 38.76921, -76.64191 ...</td>\n",
       "      <td>009</td>\n",
       "    </tr>\n",
       "    <tr>\n",
       "      <th>4</th>\n",
       "      <td>013</td>\n",
       "      <td>125</td>\n",
       "      <td>18728</td>\n",
       "      <td>0.007</td>\n",
       "      <td>7</td>\n",
       "      <td>Carroll</td>\n",
       "      <td>7.0</td>\n",
       "      <td>13</td>\n",
       "      <td>6</td>\n",
       "      <td>2008-06-16 00:00:00+00:00</td>\n",
       "      <td>2012-01-17 00:00:00+00:00</td>\n",
       "      <td>3.179273</td>\n",
       "      <td>0.122033</td>\n",
       "      <td>MULTIPOLYGON (((-76.86867 39.49261, -76.86904 ...</td>\n",
       "      <td>013</td>\n",
       "    </tr>\n",
       "  </tbody>\n",
       "</table>\n",
       "</div>"
      ],
      "text/plain": [
       "  county_fips  Total_Pb   Total  pct_Pb  OBJECTID        COUNTY  DISTRICT  \\\n",
       "0         001         0   11591   0.000         1      Allegany       6.0   \n",
       "1         003      1894   34465   0.055         2  Anne Arundel       5.0   \n",
       "2         005         0  439293   0.000         3     Baltimore       4.0   \n",
       "3         009         0    3899   0.000         5       Calvert       5.0   \n",
       "4         013       125   18728   0.007         7       Carroll       7.0   \n",
       "\n",
       "   COUNTY_FIP  COUNTYNUM                CREATION_D                LAST_UPDAT  \\\n",
       "0           1          1 2010-01-28 00:00:00+00:00 2010-01-28 00:00:00+00:00   \n",
       "1           3          2 2006-04-18 00:00:00+00:00 2006-04-18 00:00:00+00:00   \n",
       "2           5          3 2006-10-09 00:00:00+00:00 2006-10-09 00:00:00+00:00   \n",
       "3           9          4 2010-01-28 00:00:00+00:00 2010-01-28 00:00:00+00:00   \n",
       "4          13          6 2008-06-16 00:00:00+00:00 2012-01-17 00:00:00+00:00   \n",
       "\n",
       "   Shape_Length  Shape_Area  \\\n",
       "0      3.814949    0.115028   \n",
       "1     10.040214    0.111483   \n",
       "2      9.470194    0.162506   \n",
       "3      3.576389    0.057350   \n",
       "4      3.179273    0.122033   \n",
       "\n",
       "                                            geometry FIPS  \n",
       "0  MULTIPOLYGON (((-78.34284 39.72224, -78.34303 ...  001  \n",
       "1  MULTIPOLYGON (((-76.606 39.22913, -76.60503 39...  003  \n",
       "2  MULTIPOLYGON (((-76.56796 39.68592, -76.56795 ...  005  \n",
       "3  MULTIPOLYGON (((-76.64212 38.76921, -76.64191 ...  009  \n",
       "4  MULTIPOLYGON (((-76.86867 39.49261, -76.86904 ...  013  "
      ]
     },
     "execution_count": 390,
     "metadata": {},
     "output_type": "execute_result"
    }
   ],
   "source": [
    "MD_SSL.head()"
   ]
  },
  {
   "cell_type": "code",
   "execution_count": 391,
   "metadata": {},
   "outputs": [],
   "source": [
    "MD_Pcancer_SSL = pd.merge(Pcancer_fix, MD_SSL, left_on='COUNTY', right_on='FIPS', how='inner')"
   ]
  },
  {
   "cell_type": "code",
   "execution_count": 392,
   "metadata": {},
   "outputs": [
    {
     "data": {
      "text/html": [
       "<div>\n",
       "<style scoped>\n",
       "    .dataframe tbody tr th:only-of-type {\n",
       "        vertical-align: middle;\n",
       "    }\n",
       "\n",
       "    .dataframe tbody tr th {\n",
       "        vertical-align: top;\n",
       "    }\n",
       "\n",
       "    .dataframe thead th {\n",
       "        text-align: right;\n",
       "    }\n",
       "</style>\n",
       "<table border=\"1\" class=\"dataframe\">\n",
       "  <thead>\n",
       "    <tr style=\"text-align: right;\">\n",
       "      <th></th>\n",
       "      <th>County</th>\n",
       "      <th>FIPS_x</th>\n",
       "      <th>2023 Rural-Urban Continuum Codes([rural urban note])</th>\n",
       "      <th>ageadj_incdrate</th>\n",
       "      <th>low95</th>\n",
       "      <th>upper95</th>\n",
       "      <th>5yr_incdtrend</th>\n",
       "      <th>low95_trend</th>\n",
       "      <th>upper95_trend</th>\n",
       "      <th>COUNTY_x</th>\n",
       "      <th>...</th>\n",
       "      <th>COUNTY_y</th>\n",
       "      <th>DISTRICT</th>\n",
       "      <th>COUNTY_FIP</th>\n",
       "      <th>COUNTYNUM</th>\n",
       "      <th>CREATION_D</th>\n",
       "      <th>LAST_UPDAT</th>\n",
       "      <th>Shape_Length</th>\n",
       "      <th>Shape_Area</th>\n",
       "      <th>geometry</th>\n",
       "      <th>FIPS_y</th>\n",
       "    </tr>\n",
       "  </thead>\n",
       "  <tbody>\n",
       "    <tr>\n",
       "      <th>0</th>\n",
       "      <td>Baltimore City(6)</td>\n",
       "      <td>24510</td>\n",
       "      <td>Urban</td>\n",
       "      <td>17.4</td>\n",
       "      <td>16.0</td>\n",
       "      <td>18.9</td>\n",
       "      <td>0.9</td>\n",
       "      <td>-0.1</td>\n",
       "      <td>2.0</td>\n",
       "      <td>510</td>\n",
       "      <td>...</td>\n",
       "      <td>Baltimore City</td>\n",
       "      <td>0.0</td>\n",
       "      <td>510</td>\n",
       "      <td>24</td>\n",
       "      <td>2006-04-18 00:00:00+00:00</td>\n",
       "      <td>2009-11-16 00:00:00+00:00</td>\n",
       "      <td>1.978908</td>\n",
       "      <td>0.021987</td>\n",
       "      <td>MULTIPOLYGON (((-76.52967 39.37196, -76.52975 ...</td>\n",
       "      <td>510</td>\n",
       "    </tr>\n",
       "    <tr>\n",
       "      <th>1</th>\n",
       "      <td>Charles County(6)</td>\n",
       "      <td>24017</td>\n",
       "      <td>Urban</td>\n",
       "      <td>15.5</td>\n",
       "      <td>13.0</td>\n",
       "      <td>18.5</td>\n",
       "      <td>2.3</td>\n",
       "      <td>0.5</td>\n",
       "      <td>4.4</td>\n",
       "      <td>017</td>\n",
       "      <td>...</td>\n",
       "      <td>Charles</td>\n",
       "      <td>5.0</td>\n",
       "      <td>17</td>\n",
       "      <td>8</td>\n",
       "      <td>2009-06-08 00:00:00+00:00</td>\n",
       "      <td>2009-06-08 00:00:00+00:00</td>\n",
       "      <td>5.004585</td>\n",
       "      <td>0.123129</td>\n",
       "      <td>MULTIPOLYGON (((-77.07823 38.69004, -77.07788 ...</td>\n",
       "      <td>017</td>\n",
       "    </tr>\n",
       "    <tr>\n",
       "      <th>2</th>\n",
       "      <td>Wicomico County(6)</td>\n",
       "      <td>24045</td>\n",
       "      <td>Urban</td>\n",
       "      <td>15.1</td>\n",
       "      <td>12.1</td>\n",
       "      <td>18.5</td>\n",
       "      <td>1.6</td>\n",
       "      <td>-1.2</td>\n",
       "      <td>4.7</td>\n",
       "      <td>045</td>\n",
       "      <td>...</td>\n",
       "      <td>Wicomico</td>\n",
       "      <td>1.0</td>\n",
       "      <td>45</td>\n",
       "      <td>22</td>\n",
       "      <td>2007-11-26 00:00:00+00:00</td>\n",
       "      <td>2007-11-26 00:00:00+00:00</td>\n",
       "      <td>6.206751</td>\n",
       "      <td>0.100346</td>\n",
       "      <td>MULTIPOLYGON (((-75.7015 38.55978, -75.70101 3...</td>\n",
       "      <td>045</td>\n",
       "    </tr>\n",
       "    <tr>\n",
       "      <th>3</th>\n",
       "      <td>Cecil County(6)</td>\n",
       "      <td>24015</td>\n",
       "      <td>Urban</td>\n",
       "      <td>14.5</td>\n",
       "      <td>11.7</td>\n",
       "      <td>17.9</td>\n",
       "      <td>0.2</td>\n",
       "      <td>-3.8</td>\n",
       "      <td>2.6</td>\n",
       "      <td>015</td>\n",
       "      <td>...</td>\n",
       "      <td>Cecil</td>\n",
       "      <td>2.0</td>\n",
       "      <td>15</td>\n",
       "      <td>7</td>\n",
       "      <td>2006-04-18 00:00:00+00:00</td>\n",
       "      <td>2008-08-20 00:00:00+00:00</td>\n",
       "      <td>6.069369</td>\n",
       "      <td>0.094686</td>\n",
       "      <td>MULTIPOLYGON (((-75.82727 39.69693, -75.82726 ...</td>\n",
       "      <td>015</td>\n",
       "    </tr>\n",
       "    <tr>\n",
       "      <th>4</th>\n",
       "      <td>St. Marys County(6)</td>\n",
       "      <td>24037</td>\n",
       "      <td>Urban</td>\n",
       "      <td>14.3</td>\n",
       "      <td>11.5</td>\n",
       "      <td>17.7</td>\n",
       "      <td>0.9</td>\n",
       "      <td>-2.0</td>\n",
       "      <td>4.4</td>\n",
       "      <td>037</td>\n",
       "      <td>...</td>\n",
       "      <td>St. Mary's</td>\n",
       "      <td>5.0</td>\n",
       "      <td>37</td>\n",
       "      <td>18</td>\n",
       "      <td>2006-12-21 00:00:00+00:00</td>\n",
       "      <td>2007-04-10 00:00:00+00:00</td>\n",
       "      <td>7.775104</td>\n",
       "      <td>0.095964</td>\n",
       "      <td>MULTIPOLYGON (((-76.75275 38.51376, -76.75234 ...</td>\n",
       "      <td>037</td>\n",
       "    </tr>\n",
       "  </tbody>\n",
       "</table>\n",
       "<p>5 rows × 25 columns</p>\n",
       "</div>"
      ],
      "text/plain": [
       "                County FIPS_x  \\\n",
       "0    Baltimore City(6)  24510   \n",
       "1    Charles County(6)  24017   \n",
       "2   Wicomico County(6)  24045   \n",
       "3      Cecil County(6)  24015   \n",
       "4  St. Marys County(6)  24037   \n",
       "\n",
       "  2023 Rural-Urban Continuum Codes([rural urban note])  ageadj_incdrate  \\\n",
       "0                                              Urban               17.4   \n",
       "1                                              Urban               15.5   \n",
       "2                                              Urban               15.1   \n",
       "3                                              Urban               14.5   \n",
       "4                                              Urban               14.3   \n",
       "\n",
       "   low95  upper95  5yr_incdtrend  low95_trend  upper95_trend COUNTY_x  ...  \\\n",
       "0   16.0     18.9            0.9         -0.1            2.0      510  ...   \n",
       "1   13.0     18.5            2.3          0.5            4.4      017  ...   \n",
       "2   12.1     18.5            1.6         -1.2            4.7      045  ...   \n",
       "3   11.7     17.9            0.2         -3.8            2.6      015  ...   \n",
       "4   11.5     17.7            0.9         -2.0            4.4      037  ...   \n",
       "\n",
       "         COUNTY_y  DISTRICT  COUNTY_FIP  COUNTYNUM                CREATION_D  \\\n",
       "0  Baltimore City       0.0         510         24 2006-04-18 00:00:00+00:00   \n",
       "1         Charles       5.0          17          8 2009-06-08 00:00:00+00:00   \n",
       "2        Wicomico       1.0          45         22 2007-11-26 00:00:00+00:00   \n",
       "3           Cecil       2.0          15          7 2006-04-18 00:00:00+00:00   \n",
       "4      St. Mary's       5.0          37         18 2006-12-21 00:00:00+00:00   \n",
       "\n",
       "                 LAST_UPDAT  Shape_Length  Shape_Area  \\\n",
       "0 2009-11-16 00:00:00+00:00      1.978908    0.021987   \n",
       "1 2009-06-08 00:00:00+00:00      5.004585    0.123129   \n",
       "2 2007-11-26 00:00:00+00:00      6.206751    0.100346   \n",
       "3 2008-08-20 00:00:00+00:00      6.069369    0.094686   \n",
       "4 2007-04-10 00:00:00+00:00      7.775104    0.095964   \n",
       "\n",
       "                                            geometry FIPS_y  \n",
       "0  MULTIPOLYGON (((-76.52967 39.37196, -76.52975 ...    510  \n",
       "1  MULTIPOLYGON (((-77.07823 38.69004, -77.07788 ...    017  \n",
       "2  MULTIPOLYGON (((-75.7015 38.55978, -75.70101 3...    045  \n",
       "3  MULTIPOLYGON (((-75.82727 39.69693, -75.82726 ...    015  \n",
       "4  MULTIPOLYGON (((-76.75275 38.51376, -76.75234 ...    037  \n",
       "\n",
       "[5 rows x 25 columns]"
      ]
     },
     "execution_count": 392,
     "metadata": {},
     "output_type": "execute_result"
    }
   ],
   "source": [
    "MD_Pcancer_SSL.head()"
   ]
  },
  {
   "cell_type": "code",
   "execution_count": 393,
   "metadata": {},
   "outputs": [],
   "source": [
    "MD_Pcancer_SSL = gpd.GeoDataFrame(MD_Pcancer_SSL, geometry=MD_Pcancer_SSL['geometry'])"
   ]
  },
  {
   "cell_type": "code",
   "execution_count": 394,
   "metadata": {},
   "outputs": [],
   "source": [
    "MD_STcancer_SSL = pd.merge(STcancer_fix, MD_SSL, left_on='COUNTY', right_on='FIPS', how='inner')"
   ]
  },
  {
   "cell_type": "code",
   "execution_count": 395,
   "metadata": {},
   "outputs": [
    {
     "data": {
      "text/html": [
       "<div>\n",
       "<style scoped>\n",
       "    .dataframe tbody tr th:only-of-type {\n",
       "        vertical-align: middle;\n",
       "    }\n",
       "\n",
       "    .dataframe tbody tr th {\n",
       "        vertical-align: top;\n",
       "    }\n",
       "\n",
       "    .dataframe thead th {\n",
       "        text-align: right;\n",
       "    }\n",
       "</style>\n",
       "<table border=\"1\" class=\"dataframe\">\n",
       "  <thead>\n",
       "    <tr style=\"text-align: right;\">\n",
       "      <th></th>\n",
       "      <th>County</th>\n",
       "      <th>FIPS_x</th>\n",
       "      <th>2023 Rural-Urban Continuum Codes([rural urban note])</th>\n",
       "      <th>ageadj_incdrate</th>\n",
       "      <th>low95</th>\n",
       "      <th>upper95</th>\n",
       "      <th>5yr_incdtrend</th>\n",
       "      <th>low95_trend</th>\n",
       "      <th>upper95_trend</th>\n",
       "      <th>COUNTY_x</th>\n",
       "      <th>...</th>\n",
       "      <th>COUNTY_y</th>\n",
       "      <th>DISTRICT</th>\n",
       "      <th>COUNTY_FIP</th>\n",
       "      <th>COUNTYNUM</th>\n",
       "      <th>CREATION_D</th>\n",
       "      <th>LAST_UPDAT</th>\n",
       "      <th>Shape_Length</th>\n",
       "      <th>Shape_Area</th>\n",
       "      <th>geometry</th>\n",
       "      <th>FIPS_y</th>\n",
       "    </tr>\n",
       "  </thead>\n",
       "  <tbody>\n",
       "    <tr>\n",
       "      <th>0</th>\n",
       "      <td>Baltimore City(6)</td>\n",
       "      <td>24510</td>\n",
       "      <td>Urban</td>\n",
       "      <td>9.0</td>\n",
       "      <td>7.9</td>\n",
       "      <td>10.1</td>\n",
       "      <td>-0.3</td>\n",
       "      <td>-1.6</td>\n",
       "      <td>1.0</td>\n",
       "      <td>510</td>\n",
       "      <td>...</td>\n",
       "      <td>Baltimore City</td>\n",
       "      <td>0.0</td>\n",
       "      <td>510</td>\n",
       "      <td>24</td>\n",
       "      <td>2006-04-18 00:00:00+00:00</td>\n",
       "      <td>2009-11-16 00:00:00+00:00</td>\n",
       "      <td>1.978908</td>\n",
       "      <td>0.021987</td>\n",
       "      <td>MULTIPOLYGON (((-76.52967 39.37196, -76.52975 ...</td>\n",
       "      <td>510</td>\n",
       "    </tr>\n",
       "    <tr>\n",
       "      <th>1</th>\n",
       "      <td>Dorchester County(6)</td>\n",
       "      <td>24019</td>\n",
       "      <td>Rural</td>\n",
       "      <td>8.7</td>\n",
       "      <td>5.3</td>\n",
       "      <td>13.8</td>\n",
       "      <td>NaN</td>\n",
       "      <td>NaN</td>\n",
       "      <td>NaN</td>\n",
       "      <td>019</td>\n",
       "      <td>...</td>\n",
       "      <td>Dorchester</td>\n",
       "      <td>1.0</td>\n",
       "      <td>19</td>\n",
       "      <td>9</td>\n",
       "      <td>2007-02-08 00:00:00+00:00</td>\n",
       "      <td>2007-02-22 00:00:00+00:00</td>\n",
       "      <td>25.068431</td>\n",
       "      <td>0.145041</td>\n",
       "      <td>MULTIPOLYGON (((-75.81565 38.69825, -75.81515 ...</td>\n",
       "      <td>019</td>\n",
       "    </tr>\n",
       "    <tr>\n",
       "      <th>2</th>\n",
       "      <td>St. Marys County(6)</td>\n",
       "      <td>24037</td>\n",
       "      <td>Urban</td>\n",
       "      <td>8.4</td>\n",
       "      <td>6.3</td>\n",
       "      <td>11.0</td>\n",
       "      <td>0.3</td>\n",
       "      <td>-4.4</td>\n",
       "      <td>5.9</td>\n",
       "      <td>037</td>\n",
       "      <td>...</td>\n",
       "      <td>St. Mary's</td>\n",
       "      <td>5.0</td>\n",
       "      <td>37</td>\n",
       "      <td>18</td>\n",
       "      <td>2006-12-21 00:00:00+00:00</td>\n",
       "      <td>2007-04-10 00:00:00+00:00</td>\n",
       "      <td>7.775104</td>\n",
       "      <td>0.095964</td>\n",
       "      <td>MULTIPOLYGON (((-76.75275 38.51376, -76.75234 ...</td>\n",
       "      <td>037</td>\n",
       "    </tr>\n",
       "    <tr>\n",
       "      <th>3</th>\n",
       "      <td>Wicomico County(6)</td>\n",
       "      <td>24045</td>\n",
       "      <td>Urban</td>\n",
       "      <td>7.9</td>\n",
       "      <td>5.7</td>\n",
       "      <td>10.6</td>\n",
       "      <td>3.4</td>\n",
       "      <td>0.5</td>\n",
       "      <td>7.1</td>\n",
       "      <td>045</td>\n",
       "      <td>...</td>\n",
       "      <td>Wicomico</td>\n",
       "      <td>1.0</td>\n",
       "      <td>45</td>\n",
       "      <td>22</td>\n",
       "      <td>2007-11-26 00:00:00+00:00</td>\n",
       "      <td>2007-11-26 00:00:00+00:00</td>\n",
       "      <td>6.206751</td>\n",
       "      <td>0.100346</td>\n",
       "      <td>MULTIPOLYGON (((-75.7015 38.55978, -75.70101 3...</td>\n",
       "      <td>045</td>\n",
       "    </tr>\n",
       "    <tr>\n",
       "      <th>4</th>\n",
       "      <td>Charles County(6)</td>\n",
       "      <td>24017</td>\n",
       "      <td>Urban</td>\n",
       "      <td>7.9</td>\n",
       "      <td>6.1</td>\n",
       "      <td>10.0</td>\n",
       "      <td>0.5</td>\n",
       "      <td>-2.6</td>\n",
       "      <td>4.3</td>\n",
       "      <td>017</td>\n",
       "      <td>...</td>\n",
       "      <td>Charles</td>\n",
       "      <td>5.0</td>\n",
       "      <td>17</td>\n",
       "      <td>8</td>\n",
       "      <td>2009-06-08 00:00:00+00:00</td>\n",
       "      <td>2009-06-08 00:00:00+00:00</td>\n",
       "      <td>5.004585</td>\n",
       "      <td>0.123129</td>\n",
       "      <td>MULTIPOLYGON (((-77.07823 38.69004, -77.07788 ...</td>\n",
       "      <td>017</td>\n",
       "    </tr>\n",
       "  </tbody>\n",
       "</table>\n",
       "<p>5 rows × 25 columns</p>\n",
       "</div>"
      ],
      "text/plain": [
       "                 County FIPS_x  \\\n",
       "0     Baltimore City(6)  24510   \n",
       "1  Dorchester County(6)  24019   \n",
       "2   St. Marys County(6)  24037   \n",
       "3    Wicomico County(6)  24045   \n",
       "4     Charles County(6)  24017   \n",
       "\n",
       "  2023 Rural-Urban Continuum Codes([rural urban note])  ageadj_incdrate  \\\n",
       "0                                              Urban                9.0   \n",
       "1                                              Rural                8.7   \n",
       "2                                              Urban                8.4   \n",
       "3                                              Urban                7.9   \n",
       "4                                              Urban                7.9   \n",
       "\n",
       "   low95  upper95  5yr_incdtrend  low95_trend  upper95_trend COUNTY_x  ...  \\\n",
       "0    7.9     10.1           -0.3         -1.6            1.0      510  ...   \n",
       "1    5.3     13.8            NaN          NaN            NaN      019  ...   \n",
       "2    6.3     11.0            0.3         -4.4            5.9      037  ...   \n",
       "3    5.7     10.6            3.4          0.5            7.1      045  ...   \n",
       "4    6.1     10.0            0.5         -2.6            4.3      017  ...   \n",
       "\n",
       "         COUNTY_y  DISTRICT  COUNTY_FIP  COUNTYNUM                CREATION_D  \\\n",
       "0  Baltimore City       0.0         510         24 2006-04-18 00:00:00+00:00   \n",
       "1      Dorchester       1.0          19          9 2007-02-08 00:00:00+00:00   \n",
       "2      St. Mary's       5.0          37         18 2006-12-21 00:00:00+00:00   \n",
       "3        Wicomico       1.0          45         22 2007-11-26 00:00:00+00:00   \n",
       "4         Charles       5.0          17          8 2009-06-08 00:00:00+00:00   \n",
       "\n",
       "                 LAST_UPDAT  Shape_Length  Shape_Area  \\\n",
       "0 2009-11-16 00:00:00+00:00      1.978908    0.021987   \n",
       "1 2007-02-22 00:00:00+00:00     25.068431    0.145041   \n",
       "2 2007-04-10 00:00:00+00:00      7.775104    0.095964   \n",
       "3 2007-11-26 00:00:00+00:00      6.206751    0.100346   \n",
       "4 2009-06-08 00:00:00+00:00      5.004585    0.123129   \n",
       "\n",
       "                                            geometry FIPS_y  \n",
       "0  MULTIPOLYGON (((-76.52967 39.37196, -76.52975 ...    510  \n",
       "1  MULTIPOLYGON (((-75.81565 38.69825, -75.81515 ...    019  \n",
       "2  MULTIPOLYGON (((-76.75275 38.51376, -76.75234 ...    037  \n",
       "3  MULTIPOLYGON (((-75.7015 38.55978, -75.70101 3...    045  \n",
       "4  MULTIPOLYGON (((-77.07823 38.69004, -77.07788 ...    017  \n",
       "\n",
       "[5 rows x 25 columns]"
      ]
     },
     "execution_count": 395,
     "metadata": {},
     "output_type": "execute_result"
    }
   ],
   "source": [
    "MD_STcancer_SSL.head()"
   ]
  },
  {
   "cell_type": "code",
   "execution_count": 396,
   "metadata": {},
   "outputs": [],
   "source": [
    "MD_STcancer_SSL = gpd.GeoDataFrame(MD_STcancer_SSL, geometry=MD_STcancer_SSL['geometry'])"
   ]
  },
  {
   "cell_type": "markdown",
   "metadata": {},
   "source": [
    "### Correlations and (Possible) Causation (MD)"
   ]
  },
  {
   "cell_type": "code",
   "execution_count": 397,
   "metadata": {},
   "outputs": [],
   "source": [
    "Pcancer_Lead = MD_Pcancer_SSL['pct_Pb'].corr(MD_Pcancer_SSL['ageadj_incdrate'])"
   ]
  },
  {
   "cell_type": "code",
   "execution_count": 398,
   "metadata": {},
   "outputs": [
    {
     "data": {
      "text/plain": [
       "np.float64(-0.09703632601031083)"
      ]
     },
     "execution_count": 398,
     "metadata": {},
     "output_type": "execute_result"
    }
   ],
   "source": [
    "Pcancer_Lead"
   ]
  },
  {
   "cell_type": "markdown",
   "metadata": {},
   "source": [
    "We have a negative correlation for Pancreatic Cancer rates and lead pipe infrastructure."
   ]
  },
  {
   "cell_type": "code",
   "execution_count": 399,
   "metadata": {},
   "outputs": [
    {
     "data": {
      "image/png": "[encoded data removed]",
      "text/plain": [
       "<Figure size 640x480 with 1 Axes>"
      ]
     },
     "metadata": {},
     "output_type": "display_data"
    }
   ],
   "source": [
    "data = MD_Pcancer_SSL[['pct_Pb', 'ageadj_incdrate']]\n",
    "x = data['pct_Pb']\n",
    "y = data['ageadj_incdrate']\n",
    "plt.scatter(x, y)\n",
    "\n",
    "z = np.polyfit(x, y, 1)\n",
    "p = np.poly1d(z)\n",
    "\n",
    "plt.plot(x,p(x),\"r--\")\n",
    "plt.xlabel(\"Percentage of Leaded Infrastructure\")\n",
    "plt.ylabel(\"Pancreatic Cancer Incidence Rate\")\n",
    "\n",
    "plt.savefig('MD_PCancerplot.png')\n",
    "plt.show()"
   ]
  },
  {
   "cell_type": "code",
   "execution_count": 400,
   "metadata": {},
   "outputs": [],
   "source": [
    "STcancer_Lead = MD_STcancer_SSL['pct_Pb'].corr(MD_STcancer_SSL['ageadj_incdrate'])"
   ]
  },
  {
   "cell_type": "code",
   "execution_count": 401,
   "metadata": {},
   "outputs": [
    {
     "data": {
      "text/plain": [
       "np.float64(0.33936893361124865)"
      ]
     },
     "execution_count": 401,
     "metadata": {},
     "output_type": "execute_result"
    }
   ],
   "source": [
    "STcancer_Lead"
   ]
  },
  {
   "cell_type": "markdown",
   "metadata": {},
   "source": [
    "This is the strongest correlation we've seen so far, but it's still not significant"
   ]
  },
  {
   "cell_type": "code",
   "execution_count": 405,
   "metadata": {},
   "outputs": [
    {
     "data": {
      "image/png": "[encoded data removed]",
      "text/plain": [
       "<Figure size 640x480 with 1 Axes>"
      ]
     },
     "metadata": {},
     "output_type": "display_data"
    }
   ],
   "source": [
    "data = MD_STcancer_SSL[['pct_Pb', 'ageadj_incdrate']]\n",
    "x = data['pct_Pb']\n",
    "y = data['ageadj_incdrate']\n",
    "plt.scatter(x, y)\n",
    "\n",
    "z = np.polyfit(x, y, 1)\n",
    "p = np.poly1d(z)\n",
    "\n",
    "plt.plot(x,p(x),\"r--\")\n",
    "plt.xlabel(\"Percentage of Leaded Infrastructure\")\n",
    "plt.ylabel(\"Stomach Cancer Incidence Rate\")\n",
    "\n",
    "plt.savefig('MD_STCancerplot.png')\n",
    "plt.show()"
   ]
  },
  {
   "cell_type": "markdown",
   "metadata": {},
   "source": [
    "### Spatial Autocorrelation (MD)"
   ]
  },
  {
   "cell_type": "code",
   "execution_count": 403,
   "metadata": {},
   "outputs": [
    {
     "name": "stderr",
     "output_type": "stream",
     "text": [
      "C:\\Users\\alexb\\AppData\\Local\\Temp\\ipykernel_8024\\3344988747.py:1: FutureWarning: `use_index` defaults to False but will default to True in future. Set True/False directly to control this behavior and silence this warning\n",
      "  w = Queen.from_dataframe(MD_Pcancer_SSL)\n"
     ]
    },
    {
     "name": "stdout",
     "output_type": "stream",
     "text": [
      "('WARNING: ', 1, ' is an island (no neighbors)')\n",
      "('WARNING: ', 4, ' is an island (no neighbors)')\n",
      "('WARNING: ', 11, ' is an island (no neighbors)')\n",
      "('WARNING: ', 14, ' is an island (no neighbors)')\n",
      "('WARNING: ', 16, ' is an island (no neighbors)')\n"
     ]
    },
    {
     "name": "stderr",
     "output_type": "stream",
     "text": [
      "c:\\Users\\alexb\\Documents\\GIS5103\\GIS5103\\.conda\\Lib\\site-packages\\libpysal\\weights\\contiguity.py:347: UserWarning: The weights matrix is not fully connected: \n",
      " There are 9 disconnected components.\n",
      " There are 5 islands with ids: 1, 4, 11, 14, 16.\n",
      "  W.__init__(self, neighbors, ids=ids, **kw)\n"
     ]
    }
   ],
   "source": [
    "w = Queen.from_dataframe(MD_Pcancer_SSL)\n",
    "w.transform = 'r'"
   ]
  },
  {
   "cell_type": "code",
   "execution_count": 404,
   "metadata": {},
   "outputs": [
    {
     "name": "stderr",
     "output_type": "stream",
     "text": [
      "c:\\Users\\alexb\\Documents\\GIS5103\\GIS5103\\.conda\\Lib\\site-packages\\esda\\moran.py:1426: RuntimeWarning: invalid value encountered in divide\n",
      "  self.z_sim = (self.Is - self.EI_sim) / self.seI_sim\n"
     ]
    },
    {
     "data": {
      "text/plain": [
       "Text(0, 0.5, 'Averaged Incidence Rates in the Close Neighborhood')"
      ]
     },
     "execution_count": 404,
     "metadata": {},
     "output_type": "execute_result"
    },
    {
     "data": {
      "image/png": "[encoded data removed]",
      "text/plain": [
       "<Figure size 700x700 with 1 Axes>"
      ]
     },
     "metadata": {},
     "output_type": "display_data"
    }
   ],
   "source": [
    "x = MD_Pcancer_SSL['pct_Pb'].values\n",
    "y = MD_Pcancer_SSL['ageadj_incdrate'].values\n",
    "\n",
    "moran_loc_bv = Moran_Local_BV(x, y, w)\n",
    "\n",
    "fig, ax = moran_scatterplot(moran_loc_bv, p=0.05,zstandard=False)\n",
    "\n",
    "\n",
    "ax.set_xlabel('% of Leaded Infrastructure')\n",
    "ax.set_ylabel('Averaged Incidence Rates in the Close Neighborhood')"
   ]
  },
  {
   "cell_type": "markdown",
   "metadata": {},
   "source": [
    "## Future Research"
   ]
  },
  {
   "cell_type": "markdown",
   "metadata": {},
   "source": [
    "### Pancreatic Cancer Heatmap"
   ]
  },
  {
   "cell_type": "code",
   "execution_count": 540,
   "metadata": {},
   "outputs": [],
   "source": [
    "FL_Pcancer = gpd.read_file(\"C:/Users/alexb/Documents/GIS5103/GIS5103/Project/FL_Pancreatic Cancer incd Rates 2017-21.csv\")\n",
    "MD_Pcancer = gpd.read_file(\"C:/Users/alexb/Documents/GIS5103/GIS5103/Project/MD_PCancer.csv\")"
   ]
  },
  {
   "cell_type": "code",
   "execution_count": 541,
   "metadata": {},
   "outputs": [],
   "source": [
    "FL_Pcancer.fillna(0)\n",
    "MD_Pcancer.fillna(0);"
   ]
  },
  {
   "cell_type": "code",
   "execution_count": 542,
   "metadata": {},
   "outputs": [],
   "source": [
    "FL_Pcancer = FL_Pcancer.astype({\n",
    "    'ageadj_incdrate': 'float',\n",
    "     'low95': 'float',\n",
    "     'upper95': 'float',\n",
    "     '5yr_incdtrend': 'float',\n",
    "     'low95_trend': 'float',\n",
    "     'upper95_trend': 'float'}\n",
    ")"
   ]
  },
  {
   "cell_type": "code",
   "execution_count": 543,
   "metadata": {},
   "outputs": [],
   "source": [
    "MD_Pcancer = MD_Pcancer.astype({\n",
    "    'ageadj_incdrate': 'float',\n",
    "     'low95': 'float',\n",
    "     'upper95': 'float',\n",
    "     '5yr_incdtrend': 'float',\n",
    "     'low95_trend': 'float',\n",
    "     'upper95_trend': 'float'}\n",
    ")"
   ]
  },
  {
   "cell_type": "code",
   "execution_count": 544,
   "metadata": {},
   "outputs": [],
   "source": [
    "FL_Pcancer[\"COUNTY_FIPS\"] = FL_Pcancer[\"FIPS\"].str[2:]\n",
    "MD_Pcancer[\"COUNTY_FIPS\"] = MD_Pcancer[\"FIPS\"].str[2:]"
   ]
  },
  {
   "cell_type": "code",
   "execution_count": 545,
   "metadata": {},
   "outputs": [],
   "source": [
    "FL_Pcancer_gdf = pd.merge(FL_counties, FL_Pcancer, left_on='COUNTY', right_on='COUNTY_FIPS', how='inner')\n",
    "MD_Pcancer_gdf = pd.merge(MD_counties, MD_Pcancer, left_on='FIPS', right_on='COUNTY_FIPS', how='inner')"
   ]
  },
  {
   "cell_type": "code",
   "execution_count": 546,
   "metadata": {},
   "outputs": [],
   "source": [
    "FL_Pcancer_gdf = gpd.GeoDataFrame(FL_Pcancer_gdf, geometry=FL_Pcancer_gdf['geometry'])\n",
    "MD_Pcancer_gdf = gpd.GeoDataFrame(MD_Pcancer_gdf, geometry=MD_Pcancer_gdf['geometry'])"
   ]
  },
  {
   "cell_type": "markdown",
   "metadata": {},
   "source": [
    "Alright we have no created a DataFrame that merges the Pancreatic Cancer data and county level geometries for Florida and Maryland."
   ]
  },
  {
   "cell_type": "code",
   "execution_count": 547,
   "metadata": {},
   "outputs": [
    {
     "name": "stderr",
     "output_type": "stream",
     "text": [
      "C:\\Users\\alexb\\AppData\\Local\\Temp\\ipykernel_8024\\962315978.py:1: FutureWarning: `use_index` defaults to False but will default to True in future. Set True/False directly to control this behavior and silence this warning\n",
      "  FL_P_w = Rook.from_dataframe(FL_Pcancer_gdf)\n"
     ]
    },
    {
     "name": "stderr",
     "output_type": "stream",
     "text": [
      "C:\\Users\\alexb\\AppData\\Local\\Temp\\ipykernel_8024\\962315978.py:4: FutureWarning: `use_index` defaults to False but will default to True in future. Set True/False directly to control this behavior and silence this warning\n",
      "  MD_P_w = Rook.from_dataframe(MD_Pcancer_gdf)\n"
     ]
    },
    {
     "name": "stdout",
     "output_type": "stream",
     "text": [
      "('WARNING: ', 0, ' is an island (no neighbors)')\n",
      "('WARNING: ', 11, ' is an island (no neighbors)')\n",
      "('WARNING: ', 15, ' is an island (no neighbors)')\n",
      "('WARNING: ', 19, ' is an island (no neighbors)')\n"
     ]
    },
    {
     "name": "stderr",
     "output_type": "stream",
     "text": [
      "c:\\Users\\alexb\\Documents\\GIS5103\\GIS5103\\.conda\\Lib\\site-packages\\libpysal\\weights\\contiguity.py:61: UserWarning: The weights matrix is not fully connected: \n",
      " There are 9 disconnected components.\n",
      " There are 4 islands with ids: 0, 11, 15, 19.\n",
      "  W.__init__(self, neighbors, ids=ids, **kw)\n"
     ]
    }
   ],
   "source": [
    "FL_P_w = Rook.from_dataframe(FL_Pcancer_gdf)\n",
    "FL_P_w.transform = 'r'\n",
    "\n",
    "MD_P_w = Rook.from_dataframe(MD_Pcancer_gdf)\n",
    "MD_P_w.transform = 'r';"
   ]
  },
  {
   "cell_type": "markdown",
   "metadata": {},
   "source": [
    "Get our weights for our hot and cold spot maps  \n",
    "transform for row-standardization"
   ]
  },
  {
   "cell_type": "code",
   "execution_count": 548,
   "metadata": {},
   "outputs": [],
   "source": [
    "FL_Pcancer_rate = FL_Pcancer_gdf['ageadj_incdrate'].values\n",
    "MD_Pcancer_rate = MD_Pcancer_gdf['ageadj_incdrate'].values\n",
    "\n",
    "FL_P_global_moran = Moran(FL_Pcancer_rate, FL_P_w)\n",
    "MD_P_global_moran = Moran(MD_Pcancer_rate, MD_P_w)"
   ]
  },
  {
   "cell_type": "code",
   "execution_count": 549,
   "metadata": {},
   "outputs": [
    {
     "data": {
      "text/plain": [
       "np.float64(0.001)"
      ]
     },
     "execution_count": 549,
     "metadata": {},
     "output_type": "execute_result"
    }
   ],
   "source": [
    "FL_P_global_moran.p_sim"
   ]
  },
  {
   "cell_type": "code",
   "execution_count": 550,
   "metadata": {},
   "outputs": [
    {
     "data": {
      "text/plain": [
       "np.float64(0.237)"
      ]
     },
     "execution_count": 550,
     "metadata": {},
     "output_type": "execute_result"
    }
   ],
   "source": [
    "MD_P_global_moran.p_sim"
   ]
  },
  {
   "cell_type": "markdown",
   "metadata": {},
   "source": [
    "Our FL data appears to be significant, unlike our MD data"
   ]
  },
  {
   "cell_type": "code",
   "execution_count": 551,
   "metadata": {},
   "outputs": [
    {
     "name": "stderr",
     "output_type": "stream",
     "text": [
      "c:\\Users\\alexb\\Documents\\GIS5103\\GIS5103\\.conda\\Lib\\site-packages\\esda\\moran.py:1084: RuntimeWarning: invalid value encountered in divide\n",
      "  self.z_sim = (self.Is - self.EI_sim) / self.seI_sim\n"
     ]
    }
   ],
   "source": [
    "FL_P_moran_local = Moran_Local(FL_Pcancer_rate, FL_P_w)\n",
    "MD_P_moran_local = Moran_Local(MD_Pcancer_rate, MD_P_w);"
   ]
  },
  {
   "cell_type": "code",
   "execution_count": 552,
   "metadata": {},
   "outputs": [
    {
     "data": {
      "text/plain": [
       "Text(0.5, 0.98, 'Hot and Cold Spots of Pancreatic Cancer Rates in Florida and Maryland (2017-21)')"
      ]
     },
     "execution_count": 552,
     "metadata": {},
     "output_type": "execute_result"
    },
    {
     "data": {
      "image/png": "[encoded data removed]",
      "text/plain": [
       "<Figure size 1200x800 with 2 Axes>"
      ]
     },
     "metadata": {},
     "output_type": "display_data"
    }
   ],
   "source": [
    "fig, axs = plt.subplots(1, 2, figsize=(12, 8))\n",
    "\n",
    "lisa_cluster(ax=axs[0],\n",
    "             moran_loc = FL_P_moran_local,\n",
    "             gdf = FL_Pcancer_gdf,\n",
    "             p = 0.05,\n",
    "             figsize = (12,8)\n",
    "             )\n",
    "axs[0].set_title(\"Hot and Cold Spots of FL Pancreatic Cancer Rates (2017-21)\")\n",
    "\n",
    "lisa_cluster(ax=axs[1],\n",
    "             moran_loc = MD_P_moran_local,\n",
    "             gdf = MD_Pcancer_gdf,\n",
    "             p = 0.05,\n",
    "             figsize = (12,8)\n",
    "             )\n",
    "axs[1].set_title(\"Hot and Cold Spots of MD Pancreatic Cancer Rates (2017-21)\")\n",
    "\n",
    "fig.suptitle('Hot and Cold Spots of Pancreatic Cancer Rates in Florida and Maryland (2017-21)')"
   ]
  },
  {
   "cell_type": "markdown",
   "metadata": {},
   "source": [
    "### Gastric Cancer Heatmap"
   ]
  },
  {
   "cell_type": "code",
   "execution_count": 553,
   "metadata": {},
   "outputs": [],
   "source": [
    "FL_STcancer = gpd.read_file(\"C:/Users/alexb/Documents/GIS5103/GIS5103/Project/FL_stomachcancer_incd_fix.csv\")\n",
    "MD_STcancer = gpd.read_file(\"C:/Users/alexb/Documents/GIS5103/GIS5103/Project/MD_STCancer.csv\")"
   ]
  },
  {
   "cell_type": "code",
   "execution_count": 554,
   "metadata": {},
   "outputs": [],
   "source": [
    "FL_STcancer.fillna(0)\n",
    "MD_STcancer.fillna(0);"
   ]
  },
  {
   "cell_type": "code",
   "execution_count": 555,
   "metadata": {},
   "outputs": [],
   "source": [
    "FL_STcancer = FL_STcancer.astype({\n",
    "    'ageadj_incdrate': 'float',\n",
    "     'low95': 'float',\n",
    "     'upper95': 'float',\n",
    "     '5yr_incdtrend': 'float',\n",
    "     'low95_trend': 'float',\n",
    "     'upper95_trend': 'float'}\n",
    ")"
   ]
  },
  {
   "cell_type": "code",
   "execution_count": 556,
   "metadata": {},
   "outputs": [],
   "source": [
    "MD_STcancer = MD_STcancer.astype({\n",
    "    'ageadj_incdrate': 'float',\n",
    "     'low95': 'float',\n",
    "     'upper95': 'float',\n",
    "     '5yr_incdtrend': 'float',\n",
    "     'low95_trend': 'float',\n",
    "     'upper95_trend': 'float'}\n",
    ")"
   ]
  },
  {
   "cell_type": "code",
   "execution_count": 557,
   "metadata": {},
   "outputs": [],
   "source": [
    "FL_STcancer[\"COUNTY_FIPS\"] = FL_STcancer[\"FIPS\"].str[2:]\n",
    "MD_STcancer[\"COUNTY_FIPS\"] = MD_STcancer[\"FIPS\"].str[2:]"
   ]
  },
  {
   "cell_type": "code",
   "execution_count": 558,
   "metadata": {},
   "outputs": [],
   "source": [
    "FL_STcancer_gdf = pd.merge(FL_counties, FL_STcancer, left_on='COUNTY', right_on='COUNTY_FIPS', how='inner')\n",
    "MD_STcancer_gdf = pd.merge(MD_counties, MD_STcancer, left_on='FIPS', right_on='COUNTY_FIPS', how='inner')"
   ]
  },
  {
   "cell_type": "code",
   "execution_count": 559,
   "metadata": {},
   "outputs": [],
   "source": [
    "FL_STcancer_gdf = gpd.GeoDataFrame(FL_STcancer_gdf, geometry=FL_STcancer_gdf['geometry'])\n",
    "MD_STcancer_gdf = gpd.GeoDataFrame(MD_STcancer_gdf, geometry=MD_STcancer_gdf['geometry'])"
   ]
  },
  {
   "cell_type": "markdown",
   "metadata": {},
   "source": [
    "Alright we have no created a DataFrame that merges the Stomach Cancer data and county level geometries for Florida and Maryland."
   ]
  },
  {
   "cell_type": "code",
   "execution_count": 560,
   "metadata": {},
   "outputs": [
    {
     "name": "stderr",
     "output_type": "stream",
     "text": [
      "C:\\Users\\alexb\\AppData\\Local\\Temp\\ipykernel_8024\\1692255193.py:1: FutureWarning: `use_index` defaults to False but will default to True in future. Set True/False directly to control this behavior and silence this warning\n",
      "  FL_ST_w = Rook.from_dataframe(FL_STcancer_gdf)\n"
     ]
    },
    {
     "name": "stderr",
     "output_type": "stream",
     "text": [
      "C:\\Users\\alexb\\AppData\\Local\\Temp\\ipykernel_8024\\1692255193.py:4: FutureWarning: `use_index` defaults to False but will default to True in future. Set True/False directly to control this behavior and silence this warning\n",
      "  MD_ST_w = Rook.from_dataframe(MD_STcancer_gdf)\n"
     ]
    },
    {
     "name": "stdout",
     "output_type": "stream",
     "text": [
      "('WARNING: ', 0, ' is an island (no neighbors)')\n",
      "('WARNING: ', 11, ' is an island (no neighbors)')\n",
      "('WARNING: ', 15, ' is an island (no neighbors)')\n",
      "('WARNING: ', 19, ' is an island (no neighbors)')\n"
     ]
    },
    {
     "name": "stderr",
     "output_type": "stream",
     "text": [
      "c:\\Users\\alexb\\Documents\\GIS5103\\GIS5103\\.conda\\Lib\\site-packages\\libpysal\\weights\\contiguity.py:61: UserWarning: The weights matrix is not fully connected: \n",
      " There are 9 disconnected components.\n",
      " There are 4 islands with ids: 0, 11, 15, 19.\n",
      "  W.__init__(self, neighbors, ids=ids, **kw)\n"
     ]
    }
   ],
   "source": [
    "FL_ST_w = Rook.from_dataframe(FL_STcancer_gdf)\n",
    "FL_ST_w.transform = 'r'\n",
    "\n",
    "MD_ST_w = Rook.from_dataframe(MD_STcancer_gdf)\n",
    "MD_ST_w.transform = 'r';"
   ]
  },
  {
   "cell_type": "code",
   "execution_count": 561,
   "metadata": {},
   "outputs": [],
   "source": [
    "FL_STcancer_rate = FL_STcancer_gdf['ageadj_incdrate'].values\n",
    "MD_STcancer_rate = MD_STcancer_gdf['ageadj_incdrate'].values\n",
    "\n",
    "FL_ST_global_moran = Moran(FL_STcancer_rate, FL_ST_w)\n",
    "MD_ST_global_moran = Moran(MD_STcancer_rate, MD_ST_w)"
   ]
  },
  {
   "cell_type": "code",
   "execution_count": 562,
   "metadata": {},
   "outputs": [
    {
     "data": {
      "text/plain": [
       "np.float64(0.001)"
      ]
     },
     "execution_count": 562,
     "metadata": {},
     "output_type": "execute_result"
    }
   ],
   "source": [
    "FL_ST_global_moran.p_sim"
   ]
  },
  {
   "cell_type": "code",
   "execution_count": 563,
   "metadata": {},
   "outputs": [
    {
     "data": {
      "text/plain": [
       "np.float64(0.001)"
      ]
     },
     "execution_count": 563,
     "metadata": {},
     "output_type": "execute_result"
    }
   ],
   "source": [
    "MD_ST_global_moran.p_sim"
   ]
  },
  {
   "cell_type": "markdown",
   "metadata": {},
   "source": [
    "Both our FL and MD data is significant for Stomach Cancer it seems."
   ]
  },
  {
   "cell_type": "code",
   "execution_count": 564,
   "metadata": {},
   "outputs": [],
   "source": [
    "FL_ST_moran_local = Moran_Local(FL_STcancer_rate, FL_ST_w)\n",
    "MD_ST_moran_local = Moran_Local(MD_STcancer_rate, MD_ST_w);"
   ]
  },
  {
   "cell_type": "code",
   "execution_count": null,
   "metadata": {},
   "outputs": [
    {
     "data": {
      "text/plain": [
       "Text(0.5, 0.98, 'Hot and Cold Spots of Gastric Cancer Rates in Florida and Maryland (2017-21)')"
      ]
     },
     "execution_count": 565,
     "metadata": {},
     "output_type": "execute_result"
    },
    {
     "data": {
      "image/png": "[encoded data removed]",
      "text/plain": [
       "<Figure size 1200x800 with 2 Axes>"
      ]
     },
     "metadata": {},
     "output_type": "display_data"
    }
   ],
   "source": [
    "fig, axs = plt.subplots(1, 2, figsize=(12, 8))\n",
    "\n",
    "lisa_cluster(ax=axs[0],\n",
    "             moran_loc = FL_ST_moran_local,\n",
    "             gdf = FL_STcancer_gdf,\n",
    "             p = 0.05,\n",
    "             figsize = (12,8)\n",
    "             )\n",
    "axs[0].set_title(\"Hot and Cold Spots of FL Gastric Cancer Rates (2017-21)\")\n",
    "\n",
    "lisa_cluster(ax=axs[1],\n",
    "             moran_loc = MD_ST_moran_local,\n",
    "             gdf = MD_STcancer_gdf,\n",
    "             p = 0.05,\n",
    "             figsize = (12,8)\n",
    "             )\n",
    "axs[1].set_title(\"Hot and Cold Spots of MD Gastric Cancer Rates (2017-21)\")\n",
    "\n",
    "fig.suptitle('Hot and Cold Spots of Gastric Cancer Rates in Florida and Maryland (2017-21)')"
   ]
  },
  {
   "cell_type": "markdown",
   "metadata": {},
   "source": []
  }
 ],
 "metadata": {
  "kernelspec": {
   "display_name": ".conda",
   "language": "python",
   "name": "python3"
  },
  "language_info": {
   "codemirror_mode": {
    "name": "ipython",
    "version": 3
   },
   "file_extension": ".py",
   "mimetype": "text/x-python",
   "name": "python",
   "nbconvert_exporter": "python",
   "pygments_lexer": "ipython3",
   "version": "3.11.9"
  }
 },
 "nbformat": 4,
 "nbformat_minor": 2
}

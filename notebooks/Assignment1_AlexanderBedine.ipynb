{
 "cells": [
  {
   "cell_type": "markdown",
   "id": "9f8b9c36-ed8c-4e86-a382-c2528dd90976",
   "metadata": {},
   "source": [
    "# Basic Math Operations in Python"
   ]
  },
  {
   "cell_type": "markdown",
   "id": "b9889234-7450-47b0-bd9c-d5787cac6174",
   "metadata": {},
   "source": [
    "## Instructions"
   ]
  },
  {
   "cell_type": "markdown",
   "id": "97434614",
   "metadata": {},
   "source": [
    "Perform the following operations in Python\n",
    "- **[Addition](#addition)**: e.g., 9 + 10\n",
    "- **[Subtraction](#subtraction)**: e.g., 7 - 5\n",
    "- **[Multiplication](#multiplication)**: e.g., 2.1 * 7.4\n",
    "- **[Division](#division)**: e.g., 9/4\n",
    "- **[Exponential](#exponential)**: e.g., 4**6"
   ]
  },
  {
   "cell_type": "markdown",
   "id": "ac4d6ec2-fd19-407d-8a61-9d7b8fee4d8b",
   "metadata": {},
   "source": [
    "## Operations"
   ]
  },
  {
   "cell_type": "markdown",
   "id": "e67f7b08",
   "metadata": {},
   "source": [
    "### Variables"
   ]
  },
  {
   "cell_type": "code",
   "execution_count": 11,
   "id": "70bf6ba6",
   "metadata": {},
   "outputs": [],
   "source": [
    "a = 8\n",
    "b = 10\n",
    "c = 26\n",
    "d = 4\n",
    "x = 46.9\n",
    "y = 7.88\n",
    "z = 5.2"
   ]
  },
  {
   "cell_type": "markdown",
   "id": "7331e781",
   "metadata": {},
   "source": [
    "### Addition"
   ]
  },
  {
   "cell_type": "code",
   "execution_count": 12,
   "id": "508a12d7-06e0-442c-a1a4-b206790a8904",
   "metadata": {},
   "outputs": [
    {
     "data": {
      "text/plain": [
       "18"
      ]
     },
     "execution_count": 12,
     "metadata": {},
     "output_type": "execute_result"
    }
   ],
   "source": [
    "a + b"
   ]
  },
  {
   "cell_type": "markdown",
   "id": "4f825696-46a2-4c05-9a1e-29e224db3de8",
   "metadata": {},
   "source": [
    "### Subtraction"
   ]
  },
  {
   "cell_type": "code",
   "execution_count": 13,
   "id": "74bdcaba-ad94-4435-bb7d-6dca147f56ab",
   "metadata": {},
   "outputs": [
    {
     "data": {
      "text/plain": [
       "22"
      ]
     },
     "execution_count": 13,
     "metadata": {},
     "output_type": "execute_result"
    }
   ],
   "source": [
    "c - d"
   ]
  },
  {
   "cell_type": "markdown",
   "id": "117b2760-fd6a-4d71-96cc-e43fea3249f0",
   "metadata": {},
   "source": [
    "### Multiplication"
   ]
  },
  {
   "cell_type": "code",
   "execution_count": 14,
   "id": "f7c6dda3-bfb4-430d-8e27-5046e022e4b3",
   "metadata": {},
   "outputs": [
    {
     "data": {
      "text/plain": [
       "369.572"
      ]
     },
     "execution_count": 14,
     "metadata": {},
     "output_type": "execute_result"
    }
   ],
   "source": [
    "x * y"
   ]
  },
  {
   "cell_type": "markdown",
   "id": "47ea8ead-0c81-4ee5-b201-bf8555047320",
   "metadata": {},
   "source": [
    "### Division"
   ]
  },
  {
   "cell_type": "code",
   "execution_count": 24,
   "id": "abb5dc82-41d3-4b5b-8d14-d9e316e56e30",
   "metadata": {},
   "outputs": [
    {
     "data": {
      "text/plain": [
       "5.0"
      ]
     },
     "execution_count": 24,
     "metadata": {},
     "output_type": "execute_result"
    }
   ],
   "source": [
    "c / z"
   ]
  },
  {
   "cell_type": "code",
   "execution_count": 28,
   "id": "be238b34",
   "metadata": {},
   "outputs": [
    {
     "data": {
      "text/plain": [
       "9.0"
      ]
     },
     "execution_count": 28,
     "metadata": {},
     "output_type": "execute_result"
    }
   ],
   "source": [
    "x // z"
   ]
  },
  {
   "cell_type": "markdown",
   "id": "417dfc34-cbff-487e-a880-b033ae5a09a5",
   "metadata": {},
   "source": [
    "### Exponential"
   ]
  },
  {
   "cell_type": "code",
   "execution_count": 16,
   "id": "1a52bc5e-87a0-4e50-a963-fe64a29586d4",
   "metadata": {},
   "outputs": [
    {
     "data": {
      "text/plain": [
       "4096"
      ]
     },
     "execution_count": 16,
     "metadata": {},
     "output_type": "execute_result"
    }
   ],
   "source": [
    "a**d"
   ]
  },
  {
   "cell_type": "markdown",
   "id": "7d7600e2",
   "metadata": {},
   "source": [
    "### Square Root"
   ]
  },
  {
   "cell_type": "code",
   "execution_count": 19,
   "id": "f96b0931",
   "metadata": {},
   "outputs": [],
   "source": [
    "import math"
   ]
  },
  {
   "cell_type": "code",
   "execution_count": 20,
   "id": "22831925",
   "metadata": {},
   "outputs": [
    {
     "data": {
      "text/plain": [
       "2.0"
      ]
     },
     "execution_count": 20,
     "metadata": {},
     "output_type": "execute_result"
    }
   ],
   "source": [
    "math.sqrt(4)"
   ]
  }
 ],
 "metadata": {
  "kernelspec": {
   "display_name": "Python 3 (ipykernel)",
   "language": "python",
   "name": "python3"
  },
  "language_info": {
   "codemirror_mode": {
    "name": "ipython",
    "version": 3
   },
   "file_extension": ".py",
   "mimetype": "text/x-python",
   "name": "python",
   "nbconvert_exporter": "python",
   "pygments_lexer": "ipython3",
   "version": "3.11.9"
  }
 },
 "nbformat": 4,
 "nbformat_minor": 5
}

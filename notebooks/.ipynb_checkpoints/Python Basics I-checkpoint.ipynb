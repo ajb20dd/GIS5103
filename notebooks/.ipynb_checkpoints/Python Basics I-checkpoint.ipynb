{
 "cells": [
  {
   "cell_type": "markdown",
   "id": "65eaef59",
   "metadata": {},
   "source": [
    "# Python Basics I: Variables and Data Types\n",
    "\n",
    "In this class, we'll start by learning about variables and how they store information in Python. We'll then explore different data types like numbers, text, true/false values, and lists.\n",
    "\n",
    "- [Variables](#variables)\n",
    "- [Data Types](#data-types)\n",
    "- [Numbers and maths](#numbers-and-maths)\n",
    "- [Strings](#strings)\n",
    "- [Booleans](#booleans)\n",
    "- [Operators](#operators)\n",
    "- [Lists](#lists)\n",
    "- [Dictionaries](#dictionaries)"
   ]
  },
  {
   "cell_type": "markdown",
   "id": "3e97eb72",
   "metadata": {},
   "source": [
    "## Variables\n",
    "Variables are containers for storing data values."
   ]
  },
  {
   "cell_type": "markdown",
   "id": "cddeb222",
   "metadata": {},
   "source": [
    "### Creating Variables\n",
    "Python has no command for declaring a variable.\n",
    "\n",
    "A variable is created the moment you first assign a value to it."
   ]
  },
  {
   "cell_type": "code",
   "execution_count": 1,
   "id": "9b83151c",
   "metadata": {},
   "outputs": [
    {
     "name": "stdout",
     "output_type": "stream",
     "text": [
      "4\n",
      "Car\n",
      "Car\n"
     ]
    }
   ],
   "source": [
    "a = 4\n",
    "b = \"Car\"\n",
    "c = 'Car' # in Python, single and double quotes are the same\n",
    "\n",
    "print(a)\n",
    "print(b)\n",
    "print(c)"
   ]
  },
  {
   "cell_type": "markdown",
   "id": "717d289e",
   "metadata": {},
   "source": [
    "Variables do not need to be declared with any particular type, and can even change type after they have been set."
   ]
  },
  {
   "cell_type": "code",
   "execution_count": 2,
   "id": "4499cc0b",
   "metadata": {},
   "outputs": [
    {
     "name": "stdout",
     "output_type": "stream",
     "text": [
      "Car\n"
     ]
    }
   ],
   "source": [
    "a = 4\n",
    "a = \"Car\" #Override the previous set value\n",
    "\n",
    "print(a)"
   ]
  },
  {
   "cell_type": "markdown",
   "id": "2b53184f",
   "metadata": {},
   "source": [
    "#### Comments\n",
    "You probabaly notice that there are texts in green. These are the comments. Comments can be used to explain Python code. Comments can be used to make the code more readable. Comments can be used to prevent execution when testing code."
   ]
  },
  {
   "cell_type": "code",
   "execution_count": 3,
   "id": "e4fe0137",
   "metadata": {},
   "outputs": [],
   "source": [
    "# This is a comment\n",
    "#a=5, This is not executed\n",
    "a = 5 # This is executed\n"
   ]
  },
  {
   "cell_type": "code",
   "execution_count": 4,
   "id": "1b619a9c",
   "metadata": {},
   "outputs": [],
   "source": [
    "\"\"\"\n",
    "This is a comment\n",
    "written in\n",
    "more than just one line\n",
    "a = 5 # This is not executed since it is in a comment.\n",
    "\n",
    "\"\"\"\n",
    "a =5"
   ]
  },
  {
   "cell_type": "markdown",
   "id": "7a9d4dc6",
   "metadata": {},
   "source": [
    "Lets get back to variables"
   ]
  },
  {
   "cell_type": "markdown",
   "id": "5e98c8c5",
   "metadata": {},
   "source": [
    "### Variable Names\n",
    "A variable can have a short name (like x and y) or a more descriptive name (age, carname, total_volume). Rules for Python variables:\n",
    "- A variable name must start with a letter or the underscore character (_)\n",
    "- A variable name cannot start with a number\n",
    "- A variable name can only contain alpha-numeric characters and underscores (A-z, 0-9, and _ )\n",
    "- Variable names are case-sensitive (age, Age and AGE are three different variables)\n",
    "- A variable name cannot be any of the Python keywords. Python keywords are special reserved words that have specific meanings and purposes and can’t be used for anything but those specific purposes."
   ]
  },
  {
   "cell_type": "code",
   "execution_count": 5,
   "id": "ca0a0c49",
   "metadata": {},
   "outputs": [
    {
     "name": "stdout",
     "output_type": "stream",
     "text": [
      "\n",
      "Here is a list of the Python keywords.  Enter any keyword to get more help.\n",
      "\n",
      "False               class               from                or\n",
      "None                continue            global              pass\n",
      "True                def                 if                  raise\n",
      "and                 del                 import              return\n",
      "as                  elif                in                  try\n",
      "assert              else                is                  while\n",
      "async               except              lambda              with\n",
      "await               finally             nonlocal            yield\n",
      "break               for                 not                 \n",
      "\n"
     ]
    }
   ],
   "source": [
    "help(\"keywords\")"
   ]
  },
  {
   "cell_type": "code",
   "execution_count": 6,
   "id": "aa7ae5ef",
   "metadata": {},
   "outputs": [],
   "source": [
    "# Valid variable names:\n",
    "myname = \"John\"\n",
    "my_name = \"John\"\n",
    "_my_name = \"John\"\n",
    "myName = \"John\"\n",
    "MYNAME = \"John\"\n",
    "myname2 = \"John\""
   ]
  },
  {
   "cell_type": "code",
   "execution_count": 7,
   "id": "a2c2f2a3",
   "metadata": {},
   "outputs": [
    {
     "ename": "SyntaxError",
     "evalue": "invalid decimal literal (2145715527.py, line 2)",
     "output_type": "error",
     "traceback": [
      "\u001b[0;36m  Cell \u001b[0;32mIn[7], line 2\u001b[0;36m\u001b[0m\n\u001b[0;31m    2myname = \"John\"\u001b[0m\n\u001b[0m    ^\u001b[0m\n\u001b[0;31mSyntaxError\u001b[0m\u001b[0;31m:\u001b[0m invalid decimal literal\n"
     ]
    }
   ],
   "source": [
    "#Wrong variable names will get a syntax error:\n",
    "2myname = \"John\"\n",
    "my-name = \"John\"\n",
    "my name = \"Jone\""
   ]
  },
  {
   "cell_type": "markdown",
   "id": "5093df20",
   "metadata": {},
   "source": [
    "### Multi Words Variable Names\n",
    "Variable names with more than one word can be difficult to read.\n",
    "\n",
    "There are several techniques you can use to make them more readable:"
   ]
  },
  {
   "cell_type": "code",
   "execution_count": 8,
   "id": "b9b3587b",
   "metadata": {},
   "outputs": [],
   "source": [
    "myLastName = \"Li\" # Camel Case\n",
    "my_last_name = \"Li\" # Snake Case\n",
    "MyLastName = \"Li\" # Pascal Case"
   ]
  },
  {
   "cell_type": "markdown",
   "id": "1f36ac8d",
   "metadata": {},
   "source": [
    "### Assign Multiple Values\n",
    "\n",
    "Python allows you to assign values to multiple variables in one line:"
   ]
  },
  {
   "cell_type": "code",
   "execution_count": 9,
   "id": "59c37bc5",
   "metadata": {},
   "outputs": [
    {
     "name": "stdout",
     "output_type": "stream",
     "text": [
      "Orange\n",
      "Banana\n",
      "Cherry\n"
     ]
    }
   ],
   "source": [
    "x, y, z = \"Orange\", \"Banana\", \"Cherry\"\n",
    "print(x)\n",
    "print(y)\n",
    "print(z)"
   ]
  },
  {
   "cell_type": "code",
   "execution_count": 10,
   "id": "3e9d9c2d",
   "metadata": {},
   "outputs": [
    {
     "name": "stdout",
     "output_type": "stream",
     "text": [
      "Orange\n",
      "Orange\n",
      "Orange\n"
     ]
    }
   ],
   "source": [
    "x = y = z = \"Orange\"\n",
    "print(x)\n",
    "print(y)\n",
    "print(z)"
   ]
  },
  {
   "cell_type": "code",
   "execution_count": 11,
   "id": "e509a2a5",
   "metadata": {},
   "outputs": [
    {
     "name": "stdout",
     "output_type": "stream",
     "text": [
      "apple\n",
      "banana\n",
      "cherry\n"
     ]
    }
   ],
   "source": [
    "fruits = [\"apple\", \"banana\", \"cherry\"] # This is called a list\n",
    "x, y, z = fruits\n",
    "print(x)\n",
    "print(y)\n",
    "print(z)"
   ]
  },
  {
   "cell_type": "markdown",
   "id": "e5cde7d5",
   "metadata": {},
   "source": [
    "### Output Variables\n",
    "\n",
    "The Python `print()` function is often used to output variables."
   ]
  },
  {
   "cell_type": "code",
   "execution_count": 12,
   "id": "e2d3cac3",
   "metadata": {},
   "outputs": [
    {
     "name": "stdout",
     "output_type": "stream",
     "text": [
      "Python is awesome\n"
     ]
    }
   ],
   "source": [
    "x = \"Python is awesome\"\n",
    "print(x)"
   ]
  },
  {
   "cell_type": "markdown",
   "id": "fe37afdd",
   "metadata": {},
   "source": [
    "In the print() function, you output multiple variables, separated by a comma:"
   ]
  },
  {
   "cell_type": "code",
   "execution_count": 13,
   "id": "1554c3ab",
   "metadata": {},
   "outputs": [
    {
     "name": "stdout",
     "output_type": "stream",
     "text": [
      "Python is awesome\n"
     ]
    }
   ],
   "source": [
    "x = \"Python\"\n",
    "y = \"is\"\n",
    "z = \"awesome\"\n",
    "print(x, y, z)"
   ]
  },
  {
   "cell_type": "markdown",
   "id": "f6a0e74a",
   "metadata": {},
   "source": [
    "You can also use `+` sign to concatenate variables (words)."
   ]
  },
  {
   "cell_type": "code",
   "execution_count": 14,
   "id": "56588bf9",
   "metadata": {},
   "outputs": [
    {
     "name": "stdout",
     "output_type": "stream",
     "text": [
      "Python is awesome\n"
     ]
    }
   ],
   "source": [
    "x = \"Python \"\n",
    "y = \"is \"\n",
    "z = \"awesome\"\n",
    "print(x + y + z)"
   ]
  },
  {
   "cell_type": "markdown",
   "id": "12bee854",
   "metadata": {},
   "source": [
    "## Data Types"
   ]
  },
  {
   "cell_type": "markdown",
   "id": "5cf93275",
   "metadata": {},
   "source": [
    "In programming, data type is an important concept.\n",
    "\n",
    "Variables can store data of different types, and different types can do different things.\n",
    "\n",
    "Python has the following data types built-in by default, in these categories:\n",
    "\n",
    "- Text Type:\t`str`\n",
    "- Numeric Types:\t`int`, `float`, `complex`\n",
    "- Sequence Types:\t`list`, `tuple`, `range`\n",
    "- Mapping Type:\t`dict`\n",
    "- Set Types:\t`set`, `frozenset`\n",
    "- Boolean Type:\t`bool`\n",
    "- Binary Types:\t`bytes`, `bytearray`, `memoryview`\n",
    "- None Type:\t`NoneType`"
   ]
  },
  {
   "cell_type": "markdown",
   "id": "a25f82f3",
   "metadata": {},
   "source": []
  },
  {
   "cell_type": "code",
   "execution_count": 15,
   "id": "12a8ab66",
   "metadata": {},
   "outputs": [
    {
     "name": "stdout",
     "output_type": "stream",
     "text": [
      "<class 'int'>\n"
     ]
    }
   ],
   "source": [
    "#You can get the data type of any object by using the type() function:\n",
    "x = 5\n",
    "print(type(x))"
   ]
  },
  {
   "cell_type": "markdown",
   "id": "e6972b1f",
   "metadata": {},
   "source": [
    "Setting common data types"
   ]
  },
  {
   "cell_type": "code",
   "execution_count": 16,
   "id": "fb252bb3",
   "metadata": {},
   "outputs": [],
   "source": [
    "x1 = \"Hello World\" #str\t\n",
    "x2 = 20\t#int\t\n",
    "x3 = 20.5\t#float\t\n",
    "x4 = [\"apple\", \"banana\", \"cherry\"]\t#list\t\n",
    "x5 = (\"apple\", \"banana\", \"cherry\")\t#tuple\t\n",
    "x6 = range(6)\t#range\t\n",
    "x7 = {\"name\" : \"John\", \"age\" : 36}\t#dict\t\n",
    "x8 = True\t#bool\t\n",
    "x9 = None\t#NoneType"
   ]
  },
  {
   "cell_type": "markdown",
   "id": "9c69a831",
   "metadata": {},
   "source": [
    "## Numbers and maths"
   ]
  },
  {
   "cell_type": "markdown",
   "id": "de36e72c",
   "metadata": {},
   "source": [
    "There are three numeric types in Python: `int`, `float`, and `complex`. \n",
    "- `int`: Int, or integer, is a whole number, positive or negative, without decimals.\n",
    "- `float`: Float, or \"floating point number\" is a number, positive or negative, containing one or more decimals. "
   ]
  },
  {
   "cell_type": "code",
   "execution_count": 17,
   "id": "69d37382",
   "metadata": {},
   "outputs": [
    {
     "name": "stdout",
     "output_type": "stream",
     "text": [
      "<class 'int'>\n",
      "<class 'int'>\n",
      "<class 'int'>\n"
     ]
    }
   ],
   "source": [
    "x = 1\n",
    "y = 123213123\n",
    "z = -12323\n",
    "\n",
    "print(type(x))\n",
    "print(type(y))\n",
    "print(type(z))"
   ]
  },
  {
   "cell_type": "code",
   "execution_count": 18,
   "id": "69ea9287",
   "metadata": {},
   "outputs": [
    {
     "name": "stdout",
     "output_type": "stream",
     "text": [
      "<class 'float'>\n",
      "<class 'float'>\n",
      "<class 'float'>\n"
     ]
    }
   ],
   "source": [
    "x = 1.33333\n",
    "y = 1.5\n",
    "z = -35.59\n",
    "\n",
    "print(type(x))\n",
    "print(type(y))\n",
    "print(type(z))"
   ]
  },
  {
   "cell_type": "markdown",
   "id": "766027a5",
   "metadata": {},
   "source": [
    "Float can also be scientific numbers with an `e` to indicate the power of 10."
   ]
  },
  {
   "cell_type": "code",
   "execution_count": 19,
   "id": "d25412e2",
   "metadata": {},
   "outputs": [
    {
     "data": {
      "text/plain": [
       "600.0"
      ]
     },
     "execution_count": 19,
     "metadata": {},
     "output_type": "execute_result"
    }
   ],
   "source": [
    "x = 6e2 # 6 times 10 to the power of 2 = 600\n",
    "x"
   ]
  },
  {
   "cell_type": "markdown",
   "id": "55bc96a9",
   "metadata": {},
   "source": [
    "## Strings\n",
    "\n",
    "Strings in python are surrounded by either single quotation marks, or double quotation marks."
   ]
  },
  {
   "cell_type": "code",
   "execution_count": 20,
   "id": "84940f1f",
   "metadata": {},
   "outputs": [
    {
     "name": "stdout",
     "output_type": "stream",
     "text": [
      "Hello, World!\n"
     ]
    }
   ],
   "source": [
    "a = \"Hello, World!\"\n",
    "print(a)"
   ]
  },
  {
   "cell_type": "markdown",
   "id": "eeb2b522",
   "metadata": {},
   "source": [
    "### Strings are Arrays\n",
    "Like many other popular programming languages, strings in Python are arrays of bytes representing unicode characters.\n",
    "\n",
    "However, Python does not have a character data type, a single character is simply a string with a length of 1.\n",
    "\n",
    "Square brackets can be used to access elements of the string."
   ]
  },
  {
   "cell_type": "code",
   "execution_count": 21,
   "id": "258aa307",
   "metadata": {},
   "outputs": [
    {
     "name": "stdout",
     "output_type": "stream",
     "text": [
      "H\n",
      "e\n",
      "!\n"
     ]
    }
   ],
   "source": [
    "a = \"Hello, World!\"\n",
    "print(a[0]) # The first character in the string\n",
    "print(a[1]) # The second character in the string\n",
    "print(a[-1]) # The last character in the string"
   ]
  },
  {
   "cell_type": "code",
   "execution_count": 22,
   "id": "3d6105ab",
   "metadata": {},
   "outputs": [
    {
     "name": "stdout",
     "output_type": "stream",
     "text": [
      "13\n"
     ]
    }
   ],
   "source": [
    "#The len() function returns the length of a string:\n",
    "print(len(a)) # 13 characters in the string\n"
   ]
  },
  {
   "cell_type": "markdown",
   "id": "2f923cd8",
   "metadata": {},
   "source": [
    "### Check String\n",
    "\n",
    "To check if a certain phrase or character is present in a string, we can use the keyword in."
   ]
  },
  {
   "cell_type": "code",
   "execution_count": 23,
   "id": "c97091d9",
   "metadata": {},
   "outputs": [
    {
     "name": "stdout",
     "output_type": "stream",
     "text": [
      "True\n"
     ]
    }
   ],
   "source": [
    "sentence = \"I love donuts\"\n",
    "\n",
    "print(\"donuts\" in sentence) #True if the word is in the sentence, False if not"
   ]
  },
  {
   "cell_type": "markdown",
   "id": "35b0a6fc",
   "metadata": {},
   "source": [
    "Check if \"muffin\" is NOT present in the following text:"
   ]
  },
  {
   "cell_type": "code",
   "execution_count": null,
   "id": "275d2a02",
   "metadata": {},
   "outputs": [],
   "source": []
  },
  {
   "cell_type": "code",
   "execution_count": 24,
   "id": "bed76137",
   "metadata": {},
   "outputs": [
    {
     "name": "stdout",
     "output_type": "stream",
     "text": [
      "True\n",
      "False\n"
     ]
    }
   ],
   "source": [
    "sentence = \"I love donuts\"\n",
    "\n",
    "print(\"muffin\" not in sentence) #True if the word is NOT in the sentence, False if it is\n",
    "print(\"muffin\" in sentence) #True if the word is in the sentence, False if not"
   ]
  },
  {
   "cell_type": "markdown",
   "id": "1432426f",
   "metadata": {},
   "source": [
    "### Slicing\n",
    "You can return a range of characters by using the slice syntax.\n",
    "\n",
    "Specify the start index () and the end index, separated by a colon, to return a part of the string.\n",
    "\n",
    "**Note**: that the first character has index 0, and the character at the end index is not included."
   ]
  },
  {
   "cell_type": "code",
   "execution_count": 25,
   "id": "69c49e8f",
   "metadata": {},
   "outputs": [
    {
     "name": "stdout",
     "output_type": "stream",
     "text": [
      "llo\n"
     ]
    }
   ],
   "source": [
    "b = \"Hello, World!\"\n",
    "print(b[2:5])"
   ]
  },
  {
   "cell_type": "markdown",
   "id": "e4f1ca5d",
   "metadata": {},
   "source": [
    "By leaving out the start index, the range will start at the first character:"
   ]
  },
  {
   "cell_type": "code",
   "execution_count": 26,
   "id": "45d930f8",
   "metadata": {},
   "outputs": [
    {
     "name": "stdout",
     "output_type": "stream",
     "text": [
      "Hello\n"
     ]
    }
   ],
   "source": [
    "#Get the characters from the start to position 5 (not included):\n",
    "print(b[:5])"
   ]
  },
  {
   "cell_type": "markdown",
   "id": "a66b077c",
   "metadata": {},
   "source": [
    "By leaving out the end index, the range will go to the end:"
   ]
  },
  {
   "cell_type": "code",
   "execution_count": 27,
   "id": "ff1af798",
   "metadata": {},
   "outputs": [
    {
     "name": "stdout",
     "output_type": "stream",
     "text": [
      "llo, World!\n"
     ]
    }
   ],
   "source": [
    "# Get the characters from position 2, and all the way to the end:\n",
    "b = \"Hello, World!\"\n",
    "print(b[2:])"
   ]
  },
  {
   "cell_type": "markdown",
   "id": "0cf94259",
   "metadata": {},
   "source": [
    "Use negative indexes to start the slice from the end of the string:"
   ]
  },
  {
   "cell_type": "markdown",
   "id": "98573fc3",
   "metadata": {},
   "source": [
    "Get the characters:\n",
    "\n",
    "From: \"o\" in \"World!\" (position -5)\n",
    "\n",
    "To, but not included: \"d\" in \"World!\" (position -2):\n",
    "\n"
   ]
  },
  {
   "cell_type": "code",
   "execution_count": 28,
   "id": "4d1c49fd",
   "metadata": {},
   "outputs": [
    {
     "name": "stdout",
     "output_type": "stream",
     "text": [
      "orl\n"
     ]
    }
   ],
   "source": [
    "b = \"Hello, World!\"\n",
    "print(b[-5:-2])"
   ]
  },
  {
   "cell_type": "markdown",
   "id": "5a132577",
   "metadata": {},
   "source": [
    "### Modify Strings\n",
    "\n",
    "Python has a set of built-in methods that you can use on strings."
   ]
  },
  {
   "cell_type": "code",
   "execution_count": 29,
   "id": "7331b834",
   "metadata": {},
   "outputs": [
    {
     "name": "stdout",
     "output_type": "stream",
     "text": [
      "HELLO, WORLD!\n"
     ]
    }
   ],
   "source": [
    "# Upper case\n",
    "a = \"Hello, World!\"\n",
    "a_big = a.upper()\n",
    "print(a_big)"
   ]
  },
  {
   "cell_type": "code",
   "execution_count": 30,
   "id": "dca83f31",
   "metadata": {},
   "outputs": [
    {
     "name": "stdout",
     "output_type": "stream",
     "text": [
      "hello, world!\n"
     ]
    }
   ],
   "source": [
    "# Lower case\n",
    "a = \"Hello, World!\"\n",
    "a_small = a.lower()\n",
    "print(a_small)"
   ]
  },
  {
   "cell_type": "code",
   "execution_count": 31,
   "id": "c1e0ae13",
   "metadata": {},
   "outputs": [
    {
     "name": "stdout",
     "output_type": "stream",
     "text": [
      "Hello, World!\n"
     ]
    }
   ],
   "source": [
    "#Remove trailing white space\n",
    "a = \"        Hello, World! \"\n",
    "a_no_space = a.strip()\n",
    "print(a_no_space)"
   ]
  },
  {
   "cell_type": "code",
   "execution_count": 32,
   "id": "725cdde7",
   "metadata": {},
   "outputs": [
    {
     "name": "stdout",
     "output_type": "stream",
     "text": [
      "Jello, World!\n"
     ]
    }
   ],
   "source": [
    "a = \"Hello, World!\"\n",
    "a_new = a.replace(\"H\", \"J\")\n",
    "print(a_new)"
   ]
  },
  {
   "cell_type": "code",
   "execution_count": 33,
   "id": "c1055ace",
   "metadata": {},
   "outputs": [
    {
     "name": "stdout",
     "output_type": "stream",
     "text": [
      "['Hello', ' World!']\n",
      "Hello\n",
      " World!\n"
     ]
    }
   ],
   "source": [
    "a = \"Hello, World!\"\n",
    "a_split = a.split(\",\")\n",
    "print(a_split)\n",
    "\n",
    "print(a_split[0]) #First word\n",
    "print(a_split[1]) # Second word"
   ]
  },
  {
   "cell_type": "code",
   "execution_count": 34,
   "id": "d7b1149b",
   "metadata": {},
   "outputs": [
    {
     "name": "stdout",
     "output_type": "stream",
     "text": [
      "HelloWorld\n",
      "Hello World\n"
     ]
    }
   ],
   "source": [
    "#Combine strings\n",
    "a = \"Hello\"\n",
    "b = \"World\"\n",
    "c = a + b\n",
    "space = \" \"\n",
    "\n",
    "print(c)\n",
    "\n",
    "print(a + space + b)"
   ]
  },
  {
   "cell_type": "markdown",
   "id": "351696ae",
   "metadata": {},
   "source": [
    "Other built-in string functions: https://www.w3schools.com/python/python_strings_methods.asp"
   ]
  },
  {
   "cell_type": "markdown",
   "id": "0db4b83a",
   "metadata": {},
   "source": [
    "## Booleans\n",
    "Booleans represent one of two values: True or False."
   ]
  },
  {
   "cell_type": "markdown",
   "id": "fdd14517",
   "metadata": {},
   "source": [
    "In programming you often need to know if an expression is `True` or `False`.\n",
    "\n",
    "You can evaluate any expression in Python, and get one of two answers, `True` or `False`.\n",
    "\n",
    "When you compare two values, the expression is evaluated and Python returns the Boolean answer:\n",
    "\n"
   ]
  },
  {
   "cell_type": "code",
   "execution_count": 35,
   "id": "b1c9a846",
   "metadata": {},
   "outputs": [
    {
     "name": "stdout",
     "output_type": "stream",
     "text": [
      "True\n",
      "False\n",
      "False\n"
     ]
    }
   ],
   "source": [
    "print(10 > 9)\n",
    "print(10 == 9) # two equal signs for testing equality\n",
    "print(10 < 9)"
   ]
  },
  {
   "cell_type": "markdown",
   "id": "c1bb6729",
   "metadata": {},
   "source": [
    "## Operators\n",
    "\n",
    "Operators are used to perform operations on variables and values.\n",
    "\n",
    "In the example below, we use the + operator to add together two values:"
   ]
  },
  {
   "cell_type": "code",
   "execution_count": 36,
   "id": "18617325",
   "metadata": {},
   "outputs": [
    {
     "data": {
      "text/plain": [
       "8"
      ]
     },
     "execution_count": 36,
     "metadata": {},
     "output_type": "execute_result"
    }
   ],
   "source": [
    "3 + 5 "
   ]
  },
  {
   "cell_type": "markdown",
   "id": "ac89f035",
   "metadata": {},
   "source": [
    "Python divides the operators in the following groups:\n",
    "\n",
    "- Arithmetic operators\n",
    "- Assignment operators\n",
    "- Comparison operators\n",
    "- Logical operators\n",
    "- Identity operators\n",
    "- Membership operators\n",
    "- Bitwise operators"
   ]
  },
  {
   "cell_type": "markdown",
   "id": "569ab65a",
   "metadata": {},
   "source": [
    "### Arithmetic operators\n",
    "Arithmetic operators are used with numeric values to perform common mathematical operations:\n",
    "| Operator | Name            | Example  |\n",
    "|----------|-----------------|----------|\n",
    "| +        | Addition        | x + y    |\n",
    "| -        | Subtraction     | x - y    |\n",
    "| *        | Multiplication  | x * y    |\n",
    "| /        | Division        | x / y    |\n",
    "| %        | Modulus         | x % y    |\n",
    "| **       | Exponentiation  | x ** y   |\n",
    "| //       | Floor division  | x // y   |\n"
   ]
  },
  {
   "cell_type": "code",
   "execution_count": 37,
   "id": "c633bb41",
   "metadata": {},
   "outputs": [
    {
     "name": "stdout",
     "output_type": "stream",
     "text": [
      "32\n",
      "2\n"
     ]
    }
   ],
   "source": [
    "print(2**5)\n",
    "print(5//2)"
   ]
  },
  {
   "cell_type": "markdown",
   "id": "93c404a9",
   "metadata": {},
   "source": [
    "### Assignment operators\n",
    "Assignment operators are used to assign values to variables:\n",
    "\n",
    "| Operator | Example       | Same As       |\n",
    "|----------|---------------|---------------|\n",
    "| =        | x = 5         | x = 5         |\n",
    "| +=       | x += 3        | x = x + 3     |\n",
    "| -=       | x -= 3        | x = x - 3     |\n",
    "| *=       | x *= 3        | x = x * 3     |\n",
    "| /=       | x /= 3        | x = x / 3     |\n",
    "| %=       | x %= 3        | x = x % 3     |\n",
    "| //=      | x //= 3       | x = x // 3    |\n",
    "| **=      | x **= 3       | x = x ** 3    |\n"
   ]
  },
  {
   "cell_type": "code",
   "execution_count": 38,
   "id": "53c9f940",
   "metadata": {},
   "outputs": [
    {
     "name": "stdout",
     "output_type": "stream",
     "text": [
      "5\n"
     ]
    }
   ],
   "source": [
    "x = 5\n",
    "x += 3\n",
    "print(5)"
   ]
  },
  {
   "cell_type": "markdown",
   "id": "43609af8",
   "metadata": {},
   "source": [
    "### Comparison Operators\n",
    "\n",
    "Comparison operators are used to compare two values:\n",
    "\n",
    "| Operator | Name                       | Example  |\n",
    "|----------|----------------------------|----------|\n",
    "| ==       | Equal                      | x == y   |\n",
    "| !=       | Not equal                  | x != y   |\n",
    "| >        | Greater than               | x > y    |\n",
    "| <        | Less than                  | x < y    |\n",
    "| >=       | Greater than or equal to   | x >= y   |\n",
    "| <=       | Less than or equal to      | x <= y   |\n"
   ]
  },
  {
   "cell_type": "code",
   "execution_count": 39,
   "id": "279f8be9",
   "metadata": {},
   "outputs": [
    {
     "name": "stdout",
     "output_type": "stream",
     "text": [
      "True\n"
     ]
    }
   ],
   "source": [
    "x = 5\n",
    "y = 5\n",
    "\n",
    "print(x == y)"
   ]
  },
  {
   "cell_type": "markdown",
   "id": "7eaae30f",
   "metadata": {},
   "source": [
    "### Logical operators\n",
    "Logical operators are used to combine conditional statements:\n",
    "\n",
    "| Operator | Description                                      | Example                        |\n",
    "|----------|--------------------------------------------------|--------------------------------|\n",
    "| and      | Returns True if both statements are true         | x < 5 and x < 10               |\n",
    "| or       | Returns True if one of the statements is true    | x < 5 or x < 4                 |\n",
    "| not      | Reverse the result, returns False if true        | not(x < 5 and x < 10)          |\n"
   ]
  },
  {
   "cell_type": "code",
   "execution_count": 40,
   "id": "d2541a69",
   "metadata": {},
   "outputs": [
    {
     "name": "stdout",
     "output_type": "stream",
     "text": [
      "True\n",
      "True\n"
     ]
    }
   ],
   "source": [
    "x = 3\n",
    "\n",
    "print(x > 0 and x < 4)\n",
    "\n",
    "print(x < 0 or x < 4)"
   ]
  },
  {
   "cell_type": "markdown",
   "id": "789eec66",
   "metadata": {},
   "source": [
    "### Membership Operators\n",
    "Membership operators are used to test if a sequence is presented in an object:\n",
    "\n",
    "| Operator | Description                                                           | Example    |\n",
    "|----------|------------------------------------------------------------------------|------------|\n",
    "| in       | Returns True if a sequence with the specified value is present in the object | x in y     |\n",
    "| not in   | Returns True if a sequence with the specified value is not present in the object | x not in y |\n"
   ]
  },
  {
   "cell_type": "code",
   "execution_count": 41,
   "id": "27914268",
   "metadata": {},
   "outputs": [
    {
     "name": "stdout",
     "output_type": "stream",
     "text": [
      "True\n",
      "True\n"
     ]
    }
   ],
   "source": [
    "list_of_numbers = [1, 5, 10]\n",
    "\n",
    "x = 5\n",
    "y = 7\n",
    "\n",
    "print(x in list_of_numbers)\n",
    "\n",
    "print(7 not in list_of_numbers)"
   ]
  },
  {
   "cell_type": "markdown",
   "id": "8ef49edd",
   "metadata": {},
   "source": [
    "### Operator Precedence\n",
    "\n",
    "Operator precedence describes the order in which operations are performed.\n",
    "\n",
    "Parentheses has the highest precedence, meaning that expressions inside parentheses must be evaluated first. \"**\" is higher than \"*\" and \"/\" than \"+\" and \"-\", than logical operators `and`, `or`. It is pretty similar to the general math rules, but to avoid confusion, it is suggested to use parentheses to highlight the order of execution.\n",
    "\n"
   ]
  },
  {
   "cell_type": "code",
   "execution_count": 42,
   "id": "dc994231",
   "metadata": {},
   "outputs": [
    {
     "name": "stdout",
     "output_type": "stream",
     "text": [
      "115\n"
     ]
    }
   ],
   "source": [
    "print(100 + 5 * 3)"
   ]
  },
  {
   "cell_type": "code",
   "execution_count": 43,
   "id": "443c0739",
   "metadata": {},
   "outputs": [
    {
     "name": "stdout",
     "output_type": "stream",
     "text": [
      "315\n"
     ]
    }
   ],
   "source": [
    "print((100 + 5 ) * 3)"
   ]
  },
  {
   "cell_type": "markdown",
   "id": "f1fa9ec3",
   "metadata": {},
   "source": [
    "## Lists\n",
    "\n",
    "Lists are used to store multiple items in a single variable.\n",
    "\n",
    "Lists are one of 4 built-in data types in Python used to store collections of data, the other 3 are Tuple, Set, and Dictionary. There are some nuances but tuple, set are similar to lists. Dictionary is a bit different though\n"
   ]
  },
  {
   "cell_type": "markdown",
   "id": "2545299a",
   "metadata": {},
   "source": [
    "Lists are created using square brackets:"
   ]
  },
  {
   "cell_type": "code",
   "execution_count": 44,
   "id": "428df0de",
   "metadata": {},
   "outputs": [
    {
     "name": "stdout",
     "output_type": "stream",
     "text": [
      "['apple', 'banana', 'cherry']\n"
     ]
    }
   ],
   "source": [
    "myList = [\"apple\", \"banana\", \"cherry\"]\n",
    "\n",
    "print(myList)"
   ]
  },
  {
   "cell_type": "markdown",
   "id": "f0815ed1",
   "metadata": {},
   "source": [
    "### List Items\n",
    "List items are ordered, changeable, and allow duplicate values. List items are indexed, the first item has index [0], the second item has index [1] etc.\n",
    "- **Ordered**: When we say that lists are ordered, it means that the items have a defined order, and that order will not change. If you add new items to a list, the new items will be placed at the end of the list.\n",
    "- **Changeable**: The list is changeable, meaning that we can change, add, and remove items in a list after it has been created.\n",
    "- **Allow Duplicates**: Since lists are indexed, lists can have items with the same value:"
   ]
  },
  {
   "cell_type": "code",
   "execution_count": 45,
   "id": "3d954620",
   "metadata": {},
   "outputs": [
    {
     "name": "stdout",
     "output_type": "stream",
     "text": [
      "['apple', 'banana', 'cherry', 'apple', 'mango']\n"
     ]
    }
   ],
   "source": [
    "myList = [\"apple\", \"banana\", \"cherry\", \"apple\", \"mango\"]\n",
    "\n",
    "print(myList)"
   ]
  },
  {
   "cell_type": "code",
   "execution_count": 46,
   "id": "c80b475a",
   "metadata": {},
   "outputs": [
    {
     "data": {
      "text/plain": [
       "5"
      ]
     },
     "execution_count": 46,
     "metadata": {},
     "output_type": "execute_result"
    }
   ],
   "source": [
    "#List Length\n",
    "len(myList)"
   ]
  },
  {
   "cell_type": "markdown",
   "id": "9a21ad8a",
   "metadata": {},
   "source": [
    "### List elements indexing\n"
   ]
  },
  {
   "cell_type": "code",
   "execution_count": 47,
   "id": "345e6a0e",
   "metadata": {},
   "outputs": [
    {
     "name": "stdout",
     "output_type": "stream",
     "text": [
      "apple\n",
      "mango\n",
      "['cherry', 'apple', 'mango']\n",
      "['apple', 'mango']\n",
      "['apple', 'banana', 'cherry']\n",
      "['cherry', 'apple']\n"
     ]
    }
   ],
   "source": [
    "print(myList[0]) #First element\n",
    "\n",
    "print(myList[-1]) #Last element\n",
    "\n",
    "print(myList[2:5]) #Third to fifth element\n",
    "\n",
    "print(myList[3:]) #Forth element to the end\n",
    "\n",
    "print(myList[:3]) #First to third element\n",
    "\n",
    "print(myList[-3:-1]) #Negative indexing, the last two elements\n",
    "\n"
   ]
  },
  {
   "cell_type": "markdown",
   "id": "6a766b78",
   "metadata": {},
   "source": [
    "### Modify Lists"
   ]
  },
  {
   "cell_type": "code",
   "execution_count": 48,
   "id": "fc0798ca",
   "metadata": {},
   "outputs": [
    {
     "name": "stdout",
     "output_type": "stream",
     "text": [
      "['grape', 'banana', 'cherry']\n"
     ]
    }
   ],
   "source": [
    "myList = [\"apple\", \"banana\", \"cherry\"]\n",
    "myList[0] = \"grape\" # Change the first element\n",
    "print(myList)"
   ]
  },
  {
   "cell_type": "code",
   "execution_count": 49,
   "id": "05a9c32d",
   "metadata": {},
   "outputs": [
    {
     "name": "stdout",
     "output_type": "stream",
     "text": [
      "['grape', 'banana', 'cherry', 'blueberry']\n"
     ]
    }
   ],
   "source": [
    "myList.append(\"blueberry\")  # Add an element to the end of the list\n",
    "print(myList)"
   ]
  },
  {
   "cell_type": "code",
   "execution_count": 50,
   "id": "5b396c6d",
   "metadata": {},
   "outputs": [
    {
     "name": "stdout",
     "output_type": "stream",
     "text": [
      "['grape', 'orange', 'banana', 'cherry', 'blueberry']\n"
     ]
    }
   ],
   "source": [
    "myList.insert(1, \"orange\") # Add an element at the second position\n",
    "print(myList)"
   ]
  },
  {
   "cell_type": "code",
   "execution_count": 51,
   "id": "ff0a9ded",
   "metadata": {},
   "outputs": [
    {
     "name": "stdout",
     "output_type": "stream",
     "text": [
      "['grape', 'orange', 'banana', 'cherry', 'blueberry', 'kiwi', 'pear']\n"
     ]
    }
   ],
   "source": [
    "myList2 = [\"kiwi\", \"pear\"]\n",
    "myNewList = myList + myList2 # Combine two lists\n",
    "\n",
    "print(myNewList)\n"
   ]
  },
  {
   "cell_type": "code",
   "execution_count": 52,
   "id": "a6bc50f1",
   "metadata": {},
   "outputs": [
    {
     "name": "stdout",
     "output_type": "stream",
     "text": [
      "['grape', 'orange', 'cherry', 'blueberry', 'kiwi', 'pear']\n"
     ]
    }
   ],
   "source": [
    "myNewList.remove(\"banana\") # Remove an element\n",
    "print(myNewList)"
   ]
  },
  {
   "cell_type": "code",
   "execution_count": 53,
   "id": "10022123",
   "metadata": {},
   "outputs": [
    {
     "ename": "ValueError",
     "evalue": "list.remove(x): x not in list",
     "output_type": "error",
     "traceback": [
      "\u001b[0;31m---------------------------------------------------------------------------\u001b[0m",
      "\u001b[0;31mValueError\u001b[0m                                Traceback (most recent call last)",
      "Cell \u001b[0;32mIn[53], line 1\u001b[0m\n\u001b[0;32m----> 1\u001b[0m myNewList\u001b[38;5;241m.\u001b[39mremove(\u001b[38;5;124m\"\u001b[39m\u001b[38;5;124mbanana\u001b[39m\u001b[38;5;124m\"\u001b[39m) \u001b[38;5;66;03m#If the element does not exist, an error will occur\u001b[39;00m\n\u001b[1;32m      2\u001b[0m \u001b[38;5;28mprint\u001b[39m(myNewList)\n",
      "\u001b[0;31mValueError\u001b[0m: list.remove(x): x not in list"
     ]
    }
   ],
   "source": [
    "myNewList.remove(\"banana\") #If the element does not exist, an error will occur\n",
    "print(myNewList)"
   ]
  },
  {
   "cell_type": "code",
   "execution_count": null,
   "id": "c15bd9b2",
   "metadata": {},
   "outputs": [],
   "source": [
    "myNewList = [\"apple\", \"banana\", \"cherry\"]\n",
    "del myNewList[1] # Remove the second element of the list using the del keyword\n",
    "print(myNewList)"
   ]
  },
  {
   "cell_type": "code",
   "execution_count": 54,
   "id": "b8405f00",
   "metadata": {},
   "outputs": [
    {
     "name": "stdout",
     "output_type": "stream",
     "text": [
      "[23, 50, 65, 82, 100]\n"
     ]
    }
   ],
   "source": [
    "myNumberList = [100, 50, 65, 82, 23]\n",
    "myNumberList.sort() # Sort the list ascendingly\n",
    "print(myNumberList)"
   ]
  },
  {
   "cell_type": "code",
   "execution_count": 55,
   "id": "4f243063",
   "metadata": {},
   "outputs": [
    {
     "name": "stdout",
     "output_type": "stream",
     "text": [
      "[100, 82, 65, 50, 23]\n"
     ]
    }
   ],
   "source": [
    "# Sort the list descendingly `reverse = True` is an optional parameter in the sort() method \n",
    "# deciding the order of the sorting\n",
    "myNumberList.sort(reverse = True) \n",
    "print(myNumberList)"
   ]
  },
  {
   "cell_type": "code",
   "execution_count": 56,
   "id": "8a3f6f6c",
   "metadata": {},
   "outputs": [
    {
     "name": "stdout",
     "output_type": "stream",
     "text": [
      "[23, 50, 65, 82, 100]\n"
     ]
    }
   ],
   "source": [
    "myNumberList.reverse()\n",
    "print(myNumberList) # reverse the order of the list"
   ]
  },
  {
   "cell_type": "markdown",
   "id": "96ba2aa7",
   "metadata": {},
   "source": [
    "More List methods can be seen here: https://www.w3schools.com/python/python_lists_methods.asp. Since tuple and set are less frequently used, if you are interested, you can also learn from the link."
   ]
  },
  {
   "cell_type": "markdown",
   "id": "dc278d3b",
   "metadata": {},
   "source": [
    "## Dictionaries\n",
    "\n",
    "Dictionaries are used to store data values in `key:value` pairs.\n",
    "\n",
    "A dictionary is a collection which is ordered*, changeable and do **NOT** allow duplicates. Of paticular interest, we often use dictionary to store key-value pair for parameters used in a method/function."
   ]
  },
  {
   "cell_type": "markdown",
   "id": "33e40411",
   "metadata": {},
   "source": [
    "Dictionaries are written with curly brackets, and have keys and values:"
   ]
  },
  {
   "cell_type": "code",
   "execution_count": 57,
   "id": "5185c334",
   "metadata": {},
   "outputs": [
    {
     "name": "stdout",
     "output_type": "stream",
     "text": [
      "{'brand': 'Ford', 'model': 'Mustang', 'year': 2018}\n"
     ]
    }
   ],
   "source": [
    "carDict = {\n",
    "  \"brand\": \"Ford\",\n",
    "  \"model\": \"Mustang\",\n",
    "  \"year\": 2018\n",
    "}\n",
    "\n",
    "print(carDict)"
   ]
  },
  {
   "cell_type": "code",
   "execution_count": 58,
   "id": "0bcfb4db",
   "metadata": {},
   "outputs": [
    {
     "name": "stdout",
     "output_type": "stream",
     "text": [
      "Ford\n"
     ]
    }
   ],
   "source": [
    "print(carDict[\"brand\"]) # Access the value of the \"brand\" key"
   ]
  },
  {
   "cell_type": "code",
   "execution_count": 59,
   "id": "00762f67",
   "metadata": {},
   "outputs": [
    {
     "name": "stdout",
     "output_type": "stream",
     "text": [
      "{'brand': 'Toyota', 'model': 'Mustang', 'year': 2018}\n"
     ]
    }
   ],
   "source": [
    "carDict[\"brand\"] = \"Toyota\" # Change the value of the \"brand\" key\n",
    "\n",
    "print(carDict)"
   ]
  },
  {
   "cell_type": "code",
   "execution_count": 60,
   "id": "97b2c785",
   "metadata": {},
   "outputs": [
    {
     "name": "stdout",
     "output_type": "stream",
     "text": [
      "{'brand': 'Toyota', 'model': 'Mustang', 'year': 2018, 'color': 'red'}\n"
     ]
    }
   ],
   "source": [
    "carDict[\"color\"] = \"red\" # Add a new key-value pair\n",
    "\n",
    "print(carDict)"
   ]
  },
  {
   "cell_type": "code",
   "execution_count": 61,
   "id": "1453cc51",
   "metadata": {},
   "outputs": [
    {
     "name": "stdout",
     "output_type": "stream",
     "text": [
      "{'brand': 'Toyota', 'year': 2018, 'color': 'red'}\n"
     ]
    }
   ],
   "source": [
    "del carDict[\"model\"] # Remove a key-value pair\n",
    "\n",
    "print(carDict)"
   ]
  }
 ],
 "metadata": {
  "kernelspec": {
   "display_name": "Python 3 (ipykernel)",
   "language": "python",
   "name": "python3"
  },
  "language_info": {
   "codemirror_mode": {
    "name": "ipython",
    "version": 3
   },
   "file_extension": ".py",
   "mimetype": "text/x-python",
   "name": "python",
   "nbconvert_exporter": "python",
   "pygments_lexer": "ipython3",
   "version": "3.11.9"
  }
 },
 "nbformat": 4,
 "nbformat_minor": 5
}

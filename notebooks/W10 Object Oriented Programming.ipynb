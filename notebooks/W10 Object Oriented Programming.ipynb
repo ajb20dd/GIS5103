{
 "cells": [
  {
   "cell_type": "markdown",
   "id": "a56118b2",
   "metadata": {},
   "source": [
    "# Object-Oriented Programming Basics in Python\n",
    "\n",
    "## Introduction\n",
    "\n",
    "Object Oriented Programming (OOP) is a fundamental concept in Python. OOP enbales developers to build modular, maintainable, reusable, and scalable applications. \n",
    "\n",
    "By understanding the core OOP principles—[classes](#class), [objects](#object), [methods](#methods), [attributes](#attributes), [inheritance](#inheritance), [encapsulation](#encapsulation), [polymorphism](#polymorphism), and [abstraction](#abstraction), we can further build more robust python-based applications.\n",
    "\n"
   ]
  },
  {
   "cell_type": "markdown",
   "id": "60129076",
   "metadata": {},
   "source": [
    "## Class\n",
    "A class is a blueprint for creating objects. It defines the properties (attributes) and behaviors (methods) that objects created from the class will have.\n",
    "\n",
    "Classes are created using the `class` keyword.\n"
   ]
  },
  {
   "cell_type": "code",
   "execution_count": 21,
   "id": "89823227",
   "metadata": {},
   "outputs": [],
   "source": [
    "class Person:\n",
    "    \n",
    "    def __init__(self, name, age): #Initialization\n",
    "        \n",
    "        self.name = name  # Attribute\n",
    "        self.age = age    # Attribute\n",
    "\n",
    "    def greet(self):  # Method\n",
    "        print(\"Hello, my name is\", self.name)\n",
    "        \n",
    "    def howold(self):\n",
    "        print(self.name, \"is\", self.age, \"years old!\")\n"
   ]
  },
  {
   "cell_type": "markdown",
   "id": "d3c860dd",
   "metadata": {},
   "source": [
    "Here we create a class `Person` that has two methods `__init__()` and `greet()`. \n",
    "\n",
    "The `__init__` method is a special method called automatically when an object is created. It initializes the object’s attributes and sets up its initial state. \n",
    "\n",
    "The `greet` method will access the `name` property of the class and print out the greeting."
   ]
  },
  {
   "cell_type": "code",
   "execution_count": null,
   "id": "4950107c",
   "metadata": {},
   "outputs": [],
   "source": []
  },
  {
   "cell_type": "markdown",
   "id": "43f0ab68",
   "metadata": {},
   "source": [
    "## Object\n",
    "An object is an instance of a class. Each object created from a class has its own unique data but shares the structure and behaviors defined in the class.\n",
    "\n",
    "Creating an object involves calling the class like a function."
   ]
  },
  {
   "cell_type": "code",
   "execution_count": 10,
   "id": "5f3a26d6",
   "metadata": {},
   "outputs": [
    {
     "name": "stdout",
     "output_type": "stream",
     "text": [
      "Hello, my name is Alice\n"
     ]
    }
   ],
   "source": [
    "person1 = Person(name=\"Alice\", age=30)  # name and age are the parameters for the class \"person\"\n",
    "\n",
    "#person1 = Person(\"Alice\", 30) # same as above\n",
    "\n",
    "person1.greet()"
   ]
  },
  {
   "cell_type": "code",
   "execution_count": 3,
   "id": "656f6d76",
   "metadata": {},
   "outputs": [
    {
     "data": {
      "text/plain": [
       "<__main__.Person at 0x1cffa8e28d0>"
      ]
     },
     "execution_count": 3,
     "metadata": {},
     "output_type": "execute_result"
    }
   ],
   "source": [
    "person1"
   ]
  },
  {
   "cell_type": "markdown",
   "id": "eeb8f99e",
   "metadata": {},
   "source": [
    "Create another person"
   ]
  },
  {
   "cell_type": "code",
   "execution_count": 22,
   "id": "895a2ac5",
   "metadata": {},
   "outputs": [
    {
     "name": "stdout",
     "output_type": "stream",
     "text": [
      "Tim is 15 years old!\n"
     ]
    }
   ],
   "source": [
    "person2 = Person(\"Tim\", 15)\n",
    "\n",
    "person2.howold()"
   ]
  },
  {
   "cell_type": "code",
   "execution_count": 12,
   "id": "58559dc2",
   "metadata": {},
   "outputs": [
    {
     "data": {
      "text/plain": [
       "<__main__.Person at 0x1cffaa9f190>"
      ]
     },
     "execution_count": 12,
     "metadata": {},
     "output_type": "execute_result"
    }
   ],
   "source": [
    "person2"
   ]
  },
  {
   "cell_type": "markdown",
   "id": "871dbb09",
   "metadata": {},
   "source": [
    "## Attributes\n",
    "Attributes are variables that belong to a class or an instance of a class. Attributes can hold data specific to each object or common to all instances of a class (class attributes).\n",
    "\n",
    "Instance attributes are defined within the `__init__` method, while class attributes are defined directly within the class."
   ]
  },
  {
   "cell_type": "code",
   "execution_count": 16,
   "id": "b6c80df4",
   "metadata": {},
   "outputs": [
    {
     "name": "stdout",
     "output_type": "stream",
     "text": [
      "Number of wheels: 4\n",
      "Number of wheels: 4\n",
      "Number of wheels: 6\n",
      "Number of wheels: 2\n"
     ]
    }
   ],
   "source": [
    "class Car:\n",
    "    \n",
    "    def __init__(self, make, model, n_wheels=4):\n",
    "        self.make = make  # Instance attribute\n",
    "        self.model = model  # Instance attribute\n",
    "        self.n_wheels = n_wheels #n_wheels has a default of 4\n",
    "        \n",
    "\n",
    "car1 = Car(\"Toyota\", \"Camry\")\n",
    "\n",
    "car2 = Car(\"Honda\", \"Accord\")\n",
    "\n",
    "car3 = Car(\"Mercedes \", \"6x6\", n_wheels=6)\n",
    "\n",
    "car4 = Car(\"Yamaha\", \"PW50\", n_wheels=2)\n",
    "\n",
    "\n",
    "print(\"Number of wheels:\", car1.n_wheels) #accessing attributes as class.attribute\n",
    "\n",
    "print(\"Number of wheels:\", car2.n_wheels)\n",
    "\n",
    "print(\"Number of wheels:\", car3.n_wheels)\n",
    "\n",
    "print(\"Number of wheels:\", car4.n_wheels)"
   ]
  },
  {
   "cell_type": "code",
   "execution_count": null,
   "id": "b3cc9af4",
   "metadata": {},
   "outputs": [],
   "source": []
  },
  {
   "cell_type": "markdown",
   "id": "b13b54c2",
   "metadata": {},
   "source": [
    "## Methods\n",
    "\n",
    "Methods are functions defined within a class that describe the behaviors of an object. Methods can operate on object data (attributes) and perform actions relevant to that object.\n",
    "\n",
    "The `__init__` method is a special method called automatically when an object is created. It initializes the object’s attributes and sets up its initial state.\n"
   ]
  },
  {
   "cell_type": "code",
   "execution_count": 7,
   "id": "2b965f38",
   "metadata": {},
   "outputs": [
    {
     "name": "stdout",
     "output_type": "stream",
     "text": [
      "Lola says woof!\n"
     ]
    }
   ],
   "source": [
    "class Dog:\n",
    "    def __init__(self, name):\n",
    "        self.name = name\n",
    "\n",
    "    def bark(self):\n",
    "        print (self.name + \" says woof!\")\n",
    "\n",
    "#Create a class\n",
    "dog = Dog(\"Lola\")\n",
    "\n",
    "#Call the method\n",
    "dog.bark()\n"
   ]
  },
  {
   "cell_type": "code",
   "execution_count": null,
   "id": "57aace61",
   "metadata": {},
   "outputs": [],
   "source": []
  },
  {
   "cell_type": "markdown",
   "id": "1a3ab07a",
   "metadata": {},
   "source": [
    "## Encapsulation\n",
    "\n",
    "Encapsulation is the practice of hiding an object’s internal state and requiring all interactions to occur through its methods. In Python, attributes prefixed with `__` (double underscores) are private and can’t be accessed directly from outside the class."
   ]
  },
  {
   "cell_type": "code",
   "execution_count": 24,
   "id": "734d5d7e",
   "metadata": {},
   "outputs": [],
   "source": [
    "class BankAccount:\n",
    "    def __init__(self, account_number, balance):\n",
    "        self.account_number = account_number\n",
    "        self.__balance = balance    # Private attribute\n",
    "                                    # Double underscore before attribute or method name makes it private\n",
    "\n",
    "    def deposit(self, amount):\n",
    "        if amount > 0:\n",
    "            self.__balance += amount\n",
    "            print(f\"${amount} deposited. New balance: ${self.__balance}\")\n",
    "\n",
    "    def withdraw(self, amount):\n",
    "        if 0 < amount <= self.__balance:\n",
    "            self.__balance -= amount\n",
    "            print(f\"${amount} withdrawn. New balance: ${self.__balance}\")\n",
    "        else:\n",
    "            print(\"Insufficient funds\")\n",
    "\n",
    "    def get_balance(self):\n",
    "        return self.__balance"
   ]
  },
  {
   "cell_type": "code",
   "execution_count": 25,
   "id": "eb1d41d4",
   "metadata": {},
   "outputs": [
    {
     "name": "stdout",
     "output_type": "stream",
     "text": [
      "$200 deposited. New balance: $700\n",
      "$100 withdrawn. New balance: $600\n",
      "Current balance:$600\n"
     ]
    }
   ],
   "source": [
    "\n",
    "# Create a new account\n",
    "account = BankAccount(\"12345\", 500)\n",
    "\n",
    "# Call class methods\n",
    "account.deposit(200)\n",
    "\n",
    "account.withdraw(100)\n",
    "\n",
    "balance = account.get_balance()\n",
    "\n",
    "print(f\"Current balance:${balance}\")"
   ]
  },
  {
   "cell_type": "code",
   "execution_count": 10,
   "id": "eace4323",
   "metadata": {},
   "outputs": [
    {
     "ename": "AttributeError",
     "evalue": "'BankAccount' object has no attribute '__balance'",
     "output_type": "error",
     "traceback": [
      "\u001b[0;31m---------------------------------------------------------------------------\u001b[0m",
      "\u001b[0;31mAttributeError\u001b[0m                            Traceback (most recent call last)",
      "Cell \u001b[0;32mIn[10], line 1\u001b[0m\n\u001b[0;32m----> 1\u001b[0m account\u001b[38;5;241m.\u001b[39m__balance\n",
      "\u001b[0;31mAttributeError\u001b[0m: 'BankAccount' object has no attribute '__balance'"
     ]
    }
   ],
   "source": [
    "account.__balance"
   ]
  },
  {
   "cell_type": "markdown",
   "id": "1fde3948",
   "metadata": {},
   "source": [
    "Here, `__balance` is a private attribute, and direct access to it from outside the class is restricted. This encapsulation protects the account’s balance from being modified directly."
   ]
  },
  {
   "cell_type": "code",
   "execution_count": 26,
   "id": "64b8af53",
   "metadata": {},
   "outputs": [
    {
     "data": {
      "text/plain": [
       "'12345'"
      ]
     },
     "execution_count": 26,
     "metadata": {},
     "output_type": "execute_result"
    }
   ],
   "source": [
    "account.account_number "
   ]
  },
  {
   "cell_type": "markdown",
   "id": "8d8b6d4d",
   "metadata": {},
   "source": [
    "Since `account_number` isn't private, the account number can be directly accessed."
   ]
  },
  {
   "cell_type": "markdown",
   "id": "4afeeb25",
   "metadata": {},
   "source": [
    "## Inheritance\n",
    "\n",
    "Inheritance allows a class (child class) to inherit attributes and methods from another class (parent class). This promotes code reuse and makes it easy to create and manage relationships between classes."
   ]
  },
  {
   "cell_type": "code",
   "execution_count": 27,
   "id": "4b540665",
   "metadata": {},
   "outputs": [],
   "source": [
    "class Vehicle:\n",
    "    def __init__(self, make, model):\n",
    "        self.make = make\n",
    "        self.model = model\n",
    "\n",
    "    def start(self):\n",
    "        return \"Engine started\"\n",
    "\n",
    "    \n",
    "class Car(Vehicle):  # Car inherits from Vehicle\n",
    "    def __init__(self, make, model, doors): #doors is a new attribute\n",
    "        super().__init__(make, model)  # Call parent class constructor\n",
    "        self.doors = doors\n",
    "\n",
    "    def honk(self): #new method that only applies to child\n",
    "        return \"Car honks: Beep Beep!\"\n"
   ]
  },
  {
   "cell_type": "code",
   "execution_count": 28,
   "id": "2a645812",
   "metadata": {},
   "outputs": [
    {
     "name": "stdout",
     "output_type": "stream",
     "text": [
      "Engine started\n",
      "Car honks: Beep Beep!\n",
      "Toyota\n",
      "4\n"
     ]
    }
   ],
   "source": [
    "# Using the classes\n",
    "my_car = Car(make=\"Toyota\", model=\"Corolla\", doors=4)\n",
    "\n",
    "print(my_car.start())  # Inherited method\n",
    "\n",
    "print(my_car.honk())   # Car-specific method\n",
    "\n",
    "print(my_car.make)   # Inherited attribute\n",
    "\n",
    "print(my_car.doors)   # Car-specific attribute\n"
   ]
  },
  {
   "cell_type": "code",
   "execution_count": null,
   "id": "d7eca65f",
   "metadata": {},
   "outputs": [],
   "source": []
  },
  {
   "cell_type": "code",
   "execution_count": null,
   "id": "f4d260b0",
   "metadata": {},
   "outputs": [],
   "source": []
  },
  {
   "cell_type": "markdown",
   "id": "2046bf5a",
   "metadata": {},
   "source": [
    "## Polymorphism\n",
    "Polymorphism allows different classes to define methods with the same name but implement them differently. It enables a single function to operate on different types of objects interchangeably."
   ]
  },
  {
   "cell_type": "code",
   "execution_count": 29,
   "id": "a42cc533",
   "metadata": {},
   "outputs": [
    {
     "name": "stdout",
     "output_type": "stream",
     "text": [
      "Woof!\n",
      "Meow!\n"
     ]
    }
   ],
   "source": [
    "class Animal:\n",
    "    def speak(self):\n",
    "        \"Hooo!\"\n",
    "\n",
    "class Dog(Animal):\n",
    "    def speak(self): #override `speak` method\n",
    "        return \"Woof!\"\n",
    "\n",
    "class Cat(Animal):\n",
    "    def speak(self): #override `speak` method\n",
    "        return \"Meow!\"\n",
    "\n",
    "    \n",
    "# Using different objects\n",
    "dog = Dog()\n",
    "cat = Cat()\n",
    "\n",
    "#Calling same function\n",
    "print(dog.speak()) \n",
    "print(cat.speak()) \n"
   ]
  },
  {
   "cell_type": "code",
   "execution_count": null,
   "id": "94361c0f",
   "metadata": {},
   "outputs": [],
   "source": []
  },
  {
   "cell_type": "code",
   "execution_count": null,
   "id": "ff345a6c",
   "metadata": {},
   "outputs": [],
   "source": []
  },
  {
   "cell_type": "markdown",
   "id": "9bc164b6",
   "metadata": {},
   "source": [
    "## Abstraction\n",
    "\n",
    "Abstraction hides the complex implementation details and exposes only the essential features. In Python, abstraction can be achieved using abstract base classes with the `abc` (abstract base classes) module, requiring subclasses to implement certain methods."
   ]
  },
  {
   "cell_type": "code",
   "execution_count": 30,
   "id": "fa5b84b8",
   "metadata": {},
   "outputs": [
    {
     "name": "stdout",
     "output_type": "stream",
     "text": [
      "Circle area: 78.53975\n",
      "Rectangle area: 24\n"
     ]
    }
   ],
   "source": [
    "from abc import ABC, abstractmethod\n",
    "\n",
    "# Abstract Base Class\n",
    "class Shape(ABC):\n",
    "    @abstractmethod\n",
    "    def area(self):\n",
    "        \"\"\"Calculate area of the shape\"\"\"\n",
    "        pass\n",
    "\n",
    "# Concrete Subclass\n",
    "class Circle(Shape):\n",
    "    def __init__(self, radius):\n",
    "        self.radius = radius\n",
    "\n",
    "    def area(self):\n",
    "        return 3.14159 * (self.radius ** 2)\n",
    "\n",
    "# Another Concrete Subclass\n",
    "class Rectangle(Shape):\n",
    "    def __init__(self, width, height):\n",
    "        self.width = width\n",
    "        self.height = height\n",
    "\n",
    "    def area(self):\n",
    "        return self.width * self.height\n",
    "\n",
    "    \n",
    "# Using the classes\n",
    "circle = Circle(5)\n",
    "\n",
    "rectangle = Rectangle(4, 6)\n",
    "\n",
    "print(f\"Circle area: {circle.area()}\")        # Output: Circle area: 78.53975\n",
    "print(f\"Rectangle area: {rectangle.area()}\")  # Output: Rectangle area: 24\n"
   ]
  },
  {
   "cell_type": "markdown",
   "id": "ef20ab30",
   "metadata": {},
   "source": [
    "Abstraction is helpful in applications where you have multiple classes with common behaviors, but specific implementations differ. It’s especially useful in large systems where consistency and clear interfaces are essential for code maintainability."
   ]
  },
  {
   "cell_type": "code",
   "execution_count": null,
   "id": "b866c8b0",
   "metadata": {},
   "outputs": [],
   "source": []
  },
  {
   "cell_type": "markdown",
   "id": "36e9b8b2",
   "metadata": {},
   "source": [
    "## Method Overriding\n",
    "\n",
    "Method overriding occurs when a subclass provides a specific implementation of a method that is already defined in its superclass. This is essential in polymorphism and helps to define subclass-specific behavior."
   ]
  },
  {
   "cell_type": "code",
   "execution_count": 31,
   "id": "f6319e10",
   "metadata": {},
   "outputs": [
    {
     "name": "stdout",
     "output_type": "stream",
     "text": [
      "Starting pedaling...\n"
     ]
    }
   ],
   "source": [
    "class Vehicle:\n",
    "    def start(self):\n",
    "        return \"Starting vehicle...\"\n",
    "\n",
    "class Bike(Vehicle):\n",
    "    def start(self):\n",
    "        return \"Starting pedaling...\"\n",
    "\n",
    "bike = Bike()\n",
    "print(bike.start())  # Output: Starting car engine...\n"
   ]
  },
  {
   "cell_type": "code",
   "execution_count": null,
   "id": "461afa07",
   "metadata": {},
   "outputs": [],
   "source": []
  },
  {
   "cell_type": "code",
   "execution_count": null,
   "id": "6987a235",
   "metadata": {},
   "outputs": [],
   "source": []
  },
  {
   "cell_type": "markdown",
   "id": "dc9bc0c8",
   "metadata": {},
   "source": [
    "## Another simple example"
   ]
  },
  {
   "cell_type": "code",
   "execution_count": 32,
   "id": "f130cec7",
   "metadata": {},
   "outputs": [],
   "source": [
    "import math\n",
    "\n",
    "class Location:\n",
    "    def __init__(self, name, latitude, longitude):\n",
    "        self.name = name\n",
    "        self.latitude = latitude\n",
    "        self.longitude = longitude\n",
    "\n",
    "    def get_coordinates(self):\n",
    "        return f\"Latitude: {self.latitude}, Longitude: {self.longitude}\"\n",
    "\n",
    "    def calculate_distance(self, other_location):\n",
    "        import math\n",
    "        # Haversine formula to calculate distance between two points on the Earth\n",
    "        \n",
    "        radius = 6371  # Earth radius in kilometers\n",
    "        dlat = math.radians(other_location.latitude - self.latitude)\n",
    "        dlon = math.radians(other_location.longitude - self.longitude)\n",
    "        a = math.sin(dlat / 2) ** 2 + math.cos(math.radians(self.latitude)) * \\\n",
    "            math.cos(math.radians(other_location.latitude)) * math.sin(dlon / 2) ** 2\n",
    "        \n",
    "        c = 2 * math.atan2(math.sqrt(a), math.sqrt(1 - a))\n",
    "        distance = radius * c\n",
    "        \n",
    "        return distance\n"
   ]
  },
  {
   "cell_type": "code",
   "execution_count": 33,
   "id": "935d8658",
   "metadata": {},
   "outputs": [
    {
     "name": "stdout",
     "output_type": "stream",
     "text": [
      "Distance between State Capitol and Union: 1.71 km\n"
     ]
    }
   ],
   "source": [
    "# Creating two POIs\n",
    "poi1 = Location(\"State Capitol\", 30.4383, -84.2807)\n",
    "\n",
    "poi2 = Location(\"Union\", 30.4445, -84.2970)\n",
    "\n",
    "# Calculating distance between them\n",
    "distance = poi1.calculate_distance(poi2)\n",
    "\n",
    "print(f\"Distance between {poi1.name} and {poi2.name}: {distance:.2f} km\")\n"
   ]
  },
  {
   "cell_type": "code",
   "execution_count": 34,
   "id": "1c4c3f15",
   "metadata": {},
   "outputs": [
    {
     "data": {
      "text/plain": [
       "1.7079448999148465"
      ]
     },
     "execution_count": 34,
     "metadata": {},
     "output_type": "execute_result"
    }
   ],
   "source": [
    "distance"
   ]
  },
  {
   "cell_type": "code",
   "execution_count": null,
   "id": "05c56598",
   "metadata": {},
   "outputs": [],
   "source": []
  }
 ],
 "metadata": {
  "kernelspec": {
   "display_name": ".conda",
   "language": "python",
   "name": "python3"
  },
  "language_info": {
   "codemirror_mode": {
    "name": "ipython",
    "version": 3
   },
   "file_extension": ".py",
   "mimetype": "text/x-python",
   "name": "python",
   "nbconvert_exporter": "python",
   "pygments_lexer": "ipython3",
   "version": "3.11.9"
  }
 },
 "nbformat": 4,
 "nbformat_minor": 5
}

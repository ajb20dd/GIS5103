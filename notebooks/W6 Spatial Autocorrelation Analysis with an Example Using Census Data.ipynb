{
 "cells": [
  {
   "cell_type": "markdown",
   "metadata": {
    "id": "-xl1RpCm-BT8"
   },
   "source": [
    "# Spatial Autocorrelation\n",
    "\n",
    "This notebook will demostrate a popular spatial analysis task which is to examine the spatial autocorrelation pattern. I will demostrate using data from US census bureau obtained through API and `census` package."
   ]
  },
  {
   "cell_type": "markdown",
   "metadata": {},
   "source": [
    "## Part 1 Census API\n",
    "\n",
    "- [Importing and Interpreting Census Data](#importing-and-interpreting-census-data)\n",
    "- [FIPS Code](#fips-code)\n",
    "- [Obtain a Boundary File from Tiger](#obtain-a-boundary-file-from-tiger)"
   ]
  },
  {
   "cell_type": "markdown",
   "metadata": {
    "id": "EBniGLqt-Kyw"
   },
   "source": [
    "Install `census` and `us` package. The `us` package provides some convenient lookup to the FIPS code and boundary files."
   ]
  },
  {
   "cell_type": "code",
   "execution_count": 1,
   "metadata": {
    "id": "4x-VCrBV9_-X"
   },
   "outputs": [
    {
     "name": "stdout",
     "output_type": "stream",
     "text": [
      "Note: you may need to restart the kernel to use updated packages.\n"
     ]
    }
   ],
   "source": [
    "pip install -q census"
   ]
  },
  {
   "cell_type": "code",
   "execution_count": 2,
   "metadata": {
    "id": "aIo0tsps7KXJ"
   },
   "outputs": [
    {
     "name": "stdout",
     "output_type": "stream",
     "text": [
      "Note: you may need to restart the kernel to use updated packages.\n"
     ]
    }
   ],
   "source": [
    "pip install -q us"
   ]
  },
  {
   "cell_type": "markdown",
   "metadata": {
    "id": "lw6O5f6Q-VeG"
   },
   "source": [
    "Import the packages"
   ]
  },
  {
   "cell_type": "code",
   "execution_count": 7,
   "metadata": {
    "id": "6N2vLa5V62YE"
   },
   "outputs": [],
   "source": [
    "import matplotlib.pyplot as plt\n",
    "import pandas as pd\n",
    "import geopandas as gpd\n",
    "\n",
    "from census import Census\n",
    "import us"
   ]
  },
  {
   "cell_type": "markdown",
   "metadata": {
    "id": "Z0eWP7sY-o_m"
   },
   "source": [
    "First, get yourself a Census API key from [here](https://api.census.gov/data/key_signup.html). This will require you to put your affliation and your email. Then you need to activate your API key through email. You will then get a long key string to replace what I have here:"
   ]
  },
  {
   "cell_type": "code",
   "execution_count": 3,
   "metadata": {},
   "outputs": [
    {
     "name": "stdout",
     "output_type": "stream",
     "text": [
      "Requirement already satisfied: python-dotenv in c:\\users\\alexb\\documents\\gis5103\\gis5103\\.conda\\lib\\site-packages (1.0.1)\n",
      "Note: you may need to restart the kernel to use updated packages.\n"
     ]
    }
   ],
   "source": [
    "pip install python-dotenv"
   ]
  },
  {
   "cell_type": "code",
   "execution_count": 8,
   "metadata": {},
   "outputs": [],
   "source": [
    "# first attempt at setting up an .env file\n",
    "# there has to have been a more efficient way to do this\n",
    "\n",
    "import os\n",
    "from dotenv import set_key\n",
    "from dotenv import dotenv_values\n",
    "from dotenv import load_dotenv\n",
    "from pathlib import Path\n",
    "\n",
    "env_file_path = Path('c:/users/' + os.getlogin() + 'Documents/GIS5103/GIS5103/.env')\n",
    "\n",
    "load_dotenv()\n",
    "\n",
    "get_census_api = os.getenv('census_api_key')\n",
    "#print(get_census_api)"
   ]
  },
  {
   "cell_type": "markdown",
   "metadata": {},
   "source": [
    "### Importing and Interpreting Census Data"
   ]
  },
  {
   "cell_type": "code",
   "execution_count": 9,
   "metadata": {
    "id": "QxmgEXDF69-i"
   },
   "outputs": [],
   "source": [
    "census_api_key = (get_census_api)\n",
    "\n",
    "c = Census(census_api_key)"
   ]
  },
  {
   "cell_type": "markdown",
   "metadata": {
    "id": "ot6uu7DS_J6W"
   },
   "source": [
    "Then we can use a function to automatically download census data and make it into a nicely formatted Dataframe.\n",
    "\n",
    "Below is an example to fetch the county level data for variables:\n",
    "\n",
    "*   Total population (**B01003_001E**)\n",
    "*   Median monthly housing costs (**B25105_001E**)\n",
    "*   Numbers of people who drive (van, truck, car) to work (**B08134_011E**)\n"
   ]
  },
  {
   "cell_type": "markdown",
   "metadata": {},
   "source": [
    "This data is from the American Community Survey (ACS) which is an annual effort to sample a small portion of US addresses through questionaries and aggregate data into census products over multiple years. Most often, the 5-year estimate ACS has good coverage, more details can be seen here: https://www.census.gov/data/developers/data-sets/acs-5year.html"
   ]
  },
  {
   "cell_type": "markdown",
   "metadata": {
    "id": "CFB4LFTDBUyH"
   },
   "source": [
    "Lookup table for variables: https://api.census.gov/data/2019/acs/acs5/variables.html"
   ]
  },
  {
   "cell_type": "code",
   "execution_count": 11,
   "metadata": {
    "id": "tIHnjrkK6-Ai"
   },
   "outputs": [],
   "source": [
    "# Sources: https://api.census.gov/data/2019/acs/acs5/variables.html\n",
    "\n",
    "fl_census = c.acs5.state_county(fields = ('NAME', 'B01003_001E', 'B25105_001E', 'B08134_001E'), #variable names\n",
    "                                      state_fips = '12', #state FIPS code for FL\n",
    "                                      county_fips = \"*\", #\"*\" means all counties in the state\n",
    "                                      year = 2019) # 2019 data\n",
    "\n",
    "\n",
    "#Get tract level data\n",
    "\n",
    "fl_census_tract = c.acs5.state_county_tract(fields = ('NAME', 'B01003_001E', 'B25105_001E', 'B08134_001E'), #variable names\n",
    "                                      state_fips = '12', #state FIPS code for FL\n",
    "                                      county_fips = \"*\", #\"*\" means all counties in the state\n",
    "                                      tract = \"*\", #\"*\" means all tracts in the counties/state\n",
    "                                      year = 2019) # 2019 data"
   ]
  },
  {
   "cell_type": "markdown",
   "metadata": {
    "id": "KAKxfpoyC-QQ"
   },
   "source": [
    "Make the results a data frame."
   ]
  },
  {
   "cell_type": "code",
   "execution_count": 15,
   "metadata": {
    "id": "BBRs_psa7TZ-"
   },
   "outputs": [],
   "source": [
    "fl_df = pd.DataFrame(fl_census)\n",
    "fl_tract_df = pd.DataFrame(fl_census_tract)"
   ]
  },
  {
   "cell_type": "code",
   "execution_count": 17,
   "metadata": {
    "colab": {
     "base_uri": "https://localhost:8080/",
     "height": 447
    },
    "id": "RaeHZZ4YX8bK",
    "outputId": "1b443db0-1c15-4356-e26d-12daef59bb09"
   },
   "outputs": [
    {
     "data": {
      "text/html": [
       "<div>\n",
       "<style scoped>\n",
       "    .dataframe tbody tr th:only-of-type {\n",
       "        vertical-align: middle;\n",
       "    }\n",
       "\n",
       "    .dataframe tbody tr th {\n",
       "        vertical-align: top;\n",
       "    }\n",
       "\n",
       "    .dataframe thead th {\n",
       "        text-align: right;\n",
       "    }\n",
       "</style>\n",
       "<table border=\"1\" class=\"dataframe\">\n",
       "  <thead>\n",
       "    <tr style=\"text-align: right;\">\n",
       "      <th></th>\n",
       "      <th>NAME</th>\n",
       "      <th>B01003_001E</th>\n",
       "      <th>B25105_001E</th>\n",
       "      <th>B08134_001E</th>\n",
       "      <th>state</th>\n",
       "      <th>county</th>\n",
       "    </tr>\n",
       "  </thead>\n",
       "  <tbody>\n",
       "    <tr>\n",
       "      <th>0</th>\n",
       "      <td>Washington County, Florida</td>\n",
       "      <td>24764.0</td>\n",
       "      <td>581.0</td>\n",
       "      <td>8147.0</td>\n",
       "      <td>12</td>\n",
       "      <td>133</td>\n",
       "    </tr>\n",
       "    <tr>\n",
       "      <th>1</th>\n",
       "      <td>Duval County, Florida</td>\n",
       "      <td>936186.0</td>\n",
       "      <td>1084.0</td>\n",
       "      <td>435422.0</td>\n",
       "      <td>12</td>\n",
       "      <td>031</td>\n",
       "    </tr>\n",
       "    <tr>\n",
       "      <th>2</th>\n",
       "      <td>Bradford County, Florida</td>\n",
       "      <td>27317.0</td>\n",
       "      <td>656.0</td>\n",
       "      <td>9045.0</td>\n",
       "      <td>12</td>\n",
       "      <td>007</td>\n",
       "    </tr>\n",
       "    <tr>\n",
       "      <th>3</th>\n",
       "      <td>Brevard County, Florida</td>\n",
       "      <td>585507.0</td>\n",
       "      <td>971.0</td>\n",
       "      <td>233536.0</td>\n",
       "      <td>12</td>\n",
       "      <td>009</td>\n",
       "    </tr>\n",
       "    <tr>\n",
       "      <th>4</th>\n",
       "      <td>Clay County, Florida</td>\n",
       "      <td>211405.0</td>\n",
       "      <td>1091.0</td>\n",
       "      <td>91147.0</td>\n",
       "      <td>12</td>\n",
       "      <td>019</td>\n",
       "    </tr>\n",
       "    <tr>\n",
       "      <th>...</th>\n",
       "      <td>...</td>\n",
       "      <td>...</td>\n",
       "      <td>...</td>\n",
       "      <td>...</td>\n",
       "      <td>...</td>\n",
       "      <td>...</td>\n",
       "    </tr>\n",
       "    <tr>\n",
       "      <th>62</th>\n",
       "      <td>Levy County, Florida</td>\n",
       "      <td>40403.0</td>\n",
       "      <td>570.0</td>\n",
       "      <td>14105.0</td>\n",
       "      <td>12</td>\n",
       "      <td>075</td>\n",
       "    </tr>\n",
       "    <tr>\n",
       "      <th>63</th>\n",
       "      <td>Volusia County, Florida</td>\n",
       "      <td>536487.0</td>\n",
       "      <td>939.0</td>\n",
       "      <td>208321.0</td>\n",
       "      <td>12</td>\n",
       "      <td>127</td>\n",
       "    </tr>\n",
       "    <tr>\n",
       "      <th>64</th>\n",
       "      <td>Madison County, Florida</td>\n",
       "      <td>18460.0</td>\n",
       "      <td>526.0</td>\n",
       "      <td>6010.0</td>\n",
       "      <td>12</td>\n",
       "      <td>079</td>\n",
       "    </tr>\n",
       "    <tr>\n",
       "      <th>65</th>\n",
       "      <td>Escambia County, Florida</td>\n",
       "      <td>313491.0</td>\n",
       "      <td>930.0</td>\n",
       "      <td>131031.0</td>\n",
       "      <td>12</td>\n",
       "      <td>033</td>\n",
       "    </tr>\n",
       "    <tr>\n",
       "      <th>66</th>\n",
       "      <td>Okaloosa County, Florida</td>\n",
       "      <td>203794.0</td>\n",
       "      <td>1141.0</td>\n",
       "      <td>92873.0</td>\n",
       "      <td>12</td>\n",
       "      <td>091</td>\n",
       "    </tr>\n",
       "  </tbody>\n",
       "</table>\n",
       "<p>67 rows × 6 columns</p>\n",
       "</div>"
      ],
      "text/plain": [
       "                          NAME  B01003_001E  B25105_001E  B08134_001E state  \\\n",
       "0   Washington County, Florida      24764.0        581.0       8147.0    12   \n",
       "1        Duval County, Florida     936186.0       1084.0     435422.0    12   \n",
       "2     Bradford County, Florida      27317.0        656.0       9045.0    12   \n",
       "3      Brevard County, Florida     585507.0        971.0     233536.0    12   \n",
       "4         Clay County, Florida     211405.0       1091.0      91147.0    12   \n",
       "..                         ...          ...          ...          ...   ...   \n",
       "62        Levy County, Florida      40403.0        570.0      14105.0    12   \n",
       "63     Volusia County, Florida     536487.0        939.0     208321.0    12   \n",
       "64     Madison County, Florida      18460.0        526.0       6010.0    12   \n",
       "65    Escambia County, Florida     313491.0        930.0     131031.0    12   \n",
       "66    Okaloosa County, Florida     203794.0       1141.0      92873.0    12   \n",
       "\n",
       "   county  \n",
       "0     133  \n",
       "1     031  \n",
       "2     007  \n",
       "3     009  \n",
       "4     019  \n",
       "..    ...  \n",
       "62    075  \n",
       "63    127  \n",
       "64    079  \n",
       "65    033  \n",
       "66    091  \n",
       "\n",
       "[67 rows x 6 columns]"
      ]
     },
     "execution_count": 17,
     "metadata": {},
     "output_type": "execute_result"
    }
   ],
   "source": [
    "fl_df"
   ]
  },
  {
   "cell_type": "code",
   "execution_count": 18,
   "metadata": {},
   "outputs": [
    {
     "data": {
      "text/html": [
       "<div>\n",
       "<style scoped>\n",
       "    .dataframe tbody tr th:only-of-type {\n",
       "        vertical-align: middle;\n",
       "    }\n",
       "\n",
       "    .dataframe tbody tr th {\n",
       "        vertical-align: top;\n",
       "    }\n",
       "\n",
       "    .dataframe thead th {\n",
       "        text-align: right;\n",
       "    }\n",
       "</style>\n",
       "<table border=\"1\" class=\"dataframe\">\n",
       "  <thead>\n",
       "    <tr style=\"text-align: right;\">\n",
       "      <th></th>\n",
       "      <th>NAME</th>\n",
       "      <th>B01003_001E</th>\n",
       "      <th>B25105_001E</th>\n",
       "      <th>B08134_001E</th>\n",
       "      <th>state</th>\n",
       "      <th>county</th>\n",
       "      <th>tract</th>\n",
       "    </tr>\n",
       "  </thead>\n",
       "  <tbody>\n",
       "    <tr>\n",
       "      <th>0</th>\n",
       "      <td>Census Tract 2.11, Miami-Dade County, Florida</td>\n",
       "      <td>2812.0</td>\n",
       "      <td>1456.0</td>\n",
       "      <td>1449.0</td>\n",
       "      <td>12</td>\n",
       "      <td>086</td>\n",
       "      <td>000211</td>\n",
       "    </tr>\n",
       "    <tr>\n",
       "      <th>1</th>\n",
       "      <td>Census Tract 2.12, Miami-Dade County, Florida</td>\n",
       "      <td>4709.0</td>\n",
       "      <td>1111.0</td>\n",
       "      <td>2157.0</td>\n",
       "      <td>12</td>\n",
       "      <td>086</td>\n",
       "      <td>000212</td>\n",
       "    </tr>\n",
       "    <tr>\n",
       "      <th>2</th>\n",
       "      <td>Census Tract 2.13, Miami-Dade County, Florida</td>\n",
       "      <td>5005.0</td>\n",
       "      <td>1260.0</td>\n",
       "      <td>2194.0</td>\n",
       "      <td>12</td>\n",
       "      <td>086</td>\n",
       "      <td>000213</td>\n",
       "    </tr>\n",
       "    <tr>\n",
       "      <th>3</th>\n",
       "      <td>Census Tract 2.14, Miami-Dade County, Florida</td>\n",
       "      <td>6754.0</td>\n",
       "      <td>1070.0</td>\n",
       "      <td>3194.0</td>\n",
       "      <td>12</td>\n",
       "      <td>086</td>\n",
       "      <td>000214</td>\n",
       "    </tr>\n",
       "    <tr>\n",
       "      <th>4</th>\n",
       "      <td>Census Tract 1.28, Miami-Dade County, Florida</td>\n",
       "      <td>3021.0</td>\n",
       "      <td>1322.0</td>\n",
       "      <td>1965.0</td>\n",
       "      <td>12</td>\n",
       "      <td>086</td>\n",
       "      <td>000128</td>\n",
       "    </tr>\n",
       "    <tr>\n",
       "      <th>...</th>\n",
       "      <td>...</td>\n",
       "      <td>...</td>\n",
       "      <td>...</td>\n",
       "      <td>...</td>\n",
       "      <td>...</td>\n",
       "      <td>...</td>\n",
       "      <td>...</td>\n",
       "    </tr>\n",
       "    <tr>\n",
       "      <th>4240</th>\n",
       "      <td>Census Tract 312, Clay County, Florida</td>\n",
       "      <td>15742.0</td>\n",
       "      <td>1207.0</td>\n",
       "      <td>6301.0</td>\n",
       "      <td>12</td>\n",
       "      <td>019</td>\n",
       "      <td>031200</td>\n",
       "    </tr>\n",
       "    <tr>\n",
       "      <th>4241</th>\n",
       "      <td>Census Tract 308.01, Clay County, Florida</td>\n",
       "      <td>5723.0</td>\n",
       "      <td>1212.0</td>\n",
       "      <td>2402.0</td>\n",
       "      <td>12</td>\n",
       "      <td>019</td>\n",
       "      <td>030801</td>\n",
       "    </tr>\n",
       "    <tr>\n",
       "      <th>4242</th>\n",
       "      <td>Census Tract 309.02, Clay County, Florida</td>\n",
       "      <td>10342.0</td>\n",
       "      <td>1022.0</td>\n",
       "      <td>4798.0</td>\n",
       "      <td>12</td>\n",
       "      <td>019</td>\n",
       "      <td>030902</td>\n",
       "    </tr>\n",
       "    <tr>\n",
       "      <th>4243</th>\n",
       "      <td>Census Tract 303.01, Clay County, Florida</td>\n",
       "      <td>8960.0</td>\n",
       "      <td>969.0</td>\n",
       "      <td>4013.0</td>\n",
       "      <td>12</td>\n",
       "      <td>019</td>\n",
       "      <td>030301</td>\n",
       "    </tr>\n",
       "    <tr>\n",
       "      <th>4244</th>\n",
       "      <td>Census Tract 314, Clay County, Florida</td>\n",
       "      <td>5083.0</td>\n",
       "      <td>774.0</td>\n",
       "      <td>1887.0</td>\n",
       "      <td>12</td>\n",
       "      <td>019</td>\n",
       "      <td>031400</td>\n",
       "    </tr>\n",
       "  </tbody>\n",
       "</table>\n",
       "<p>4245 rows × 7 columns</p>\n",
       "</div>"
      ],
      "text/plain": [
       "                                               NAME  B01003_001E  B25105_001E  \\\n",
       "0     Census Tract 2.11, Miami-Dade County, Florida       2812.0       1456.0   \n",
       "1     Census Tract 2.12, Miami-Dade County, Florida       4709.0       1111.0   \n",
       "2     Census Tract 2.13, Miami-Dade County, Florida       5005.0       1260.0   \n",
       "3     Census Tract 2.14, Miami-Dade County, Florida       6754.0       1070.0   \n",
       "4     Census Tract 1.28, Miami-Dade County, Florida       3021.0       1322.0   \n",
       "...                                             ...          ...          ...   \n",
       "4240         Census Tract 312, Clay County, Florida      15742.0       1207.0   \n",
       "4241      Census Tract 308.01, Clay County, Florida       5723.0       1212.0   \n",
       "4242      Census Tract 309.02, Clay County, Florida      10342.0       1022.0   \n",
       "4243      Census Tract 303.01, Clay County, Florida       8960.0        969.0   \n",
       "4244         Census Tract 314, Clay County, Florida       5083.0        774.0   \n",
       "\n",
       "      B08134_001E state county   tract  \n",
       "0          1449.0    12    086  000211  \n",
       "1          2157.0    12    086  000212  \n",
       "2          2194.0    12    086  000213  \n",
       "3          3194.0    12    086  000214  \n",
       "4          1965.0    12    086  000128  \n",
       "...           ...   ...    ...     ...  \n",
       "4240       6301.0    12    019  031200  \n",
       "4241       2402.0    12    019  030801  \n",
       "4242       4798.0    12    019  030902  \n",
       "4243       4013.0    12    019  030301  \n",
       "4244       1887.0    12    019  031400  \n",
       "\n",
       "[4245 rows x 7 columns]"
      ]
     },
     "execution_count": 18,
     "metadata": {},
     "output_type": "execute_result"
    }
   ],
   "source": [
    "fl_tract_df"
   ]
  },
  {
   "cell_type": "code",
   "execution_count": 19,
   "metadata": {
    "colab": {
     "base_uri": "https://localhost:8080/",
     "height": 228
    },
    "id": "8FeIR_uM8AF4",
    "outputId": "683bbe55-9166-488f-81a3-e2533cc41c8f"
   },
   "outputs": [
    {
     "data": {
      "text/html": [
       "<div>\n",
       "<style scoped>\n",
       "    .dataframe tbody tr th:only-of-type {\n",
       "        vertical-align: middle;\n",
       "    }\n",
       "\n",
       "    .dataframe tbody tr th {\n",
       "        vertical-align: top;\n",
       "    }\n",
       "\n",
       "    .dataframe thead th {\n",
       "        text-align: right;\n",
       "    }\n",
       "</style>\n",
       "<table border=\"1\" class=\"dataframe\">\n",
       "  <thead>\n",
       "    <tr style=\"text-align: right;\">\n",
       "      <th></th>\n",
       "      <th>NAME</th>\n",
       "      <th>B01003_001E</th>\n",
       "      <th>B25105_001E</th>\n",
       "      <th>B08134_001E</th>\n",
       "      <th>state</th>\n",
       "      <th>county</th>\n",
       "    </tr>\n",
       "  </thead>\n",
       "  <tbody>\n",
       "    <tr>\n",
       "      <th>0</th>\n",
       "      <td>Washington County, Florida</td>\n",
       "      <td>24764.0</td>\n",
       "      <td>581.0</td>\n",
       "      <td>8147.0</td>\n",
       "      <td>12</td>\n",
       "      <td>133</td>\n",
       "    </tr>\n",
       "    <tr>\n",
       "      <th>1</th>\n",
       "      <td>Duval County, Florida</td>\n",
       "      <td>936186.0</td>\n",
       "      <td>1084.0</td>\n",
       "      <td>435422.0</td>\n",
       "      <td>12</td>\n",
       "      <td>031</td>\n",
       "    </tr>\n",
       "    <tr>\n",
       "      <th>2</th>\n",
       "      <td>Bradford County, Florida</td>\n",
       "      <td>27317.0</td>\n",
       "      <td>656.0</td>\n",
       "      <td>9045.0</td>\n",
       "      <td>12</td>\n",
       "      <td>007</td>\n",
       "    </tr>\n",
       "    <tr>\n",
       "      <th>3</th>\n",
       "      <td>Brevard County, Florida</td>\n",
       "      <td>585507.0</td>\n",
       "      <td>971.0</td>\n",
       "      <td>233536.0</td>\n",
       "      <td>12</td>\n",
       "      <td>009</td>\n",
       "    </tr>\n",
       "    <tr>\n",
       "      <th>4</th>\n",
       "      <td>Clay County, Florida</td>\n",
       "      <td>211405.0</td>\n",
       "      <td>1091.0</td>\n",
       "      <td>91147.0</td>\n",
       "      <td>12</td>\n",
       "      <td>019</td>\n",
       "    </tr>\n",
       "  </tbody>\n",
       "</table>\n",
       "</div>"
      ],
      "text/plain": [
       "                         NAME  B01003_001E  B25105_001E  B08134_001E state  \\\n",
       "0  Washington County, Florida      24764.0        581.0       8147.0    12   \n",
       "1       Duval County, Florida     936186.0       1084.0     435422.0    12   \n",
       "2    Bradford County, Florida      27317.0        656.0       9045.0    12   \n",
       "3     Brevard County, Florida     585507.0        971.0     233536.0    12   \n",
       "4        Clay County, Florida     211405.0       1091.0      91147.0    12   \n",
       "\n",
       "  county  \n",
       "0    133  \n",
       "1    031  \n",
       "2    007  \n",
       "3    009  \n",
       "4    019  "
      ]
     },
     "execution_count": 19,
     "metadata": {},
     "output_type": "execute_result"
    }
   ],
   "source": [
    "fl_df.head()"
   ]
  },
  {
   "cell_type": "code",
   "execution_count": 20,
   "metadata": {},
   "outputs": [
    {
     "data": {
      "text/html": [
       "<div>\n",
       "<style scoped>\n",
       "    .dataframe tbody tr th:only-of-type {\n",
       "        vertical-align: middle;\n",
       "    }\n",
       "\n",
       "    .dataframe tbody tr th {\n",
       "        vertical-align: top;\n",
       "    }\n",
       "\n",
       "    .dataframe thead th {\n",
       "        text-align: right;\n",
       "    }\n",
       "</style>\n",
       "<table border=\"1\" class=\"dataframe\">\n",
       "  <thead>\n",
       "    <tr style=\"text-align: right;\">\n",
       "      <th></th>\n",
       "      <th>NAME</th>\n",
       "      <th>B01003_001E</th>\n",
       "      <th>B25105_001E</th>\n",
       "      <th>B08134_001E</th>\n",
       "      <th>state</th>\n",
       "      <th>county</th>\n",
       "      <th>tract</th>\n",
       "    </tr>\n",
       "  </thead>\n",
       "  <tbody>\n",
       "    <tr>\n",
       "      <th>0</th>\n",
       "      <td>Census Tract 2.11, Miami-Dade County, Florida</td>\n",
       "      <td>2812.0</td>\n",
       "      <td>1456.0</td>\n",
       "      <td>1449.0</td>\n",
       "      <td>12</td>\n",
       "      <td>086</td>\n",
       "      <td>000211</td>\n",
       "    </tr>\n",
       "    <tr>\n",
       "      <th>1</th>\n",
       "      <td>Census Tract 2.12, Miami-Dade County, Florida</td>\n",
       "      <td>4709.0</td>\n",
       "      <td>1111.0</td>\n",
       "      <td>2157.0</td>\n",
       "      <td>12</td>\n",
       "      <td>086</td>\n",
       "      <td>000212</td>\n",
       "    </tr>\n",
       "    <tr>\n",
       "      <th>2</th>\n",
       "      <td>Census Tract 2.13, Miami-Dade County, Florida</td>\n",
       "      <td>5005.0</td>\n",
       "      <td>1260.0</td>\n",
       "      <td>2194.0</td>\n",
       "      <td>12</td>\n",
       "      <td>086</td>\n",
       "      <td>000213</td>\n",
       "    </tr>\n",
       "    <tr>\n",
       "      <th>3</th>\n",
       "      <td>Census Tract 2.14, Miami-Dade County, Florida</td>\n",
       "      <td>6754.0</td>\n",
       "      <td>1070.0</td>\n",
       "      <td>3194.0</td>\n",
       "      <td>12</td>\n",
       "      <td>086</td>\n",
       "      <td>000214</td>\n",
       "    </tr>\n",
       "    <tr>\n",
       "      <th>4</th>\n",
       "      <td>Census Tract 1.28, Miami-Dade County, Florida</td>\n",
       "      <td>3021.0</td>\n",
       "      <td>1322.0</td>\n",
       "      <td>1965.0</td>\n",
       "      <td>12</td>\n",
       "      <td>086</td>\n",
       "      <td>000128</td>\n",
       "    </tr>\n",
       "  </tbody>\n",
       "</table>\n",
       "</div>"
      ],
      "text/plain": [
       "                                            NAME  B01003_001E  B25105_001E  \\\n",
       "0  Census Tract 2.11, Miami-Dade County, Florida       2812.0       1456.0   \n",
       "1  Census Tract 2.12, Miami-Dade County, Florida       4709.0       1111.0   \n",
       "2  Census Tract 2.13, Miami-Dade County, Florida       5005.0       1260.0   \n",
       "3  Census Tract 2.14, Miami-Dade County, Florida       6754.0       1070.0   \n",
       "4  Census Tract 1.28, Miami-Dade County, Florida       3021.0       1322.0   \n",
       "\n",
       "   B08134_001E state county   tract  \n",
       "0       1449.0    12    086  000211  \n",
       "1       2157.0    12    086  000212  \n",
       "2       2194.0    12    086  000213  \n",
       "3       3194.0    12    086  000214  \n",
       "4       1965.0    12    086  000128  "
      ]
     },
     "execution_count": 20,
     "metadata": {},
     "output_type": "execute_result"
    }
   ],
   "source": [
    "fl_tract_df.head()"
   ]
  },
  {
   "cell_type": "markdown",
   "metadata": {
    "id": "LLLMEbRZDCt9"
   },
   "source": [
    "Make column names more intuitive."
   ]
  },
  {
   "cell_type": "code",
   "execution_count": 25,
   "metadata": {
    "id": "B6yfIaBRBnL5"
   },
   "outputs": [],
   "source": [
    "fl_df = fl_df.rename(columns={\n",
    "    \"B01003_001E\": \"total_population\",\n",
    "    \"B25105_001E\": \"monthly_housing_costs\",\n",
    "    \"B08134_001E\": \"population_drive_to_work\"\n",
    "    })"
   ]
  },
  {
   "cell_type": "code",
   "execution_count": 21,
   "metadata": {},
   "outputs": [],
   "source": [
    "fl_tract_df = fl_tract_df.rename(columns={\n",
    "    \"B01003_001E\": \"total_population\",\n",
    "    \"B25105_001E\": \"monthly_housing_costs\",\n",
    "    \"B08134_001E\": \"population_drive_to_work\"\n",
    "})"
   ]
  },
  {
   "cell_type": "code",
   "execution_count": 26,
   "metadata": {
    "colab": {
     "base_uri": "https://localhost:8080/",
     "height": 316
    },
    "id": "pG_n7R9FCZYP",
    "outputId": "fdef08c9-300b-43d9-f767-c144801af2cf"
   },
   "outputs": [
    {
     "data": {
      "text/html": [
       "<div>\n",
       "<style scoped>\n",
       "    .dataframe tbody tr th:only-of-type {\n",
       "        vertical-align: middle;\n",
       "    }\n",
       "\n",
       "    .dataframe tbody tr th {\n",
       "        vertical-align: top;\n",
       "    }\n",
       "\n",
       "    .dataframe thead th {\n",
       "        text-align: right;\n",
       "    }\n",
       "</style>\n",
       "<table border=\"1\" class=\"dataframe\">\n",
       "  <thead>\n",
       "    <tr style=\"text-align: right;\">\n",
       "      <th></th>\n",
       "      <th>NAME</th>\n",
       "      <th>total_population</th>\n",
       "      <th>monthly_housing_costs</th>\n",
       "      <th>population_drive_to_work</th>\n",
       "      <th>state</th>\n",
       "      <th>county</th>\n",
       "    </tr>\n",
       "  </thead>\n",
       "  <tbody>\n",
       "    <tr>\n",
       "      <th>0</th>\n",
       "      <td>Washington County, Florida</td>\n",
       "      <td>24764.0</td>\n",
       "      <td>581.0</td>\n",
       "      <td>8147.0</td>\n",
       "      <td>12</td>\n",
       "      <td>133</td>\n",
       "    </tr>\n",
       "    <tr>\n",
       "      <th>1</th>\n",
       "      <td>Duval County, Florida</td>\n",
       "      <td>936186.0</td>\n",
       "      <td>1084.0</td>\n",
       "      <td>435422.0</td>\n",
       "      <td>12</td>\n",
       "      <td>031</td>\n",
       "    </tr>\n",
       "    <tr>\n",
       "      <th>2</th>\n",
       "      <td>Bradford County, Florida</td>\n",
       "      <td>27317.0</td>\n",
       "      <td>656.0</td>\n",
       "      <td>9045.0</td>\n",
       "      <td>12</td>\n",
       "      <td>007</td>\n",
       "    </tr>\n",
       "    <tr>\n",
       "      <th>3</th>\n",
       "      <td>Brevard County, Florida</td>\n",
       "      <td>585507.0</td>\n",
       "      <td>971.0</td>\n",
       "      <td>233536.0</td>\n",
       "      <td>12</td>\n",
       "      <td>009</td>\n",
       "    </tr>\n",
       "    <tr>\n",
       "      <th>4</th>\n",
       "      <td>Clay County, Florida</td>\n",
       "      <td>211405.0</td>\n",
       "      <td>1091.0</td>\n",
       "      <td>91147.0</td>\n",
       "      <td>12</td>\n",
       "      <td>019</td>\n",
       "    </tr>\n",
       "  </tbody>\n",
       "</table>\n",
       "</div>"
      ],
      "text/plain": [
       "                         NAME  total_population  monthly_housing_costs  \\\n",
       "0  Washington County, Florida           24764.0                  581.0   \n",
       "1       Duval County, Florida          936186.0                 1084.0   \n",
       "2    Bradford County, Florida           27317.0                  656.0   \n",
       "3     Brevard County, Florida          585507.0                  971.0   \n",
       "4        Clay County, Florida          211405.0                 1091.0   \n",
       "\n",
       "   population_drive_to_work state county  \n",
       "0                    8147.0    12    133  \n",
       "1                  435422.0    12    031  \n",
       "2                    9045.0    12    007  \n",
       "3                  233536.0    12    009  \n",
       "4                   91147.0    12    019  "
      ]
     },
     "execution_count": 26,
     "metadata": {},
     "output_type": "execute_result"
    }
   ],
   "source": [
    "fl_df.head()"
   ]
  },
  {
   "cell_type": "code",
   "execution_count": 38,
   "metadata": {},
   "outputs": [
    {
     "data": {
      "text/html": [
       "<div>\n",
       "<style scoped>\n",
       "    .dataframe tbody tr th:only-of-type {\n",
       "        vertical-align: middle;\n",
       "    }\n",
       "\n",
       "    .dataframe tbody tr th {\n",
       "        vertical-align: top;\n",
       "    }\n",
       "\n",
       "    .dataframe thead th {\n",
       "        text-align: right;\n",
       "    }\n",
       "</style>\n",
       "<table border=\"1\" class=\"dataframe\">\n",
       "  <thead>\n",
       "    <tr style=\"text-align: right;\">\n",
       "      <th></th>\n",
       "      <th>NAME</th>\n",
       "      <th>total_population</th>\n",
       "      <th>monthly_housing_costs</th>\n",
       "      <th>population_drive_to_work</th>\n",
       "      <th>state</th>\n",
       "      <th>county</th>\n",
       "      <th>tract</th>\n",
       "    </tr>\n",
       "  </thead>\n",
       "  <tbody>\n",
       "    <tr>\n",
       "      <th>0</th>\n",
       "      <td>Census Tract 2.11, Miami-Dade County, Florida</td>\n",
       "      <td>2812.0</td>\n",
       "      <td>1456.0</td>\n",
       "      <td>1449.0</td>\n",
       "      <td>12</td>\n",
       "      <td>086</td>\n",
       "      <td>000211</td>\n",
       "    </tr>\n",
       "    <tr>\n",
       "      <th>1</th>\n",
       "      <td>Census Tract 2.12, Miami-Dade County, Florida</td>\n",
       "      <td>4709.0</td>\n",
       "      <td>1111.0</td>\n",
       "      <td>2157.0</td>\n",
       "      <td>12</td>\n",
       "      <td>086</td>\n",
       "      <td>000212</td>\n",
       "    </tr>\n",
       "    <tr>\n",
       "      <th>2</th>\n",
       "      <td>Census Tract 2.13, Miami-Dade County, Florida</td>\n",
       "      <td>5005.0</td>\n",
       "      <td>1260.0</td>\n",
       "      <td>2194.0</td>\n",
       "      <td>12</td>\n",
       "      <td>086</td>\n",
       "      <td>000213</td>\n",
       "    </tr>\n",
       "    <tr>\n",
       "      <th>3</th>\n",
       "      <td>Census Tract 2.14, Miami-Dade County, Florida</td>\n",
       "      <td>6754.0</td>\n",
       "      <td>1070.0</td>\n",
       "      <td>3194.0</td>\n",
       "      <td>12</td>\n",
       "      <td>086</td>\n",
       "      <td>000214</td>\n",
       "    </tr>\n",
       "    <tr>\n",
       "      <th>4</th>\n",
       "      <td>Census Tract 1.28, Miami-Dade County, Florida</td>\n",
       "      <td>3021.0</td>\n",
       "      <td>1322.0</td>\n",
       "      <td>1965.0</td>\n",
       "      <td>12</td>\n",
       "      <td>086</td>\n",
       "      <td>000128</td>\n",
       "    </tr>\n",
       "  </tbody>\n",
       "</table>\n",
       "</div>"
      ],
      "text/plain": [
       "                                            NAME  total_population  \\\n",
       "0  Census Tract 2.11, Miami-Dade County, Florida            2812.0   \n",
       "1  Census Tract 2.12, Miami-Dade County, Florida            4709.0   \n",
       "2  Census Tract 2.13, Miami-Dade County, Florida            5005.0   \n",
       "3  Census Tract 2.14, Miami-Dade County, Florida            6754.0   \n",
       "4  Census Tract 1.28, Miami-Dade County, Florida            3021.0   \n",
       "\n",
       "   monthly_housing_costs  population_drive_to_work state county   tract  \n",
       "0                 1456.0                    1449.0    12    086  000211  \n",
       "1                 1111.0                    2157.0    12    086  000212  \n",
       "2                 1260.0                    2194.0    12    086  000213  \n",
       "3                 1070.0                    3194.0    12    086  000214  \n",
       "4                 1322.0                    1965.0    12    086  000128  "
      ]
     },
     "execution_count": 38,
     "metadata": {},
     "output_type": "execute_result"
    }
   ],
   "source": [
    "fl_tract_df.head()"
   ]
  },
  {
   "cell_type": "code",
   "execution_count": 35,
   "metadata": {},
   "outputs": [
    {
     "data": {
      "text/html": [
       "<div>\n",
       "<style scoped>\n",
       "    .dataframe tbody tr th:only-of-type {\n",
       "        vertical-align: middle;\n",
       "    }\n",
       "\n",
       "    .dataframe tbody tr th {\n",
       "        vertical-align: top;\n",
       "    }\n",
       "\n",
       "    .dataframe thead th {\n",
       "        text-align: right;\n",
       "    }\n",
       "</style>\n",
       "<table border=\"1\" class=\"dataframe\">\n",
       "  <thead>\n",
       "    <tr style=\"text-align: right;\">\n",
       "      <th></th>\n",
       "      <th>NAME</th>\n",
       "      <th>total_population</th>\n",
       "      <th>monthly_housing_costs</th>\n",
       "      <th>population_drive_to_work</th>\n",
       "      <th>state</th>\n",
       "      <th>county</th>\n",
       "      <th>tract</th>\n",
       "    </tr>\n",
       "  </thead>\n",
       "  <tbody>\n",
       "    <tr>\n",
       "      <th>92</th>\n",
       "      <td>Census Tract 25.10, Leon County, Florida</td>\n",
       "      <td>6835.0</td>\n",
       "      <td>1127.0</td>\n",
       "      <td>3905.0</td>\n",
       "      <td>12</td>\n",
       "      <td>073</td>\n",
       "      <td>002510</td>\n",
       "    </tr>\n",
       "    <tr>\n",
       "      <th>93</th>\n",
       "      <td>Census Tract 25.11, Leon County, Florida</td>\n",
       "      <td>1502.0</td>\n",
       "      <td>1004.0</td>\n",
       "      <td>558.0</td>\n",
       "      <td>12</td>\n",
       "      <td>073</td>\n",
       "      <td>002511</td>\n",
       "    </tr>\n",
       "    <tr>\n",
       "      <th>94</th>\n",
       "      <td>Census Tract 25.12, Leon County, Florida</td>\n",
       "      <td>3718.0</td>\n",
       "      <td>1444.0</td>\n",
       "      <td>1653.0</td>\n",
       "      <td>12</td>\n",
       "      <td>073</td>\n",
       "      <td>002512</td>\n",
       "    </tr>\n",
       "    <tr>\n",
       "      <th>95</th>\n",
       "      <td>Census Tract 25.13, Leon County, Florida</td>\n",
       "      <td>4664.0</td>\n",
       "      <td>1463.0</td>\n",
       "      <td>2265.0</td>\n",
       "      <td>12</td>\n",
       "      <td>073</td>\n",
       "      <td>002513</td>\n",
       "    </tr>\n",
       "    <tr>\n",
       "      <th>96</th>\n",
       "      <td>Census Tract 26.03, Leon County, Florida</td>\n",
       "      <td>4622.0</td>\n",
       "      <td>803.0</td>\n",
       "      <td>1888.0</td>\n",
       "      <td>12</td>\n",
       "      <td>073</td>\n",
       "      <td>002603</td>\n",
       "    </tr>\n",
       "    <tr>\n",
       "      <th>...</th>\n",
       "      <td>...</td>\n",
       "      <td>...</td>\n",
       "      <td>...</td>\n",
       "      <td>...</td>\n",
       "      <td>...</td>\n",
       "      <td>...</td>\n",
       "      <td>...</td>\n",
       "    </tr>\n",
       "    <tr>\n",
       "      <th>4013</th>\n",
       "      <td>Census Tract 24.15, Leon County, Florida</td>\n",
       "      <td>4170.0</td>\n",
       "      <td>1314.0</td>\n",
       "      <td>1700.0</td>\n",
       "      <td>12</td>\n",
       "      <td>073</td>\n",
       "      <td>002415</td>\n",
       "    </tr>\n",
       "    <tr>\n",
       "      <th>4014</th>\n",
       "      <td>Census Tract 24.16, Leon County, Florida</td>\n",
       "      <td>2816.0</td>\n",
       "      <td>1587.0</td>\n",
       "      <td>1159.0</td>\n",
       "      <td>12</td>\n",
       "      <td>073</td>\n",
       "      <td>002416</td>\n",
       "    </tr>\n",
       "    <tr>\n",
       "      <th>4015</th>\n",
       "      <td>Census Tract 24.17, Leon County, Florida</td>\n",
       "      <td>7784.0</td>\n",
       "      <td>1910.0</td>\n",
       "      <td>3713.0</td>\n",
       "      <td>12</td>\n",
       "      <td>073</td>\n",
       "      <td>002417</td>\n",
       "    </tr>\n",
       "    <tr>\n",
       "      <th>4016</th>\n",
       "      <td>Census Tract 25.07, Leon County, Florida</td>\n",
       "      <td>2279.0</td>\n",
       "      <td>1034.0</td>\n",
       "      <td>993.0</td>\n",
       "      <td>12</td>\n",
       "      <td>073</td>\n",
       "      <td>002507</td>\n",
       "    </tr>\n",
       "    <tr>\n",
       "      <th>4017</th>\n",
       "      <td>Census Tract 25.08, Leon County, Florida</td>\n",
       "      <td>9951.0</td>\n",
       "      <td>1374.0</td>\n",
       "      <td>4424.0</td>\n",
       "      <td>12</td>\n",
       "      <td>073</td>\n",
       "      <td>002508</td>\n",
       "    </tr>\n",
       "  </tbody>\n",
       "</table>\n",
       "<p>68 rows × 7 columns</p>\n",
       "</div>"
      ],
      "text/plain": [
       "                                          NAME  total_population  \\\n",
       "92    Census Tract 25.10, Leon County, Florida            6835.0   \n",
       "93    Census Tract 25.11, Leon County, Florida            1502.0   \n",
       "94    Census Tract 25.12, Leon County, Florida            3718.0   \n",
       "95    Census Tract 25.13, Leon County, Florida            4664.0   \n",
       "96    Census Tract 26.03, Leon County, Florida            4622.0   \n",
       "...                                        ...               ...   \n",
       "4013  Census Tract 24.15, Leon County, Florida            4170.0   \n",
       "4014  Census Tract 24.16, Leon County, Florida            2816.0   \n",
       "4015  Census Tract 24.17, Leon County, Florida            7784.0   \n",
       "4016  Census Tract 25.07, Leon County, Florida            2279.0   \n",
       "4017  Census Tract 25.08, Leon County, Florida            9951.0   \n",
       "\n",
       "      monthly_housing_costs  population_drive_to_work state county   tract  \n",
       "92                   1127.0                    3905.0    12    073  002510  \n",
       "93                   1004.0                     558.0    12    073  002511  \n",
       "94                   1444.0                    1653.0    12    073  002512  \n",
       "95                   1463.0                    2265.0    12    073  002513  \n",
       "96                    803.0                    1888.0    12    073  002603  \n",
       "...                     ...                       ...   ...    ...     ...  \n",
       "4013                 1314.0                    1700.0    12    073  002415  \n",
       "4014                 1587.0                    1159.0    12    073  002416  \n",
       "4015                 1910.0                    3713.0    12    073  002417  \n",
       "4016                 1034.0                     993.0    12    073  002507  \n",
       "4017                 1374.0                    4424.0    12    073  002508  \n",
       "\n",
       "[68 rows x 7 columns]"
      ]
     },
     "execution_count": 35,
     "metadata": {},
     "output_type": "execute_result"
    }
   ],
   "source": [
    "fl_leon_tract_df = fl_tract_df.loc[fl_tract_df[\"NAME\"].str.contains('Leon County, Florida', case=False, na=False)]\n",
    "fl_leon_tract_df"
   ]
  },
  {
   "cell_type": "markdown",
   "metadata": {
    "id": "vvHSzk5oDrws"
   },
   "source": [
    "### FIPS Code\n",
    "\n",
    "Each census unit is identified by the FIPS (Federal Information Processing Standard) code"
   ]
  },
  {
   "cell_type": "markdown",
   "metadata": {
    "id": "YzjcWbuqDcNm"
   },
   "source": [
    "<img src=\"https://blog.cdxtech.com/Blog/image.axd?picture=2012%2F8%2FFIPS+CODE.png\">"
   ]
  },
  {
   "cell_type": "markdown",
   "metadata": {},
   "source": [
    "And most of the administrative data from varisous agencies should have this code."
   ]
  },
  {
   "cell_type": "code",
   "execution_count": null,
   "metadata": {
    "id": "hcjGSdYgDGgs"
   },
   "outputs": [],
   "source": []
  },
  {
   "cell_type": "markdown",
   "metadata": {
    "id": "5vlpM_bQDHPF"
   },
   "source": [
    "### Obtain a boundary file from TIGER"
   ]
  },
  {
   "cell_type": "markdown",
   "metadata": {
    "id": "SfXIwmU-EZ15"
   },
   "source": [
    "A quick and easy way to directly fetch boundary from TIGER.\n",
    "\n",
    "First we need to know the URL of the unit we want."
   ]
  },
  {
   "cell_type": "code",
   "execution_count": 39,
   "metadata": {
    "colab": {
     "base_uri": "https://localhost:8080/"
    },
    "id": "7ZnszmzyD-ov",
    "outputId": "b3897d0d-4ee9-4451-9119-48eaed6b10b1"
   },
   "outputs": [
    {
     "data": {
      "text/plain": [
       "dict_keys(['tract', 'cd', 'county', 'state', 'zcta', 'block', 'blockgroup'])"
      ]
     },
     "execution_count": 39,
     "metadata": {},
     "output_type": "execute_result"
    }
   ],
   "source": [
    "urls = us.states.FL.shapefile_urls()\n",
    "\n",
    "urls.keys()"
   ]
  },
  {
   "cell_type": "markdown",
   "metadata": {
    "id": "amNqAsOidf4d"
   },
   "source": [
    "This will return you with an URL, that you can pass into geopandas's `read_file`."
   ]
  },
  {
   "cell_type": "code",
   "execution_count": 40,
   "metadata": {
    "colab": {
     "base_uri": "https://localhost:8080/",
     "height": 56
    },
    "id": "KYGAFDLKEI4Q",
    "outputId": "43146e2e-3eef-40c6-ecad-15dd3c3cd076"
   },
   "outputs": [
    {
     "data": {
      "text/plain": [
       "'https://www2.census.gov/geo/tiger/TIGER2010/COUNTY/2010/tl_2010_12_county10.zip'"
      ]
     },
     "execution_count": 40,
     "metadata": {},
     "output_type": "execute_result"
    }
   ],
   "source": [
    "urls['county']"
   ]
  },
  {
   "cell_type": "markdown",
   "metadata": {
    "id": "OOrX8_NeEiDX"
   },
   "source": [
    "Here, we are interested in the county level for Florida. *You are only  able to get the 2010 TIGER method using this method."
   ]
  },
  {
   "cell_type": "code",
   "execution_count": 41,
   "metadata": {
    "id": "jDvSxpNYZbiW"
   },
   "outputs": [],
   "source": [
    "url = urls['county']"
   ]
  },
  {
   "cell_type": "code",
   "execution_count": 42,
   "metadata": {
    "id": "LVxxYKbpEXFa"
   },
   "outputs": [],
   "source": [
    "fl_county = gpd.read_file(url)"
   ]
  },
  {
   "cell_type": "code",
   "execution_count": 43,
   "metadata": {
    "colab": {
     "base_uri": "https://localhost:8080/",
     "height": 468
    },
    "id": "0fezv9F6ZfFq",
    "outputId": "a5cac5c7-4103-424d-cd9a-da6798b6daa0"
   },
   "outputs": [
    {
     "data": {
      "text/plain": [
       "<Axes: >"
      ]
     },
     "execution_count": 43,
     "metadata": {},
     "output_type": "execute_result"
    },
    {
     "data": {
      "image/png": "[encoded data removed]",
      "text/plain": [
       "<Figure size 640x480 with 1 Axes>"
      ]
     },
     "metadata": {},
     "output_type": "display_data"
    }
   ],
   "source": [
    "fl_county.plot()"
   ]
  },
  {
   "cell_type": "code",
   "execution_count": 44,
   "metadata": {},
   "outputs": [
    {
     "data": {
      "text/plain": [
       "<Geographic 2D CRS: EPSG:4269>\n",
       "Name: NAD83\n",
       "Axis Info [ellipsoidal]:\n",
       "- Lat[north]: Geodetic latitude (degree)\n",
       "- Lon[east]: Geodetic longitude (degree)\n",
       "Area of Use:\n",
       "- name: North America - onshore and offshore: Canada - Alberta; British Columbia; Manitoba; New Brunswick; Newfoundland and Labrador; Northwest Territories; Nova Scotia; Nunavut; Ontario; Prince Edward Island; Quebec; Saskatchewan; Yukon. Puerto Rico. United States (USA) - Alabama; Alaska; Arizona; Arkansas; California; Colorado; Connecticut; Delaware; Florida; Georgia; Hawaii; Idaho; Illinois; Indiana; Iowa; Kansas; Kentucky; Louisiana; Maine; Maryland; Massachusetts; Michigan; Minnesota; Mississippi; Missouri; Montana; Nebraska; Nevada; New Hampshire; New Jersey; New Mexico; New York; North Carolina; North Dakota; Ohio; Oklahoma; Oregon; Pennsylvania; Rhode Island; South Carolina; South Dakota; Tennessee; Texas; Utah; Vermont; Virginia; Washington; West Virginia; Wisconsin; Wyoming. US Virgin Islands. British Virgin Islands.\n",
       "- bounds: (167.65, 14.92, -40.73, 86.45)\n",
       "Datum: North American Datum 1983\n",
       "- Ellipsoid: GRS 1980\n",
       "- Prime Meridian: Greenwich"
      ]
     },
     "execution_count": 44,
     "metadata": {},
     "output_type": "execute_result"
    }
   ],
   "source": [
    "fl_county.crs"
   ]
  },
  {
   "cell_type": "code",
   "execution_count": 45,
   "metadata": {
    "colab": {
     "base_uri": "https://localhost:8080/",
     "height": 580
    },
    "id": "3u4um1rq8MPP",
    "outputId": "9057bdbc-a863-4c3b-e6bb-f47889606c37"
   },
   "outputs": [
    {
     "data": {
      "text/html": [
       "<div>\n",
       "<style scoped>\n",
       "    .dataframe tbody tr th:only-of-type {\n",
       "        vertical-align: middle;\n",
       "    }\n",
       "\n",
       "    .dataframe tbody tr th {\n",
       "        vertical-align: top;\n",
       "    }\n",
       "\n",
       "    .dataframe thead th {\n",
       "        text-align: right;\n",
       "    }\n",
       "</style>\n",
       "<table border=\"1\" class=\"dataframe\">\n",
       "  <thead>\n",
       "    <tr style=\"text-align: right;\">\n",
       "      <th></th>\n",
       "      <th>STATEFP10</th>\n",
       "      <th>COUNTYFP10</th>\n",
       "      <th>COUNTYNS10</th>\n",
       "      <th>GEOID10</th>\n",
       "      <th>NAME10</th>\n",
       "      <th>NAMELSAD10</th>\n",
       "      <th>LSAD10</th>\n",
       "      <th>CLASSFP10</th>\n",
       "      <th>MTFCC10</th>\n",
       "      <th>CSAFP10</th>\n",
       "      <th>CBSAFP10</th>\n",
       "      <th>METDIVFP10</th>\n",
       "      <th>FUNCSTAT10</th>\n",
       "      <th>ALAND10</th>\n",
       "      <th>AWATER10</th>\n",
       "      <th>INTPTLAT10</th>\n",
       "      <th>INTPTLON10</th>\n",
       "      <th>geometry</th>\n",
       "    </tr>\n",
       "  </thead>\n",
       "  <tbody>\n",
       "    <tr>\n",
       "      <th>0</th>\n",
       "      <td>12</td>\n",
       "      <td>017</td>\n",
       "      <td>00295752</td>\n",
       "      <td>12017</td>\n",
       "      <td>Citrus</td>\n",
       "      <td>Citrus County</td>\n",
       "      <td>06</td>\n",
       "      <td>H1</td>\n",
       "      <td>G4020</td>\n",
       "      <td>None</td>\n",
       "      <td>26140</td>\n",
       "      <td>None</td>\n",
       "      <td>A</td>\n",
       "      <td>1506586255</td>\n",
       "      <td>496236304</td>\n",
       "      <td>+28.8436275</td>\n",
       "      <td>-082.5247964</td>\n",
       "      <td>POLYGON ((-82.45142 28.69481, -82.45247 28.694...</td>\n",
       "    </tr>\n",
       "    <tr>\n",
       "      <th>1</th>\n",
       "      <td>12</td>\n",
       "      <td>009</td>\n",
       "      <td>00295749</td>\n",
       "      <td>12009</td>\n",
       "      <td>Brevard</td>\n",
       "      <td>Brevard County</td>\n",
       "      <td>06</td>\n",
       "      <td>H1</td>\n",
       "      <td>G4020</td>\n",
       "      <td>None</td>\n",
       "      <td>37340</td>\n",
       "      <td>None</td>\n",
       "      <td>A</td>\n",
       "      <td>2630557912</td>\n",
       "      <td>1402040884</td>\n",
       "      <td>+28.2982755</td>\n",
       "      <td>-080.7003842</td>\n",
       "      <td>POLYGON ((-80.49977 28.40954, -80.49989 28.409...</td>\n",
       "    </tr>\n",
       "    <tr>\n",
       "      <th>2</th>\n",
       "      <td>12</td>\n",
       "      <td>037</td>\n",
       "      <td>00306911</td>\n",
       "      <td>12037</td>\n",
       "      <td>Franklin</td>\n",
       "      <td>Franklin County</td>\n",
       "      <td>06</td>\n",
       "      <td>H1</td>\n",
       "      <td>G4020</td>\n",
       "      <td>None</td>\n",
       "      <td>None</td>\n",
       "      <td>None</td>\n",
       "      <td>A</td>\n",
       "      <td>1384930964</td>\n",
       "      <td>1273675839</td>\n",
       "      <td>+29.8101756</td>\n",
       "      <td>-084.7991735</td>\n",
       "      <td>POLYGON ((-85.0219 29.82354, -85.02224 29.8237...</td>\n",
       "    </tr>\n",
       "    <tr>\n",
       "      <th>3</th>\n",
       "      <td>12</td>\n",
       "      <td>011</td>\n",
       "      <td>00295753</td>\n",
       "      <td>12011</td>\n",
       "      <td>Broward</td>\n",
       "      <td>Broward County</td>\n",
       "      <td>06</td>\n",
       "      <td>H1</td>\n",
       "      <td>G4020</td>\n",
       "      <td>None</td>\n",
       "      <td>33100</td>\n",
       "      <td>22744</td>\n",
       "      <td>A</td>\n",
       "      <td>3133329108</td>\n",
       "      <td>292869341</td>\n",
       "      <td>+26.1935200</td>\n",
       "      <td>-080.4766578</td>\n",
       "      <td>POLYGON ((-80.29693 26.33436, -80.29691 26.335...</td>\n",
       "    </tr>\n",
       "    <tr>\n",
       "      <th>4</th>\n",
       "      <td>12</td>\n",
       "      <td>047</td>\n",
       "      <td>00295736</td>\n",
       "      <td>12047</td>\n",
       "      <td>Hamilton</td>\n",
       "      <td>Hamilton County</td>\n",
       "      <td>06</td>\n",
       "      <td>H1</td>\n",
       "      <td>G4020</td>\n",
       "      <td>None</td>\n",
       "      <td>None</td>\n",
       "      <td>None</td>\n",
       "      <td>A</td>\n",
       "      <td>1330711074</td>\n",
       "      <td>13638327</td>\n",
       "      <td>+30.4911024</td>\n",
       "      <td>-082.9510488</td>\n",
       "      <td>POLYGON ((-83.0557 30.61947, -83.051 30.61919,...</td>\n",
       "    </tr>\n",
       "  </tbody>\n",
       "</table>\n",
       "</div>"
      ],
      "text/plain": [
       "  STATEFP10 COUNTYFP10 COUNTYNS10 GEOID10    NAME10       NAMELSAD10 LSAD10  \\\n",
       "0        12        017   00295752   12017    Citrus    Citrus County     06   \n",
       "1        12        009   00295749   12009   Brevard   Brevard County     06   \n",
       "2        12        037   00306911   12037  Franklin  Franklin County     06   \n",
       "3        12        011   00295753   12011   Broward   Broward County     06   \n",
       "4        12        047   00295736   12047  Hamilton  Hamilton County     06   \n",
       "\n",
       "  CLASSFP10 MTFCC10 CSAFP10 CBSAFP10 METDIVFP10 FUNCSTAT10     ALAND10  \\\n",
       "0        H1   G4020    None    26140       None          A  1506586255   \n",
       "1        H1   G4020    None    37340       None          A  2630557912   \n",
       "2        H1   G4020    None     None       None          A  1384930964   \n",
       "3        H1   G4020    None    33100      22744          A  3133329108   \n",
       "4        H1   G4020    None     None       None          A  1330711074   \n",
       "\n",
       "     AWATER10   INTPTLAT10    INTPTLON10  \\\n",
       "0   496236304  +28.8436275  -082.5247964   \n",
       "1  1402040884  +28.2982755  -080.7003842   \n",
       "2  1273675839  +29.8101756  -084.7991735   \n",
       "3   292869341  +26.1935200  -080.4766578   \n",
       "4    13638327  +30.4911024  -082.9510488   \n",
       "\n",
       "                                            geometry  \n",
       "0  POLYGON ((-82.45142 28.69481, -82.45247 28.694...  \n",
       "1  POLYGON ((-80.49977 28.40954, -80.49989 28.409...  \n",
       "2  POLYGON ((-85.0219 29.82354, -85.02224 29.8237...  \n",
       "3  POLYGON ((-80.29693 26.33436, -80.29691 26.335...  \n",
       "4  POLYGON ((-83.0557 30.61947, -83.051 30.61919,...  "
      ]
     },
     "execution_count": 45,
     "metadata": {},
     "output_type": "execute_result"
    }
   ],
   "source": [
    "fl_county.head()"
   ]
  },
  {
   "cell_type": "markdown",
   "metadata": {
    "id": "tFaaiKvFE3jb"
   },
   "source": [
    "The GeoDataFrame has FIPS code that we can use to join with the census data. Note that the `GEOID10` concatenates state and county (and tract/block if any) code together into a long code."
   ]
  },
  {
   "cell_type": "markdown",
   "metadata": {
    "id": "hoNYWErgFGf_"
   },
   "source": [
    "To make a consistent key, we need to create a new column in the census dataframe `fl_df` exactly the same as the `GEOID10` in `fl_county`."
   ]
  },
  {
   "cell_type": "code",
   "execution_count": 46,
   "metadata": {
    "colab": {
     "base_uri": "https://localhost:8080/",
     "height": 316
    },
    "id": "Lyg1kyWZaSvF",
    "outputId": "b78dff0b-fd11-43a9-92f5-6249e8e22936"
   },
   "outputs": [
    {
     "data": {
      "text/html": [
       "<div>\n",
       "<style scoped>\n",
       "    .dataframe tbody tr th:only-of-type {\n",
       "        vertical-align: middle;\n",
       "    }\n",
       "\n",
       "    .dataframe tbody tr th {\n",
       "        vertical-align: top;\n",
       "    }\n",
       "\n",
       "    .dataframe thead th {\n",
       "        text-align: right;\n",
       "    }\n",
       "</style>\n",
       "<table border=\"1\" class=\"dataframe\">\n",
       "  <thead>\n",
       "    <tr style=\"text-align: right;\">\n",
       "      <th></th>\n",
       "      <th>NAME</th>\n",
       "      <th>total_population</th>\n",
       "      <th>monthly_housing_costs</th>\n",
       "      <th>population_drive_to_work</th>\n",
       "      <th>state</th>\n",
       "      <th>county</th>\n",
       "    </tr>\n",
       "  </thead>\n",
       "  <tbody>\n",
       "    <tr>\n",
       "      <th>0</th>\n",
       "      <td>Washington County, Florida</td>\n",
       "      <td>24764.0</td>\n",
       "      <td>581.0</td>\n",
       "      <td>8147.0</td>\n",
       "      <td>12</td>\n",
       "      <td>133</td>\n",
       "    </tr>\n",
       "    <tr>\n",
       "      <th>1</th>\n",
       "      <td>Duval County, Florida</td>\n",
       "      <td>936186.0</td>\n",
       "      <td>1084.0</td>\n",
       "      <td>435422.0</td>\n",
       "      <td>12</td>\n",
       "      <td>031</td>\n",
       "    </tr>\n",
       "    <tr>\n",
       "      <th>2</th>\n",
       "      <td>Bradford County, Florida</td>\n",
       "      <td>27317.0</td>\n",
       "      <td>656.0</td>\n",
       "      <td>9045.0</td>\n",
       "      <td>12</td>\n",
       "      <td>007</td>\n",
       "    </tr>\n",
       "    <tr>\n",
       "      <th>3</th>\n",
       "      <td>Brevard County, Florida</td>\n",
       "      <td>585507.0</td>\n",
       "      <td>971.0</td>\n",
       "      <td>233536.0</td>\n",
       "      <td>12</td>\n",
       "      <td>009</td>\n",
       "    </tr>\n",
       "    <tr>\n",
       "      <th>4</th>\n",
       "      <td>Clay County, Florida</td>\n",
       "      <td>211405.0</td>\n",
       "      <td>1091.0</td>\n",
       "      <td>91147.0</td>\n",
       "      <td>12</td>\n",
       "      <td>019</td>\n",
       "    </tr>\n",
       "  </tbody>\n",
       "</table>\n",
       "</div>"
      ],
      "text/plain": [
       "                         NAME  total_population  monthly_housing_costs  \\\n",
       "0  Washington County, Florida           24764.0                  581.0   \n",
       "1       Duval County, Florida          936186.0                 1084.0   \n",
       "2    Bradford County, Florida           27317.0                  656.0   \n",
       "3     Brevard County, Florida          585507.0                  971.0   \n",
       "4        Clay County, Florida          211405.0                 1091.0   \n",
       "\n",
       "   population_drive_to_work state county  \n",
       "0                    8147.0    12    133  \n",
       "1                  435422.0    12    031  \n",
       "2                    9045.0    12    007  \n",
       "3                  233536.0    12    009  \n",
       "4                   91147.0    12    019  "
      ]
     },
     "execution_count": 46,
     "metadata": {},
     "output_type": "execute_result"
    }
   ],
   "source": [
    "fl_df.head()"
   ]
  },
  {
   "cell_type": "code",
   "execution_count": 47,
   "metadata": {
    "id": "pszg9wlo85MP"
   },
   "outputs": [],
   "source": [
    "fl_df[\"GEOID10\"] = fl_df[\"state\"] + fl_df[\"county\"]"
   ]
  },
  {
   "cell_type": "code",
   "execution_count": 48,
   "metadata": {
    "colab": {
     "base_uri": "https://localhost:8080/"
    },
    "id": "WS7iYcVrFUXr",
    "outputId": "7c201eac-08c7-416d-f390-6cad6341f3d8"
   },
   "outputs": [
    {
     "data": {
      "text/plain": [
       "0     12133\n",
       "1     12031\n",
       "2     12007\n",
       "3     12009\n",
       "4     12019\n",
       "      ...  \n",
       "62    12075\n",
       "63    12127\n",
       "64    12079\n",
       "65    12033\n",
       "66    12091\n",
       "Name: GEOID10, Length: 67, dtype: object"
      ]
     },
     "execution_count": 48,
     "metadata": {},
     "output_type": "execute_result"
    }
   ],
   "source": [
    "fl_df[\"GEOID10\"]"
   ]
  },
  {
   "cell_type": "markdown",
   "metadata": {
    "id": "llbNkilkFTkn"
   },
   "source": [
    "Merge two dataframes based on the same key `GEOID10`."
   ]
  },
  {
   "cell_type": "code",
   "execution_count": 49,
   "metadata": {
    "id": "E8hG1jK68nrk"
   },
   "outputs": [],
   "source": [
    "fl_county_df = pd.merge(fl_county, fl_df,on=\"GEOID10\")"
   ]
  },
  {
   "cell_type": "code",
   "execution_count": 50,
   "metadata": {
    "colab": {
     "base_uri": "https://localhost:8080/",
     "height": 668
    },
    "id": "iB-HWN_e83KL",
    "outputId": "71b802f5-3ea3-4202-93e7-f9039bd23190"
   },
   "outputs": [
    {
     "data": {
      "text/html": [
       "<div>\n",
       "<style scoped>\n",
       "    .dataframe tbody tr th:only-of-type {\n",
       "        vertical-align: middle;\n",
       "    }\n",
       "\n",
       "    .dataframe tbody tr th {\n",
       "        vertical-align: top;\n",
       "    }\n",
       "\n",
       "    .dataframe thead th {\n",
       "        text-align: right;\n",
       "    }\n",
       "</style>\n",
       "<table border=\"1\" class=\"dataframe\">\n",
       "  <thead>\n",
       "    <tr style=\"text-align: right;\">\n",
       "      <th></th>\n",
       "      <th>STATEFP10</th>\n",
       "      <th>COUNTYFP10</th>\n",
       "      <th>COUNTYNS10</th>\n",
       "      <th>GEOID10</th>\n",
       "      <th>NAME10</th>\n",
       "      <th>NAMELSAD10</th>\n",
       "      <th>LSAD10</th>\n",
       "      <th>CLASSFP10</th>\n",
       "      <th>MTFCC10</th>\n",
       "      <th>CSAFP10</th>\n",
       "      <th>...</th>\n",
       "      <th>AWATER10</th>\n",
       "      <th>INTPTLAT10</th>\n",
       "      <th>INTPTLON10</th>\n",
       "      <th>geometry</th>\n",
       "      <th>NAME</th>\n",
       "      <th>total_population</th>\n",
       "      <th>monthly_housing_costs</th>\n",
       "      <th>population_drive_to_work</th>\n",
       "      <th>state</th>\n",
       "      <th>county</th>\n",
       "    </tr>\n",
       "  </thead>\n",
       "  <tbody>\n",
       "    <tr>\n",
       "      <th>0</th>\n",
       "      <td>12</td>\n",
       "      <td>017</td>\n",
       "      <td>00295752</td>\n",
       "      <td>12017</td>\n",
       "      <td>Citrus</td>\n",
       "      <td>Citrus County</td>\n",
       "      <td>06</td>\n",
       "      <td>H1</td>\n",
       "      <td>G4020</td>\n",
       "      <td>None</td>\n",
       "      <td>...</td>\n",
       "      <td>496236304</td>\n",
       "      <td>+28.8436275</td>\n",
       "      <td>-082.5247964</td>\n",
       "      <td>POLYGON ((-82.45142 28.69481, -82.45247 28.694...</td>\n",
       "      <td>Citrus County, Florida</td>\n",
       "      <td>145169.0</td>\n",
       "      <td>639.0</td>\n",
       "      <td>42604.0</td>\n",
       "      <td>12</td>\n",
       "      <td>017</td>\n",
       "    </tr>\n",
       "    <tr>\n",
       "      <th>1</th>\n",
       "      <td>12</td>\n",
       "      <td>009</td>\n",
       "      <td>00295749</td>\n",
       "      <td>12009</td>\n",
       "      <td>Brevard</td>\n",
       "      <td>Brevard County</td>\n",
       "      <td>06</td>\n",
       "      <td>H1</td>\n",
       "      <td>G4020</td>\n",
       "      <td>None</td>\n",
       "      <td>...</td>\n",
       "      <td>1402040884</td>\n",
       "      <td>+28.2982755</td>\n",
       "      <td>-080.7003842</td>\n",
       "      <td>POLYGON ((-80.49977 28.40954, -80.49989 28.409...</td>\n",
       "      <td>Brevard County, Florida</td>\n",
       "      <td>585507.0</td>\n",
       "      <td>971.0</td>\n",
       "      <td>233536.0</td>\n",
       "      <td>12</td>\n",
       "      <td>009</td>\n",
       "    </tr>\n",
       "    <tr>\n",
       "      <th>2</th>\n",
       "      <td>12</td>\n",
       "      <td>037</td>\n",
       "      <td>00306911</td>\n",
       "      <td>12037</td>\n",
       "      <td>Franklin</td>\n",
       "      <td>Franklin County</td>\n",
       "      <td>06</td>\n",
       "      <td>H1</td>\n",
       "      <td>G4020</td>\n",
       "      <td>None</td>\n",
       "      <td>...</td>\n",
       "      <td>1273675839</td>\n",
       "      <td>+29.8101756</td>\n",
       "      <td>-084.7991735</td>\n",
       "      <td>POLYGON ((-85.0219 29.82354, -85.02224 29.8237...</td>\n",
       "      <td>Franklin County, Florida</td>\n",
       "      <td>11811.0</td>\n",
       "      <td>644.0</td>\n",
       "      <td>4069.0</td>\n",
       "      <td>12</td>\n",
       "      <td>037</td>\n",
       "    </tr>\n",
       "    <tr>\n",
       "      <th>3</th>\n",
       "      <td>12</td>\n",
       "      <td>011</td>\n",
       "      <td>00295753</td>\n",
       "      <td>12011</td>\n",
       "      <td>Broward</td>\n",
       "      <td>Broward County</td>\n",
       "      <td>06</td>\n",
       "      <td>H1</td>\n",
       "      <td>G4020</td>\n",
       "      <td>None</td>\n",
       "      <td>...</td>\n",
       "      <td>292869341</td>\n",
       "      <td>+26.1935200</td>\n",
       "      <td>-080.4766578</td>\n",
       "      <td>POLYGON ((-80.29693 26.33436, -80.29691 26.335...</td>\n",
       "      <td>Broward County, Florida</td>\n",
       "      <td>1926205.0</td>\n",
       "      <td>1356.0</td>\n",
       "      <td>898752.0</td>\n",
       "      <td>12</td>\n",
       "      <td>011</td>\n",
       "    </tr>\n",
       "    <tr>\n",
       "      <th>4</th>\n",
       "      <td>12</td>\n",
       "      <td>047</td>\n",
       "      <td>00295736</td>\n",
       "      <td>12047</td>\n",
       "      <td>Hamilton</td>\n",
       "      <td>Hamilton County</td>\n",
       "      <td>06</td>\n",
       "      <td>H1</td>\n",
       "      <td>G4020</td>\n",
       "      <td>None</td>\n",
       "      <td>...</td>\n",
       "      <td>13638327</td>\n",
       "      <td>+30.4911024</td>\n",
       "      <td>-082.9510488</td>\n",
       "      <td>POLYGON ((-83.0557 30.61947, -83.051 30.61919,...</td>\n",
       "      <td>Hamilton County, Florida</td>\n",
       "      <td>14326.0</td>\n",
       "      <td>490.0</td>\n",
       "      <td>3591.0</td>\n",
       "      <td>12</td>\n",
       "      <td>047</td>\n",
       "    </tr>\n",
       "  </tbody>\n",
       "</table>\n",
       "<p>5 rows × 24 columns</p>\n",
       "</div>"
      ],
      "text/plain": [
       "  STATEFP10 COUNTYFP10 COUNTYNS10 GEOID10    NAME10       NAMELSAD10 LSAD10  \\\n",
       "0        12        017   00295752   12017    Citrus    Citrus County     06   \n",
       "1        12        009   00295749   12009   Brevard   Brevard County     06   \n",
       "2        12        037   00306911   12037  Franklin  Franklin County     06   \n",
       "3        12        011   00295753   12011   Broward   Broward County     06   \n",
       "4        12        047   00295736   12047  Hamilton  Hamilton County     06   \n",
       "\n",
       "  CLASSFP10 MTFCC10 CSAFP10  ...    AWATER10   INTPTLAT10    INTPTLON10  \\\n",
       "0        H1   G4020    None  ...   496236304  +28.8436275  -082.5247964   \n",
       "1        H1   G4020    None  ...  1402040884  +28.2982755  -080.7003842   \n",
       "2        H1   G4020    None  ...  1273675839  +29.8101756  -084.7991735   \n",
       "3        H1   G4020    None  ...   292869341  +26.1935200  -080.4766578   \n",
       "4        H1   G4020    None  ...    13638327  +30.4911024  -082.9510488   \n",
       "\n",
       "                                            geometry  \\\n",
       "0  POLYGON ((-82.45142 28.69481, -82.45247 28.694...   \n",
       "1  POLYGON ((-80.49977 28.40954, -80.49989 28.409...   \n",
       "2  POLYGON ((-85.0219 29.82354, -85.02224 29.8237...   \n",
       "3  POLYGON ((-80.29693 26.33436, -80.29691 26.335...   \n",
       "4  POLYGON ((-83.0557 30.61947, -83.051 30.61919,...   \n",
       "\n",
       "                       NAME total_population monthly_housing_costs  \\\n",
       "0    Citrus County, Florida         145169.0                 639.0   \n",
       "1   Brevard County, Florida         585507.0                 971.0   \n",
       "2  Franklin County, Florida          11811.0                 644.0   \n",
       "3   Broward County, Florida        1926205.0                1356.0   \n",
       "4  Hamilton County, Florida          14326.0                 490.0   \n",
       "\n",
       "  population_drive_to_work state  county  \n",
       "0                  42604.0    12     017  \n",
       "1                 233536.0    12     009  \n",
       "2                   4069.0    12     037  \n",
       "3                 898752.0    12     011  \n",
       "4                   3591.0    12     047  \n",
       "\n",
       "[5 rows x 24 columns]"
      ]
     },
     "execution_count": 50,
     "metadata": {},
     "output_type": "execute_result"
    }
   ],
   "source": [
    "fl_county_df.head()"
   ]
  },
  {
   "cell_type": "code",
   "execution_count": 51,
   "metadata": {
    "colab": {
     "base_uri": "https://localhost:8080/",
     "height": 483
    },
    "id": "jVoMoTL6FbEg",
    "outputId": "5be7ba93-8956-42c6-bb17-568a3a35ecc6"
   },
   "outputs": [
    {
     "data": {
      "text/plain": [
       "<Axes: >"
      ]
     },
     "execution_count": 51,
     "metadata": {},
     "output_type": "execute_result"
    },
    {
     "data": {
      "image/png": "[encoded data removed]",
      "text/plain": [
       "<Figure size 640x480 with 2 Axes>"
      ]
     },
     "metadata": {},
     "output_type": "display_data"
    }
   ],
   "source": [
    "fl_county_df.plot(column=\"monthly_housing_costs\",legend=True)"
   ]
  },
  {
   "cell_type": "code",
   "execution_count": 52,
   "metadata": {
    "colab": {
     "base_uri": "https://localhost:8080/",
     "height": 486
    },
    "id": "-cUJBSXBFy8V",
    "outputId": "447bf810-2bf1-4745-c1d6-1a500ac30307"
   },
   "outputs": [
    {
     "data": {
      "text/plain": [
       "<Axes: >"
      ]
     },
     "execution_count": 52,
     "metadata": {},
     "output_type": "execute_result"
    },
    {
     "data": {
      "image/png": "[encoded data removed]",
      "text/plain": [
       "<Figure size 640x480 with 1 Axes>"
      ]
     },
     "metadata": {},
     "output_type": "display_data"
    }
   ],
   "source": [
    "fl_county_df.monthly_housing_costs.hist()"
   ]
  },
  {
   "cell_type": "markdown",
   "metadata": {
    "id": "tGewOioXH2ee"
   },
   "source": [
    "Now let's look at the other variable, population drive to work. Here we can calculate the % of people drive to work and make a new column in the dataframe."
   ]
  },
  {
   "cell_type": "code",
   "execution_count": 53,
   "metadata": {
    "id": "TcT7gDHHGn2G"
   },
   "outputs": [],
   "source": [
    "fl_county_df[\"pct_drive\"] = fl_county_df[\"population_drive_to_work\"]/fl_county_df[\"total_population\"]*100"
   ]
  },
  {
   "cell_type": "markdown",
   "metadata": {},
   "source": [
    "to improve this, you could use \"working age population\" instead of \"total population\""
   ]
  },
  {
   "cell_type": "code",
   "execution_count": 54,
   "metadata": {
    "colab": {
     "base_uri": "https://localhost:8080/",
     "height": 468
    },
    "id": "QZ3x6tUTHCui",
    "outputId": "b6172389-aab8-49c5-eb45-48179b7181c4"
   },
   "outputs": [
    {
     "data": {
      "text/plain": [
       "<Axes: >"
      ]
     },
     "execution_count": 54,
     "metadata": {},
     "output_type": "execute_result"
    },
    {
     "data": {
      "image/png": "[encoded data removed]",
      "text/plain": [
       "<Figure size 640x480 with 1 Axes>"
      ]
     },
     "metadata": {},
     "output_type": "display_data"
    }
   ],
   "source": [
    "fl_county_df[\"pct_drive\"].hist()"
   ]
  },
  {
   "cell_type": "code",
   "execution_count": 55,
   "metadata": {
    "colab": {
     "base_uri": "https://localhost:8080/",
     "height": 490
    },
    "id": "eEKtAnerHJt-",
    "outputId": "d06c26c6-9b58-462b-9c73-78364ea03913"
   },
   "outputs": [
    {
     "data": {
      "text/plain": [
       "Text(0.5, 1.0, '% of People drive to work')"
      ]
     },
     "execution_count": 55,
     "metadata": {},
     "output_type": "execute_result"
    },
    {
     "data": {
      "image/png": "[encoded data removed]",
      "text/plain": [
       "<Figure size 640x480 with 2 Axes>"
      ]
     },
     "metadata": {},
     "output_type": "display_data"
    }
   ],
   "source": [
    "fl_county_df.plot(column=\"pct_drive\",legend=True)\n",
    "\n",
    "plt.title(\"% of People drive to work\")"
   ]
  },
  {
   "cell_type": "markdown",
   "metadata": {
    "id": "q0SAv0oOH-eb"
   },
   "source": [
    "A simple scatterplot showing a positive correlation between the two variables."
   ]
  },
  {
   "cell_type": "code",
   "execution_count": 56,
   "metadata": {
    "colab": {
     "base_uri": "https://localhost:8080/",
     "height": 487
    },
    "id": "5YEhjakoHV52",
    "outputId": "2734c29d-2dc6-401c-ab7a-f0b68f512b89"
   },
   "outputs": [
    {
     "data": {
      "text/plain": [
       "Text(0, 0.5, 'Monthly Housing Costs')"
      ]
     },
     "execution_count": 56,
     "metadata": {},
     "output_type": "execute_result"
    },
    {
     "data": {
      "image/png": "[encoded data removed]",
      "text/plain": [
       "<Figure size 640x480 with 1 Axes>"
      ]
     },
     "metadata": {},
     "output_type": "display_data"
    }
   ],
   "source": [
    "plt.scatter(fl_county_df[\"pct_drive\"], fl_county_df[\"monthly_housing_costs\"],alpha=0.5)\n",
    "\n",
    "plt.xlabel(\"% Drive to Work\")\n",
    "plt.ylabel(\"Monthly Housing Costs\")"
   ]
  },
  {
   "cell_type": "markdown",
   "metadata": {},
   "source": [
    "## Part 2 Autocorrelation Analysis\n",
    "\n",
    "- [Global Moran's I](#global-morans-i-and-p-value)\n",
    "- [Moran Scatterplot](#moran-scatterplot)\n",
    "- [Local Moran's I (LISA)](#local-morans-i-lisa)\n",
    "- [Bivariate LISA](#bivariate-lisa)\n"
   ]
  },
  {
   "cell_type": "markdown",
   "metadata": {},
   "source": [
    "If you have `pysal` installed, you may not need to install these"
   ]
  },
  {
   "cell_type": "code",
   "execution_count": 57,
   "metadata": {
    "id": "yrzei6T2HgKd"
   },
   "outputs": [],
   "source": [
    "#pip install -q splot"
   ]
  },
  {
   "cell_type": "code",
   "execution_count": 58,
   "metadata": {},
   "outputs": [],
   "source": [
    "#pip install -q libpysal"
   ]
  },
  {
   "cell_type": "code",
   "execution_count": 59,
   "metadata": {},
   "outputs": [],
   "source": [
    "import numpy as np\n",
    "import matplotlib.pyplot as plt\n",
    "import geopandas as gpd\n",
    "\n",
    "\n",
    "from libpysal.weights.contiguity import Queen\n",
    "\n",
    "from splot.esda import moran_scatterplot,plot_moran,lisa_cluster\n",
    "from esda.moran import Moran, Moran_Local\n",
    "\n",
    "import splot"
   ]
  },
  {
   "cell_type": "markdown",
   "metadata": {
    "id": "PKsMUPqddBVt"
   },
   "source": [
    "### Global Moran's I and p-value"
   ]
  },
  {
   "cell_type": "markdown",
   "metadata": {
    "id": "2yCYENWNTpbn"
   },
   "source": [
    "Specify a weight matrix"
   ]
  },
  {
   "cell_type": "code",
   "execution_count": 60,
   "metadata": {
    "colab": {
     "base_uri": "https://localhost:8080/"
    },
    "id": "6rqE2G8DTpbn",
    "outputId": "28f19041-3df3-481b-d112-195177df1a4f"
   },
   "outputs": [
    {
     "name": "stderr",
     "output_type": "stream",
     "text": [
      "C:\\Users\\alexb\\AppData\\Local\\Temp\\ipykernel_11072\\2304272244.py:1: FutureWarning: `use_index` defaults to False but will default to True in future. Set True/False directly to control this behavior and silence this warning\n",
      "  w = Queen.from_dataframe(fl_county_df) #Generate W matrix using Queen contiguity\n"
     ]
    }
   ],
   "source": [
    "w = Queen.from_dataframe(fl_county_df) #Generate W matrix using Queen contiguity\n",
    "\n",
    "\n",
    "#w = Rook.from_dataframe(fl_county_df) #Generate W matrix using Rook contiguity\n",
    "\n",
    "\n",
    "w.transform = 'r' #Row-standardization of the weight matrix"
   ]
  },
  {
   "cell_type": "markdown",
   "metadata": {
    "id": "kyxaPbbKdDxA"
   },
   "source": [
    "Calculate Moran's I"
   ]
  },
  {
   "cell_type": "code",
   "execution_count": 61,
   "metadata": {},
   "outputs": [
    {
     "data": {
      "text/plain": [
       "np.float64(0.4771382216983452)"
      ]
     },
     "execution_count": 61,
     "metadata": {},
     "output_type": "execute_result"
    }
   ],
   "source": [
    "from esda.moran import Moran\n",
    "\n",
    "housing_costs = fl_county_df['monthly_housing_costs'].values #Get the data we are interested.\n",
    "\n",
    "\n",
    "global_moran = Moran(housing_costs, w)\n",
    "\n",
    "global_moran.I"
   ]
  },
  {
   "cell_type": "markdown",
   "metadata": {
    "id": "tMkLW5NMa2KV"
   },
   "source": [
    "p-value"
   ]
  },
  {
   "cell_type": "code",
   "execution_count": 62,
   "metadata": {},
   "outputs": [
    {
     "data": {
      "text/plain": [
       "np.float64(0.001)"
      ]
     },
     "execution_count": 62,
     "metadata": {},
     "output_type": "execute_result"
    }
   ],
   "source": [
    "global_moran.p_sim # P value based on permutation tests"
   ]
  },
  {
   "cell_type": "markdown",
   "metadata": {
    "id": "cr1z9JvkTpbp"
   },
   "source": [
    "This is indicating that the observed positive spatial autocorrelation of the median housing costs map is statistically significant (p<0.05).\n",
    "\n",
    "In other words, if we assume the pattern to be random, there is around ~0.5% probability that we will observe a pattern like our real data. so the spatial pattern is very unlikely to be random.  "
   ]
  },
  {
   "cell_type": "markdown",
   "metadata": {
    "id": "b2vo01ETa8oy"
   },
   "source": [
    "### Moran Scatterplot"
   ]
  },
  {
   "cell_type": "code",
   "execution_count": 63,
   "metadata": {},
   "outputs": [
    {
     "data": {
      "text/plain": [
       "(<Figure size 1000x400 with 2 Axes>,\n",
       " array([<Axes: title={'center': 'Reference Distribution'}, xlabel='Moran I: 0.48', ylabel='Density'>,\n",
       "        <Axes: title={'center': 'Moran Scatterplot (0.48)'}, xlabel='Attribute', ylabel='Spatial Lag'>],\n",
       "       dtype=object))"
      ]
     },
     "execution_count": 63,
     "metadata": {},
     "output_type": "execute_result"
    },
    {
     "data": {
      "image/png": "[encoded data removed]",
      "text/plain": [
       "<Figure size 1000x400 with 2 Axes>"
      ]
     },
     "metadata": {},
     "output_type": "display_data"
    }
   ],
   "source": [
    "from splot.esda import plot_moran\n",
    "\n",
    "plot_moran(global_moran, \n",
    "           zstandard=False, #True the data will be normalized (mean removed and divided by std)\n",
    "           figsize=(10,4)\n",
    "          )"
   ]
  },
  {
   "cell_type": "markdown",
   "metadata": {},
   "source": [
    "The left is the null sampling distribution of Moran's I under assumption of spatial randomness. The blue bar is the position of expected Moran's I value (-1/(n-1)), and the red bar marks the observed Moran's I value (0.48).\n",
    "\n",
    "The right is a Moran Scatterplot."
   ]
  },
  {
   "cell_type": "markdown",
   "metadata": {},
   "source": [
    "### Local Moran's I (LISA)"
   ]
  },
  {
   "cell_type": "markdown",
   "metadata": {
    "id": "LqfcdPEvTpbs"
   },
   "source": [
    "Generate a better Moran Scatterplot with significance of the local moran's Is.\n",
    "\n",
    "Color code each county with the quadrant it falls into.\n",
    "- Red: HH (High values near high values)\n",
    "- Light Blue: LH\n",
    "- Yellow: HL\n",
    "- Blue: LL"
   ]
  },
  {
   "cell_type": "code",
   "execution_count": 64,
   "metadata": {},
   "outputs": [
    {
     "data": {
      "text/plain": [
       "Text(0, 0.5, 'Averaged Housing Costs in the Close Neighborhoods')"
      ]
     },
     "execution_count": 64,
     "metadata": {},
     "output_type": "execute_result"
    },
    {
     "data": {
      "image/png": "[encoded data removed]",
      "text/plain": [
       "<Figure size 700x700 with 1 Axes>"
      ]
     },
     "metadata": {},
     "output_type": "display_data"
    }
   ],
   "source": [
    "from splot.esda import moran_scatterplot\n",
    "from esda.moran import Moran_Local\n",
    "\n",
    "# calculate Moran_Local and plot\n",
    "moran_local = Moran_Local(housing_costs, w)\n",
    "\n",
    "fig, ax = moran_scatterplot(moran_local, zstandard=False, p=0.05)\n",
    "\n",
    "#Labelling\n",
    "ax.set_xlabel('Median Housing Costs')\n",
    "ax.set_ylabel('Averaged Housing Costs in the Close Neighborhoods')\n"
   ]
  },
  {
   "cell_type": "markdown",
   "metadata": {
    "id": "1aeCTMj3Tpbt"
   },
   "source": [
    "Create a hot-spot and cold-spot map.\n",
    "- HH: High % Bach county surrounded by High % Bach county\n",
    "- LL: Low-Low\n",
    "- LH: Low-High\n",
    "- HL: High-Low\n",
    "- NS: Non-significant (p>0.05)"
   ]
  },
  {
   "cell_type": "code",
   "execution_count": 65,
   "metadata": {},
   "outputs": [
    {
     "data": {
      "text/plain": [
       "(<Figure size 600x600 with 1 Axes>, <Axes: >)"
      ]
     },
     "execution_count": 65,
     "metadata": {},
     "output_type": "execute_result"
    },
    {
     "data": {
      "image/png": "[encoded data removed]",
      "text/plain": [
       "<Figure size 600x600 with 1 Axes>"
      ]
     },
     "metadata": {},
     "output_type": "display_data"
    }
   ],
   "source": [
    "from splot.esda import lisa_cluster\n",
    "\n",
    "lisa_cluster(moran_loc=moran_local, \n",
    "             gdf=fl_county_df, \n",
    "             p = 0.05, # the level of p-value threshold to mask for non-significance\n",
    "             figsize = (6,6))"
   ]
  },
  {
   "cell_type": "markdown",
   "metadata": {},
   "source": [
    "### Bivariate LISA\n",
    "\n",
    "looking at pair-wise relationship between a variable and another variable (neighborhood-averaged)"
   ]
  },
  {
   "cell_type": "code",
   "execution_count": 66,
   "metadata": {},
   "outputs": [],
   "source": [
    "from esda.moran import Moran_Local_BV"
   ]
  },
  {
   "cell_type": "code",
   "execution_count": 67,
   "metadata": {},
   "outputs": [
    {
     "data": {
      "text/plain": [
       "Text(0, 0.5, 'Averaged Housing Costs in the Close Neighborhood')"
      ]
     },
     "execution_count": 67,
     "metadata": {},
     "output_type": "execute_result"
    },
    {
     "data": {
      "image/png": "[encoded data removed]",
      "text/plain": [
       "<Figure size 700x700 with 1 Axes>"
      ]
     },
     "metadata": {},
     "output_type": "display_data"
    }
   ],
   "source": [
    "x = fl_county_df['pct_drive'].values\n",
    "y = fl_county_df['monthly_housing_costs'].values\n",
    "\n",
    "moran_loc_bv = Moran_Local_BV(x, y, w)\n",
    "\n",
    "fig, ax = moran_scatterplot(moran_loc_bv, p=0.05,zstandard=False) #It seems the z-standard parameter is not working.\n",
    "\n",
    "\n",
    "ax.set_xlabel('% People Drive to Work')\n",
    "ax.set_ylabel('Averaged Housing Costs in the Close Neighborhood')"
   ]
  },
  {
   "cell_type": "code",
   "execution_count": 68,
   "metadata": {
    "scrolled": false
   },
   "outputs": [
    {
     "data": {
      "text/plain": [
       "(<Figure size 600x600 with 1 Axes>, <Axes: >)"
      ]
     },
     "execution_count": 68,
     "metadata": {},
     "output_type": "execute_result"
    },
    {
     "data": {
      "image/png": "[encoded data removed]",
      "text/plain": [
       "<Figure size 600x600 with 1 Axes>"
      ]
     },
     "metadata": {},
     "output_type": "display_data"
    }
   ],
   "source": [
    "from splot.esda import plot_local_autocorrelation\n",
    "\n",
    "lisa_cluster(moran_loc=moran_loc_bv, \n",
    "             gdf=fl_county_df, \n",
    "             p = 0.05, # the level of p-value threshold to mask for non-significance\n",
    "             figsize = (6,6))"
   ]
  },
  {
   "cell_type": "markdown",
   "metadata": {},
   "source": [
    "Bi-variate hot-spot interpretations\n",
    "\n",
    "- HH: More people drive to work and high averaged housing costs.\n",
    "- LL: Fewer people drive to work and low housing costs.\n",
    "- LH: Fewer people drive to work and high housing costs.\n",
    "- HL: More people drive to work and low housing costs."
   ]
  },
  {
   "cell_type": "code",
   "execution_count": null,
   "metadata": {},
   "outputs": [],
   "source": []
  }
 ],
 "metadata": {
  "colab": {
   "provenance": []
  },
  "kernelspec": {
   "display_name": "Python 3 (ipykernel)",
   "language": "python",
   "name": "python3"
  },
  "language_info": {
   "codemirror_mode": {
    "name": "ipython",
    "version": 3
   },
   "file_extension": ".py",
   "mimetype": "text/x-python",
   "name": "python",
   "nbconvert_exporter": "python",
   "pygments_lexer": "ipython3",
   "version": "3.11.9"
  }
 },
 "nbformat": 4,
 "nbformat_minor": 1
}

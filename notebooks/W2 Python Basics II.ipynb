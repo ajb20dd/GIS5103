{
 "cells": [
  {
   "cell_type": "markdown",
   "id": "65c7ae0a",
   "metadata": {},
   "source": [
    "# Python Basics II: If Statements, Loops and Functions\n",
    "\n",
    "In this class, we'll continue by looking at structure control such as conditions and loops as well as functions.\n",
    "\n",
    "- [Conditions and If Statements](#conditions-and-if-statements)\n",
    "- [Loops](#loops)\n",
    "- [Functions](#functions)"
   ]
  },
  {
   "cell_type": "markdown",
   "id": "4f8031a0",
   "metadata": {},
   "source": [
    "## Conditions and If Statements\n",
    "Python supports the usual logical conditions from mathematics:\n",
    "\n",
    "- Equals: `a == b`\n",
    "- Not Equals: `a != b`\n",
    "- Less than: `a < b`\n",
    "- Less than or equal to: `a <= b`\n",
    "- Greater than: `a > b`\n",
    "- Greater than or equal to: `a >= b`\n",
    "These conditions can be used in several ways, most commonly in \"if statements\" and loops.\n",
    "\n",
    "An \"if statement\" is written by using the `if` keyword."
   ]
  },
  {
   "cell_type": "code",
   "execution_count": 1,
   "id": "8676ac9e",
   "metadata": {},
   "outputs": [
    {
     "name": "stdout",
     "output_type": "stream",
     "text": [
      "b is greater than a\n"
     ]
    }
   ],
   "source": [
    "a = 33\n",
    "\n",
    "b = 200\n",
    "\n",
    "if b > a:\n",
    "    print(\"b is greater than a\")"
   ]
  },
  {
   "cell_type": "markdown",
   "id": "b8e4fd94",
   "metadata": {},
   "source": [
    "In this example we use two variables, a and b, which are used as part of the if statement to test whether b is greater than a. As a is 33, and b is 200, we know that 200 is greater than 33, and so we print to screen that \"b is greater than a\"."
   ]
  },
  {
   "cell_type": "markdown",
   "id": "e8e057b8",
   "metadata": {},
   "source": [
    "### Indentation\n",
    "Python relies on indentation (whitespace at the beginning of a line) to define scope in the code. \n",
    "\n",
    "You should type the indentation as either **1 tab** or **4 whitespaces**.\n",
    "\n",
    "Other programming languages often use curly-brackets for this purpose."
   ]
  },
  {
   "cell_type": "code",
   "execution_count": 2,
   "id": "8f858976",
   "metadata": {},
   "outputs": [
    {
     "name": "stdout",
     "output_type": "stream",
     "text": [
      "b is greater than a\n"
     ]
    }
   ],
   "source": [
    "a = 33\n",
    "b = 200\n",
    "\n",
    "if b > a:\n",
    "    print(\"b is greater than a\") # you will get an error"
   ]
  },
  {
   "cell_type": "markdown",
   "id": "65179a9c",
   "metadata": {},
   "source": [
    "### Elif\n",
    "The elif keyword is Python's way of saying \"if the previous conditions were not true, then try this condition\"."
   ]
  },
  {
   "cell_type": "code",
   "execution_count": 3,
   "id": "b7b6c94d",
   "metadata": {},
   "outputs": [
    {
     "name": "stdout",
     "output_type": "stream",
     "text": [
      "a and b are equal\n"
     ]
    }
   ],
   "source": [
    "a = 33\n",
    "b = 33\n",
    "\n",
    "if b > a:\n",
    "  print(\"b is greater than a\")\n",
    "\n",
    "elif a == b:\n",
    "    \n",
    "  print(\"a and b are equal\")"
   ]
  },
  {
   "cell_type": "markdown",
   "id": "8f977945",
   "metadata": {},
   "source": [
    "In this example a is equal to b, so the first condition is not true, but the elif condition is true, so we print to screen that \"a and b are equal\"."
   ]
  },
  {
   "cell_type": "markdown",
   "id": "1704feeb",
   "metadata": {},
   "source": [
    "### Else\n",
    "The else keyword catches anything which isn't caught by the preceding conditions."
   ]
  },
  {
   "cell_type": "code",
   "execution_count": 4,
   "id": "c25da636",
   "metadata": {},
   "outputs": [
    {
     "name": "stdout",
     "output_type": "stream",
     "text": [
      "else: a is greater than b\n"
     ]
    }
   ],
   "source": [
    "a = 200\n",
    "b = 33\n",
    "if b > a:\n",
    "  print(\"if: b is greater than a\")\n",
    "\n",
    "elif a == b:\n",
    "  print(\"elif: a and b are equal\")\n",
    "\n",
    "else:\n",
    "  print(\"else: a is greater than b\")"
   ]
  },
  {
   "cell_type": "markdown",
   "id": "bddafb88",
   "metadata": {},
   "source": [
    "In this example a is greater than b, so the first condition is not true, also the elif condition is not true, so we go to the else condition and print to screen that \"a is greater than b\".\n",
    "\n",
    "You can also have an else without the elif:"
   ]
  },
  {
   "cell_type": "code",
   "execution_count": 5,
   "id": "db99d329",
   "metadata": {},
   "outputs": [
    {
     "name": "stdout",
     "output_type": "stream",
     "text": [
      "b is not greater than a\n"
     ]
    }
   ],
   "source": [
    "a = 200\n",
    "b = 33\n",
    "if b > a:\n",
    "  print(\"b is greater than a\")\n",
    "\n",
    "else:\n",
    "  print(\"b is not greater than a\")"
   ]
  },
  {
   "cell_type": "markdown",
   "id": "cc5fe123",
   "metadata": {},
   "source": [
    "### Logical operators\n"
   ]
  },
  {
   "cell_type": "markdown",
   "id": "20c7b788",
   "metadata": {},
   "source": [
    "The `and` keyword is a logical operator, and is used to combine conditional statements.\n",
    "\n",
    "Test if a is greater than b, AND if c is greater than a:"
   ]
  },
  {
   "cell_type": "code",
   "execution_count": 6,
   "id": "f0dcaf59",
   "metadata": {},
   "outputs": [
    {
     "name": "stdout",
     "output_type": "stream",
     "text": [
      "Both conditions are True\n"
     ]
    }
   ],
   "source": [
    "a = 200\n",
    "\n",
    "b = 33\n",
    "\n",
    "c = 500\n",
    "\n",
    "if (a > b) and (c > a):\n",
    "    \n",
    "  print(\"Both conditions are True\")"
   ]
  },
  {
   "cell_type": "markdown",
   "id": "b21b2d95",
   "metadata": {},
   "source": [
    "The `or` keyword is a logical operator, and is used to combine conditional statements.\n",
    "\n",
    "Test if a is greater than b, OR if a is greater than c:"
   ]
  },
  {
   "cell_type": "code",
   "execution_count": 7,
   "id": "72e4a71c",
   "metadata": {},
   "outputs": [
    {
     "name": "stdout",
     "output_type": "stream",
     "text": [
      "At least one of the conditions is True\n"
     ]
    }
   ],
   "source": [
    "a = 200\n",
    "b = 33\n",
    "c = 500\n",
    "\n",
    "if (a > b) or (a > c):\n",
    "    \n",
    "  print(\"At least one of the conditions is True\")"
   ]
  },
  {
   "cell_type": "markdown",
   "id": "46fbc271",
   "metadata": {},
   "source": [
    "The `not` keyword is a logical operator, and is used to reverse the result of the conditional statement.\n",
    "\n",
    "Test if a is NOT greater than b:"
   ]
  },
  {
   "cell_type": "code",
   "execution_count": 8,
   "id": "1fb537f2",
   "metadata": {},
   "outputs": [
    {
     "name": "stdout",
     "output_type": "stream",
     "text": [
      "a is NOT greater than b\n"
     ]
    }
   ],
   "source": [
    "a = 33\n",
    "\n",
    "b = 200\n",
    "\n",
    "if not a > b:\n",
    "    \n",
    "  print(\"a is NOT greater than b\")"
   ]
  },
  {
   "cell_type": "markdown",
   "id": "fa45bcba",
   "metadata": {},
   "source": [
    "### Nested if\n",
    "\n",
    "You can have if statements inside if statements, this is called nested if statements."
   ]
  },
  {
   "cell_type": "code",
   "execution_count": 9,
   "id": "b138977c",
   "metadata": {},
   "outputs": [
    {
     "name": "stdout",
     "output_type": "stream",
     "text": [
      "Above ten,\n",
      "and also above 20!\n"
     ]
    }
   ],
   "source": [
    "x = 41\n",
    "\n",
    "if x > 10:\n",
    "    \n",
    "  print(\"Above ten,\")\n",
    "\n",
    "  if x > 20:\n",
    "    print(\"and also above 20!\")\n",
    "    \n",
    "  else:\n",
    "    print(\"but not above 20.\")"
   ]
  },
  {
   "cell_type": "markdown",
   "id": "64077caa",
   "metadata": {},
   "source": [
    "## Loops\n",
    "\n",
    "Loops or Iteration Statements in Programming are helpful when we need a specific task in repetition. \n",
    "\n",
    "Python has two primitive loop commands:\n",
    "\n",
    "- `while` loops\n",
    "- `for` loops"
   ]
  },
  {
   "cell_type": "markdown",
   "id": "6cc8324c",
   "metadata": {},
   "source": [
    "With the `while` loop we can execute a set of statements as long as a condition is true.\n",
    "\n",
    "In the below code variable `i` serves as an indexing variable. While the `i`'s value is smaller than 6, we print out `i` and then add 1 to `i`. The loop will stop when `i >= 6`."
   ]
  },
  {
   "cell_type": "code",
   "execution_count": 10,
   "id": "57e4afc3",
   "metadata": {},
   "outputs": [
    {
     "name": "stdout",
     "output_type": "stream",
     "text": [
      "1\n",
      "2\n",
      "3\n",
      "4\n",
      "5\n"
     ]
    }
   ],
   "source": [
    "i = 1\n",
    "\n",
    "while i < 6:\n",
    "    \n",
    "  print(i)\n",
    "\n",
    "  i = i + 1"
   ]
  },
  {
   "cell_type": "markdown",
   "id": "b0547457",
   "metadata": {},
   "source": [
    "With the `break` statement we can stop the loop even if the `while` condition is true.\n",
    "\n",
    "Exit the loop when i is 3:\n",
    "\n"
   ]
  },
  {
   "cell_type": "code",
   "execution_count": 11,
   "id": "6dcb06c7",
   "metadata": {},
   "outputs": [
    {
     "name": "stdout",
     "output_type": "stream",
     "text": [
      "1\n",
      "2\n",
      "3\n"
     ]
    }
   ],
   "source": [
    "i = 1\n",
    "while i < 6:\n",
    "  print(i)\n",
    "\n",
    "  if i == 3:\n",
    "    break # The code after when break is trigged will not be executed.\n",
    "    \n",
    "  i += 1"
   ]
  },
  {
   "cell_type": "markdown",
   "id": "415acdcb",
   "metadata": {},
   "source": [
    "With the `continue` statement we can stop the current iteration, and `continue` with the next. You can consider `continue` as a skip function.\n",
    "\n",
    "Continue to the next iteration if i is 3:"
   ]
  },
  {
   "cell_type": "code",
   "execution_count": 12,
   "id": "49986965",
   "metadata": {},
   "outputs": [
    {
     "name": "stdout",
     "output_type": "stream",
     "text": [
      "1\n",
      "2\n",
      "4\n",
      "5\n",
      "6\n"
     ]
    }
   ],
   "source": [
    "i = 0\n",
    "while i < 6:\n",
    "  i += 1\n",
    "  if i == 3:\n",
    "    continue # The code after when continue is trigged will be skipped. But the loop continues.\n",
    "  print(i)"
   ]
  },
  {
   "cell_type": "markdown",
   "id": "a03d7db0",
   "metadata": {},
   "source": [
    "### For Loops\n",
    "\n",
    "A `for` loop is used for iterating over a sequence (that is either a list, a tuple, a dictionary, a set, or a string).\n",
    "\n",
    "With the `for` loop we can execute a set of statements, once for each item in a list, tuple, set etc.\n",
    "\n"
   ]
  },
  {
   "cell_type": "markdown",
   "id": "0758e20a",
   "metadata": {},
   "source": [
    "Print each fruit in a fruit list:"
   ]
  },
  {
   "cell_type": "code",
   "execution_count": 13,
   "id": "57e93bf7",
   "metadata": {},
   "outputs": [
    {
     "name": "stdout",
     "output_type": "stream",
     "text": [
      "apple\n",
      "banana\n",
      "cherry\n"
     ]
    }
   ],
   "source": [
    "\n",
    "fruits = [\"apple\", \"banana\", \"cherry\"]\n",
    "\n",
    "for x in fruits:\n",
    "    \n",
    "  print(x)"
   ]
  },
  {
   "cell_type": "markdown",
   "id": "dfd5d393",
   "metadata": {},
   "source": [
    "Similarly, you can use `break` and `continue` to stop the loop or to skip an iteration."
   ]
  },
  {
   "cell_type": "code",
   "execution_count": 14,
   "id": "a519d254",
   "metadata": {},
   "outputs": [
    {
     "name": "stdout",
     "output_type": "stream",
     "text": [
      "apple\n",
      "banana\n"
     ]
    }
   ],
   "source": [
    "fruits = [\"apple\", \"banana\", \"cherry\"]\n",
    "\n",
    "for x in fruits:\n",
    "    \n",
    "  print(x)\n",
    "\n",
    "  if x == \"banana\":\n",
    "    break"
   ]
  },
  {
   "cell_type": "code",
   "execution_count": 15,
   "id": "be4a4064",
   "metadata": {},
   "outputs": [
    {
     "name": "stdout",
     "output_type": "stream",
     "text": [
      "apple\n",
      "cherry\n"
     ]
    }
   ],
   "source": [
    "fruits = [\"apple\", \"banana\", \"cherry\"]\n",
    "\n",
    "for x in fruits:\n",
    "  if x == \"banana\":\n",
    "    continue\n",
    "    \n",
    "  print(x)"
   ]
  },
  {
   "cell_type": "markdown",
   "id": "59660bf2",
   "metadata": {},
   "source": [
    "### The `range()` Function\n",
    "\n",
    "To loop through a set of code a specified number of times, we can use the `range()` function,\n",
    "The `range()` function returns a sequence of numbers, starting from 0 by default, and increments by 1 (by default), and ends at a specified number."
   ]
  },
  {
   "cell_type": "markdown",
   "id": "b08c5765",
   "metadata": {},
   "source": [
    "For example `range(6)` is similar to a list `[0, 1, 2, 3, 4, 5]`"
   ]
  },
  {
   "cell_type": "code",
   "execution_count": 16,
   "id": "39766498",
   "metadata": {},
   "outputs": [
    {
     "name": "stdout",
     "output_type": "stream",
     "text": [
      "0\n",
      "1\n",
      "2\n",
      "3\n",
      "4\n",
      "5\n"
     ]
    }
   ],
   "source": [
    "for number in range(6):\n",
    "    \n",
    "  print(number)"
   ]
  },
  {
   "cell_type": "markdown",
   "id": "8cfc176a",
   "metadata": {},
   "source": [
    "The `range()` function defaults to 0 as a starting value, however it is possible to specify the starting value by adding a parameter: `range(2, 6)`, which means values from 2 to 6 (but not including 6):"
   ]
  },
  {
   "cell_type": "code",
   "execution_count": 17,
   "id": "7dba5479",
   "metadata": {},
   "outputs": [
    {
     "name": "stdout",
     "output_type": "stream",
     "text": [
      "2\n",
      "3\n",
      "4\n",
      "5\n"
     ]
    }
   ],
   "source": [
    "for x in range(2, 6):\n",
    "    \n",
    "  print(x)"
   ]
  },
  {
   "cell_type": "markdown",
   "id": "dab15f7f",
   "metadata": {},
   "source": [
    "The `range()` function defaults to increment the sequence by 1, however it is possible to specify the increment value by adding a third parameter: `range(2, 30, 3)`:"
   ]
  },
  {
   "cell_type": "code",
   "execution_count": 18,
   "id": "2ba2536d",
   "metadata": {},
   "outputs": [
    {
     "name": "stdout",
     "output_type": "stream",
     "text": [
      "2\n",
      "5\n",
      "8\n",
      "11\n",
      "14\n",
      "17\n",
      "20\n",
      "23\n",
      "26\n",
      "29\n"
     ]
    }
   ],
   "source": [
    "for x in range(2, 30, 3):\n",
    "  print(x)"
   ]
  },
  {
   "cell_type": "markdown",
   "id": "5410a8dc",
   "metadata": {},
   "source": [
    "### Nested Loops\n",
    "A nested loop is a loop inside a loop.\n",
    "\n",
    "The \"inner loop\" will be executed one time for each iteration of the \"outer loop\":\n",
    "\n"
   ]
  },
  {
   "cell_type": "code",
   "execution_count": 19,
   "id": "c5a6ae5d",
   "metadata": {},
   "outputs": [
    {
     "name": "stdout",
     "output_type": "stream",
     "text": [
      "red apple\n",
      "red banana\n",
      "red cherry\n",
      "big apple\n",
      "big banana\n",
      "big cherry\n",
      "tasty apple\n",
      "tasty banana\n",
      "tasty cherry\n"
     ]
    }
   ],
   "source": [
    "adj = [\"red\", \"big\", \"tasty\"]\n",
    "fruits = [\"apple\", \"banana\", \"cherry\"]\n",
    "\n",
    "#outer loop\n",
    "for x in adj:\n",
    "    \n",
    "    #inner loop\n",
    "    for y in fruits:\n",
    "        \n",
    "        print(x, y)"
   ]
  },
  {
   "cell_type": "markdown",
   "id": "471ffb44",
   "metadata": {},
   "source": [
    "## Functions\n",
    "\n",
    "A function is a block of code which only runs when it is called.\n",
    "\n",
    "You can pass data, known as parameters, into a function.\n",
    "\n",
    "A function can return data as a result.\n",
    "\n",
    "### Declare a function"
   ]
  },
  {
   "cell_type": "code",
   "execution_count": 20,
   "id": "5a14ee0c",
   "metadata": {},
   "outputs": [],
   "source": [
    "def my_function():\n",
    "  print(\"Hello from a function\")"
   ]
  },
  {
   "cell_type": "markdown",
   "id": "735f8eb8",
   "metadata": {},
   "source": [
    "### Calling function\n",
    "To call a function, use the function name followed by parenthesis:"
   ]
  },
  {
   "cell_type": "code",
   "execution_count": 21,
   "id": "3039c643",
   "metadata": {},
   "outputs": [
    {
     "name": "stdout",
     "output_type": "stream",
     "text": [
      "Hello from a function\n"
     ]
    }
   ],
   "source": [
    "my_function()"
   ]
  },
  {
   "cell_type": "code",
   "execution_count": 22,
   "id": "64c2798d",
   "metadata": {},
   "outputs": [
    {
     "name": "stdout",
     "output_type": "stream",
     "text": [
      "Hello from a function\n"
     ]
    }
   ],
   "source": [
    "my_function()"
   ]
  },
  {
   "cell_type": "code",
   "execution_count": null,
   "id": "afdad421",
   "metadata": {},
   "outputs": [],
   "source": []
  },
  {
   "cell_type": "markdown",
   "id": "a176e15a",
   "metadata": {},
   "source": [
    "### Arguments\n",
    "Information can be passed into functions as arguments.\n",
    "\n",
    "Arguments are specified after the function name, inside the parentheses. You can add as many arguments as you want, just separate them with a comma.\n",
    "\n",
    "The following example has a function with one argument (state). When the function is called, we pass along a first name, which is used inside the function to print the full name:\n",
    "\n"
   ]
  },
  {
   "cell_type": "code",
   "execution_count": 23,
   "id": "fbc2700f",
   "metadata": {},
   "outputs": [
    {
     "name": "stdout",
     "output_type": "stream",
     "text": [
      "Florida State University\n",
      "Ohio State University\n",
      "Arizona State University\n"
     ]
    }
   ],
   "source": [
    "def my_function(state):\n",
    "  print(state + \" State University\")\n",
    "\n",
    "my_function(\"Florida\")\n",
    "my_function(\"Ohio\")\n",
    "my_function(\"Arizona\")"
   ]
  },
  {
   "cell_type": "markdown",
   "id": "96306cc7",
   "metadata": {},
   "source": [
    "### Parameters or Arguments?\n",
    "The terms parameter and argument can be used for the same thing: information that are passed into a function.\n",
    "\n",
    "From a function's perspective:\n",
    "\n",
    "A **parameter** is the variable listed inside the parentheses in the function definition.\n",
    "\n",
    "An **argument** is the value that is sent to the function when it is called."
   ]
  },
  {
   "cell_type": "markdown",
   "id": "4d830ea3",
   "metadata": {},
   "source": [
    "### Number of Arguments\n",
    "By default, a function must be called with the correct number of arguments. Meaning that if your function expects 2 arguments, you have to call the function with 2 arguments, not more, and not less. And the order matters: you have to have the first argument followed by the second, all the way to the last.\n",
    "\n"
   ]
  },
  {
   "cell_type": "code",
   "execution_count": 24,
   "id": "a9fc16db",
   "metadata": {},
   "outputs": [
    {
     "name": "stdout",
     "output_type": "stream",
     "text": [
      "Ziqi Li\n"
     ]
    }
   ],
   "source": [
    "def my_function(first_name, last_name):\n",
    "  print(first_name + \" \" + last_name)\n",
    "\n",
    "my_function(\"Ziqi\", \"Li\")"
   ]
  },
  {
   "cell_type": "code",
   "execution_count": 25,
   "id": "097cb7f9",
   "metadata": {},
   "outputs": [
    {
     "ename": "TypeError",
     "evalue": "my_function() missing 1 required positional argument: 'last_name'",
     "output_type": "error",
     "traceback": [
      "\u001b[0;31m---------------------------------------------------------------------------\u001b[0m",
      "\u001b[0;31mTypeError\u001b[0m                                 Traceback (most recent call last)",
      "Cell \u001b[0;32mIn[25], line 1\u001b[0m\n\u001b[0;32m----> 1\u001b[0m my_function(\u001b[38;5;124m\"\u001b[39m\u001b[38;5;124mZiqi\u001b[39m\u001b[38;5;124m\"\u001b[39m)\n",
      "\u001b[0;31mTypeError\u001b[0m: my_function() missing 1 required positional argument: 'last_name'"
     ]
    }
   ],
   "source": [
    "my_function(\"Ziqi\") # This will give you an error saying you are missing 1 argument."
   ]
  },
  {
   "cell_type": "markdown",
   "id": "532808c2",
   "metadata": {},
   "source": [
    "You can also send arguments with the key = value syntax. This way the order of the arguments does not matter. It is more explicit.\n"
   ]
  },
  {
   "cell_type": "code",
   "execution_count": 26,
   "id": "2c29b1bf",
   "metadata": {},
   "outputs": [
    {
     "name": "stdout",
     "output_type": "stream",
     "text": [
      "Ziqi Li\n",
      "Ziqi Li\n"
     ]
    }
   ],
   "source": [
    "def my_function(first_name, last_name):\n",
    "    \n",
    "  print(first_name + \" \" + last_name)\n",
    "\n",
    "my_function(\"Ziqi\", \"Li\")\n",
    "\n",
    "my_function(last_name = \"Li\", first_name = \"Ziqi\")\n"
   ]
  },
  {
   "cell_type": "markdown",
   "id": "5ce04836",
   "metadata": {},
   "source": [
    "### Default Parameter Value\n",
    "The following example shows how to use a default parameter value.\n",
    "\n",
    "If we call the function without argument, it uses the default value:"
   ]
  },
  {
   "cell_type": "code",
   "execution_count": 27,
   "id": "e3bacf90",
   "metadata": {},
   "outputs": [
    {
     "name": "stdout",
     "output_type": "stream",
     "text": [
      "I am from Florida\n",
      "I am from Georgia\n",
      "I am from Texas\n",
      "I am from New York\n"
     ]
    }
   ],
   "source": [
    "def my_function(state = \"Florida\"):\n",
    "  print(\"I am from \" + state)\n",
    "\n",
    "\n",
    "my_function() # withought passing any argument, it will use the default  value, which is Florida.\n",
    "\n",
    "\n",
    "\n",
    "my_function(\"Georgia\")\n",
    "my_function(\"Texas\")\n",
    "my_function(\"New York\")"
   ]
  },
  {
   "cell_type": "markdown",
   "id": "51ae7e2d",
   "metadata": {},
   "source": [
    "### Passing a List as an Argument\n",
    "You can send any data types of argument to a function (string, number, list, dictionary etc.), and it will be treated as the same data type inside the function.\n",
    "\n",
    "E.g. if you send a List as an argument, it will still be a List when it reaches the function:\n",
    "\n"
   ]
  },
  {
   "cell_type": "code",
   "execution_count": 28,
   "id": "5dae3ab9",
   "metadata": {},
   "outputs": [
    {
     "name": "stdout",
     "output_type": "stream",
     "text": [
      "apple\n",
      "banana\n",
      "cherry\n"
     ]
    }
   ],
   "source": [
    "def my_function(food):\n",
    "  for x in food:\n",
    "    print(x)\n",
    "\n",
    "fruits = [\"apple\", \"banana\", \"cherry\"]\n",
    "\n",
    "\n",
    "my_function(fruits)"
   ]
  },
  {
   "cell_type": "code",
   "execution_count": 29,
   "id": "3ead1f09",
   "metadata": {},
   "outputs": [
    {
     "name": "stdout",
     "output_type": "stream",
     "text": [
      "cheese\n",
      "burger\n",
      "chips\n"
     ]
    }
   ],
   "source": [
    "food = [\"cheese\", \"burger\", \"chips\"]\n",
    "\n",
    "\n",
    "my_function(food)"
   ]
  },
  {
   "cell_type": "markdown",
   "id": "457aa37c",
   "metadata": {},
   "source": [
    "### Return Values\n",
    "To let a function return a value, use the `return` statement:\n",
    "\n"
   ]
  },
  {
   "cell_type": "code",
   "execution_count": 30,
   "id": "3bab9cad",
   "metadata": {},
   "outputs": [
    {
     "name": "stdout",
     "output_type": "stream",
     "text": [
      "15\n",
      "25\n",
      "45\n"
     ]
    }
   ],
   "source": [
    "# The function does not print any values. It returns a value.\n",
    "def my_function(x):\n",
    "    \n",
    "  return 5 * x \n",
    "\n",
    "print(my_function(3))\n",
    "\n",
    "print(my_function(5))\n",
    "\n",
    "print(my_function(9))"
   ]
  },
  {
   "cell_type": "code",
   "execution_count": null,
   "id": "5ecad1c8",
   "metadata": {},
   "outputs": [],
   "source": []
  },
  {
   "cell_type": "code",
   "execution_count": null,
   "id": "03dbf7af",
   "metadata": {},
   "outputs": [],
   "source": []
  },
  {
   "cell_type": "code",
   "execution_count": null,
   "id": "9c7b9423",
   "metadata": {},
   "outputs": [],
   "source": []
  },
  {
   "cell_type": "code",
   "execution_count": null,
   "id": "37e70f02",
   "metadata": {},
   "outputs": [],
   "source": []
  },
  {
   "cell_type": "code",
   "execution_count": null,
   "id": "e29c70e5",
   "metadata": {},
   "outputs": [],
   "source": []
  }
 ],
 "metadata": {
  "kernelspec": {
   "display_name": "Python 3 (ipykernel)",
   "language": "python",
   "name": "python3"
  },
  "language_info": {
   "codemirror_mode": {
    "name": "ipython",
    "version": 3
   },
   "file_extension": ".py",
   "mimetype": "text/x-python",
   "name": "python",
   "nbconvert_exporter": "python",
   "pygments_lexer": "ipython3",
   "version": "3.11.9"
  }
 },
 "nbformat": 4,
 "nbformat_minor": 5
}

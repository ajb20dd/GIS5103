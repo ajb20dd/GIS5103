{
 "cells": [
  {
   "cell_type": "markdown",
   "metadata": {},
   "source": [
    "# GeoPandas Spatial Join"
   ]
  },
  {
   "cell_type": "markdown",
   "metadata": {},
   "source": [
    "## Table of Contents \n",
    "- [Setting up Environment](#setting-up-environment)\n",
    "- []"
   ]
  },
  {
   "cell_type": "markdown",
   "metadata": {},
   "source": [
    "### Setting Up Environment"
   ]
  },
  {
   "cell_type": "code",
   "execution_count": 1,
   "metadata": {},
   "outputs": [],
   "source": [
    "import pandas as pd\n",
    "import geopandas as gpd"
   ]
  },
  {
   "cell_type": "markdown",
   "metadata": {},
   "source": [
    "importing pandas and geopandas with appropriate aliases as they will be used in our analysis."
   ]
  },
  {
   "cell_type": "code",
   "execution_count": 12,
   "metadata": {},
   "outputs": [],
   "source": [
    "shelter_inventory = pd.read_csv('C:\\\\Users\\\\alexb\\\\Documents\\\\GIS5103\\\\GIS5103\\\\data\\\\Shelter_inventory.csv')\n",
    "# shelter_inventory         # validates the data"
   ]
  },
  {
   "cell_type": "code",
   "execution_count": 11,
   "metadata": {},
   "outputs": [],
   "source": [
    "GeoJSON = \"C:\\\\Users\\\\alexb\\\\Documents\\\\GIS5103\\\\GIS5103\\\\data\\\\Florida_Counties.geojson\"\n",
    "\n",
    "florida_counties = gpd.read_file(GeoJSON)\n",
    "# florida_counties      # validates the data"
   ]
  },
  {
   "cell_type": "markdown",
   "metadata": {},
   "source": [
    "create variables **shelter_inventory** and **florida_counties** using the csv and geojson files provided."
   ]
  },
  {
   "cell_type": "markdown",
   "metadata": {},
   "source": [
    "### Creating a GeoDataFrame"
   ]
  },
  {
   "cell_type": "markdown",
   "metadata": {},
   "source": [
    "1. Load the Shelter data and create a GeoDataFrame using the Lat/Long Columns"
   ]
  },
  {
   "cell_type": "code",
   "execution_count": 22,
   "metadata": {},
   "outputs": [
    {
     "data": {
      "text/html": [
       "<div>\n",
       "<style scoped>\n",
       "    .dataframe tbody tr th:only-of-type {\n",
       "        vertical-align: middle;\n",
       "    }\n",
       "\n",
       "    .dataframe tbody tr th {\n",
       "        vertical-align: top;\n",
       "    }\n",
       "\n",
       "    .dataframe thead th {\n",
       "        text-align: right;\n",
       "    }\n",
       "</style>\n",
       "<table border=\"1\" class=\"dataframe\">\n",
       "  <thead>\n",
       "    <tr style=\"text-align: right;\">\n",
       "      <th></th>\n",
       "      <th>Name</th>\n",
       "      <th>Address</th>\n",
       "      <th>City</th>\n",
       "      <th>Long</th>\n",
       "      <th>Lat</th>\n",
       "      <th>FACILITY_T</th>\n",
       "      <th>SHELTER_TY</th>\n",
       "      <th>Year_Built</th>\n",
       "      <th>Building</th>\n",
       "      <th>Risk_Capac</th>\n",
       "      <th>Risk_Squar</th>\n",
       "    </tr>\n",
       "  </thead>\n",
       "  <tbody>\n",
       "    <tr>\n",
       "      <th>0</th>\n",
       "      <td>Easton-Newberry Sports Complex</td>\n",
       "      <td>24880 NW 16th Ave</td>\n",
       "      <td>Newberry</td>\n",
       "      <td>-82.604255</td>\n",
       "      <td>29.669064</td>\n",
       "      <td>SHELTER</td>\n",
       "      <td>RISK</td>\n",
       "      <td>2008</td>\n",
       "      <td>1 Main</td>\n",
       "      <td>593</td>\n",
       "      <td>11860</td>\n",
       "    </tr>\n",
       "    <tr>\n",
       "      <th>1</th>\n",
       "      <td>University of Florida</td>\n",
       "      <td>3150 Hull Rd</td>\n",
       "      <td>Gainesville</td>\n",
       "      <td>-82.368263</td>\n",
       "      <td>29.638181</td>\n",
       "      <td>SHELTER</td>\n",
       "      <td>RISK</td>\n",
       "      <td>2007</td>\n",
       "      <td>110 Steinbrenner Hall 1st Floor</td>\n",
       "      <td>163</td>\n",
       "      <td>3261</td>\n",
       "    </tr>\n",
       "    <tr>\n",
       "      <th>2</th>\n",
       "      <td>Meadowbrook ES</td>\n",
       "      <td>11525 NW 39th Ave</td>\n",
       "      <td>Gainesville</td>\n",
       "      <td>-82.462776</td>\n",
       "      <td>29.688149</td>\n",
       "      <td>SHELTER</td>\n",
       "      <td>RISK</td>\n",
       "      <td>2011</td>\n",
       "      <td>1 Media / Classroom</td>\n",
       "      <td>900</td>\n",
       "      <td>18000</td>\n",
       "    </tr>\n",
       "    <tr>\n",
       "      <th>3</th>\n",
       "      <td>Sidney Lanier Center</td>\n",
       "      <td>312 NW 16th Ave</td>\n",
       "      <td>Gainesville</td>\n",
       "      <td>-82.328008</td>\n",
       "      <td>29.666899</td>\n",
       "      <td>SHELTER</td>\n",
       "      <td>RISK</td>\n",
       "      <td>2001</td>\n",
       "      <td>11 Classroom</td>\n",
       "      <td>552</td>\n",
       "      <td>11040</td>\n",
       "    </tr>\n",
       "    <tr>\n",
       "      <th>4</th>\n",
       "      <td>Lawton M Chiles ES</td>\n",
       "      <td>2525 School House Rd</td>\n",
       "      <td>Gainesville</td>\n",
       "      <td>-82.445166</td>\n",
       "      <td>29.628691</td>\n",
       "      <td>SHELTER</td>\n",
       "      <td>RISK</td>\n",
       "      <td>1999</td>\n",
       "      <td>3 Cafeteria</td>\n",
       "      <td>266</td>\n",
       "      <td>5320</td>\n",
       "    </tr>\n",
       "  </tbody>\n",
       "</table>\n",
       "</div>"
      ],
      "text/plain": [
       "                             Name               Address         City  \\\n",
       "0  Easton-Newberry Sports Complex     24880 NW 16th Ave     Newberry   \n",
       "1           University of Florida          3150 Hull Rd  Gainesville   \n",
       "2                  Meadowbrook ES     11525 NW 39th Ave  Gainesville   \n",
       "3            Sidney Lanier Center       312 NW 16th Ave  Gainesville   \n",
       "4              Lawton M Chiles ES  2525 School House Rd  Gainesville   \n",
       "\n",
       "        Long        Lat FACILITY_T SHELTER_TY  Year_Built  \\\n",
       "0 -82.604255  29.669064    SHELTER       RISK        2008   \n",
       "1 -82.368263  29.638181    SHELTER       RISK        2007   \n",
       "2 -82.462776  29.688149    SHELTER       RISK        2011   \n",
       "3 -82.328008  29.666899    SHELTER       RISK        2001   \n",
       "4 -82.445166  29.628691    SHELTER       RISK        1999   \n",
       "\n",
       "                          Building  Risk_Capac  Risk_Squar  \n",
       "0                           1 Main         593       11860  \n",
       "1  110 Steinbrenner Hall 1st Floor         163        3261  \n",
       "2              1 Media / Classroom         900       18000  \n",
       "3                     11 Classroom         552       11040  \n",
       "4                      3 Cafeteria         266        5320  "
      ]
     },
     "execution_count": 22,
     "metadata": {},
     "output_type": "execute_result"
    }
   ],
   "source": [
    "shelter_inventory.head()"
   ]
  },
  {
   "cell_type": "code",
   "execution_count": 34,
   "metadata": {},
   "outputs": [],
   "source": [
    "shelter_inventory_gpd = gpd.GeoDataFrame(shelter_inventory, geometry=gpd.points_from_xy(shelter_inventory.Long, shelter_inventory.Lat), crs=\"ESRI:102039\")"
   ]
  },
  {
   "cell_type": "markdown",
   "metadata": {},
   "source": [
    "load **shelter_inventory** and transform into a GeoDataFrame based on the Long/Lat columns"
   ]
  },
  {
   "cell_type": "markdown",
   "metadata": {},
   "source": [
    "2. Load FL counties data as a GeoDataFrame"
   ]
  },
  {
   "cell_type": "code",
   "execution_count": 53,
   "metadata": {},
   "outputs": [],
   "source": [
    "florida_counties_gpd = gpd.GeoDataFrame(florida_counties)"
   ]
  },
  {
   "cell_type": "markdown",
   "metadata": {},
   "source": [
    "3. Transform both GeoDataFrames so both have the same crs"
   ]
  },
  {
   "cell_type": "code",
   "execution_count": 58,
   "metadata": {},
   "outputs": [],
   "source": [
    "florida_counties_gpd = gpd.GeoDataFrame.set_crs(florida_counties_gpd, crs=\"ESRI:102039\", allow_override=True)"
   ]
  },
  {
   "cell_type": "markdown",
   "metadata": {},
   "source": [
    "verify the crs match for both GeoDataFrames"
   ]
  },
  {
   "cell_type": "code",
   "execution_count": 77,
   "metadata": {},
   "outputs": [
    {
     "data": {
      "text/plain": [
       "<Projected CRS: ESRI:102039>\n",
       "Name: USA_Contiguous_Albers_Equal_Area_Conic_USGS_version\n",
       "Axis Info [cartesian]:\n",
       "- E[east]: Easting (metre)\n",
       "- N[north]: Northing (metre)\n",
       "Area of Use:\n",
       "- name: United States (USA) - CONUS onshore - Alabama; Arizona; Arkansas; California; Colorado; Connecticut; Delaware; Florida; Georgia; Idaho; Illinois; Indiana; Iowa; Kansas; Kentucky; Louisiana; Maine; Maryland; Massachusetts; Michigan; Minnesota; Mississippi; Missouri; Montana; Nebraska; Nevada; New Hampshire; New Jersey; New Mexico; New York; North Carolina; North Dakota; Ohio; Oklahoma; Oregon; Pennsylvania; Rhode Island; South Carolina; South Dakota; Tennessee; Texas; Utah; Vermont; Virginia; Washington; West Virginia; Wisconsin; Wyoming.\n",
       "- bounds: (-124.79, 24.41, -66.91, 49.38)\n",
       "Coordinate Operation:\n",
       "- name: USA_Contiguous_Albers_Equal_Area_Conic_USGS_version\n",
       "- method: Albers Equal Area\n",
       "Datum: North American Datum 1983\n",
       "- Ellipsoid: GRS 1980\n",
       "- Prime Meridian: Greenwich"
      ]
     },
     "execution_count": 77,
     "metadata": {},
     "output_type": "execute_result"
    }
   ],
   "source": [
    "shelter_inventory_gpd.crs"
   ]
  },
  {
   "cell_type": "code",
   "execution_count": 61,
   "metadata": {},
   "outputs": [
    {
     "data": {
      "text/plain": [
       "<Projected CRS: ESRI:102039>\n",
       "Name: USA_Contiguous_Albers_Equal_Area_Conic_USGS_version\n",
       "Axis Info [cartesian]:\n",
       "- E[east]: Easting (metre)\n",
       "- N[north]: Northing (metre)\n",
       "Area of Use:\n",
       "- name: United States (USA) - CONUS onshore - Alabama; Arizona; Arkansas; California; Colorado; Connecticut; Delaware; Florida; Georgia; Idaho; Illinois; Indiana; Iowa; Kansas; Kentucky; Louisiana; Maine; Maryland; Massachusetts; Michigan; Minnesota; Mississippi; Missouri; Montana; Nebraska; Nevada; New Hampshire; New Jersey; New Mexico; New York; North Carolina; North Dakota; Ohio; Oklahoma; Oregon; Pennsylvania; Rhode Island; South Carolina; South Dakota; Tennessee; Texas; Utah; Vermont; Virginia; Washington; West Virginia; Wisconsin; Wyoming.\n",
       "- bounds: (-124.79, 24.41, -66.91, 49.38)\n",
       "Coordinate Operation:\n",
       "- name: USA_Contiguous_Albers_Equal_Area_Conic_USGS_version\n",
       "- method: Albers Equal Area\n",
       "Datum: North American Datum 1983\n",
       "- Ellipsoid: GRS 1980\n",
       "- Prime Meridian: Greenwich"
      ]
     },
     "execution_count": 61,
     "metadata": {},
     "output_type": "execute_result"
    }
   ],
   "source": [
    "florida_counties_gpd.crs"
   ]
  },
  {
   "cell_type": "markdown",
   "metadata": {},
   "source": [
    "4. Perform spatial join between the shelter GeoDataFrame and the FL counties GeoDataFrame."
   ]
  },
  {
   "cell_type": "code",
   "execution_count": 65,
   "metadata": {},
   "outputs": [
    {
     "data": {
      "text/html": [
       "<div>\n",
       "<style scoped>\n",
       "    .dataframe tbody tr th:only-of-type {\n",
       "        vertical-align: middle;\n",
       "    }\n",
       "\n",
       "    .dataframe tbody tr th {\n",
       "        vertical-align: top;\n",
       "    }\n",
       "\n",
       "    .dataframe thead th {\n",
       "        text-align: right;\n",
       "    }\n",
       "</style>\n",
       "<table border=\"1\" class=\"dataframe\">\n",
       "  <thead>\n",
       "    <tr style=\"text-align: right;\">\n",
       "      <th></th>\n",
       "      <th>OBJECTID</th>\n",
       "      <th>DEPCODE</th>\n",
       "      <th>COUNTY</th>\n",
       "      <th>COUNTYNAME</th>\n",
       "      <th>DATESTAMP</th>\n",
       "      <th>ShapeSTArea</th>\n",
       "      <th>ShapeSTLength</th>\n",
       "      <th>geometry</th>\n",
       "      <th>index_right</th>\n",
       "      <th>Name</th>\n",
       "      <th>Address</th>\n",
       "      <th>City</th>\n",
       "      <th>Long</th>\n",
       "      <th>Lat</th>\n",
       "      <th>FACILITY_T</th>\n",
       "      <th>SHELTER_TY</th>\n",
       "      <th>Year_Built</th>\n",
       "      <th>Building</th>\n",
       "      <th>Risk_Capac</th>\n",
       "      <th>Risk_Squar</th>\n",
       "    </tr>\n",
       "  </thead>\n",
       "  <tbody>\n",
       "    <tr>\n",
       "      <th>0</th>\n",
       "      <td>1</td>\n",
       "      <td>21</td>\n",
       "      <td>041</td>\n",
       "      <td>GILCHRIST</td>\n",
       "      <td>2000-05-16 00:00:00+00:00</td>\n",
       "      <td>9.908353e+09</td>\n",
       "      <td>487300.011359</td>\n",
       "      <td>POLYGON ((-82.658 29.83, -82.659 29.83, -82.66...</td>\n",
       "      <td>499</td>\n",
       "      <td>Trenton ES</td>\n",
       "      <td>1350 SW SR26</td>\n",
       "      <td>Trenton</td>\n",
       "      <td>-82.830316</td>\n",
       "      <td>29.613548</td>\n",
       "      <td>SHELTER</td>\n",
       "      <td>RISK</td>\n",
       "      <td>2000</td>\n",
       "      <td>2 Cafeteria</td>\n",
       "      <td>262</td>\n",
       "      <td>5240</td>\n",
       "    </tr>\n",
       "    <tr>\n",
       "      <th>0</th>\n",
       "      <td>1</td>\n",
       "      <td>21</td>\n",
       "      <td>041</td>\n",
       "      <td>GILCHRIST</td>\n",
       "      <td>2000-05-16 00:00:00+00:00</td>\n",
       "      <td>9.908353e+09</td>\n",
       "      <td>487300.011359</td>\n",
       "      <td>POLYGON ((-82.658 29.83, -82.659 29.83, -82.66...</td>\n",
       "      <td>504</td>\n",
       "      <td>Trenton HS</td>\n",
       "      <td>1013 N Main St</td>\n",
       "      <td>Trenton</td>\n",
       "      <td>-82.818750</td>\n",
       "      <td>29.619220</td>\n",
       "      <td>SHELTER</td>\n",
       "      <td>RISK</td>\n",
       "      <td>1991</td>\n",
       "      <td>30 Multiprpose</td>\n",
       "      <td>156</td>\n",
       "      <td>3127</td>\n",
       "    </tr>\n",
       "    <tr>\n",
       "      <th>0</th>\n",
       "      <td>1</td>\n",
       "      <td>21</td>\n",
       "      <td>041</td>\n",
       "      <td>GILCHRIST</td>\n",
       "      <td>2000-05-16 00:00:00+00:00</td>\n",
       "      <td>9.908353e+09</td>\n",
       "      <td>487300.011359</td>\n",
       "      <td>POLYGON ((-82.658 29.83, -82.659 29.83, -82.66...</td>\n",
       "      <td>500</td>\n",
       "      <td>Trenton HS</td>\n",
       "      <td>1013 N Main St</td>\n",
       "      <td>Trenton</td>\n",
       "      <td>-82.818750</td>\n",
       "      <td>29.619220</td>\n",
       "      <td>SHELTER</td>\n",
       "      <td>RISK</td>\n",
       "      <td>2000</td>\n",
       "      <td>34 Gym</td>\n",
       "      <td>624</td>\n",
       "      <td>12484</td>\n",
       "    </tr>\n",
       "    <tr>\n",
       "      <th>0</th>\n",
       "      <td>1</td>\n",
       "      <td>21</td>\n",
       "      <td>041</td>\n",
       "      <td>GILCHRIST</td>\n",
       "      <td>2000-05-16 00:00:00+00:00</td>\n",
       "      <td>9.908353e+09</td>\n",
       "      <td>487300.011359</td>\n",
       "      <td>POLYGON ((-82.658 29.83, -82.659 29.83, -82.66...</td>\n",
       "      <td>502</td>\n",
       "      <td>Trenton HS</td>\n",
       "      <td>1013 N Main St</td>\n",
       "      <td>Trenton</td>\n",
       "      <td>-82.818750</td>\n",
       "      <td>29.619220</td>\n",
       "      <td>SHELTER</td>\n",
       "      <td>RISK</td>\n",
       "      <td>1991</td>\n",
       "      <td>28 Classroom</td>\n",
       "      <td>338</td>\n",
       "      <td>6753</td>\n",
       "    </tr>\n",
       "    <tr>\n",
       "      <th>0</th>\n",
       "      <td>1</td>\n",
       "      <td>21</td>\n",
       "      <td>041</td>\n",
       "      <td>GILCHRIST</td>\n",
       "      <td>2000-05-16 00:00:00+00:00</td>\n",
       "      <td>9.908353e+09</td>\n",
       "      <td>487300.011359</td>\n",
       "      <td>POLYGON ((-82.658 29.83, -82.659 29.83, -82.66...</td>\n",
       "      <td>505</td>\n",
       "      <td>Trenton HS</td>\n",
       "      <td>1013 N Main St</td>\n",
       "      <td>Trenton</td>\n",
       "      <td>-82.818750</td>\n",
       "      <td>29.619220</td>\n",
       "      <td>SHELTER</td>\n",
       "      <td>RISK</td>\n",
       "      <td>1991</td>\n",
       "      <td>27 Classroom</td>\n",
       "      <td>347</td>\n",
       "      <td>6931</td>\n",
       "    </tr>\n",
       "  </tbody>\n",
       "</table>\n",
       "</div>"
      ],
      "text/plain": [
       "   OBJECTID  DEPCODE COUNTY COUNTYNAME                 DATESTAMP  \\\n",
       "0         1       21    041  GILCHRIST 2000-05-16 00:00:00+00:00   \n",
       "0         1       21    041  GILCHRIST 2000-05-16 00:00:00+00:00   \n",
       "0         1       21    041  GILCHRIST 2000-05-16 00:00:00+00:00   \n",
       "0         1       21    041  GILCHRIST 2000-05-16 00:00:00+00:00   \n",
       "0         1       21    041  GILCHRIST 2000-05-16 00:00:00+00:00   \n",
       "\n",
       "    ShapeSTArea  ShapeSTLength  \\\n",
       "0  9.908353e+09  487300.011359   \n",
       "0  9.908353e+09  487300.011359   \n",
       "0  9.908353e+09  487300.011359   \n",
       "0  9.908353e+09  487300.011359   \n",
       "0  9.908353e+09  487300.011359   \n",
       "\n",
       "                                            geometry  index_right        Name  \\\n",
       "0  POLYGON ((-82.658 29.83, -82.659 29.83, -82.66...          499  Trenton ES   \n",
       "0  POLYGON ((-82.658 29.83, -82.659 29.83, -82.66...          504  Trenton HS   \n",
       "0  POLYGON ((-82.658 29.83, -82.659 29.83, -82.66...          500  Trenton HS   \n",
       "0  POLYGON ((-82.658 29.83, -82.659 29.83, -82.66...          502  Trenton HS   \n",
       "0  POLYGON ((-82.658 29.83, -82.659 29.83, -82.66...          505  Trenton HS   \n",
       "\n",
       "          Address     City       Long        Lat FACILITY_T SHELTER_TY  \\\n",
       "0    1350 SW SR26  Trenton -82.830316  29.613548    SHELTER       RISK   \n",
       "0  1013 N Main St  Trenton -82.818750  29.619220    SHELTER       RISK   \n",
       "0  1013 N Main St  Trenton -82.818750  29.619220    SHELTER       RISK   \n",
       "0  1013 N Main St  Trenton -82.818750  29.619220    SHELTER       RISK   \n",
       "0  1013 N Main St  Trenton -82.818750  29.619220    SHELTER       RISK   \n",
       "\n",
       "   Year_Built        Building  Risk_Capac  Risk_Squar  \n",
       "0        2000     2 Cafeteria         262        5240  \n",
       "0        1991  30 Multiprpose         156        3127  \n",
       "0        2000          34 Gym         624       12484  \n",
       "0        1991    28 Classroom         338        6753  \n",
       "0        1991    27 Classroom         347        6931  "
      ]
     },
     "execution_count": 65,
     "metadata": {},
     "output_type": "execute_result"
    }
   ],
   "source": [
    "florida_counties_shelters = gpd.sjoin(florida_counties_gpd, shelter_inventory_gpd, predicate=\"contains\")\n",
    "florida_counties_shelters.head()"
   ]
  },
  {
   "cell_type": "code",
   "execution_count": 75,
   "metadata": {},
   "outputs": [
    {
     "data": {
      "text/plain": [
       "<Axes: >"
      ]
     },
     "execution_count": 75,
     "metadata": {},
     "output_type": "execute_result"
    },
    {
     "data": {
      "image/png": "[encoded data removed]",
      "text/plain": [
       "<Figure size 640x480 with 1 Axes>"
      ]
     },
     "metadata": {},
     "output_type": "display_data"
    }
   ],
   "source": [
    "ax = florida_counties_gpd.plot(color=\"wheat\")\n",
    "shelter_inventory_gpd.plot(ax=ax, color=\"red\", markersize=0.8)"
   ]
  },
  {
   "cell_type": "markdown",
   "metadata": {},
   "source": [
    "plot the locations of the shelters over the florida counties map."
   ]
  },
  {
   "cell_type": "markdown",
   "metadata": {},
   "source": [
    "### Calculating Total Number of Shelters per County"
   ]
  },
  {
   "cell_type": "code",
   "execution_count": 108,
   "metadata": {},
   "outputs": [
    {
     "data": {
      "text/plain": [
       "COUNTYNAME\n",
       "ALACHUA       25\n",
       "BAKER         11\n",
       "BAY           35\n",
       "BRADFORD       8\n",
       "BREVARD       98\n",
       "              ..\n",
       "UNION          7\n",
       "VOLUSIA       73\n",
       "WAKULLA        5\n",
       "WALTON        16\n",
       "WASHINGTON    23\n",
       "Length: 64, dtype: int64"
      ]
     },
     "execution_count": 108,
     "metadata": {},
     "output_type": "execute_result"
    }
   ],
   "source": [
    "florida_counties_shelters_counts = florida_counties_shelters.groupby(\"COUNTYNAME\").size()\n",
    "florida_counties_shelters_counts"
   ]
  },
  {
   "cell_type": "code",
   "execution_count": 109,
   "metadata": {},
   "outputs": [
    {
     "data": {
      "text/html": [
       "<div>\n",
       "<style scoped>\n",
       "    .dataframe tbody tr th:only-of-type {\n",
       "        vertical-align: middle;\n",
       "    }\n",
       "\n",
       "    .dataframe tbody tr th {\n",
       "        vertical-align: top;\n",
       "    }\n",
       "\n",
       "    .dataframe thead th {\n",
       "        text-align: right;\n",
       "    }\n",
       "</style>\n",
       "<table border=\"1\" class=\"dataframe\">\n",
       "  <thead>\n",
       "    <tr style=\"text-align: right;\">\n",
       "      <th></th>\n",
       "      <th>COUNTYNAME</th>\n",
       "      <th>0</th>\n",
       "    </tr>\n",
       "  </thead>\n",
       "  <tbody>\n",
       "    <tr>\n",
       "      <th>0</th>\n",
       "      <td>ALACHUA</td>\n",
       "      <td>25</td>\n",
       "    </tr>\n",
       "    <tr>\n",
       "      <th>1</th>\n",
       "      <td>BAKER</td>\n",
       "      <td>11</td>\n",
       "    </tr>\n",
       "    <tr>\n",
       "      <th>2</th>\n",
       "      <td>BAY</td>\n",
       "      <td>35</td>\n",
       "    </tr>\n",
       "    <tr>\n",
       "      <th>3</th>\n",
       "      <td>BRADFORD</td>\n",
       "      <td>8</td>\n",
       "    </tr>\n",
       "    <tr>\n",
       "      <th>4</th>\n",
       "      <td>BREVARD</td>\n",
       "      <td>98</td>\n",
       "    </tr>\n",
       "    <tr>\n",
       "      <th>...</th>\n",
       "      <td>...</td>\n",
       "      <td>...</td>\n",
       "    </tr>\n",
       "    <tr>\n",
       "      <th>59</th>\n",
       "      <td>UNION</td>\n",
       "      <td>7</td>\n",
       "    </tr>\n",
       "    <tr>\n",
       "      <th>60</th>\n",
       "      <td>VOLUSIA</td>\n",
       "      <td>73</td>\n",
       "    </tr>\n",
       "    <tr>\n",
       "      <th>61</th>\n",
       "      <td>WAKULLA</td>\n",
       "      <td>5</td>\n",
       "    </tr>\n",
       "    <tr>\n",
       "      <th>62</th>\n",
       "      <td>WALTON</td>\n",
       "      <td>16</td>\n",
       "    </tr>\n",
       "    <tr>\n",
       "      <th>63</th>\n",
       "      <td>WASHINGTON</td>\n",
       "      <td>23</td>\n",
       "    </tr>\n",
       "  </tbody>\n",
       "</table>\n",
       "<p>64 rows × 2 columns</p>\n",
       "</div>"
      ],
      "text/plain": [
       "    COUNTYNAME   0\n",
       "0      ALACHUA  25\n",
       "1        BAKER  11\n",
       "2          BAY  35\n",
       "3     BRADFORD   8\n",
       "4      BREVARD  98\n",
       "..         ...  ..\n",
       "59       UNION   7\n",
       "60     VOLUSIA  73\n",
       "61     WAKULLA   5\n",
       "62      WALTON  16\n",
       "63  WASHINGTON  23\n",
       "\n",
       "[64 rows x 2 columns]"
      ]
     },
     "execution_count": 109,
     "metadata": {},
     "output_type": "execute_result"
    }
   ],
   "source": [
    "florida_counties_shelters_counts = florida_counties_shelters_counts.reset_index()\n",
    "florida_counties_shelters_counts"
   ]
  },
  {
   "cell_type": "code",
   "execution_count": 110,
   "metadata": {},
   "outputs": [
    {
     "data": {
      "text/html": [
       "<div>\n",
       "<style scoped>\n",
       "    .dataframe tbody tr th:only-of-type {\n",
       "        vertical-align: middle;\n",
       "    }\n",
       "\n",
       "    .dataframe tbody tr th {\n",
       "        vertical-align: top;\n",
       "    }\n",
       "\n",
       "    .dataframe thead th {\n",
       "        text-align: right;\n",
       "    }\n",
       "</style>\n",
       "<table border=\"1\" class=\"dataframe\">\n",
       "  <thead>\n",
       "    <tr style=\"text-align: right;\">\n",
       "      <th></th>\n",
       "      <th>COUNTYNAME</th>\n",
       "      <th>n_shelters</th>\n",
       "    </tr>\n",
       "  </thead>\n",
       "  <tbody>\n",
       "    <tr>\n",
       "      <th>0</th>\n",
       "      <td>ALACHUA</td>\n",
       "      <td>25</td>\n",
       "    </tr>\n",
       "    <tr>\n",
       "      <th>1</th>\n",
       "      <td>BAKER</td>\n",
       "      <td>11</td>\n",
       "    </tr>\n",
       "    <tr>\n",
       "      <th>2</th>\n",
       "      <td>BAY</td>\n",
       "      <td>35</td>\n",
       "    </tr>\n",
       "    <tr>\n",
       "      <th>3</th>\n",
       "      <td>BRADFORD</td>\n",
       "      <td>8</td>\n",
       "    </tr>\n",
       "    <tr>\n",
       "      <th>4</th>\n",
       "      <td>BREVARD</td>\n",
       "      <td>98</td>\n",
       "    </tr>\n",
       "    <tr>\n",
       "      <th>...</th>\n",
       "      <td>...</td>\n",
       "      <td>...</td>\n",
       "    </tr>\n",
       "    <tr>\n",
       "      <th>59</th>\n",
       "      <td>UNION</td>\n",
       "      <td>7</td>\n",
       "    </tr>\n",
       "    <tr>\n",
       "      <th>60</th>\n",
       "      <td>VOLUSIA</td>\n",
       "      <td>73</td>\n",
       "    </tr>\n",
       "    <tr>\n",
       "      <th>61</th>\n",
       "      <td>WAKULLA</td>\n",
       "      <td>5</td>\n",
       "    </tr>\n",
       "    <tr>\n",
       "      <th>62</th>\n",
       "      <td>WALTON</td>\n",
       "      <td>16</td>\n",
       "    </tr>\n",
       "    <tr>\n",
       "      <th>63</th>\n",
       "      <td>WASHINGTON</td>\n",
       "      <td>23</td>\n",
       "    </tr>\n",
       "  </tbody>\n",
       "</table>\n",
       "<p>64 rows × 2 columns</p>\n",
       "</div>"
      ],
      "text/plain": [
       "    COUNTYNAME  n_shelters\n",
       "0      ALACHUA          25\n",
       "1        BAKER          11\n",
       "2          BAY          35\n",
       "3     BRADFORD           8\n",
       "4      BREVARD          98\n",
       "..         ...         ...\n",
       "59       UNION           7\n",
       "60     VOLUSIA          73\n",
       "61     WAKULLA           5\n",
       "62      WALTON          16\n",
       "63  WASHINGTON          23\n",
       "\n",
       "[64 rows x 2 columns]"
      ]
     },
     "execution_count": 110,
     "metadata": {},
     "output_type": "execute_result"
    }
   ],
   "source": [
    "florida_counties_shelters_counts = florida_counties_shelters_counts.rename(columns={0:'n_shelters'})\n",
    "florida_counties_shelters_counts"
   ]
  },
  {
   "cell_type": "markdown",
   "metadata": {},
   "source": [
    "creating variable **florida_counties_shelters_counts** to collect the number of shelters by county."
   ]
  },
  {
   "cell_type": "code",
   "execution_count": 111,
   "metadata": {},
   "outputs": [
    {
     "data": {
      "text/html": [
       "<div>\n",
       "<style scoped>\n",
       "    .dataframe tbody tr th:only-of-type {\n",
       "        vertical-align: middle;\n",
       "    }\n",
       "\n",
       "    .dataframe tbody tr th {\n",
       "        vertical-align: top;\n",
       "    }\n",
       "\n",
       "    .dataframe thead th {\n",
       "        text-align: right;\n",
       "    }\n",
       "</style>\n",
       "<table border=\"1\" class=\"dataframe\">\n",
       "  <thead>\n",
       "    <tr style=\"text-align: right;\">\n",
       "      <th></th>\n",
       "      <th>OBJECTID</th>\n",
       "      <th>DEPCODE</th>\n",
       "      <th>COUNTY</th>\n",
       "      <th>COUNTYNAME</th>\n",
       "      <th>DATESTAMP</th>\n",
       "      <th>ShapeSTArea</th>\n",
       "      <th>ShapeSTLength</th>\n",
       "      <th>geometry</th>\n",
       "      <th>n_shelters</th>\n",
       "    </tr>\n",
       "  </thead>\n",
       "  <tbody>\n",
       "    <tr>\n",
       "      <th>0</th>\n",
       "      <td>1</td>\n",
       "      <td>21</td>\n",
       "      <td>041</td>\n",
       "      <td>GILCHRIST</td>\n",
       "      <td>2000-05-16 00:00:00+00:00</td>\n",
       "      <td>9.908353e+09</td>\n",
       "      <td>4.873000e+05</td>\n",
       "      <td>POLYGON ((-82.658 29.83, -82.659 29.83, -82.66...</td>\n",
       "      <td>9.0</td>\n",
       "    </tr>\n",
       "    <tr>\n",
       "      <th>1</th>\n",
       "      <td>2</td>\n",
       "      <td>54</td>\n",
       "      <td>107</td>\n",
       "      <td>PUTNAM</td>\n",
       "      <td>2000-05-16 00:00:00+00:00</td>\n",
       "      <td>2.305869e+10</td>\n",
       "      <td>7.629677e+05</td>\n",
       "      <td>POLYGON ((-81.581 29.84, -81.606 29.84, -81.62...</td>\n",
       "      <td>12.0</td>\n",
       "    </tr>\n",
       "    <tr>\n",
       "      <th>2</th>\n",
       "      <td>3</td>\n",
       "      <td>62</td>\n",
       "      <td>123</td>\n",
       "      <td>TAYLOR</td>\n",
       "      <td>2000-05-16 00:00:00+00:00</td>\n",
       "      <td>2.891747e+10</td>\n",
       "      <td>8.772527e+05</td>\n",
       "      <td>MULTIPOLYGON (((-83.73 30.304, -83.74 30.303, ...</td>\n",
       "      <td>11.0</td>\n",
       "    </tr>\n",
       "    <tr>\n",
       "      <th>3</th>\n",
       "      <td>4</td>\n",
       "      <td>46</td>\n",
       "      <td>091</td>\n",
       "      <td>OKALOOSA</td>\n",
       "      <td>2000-05-16 00:00:00+00:00</td>\n",
       "      <td>2.562159e+10</td>\n",
       "      <td>1.087058e+06</td>\n",
       "      <td>MULTIPOLYGON (((-86.392 30.65, -86.392 30.652,...</td>\n",
       "      <td>22.0</td>\n",
       "    </tr>\n",
       "    <tr>\n",
       "      <th>4</th>\n",
       "      <td>5</td>\n",
       "      <td>7</td>\n",
       "      <td>013</td>\n",
       "      <td>CALHOUN</td>\n",
       "      <td>2000-05-16 00:00:00+00:00</td>\n",
       "      <td>1.604809e+10</td>\n",
       "      <td>6.313440e+05</td>\n",
       "      <td>POLYGON ((-84.933 30.606, -84.957 30.606, -84....</td>\n",
       "      <td>10.0</td>\n",
       "    </tr>\n",
       "    <tr>\n",
       "      <th>...</th>\n",
       "      <td>...</td>\n",
       "      <td>...</td>\n",
       "      <td>...</td>\n",
       "      <td>...</td>\n",
       "      <td>...</td>\n",
       "      <td>...</td>\n",
       "      <td>...</td>\n",
       "      <td>...</td>\n",
       "      <td>...</td>\n",
       "    </tr>\n",
       "    <tr>\n",
       "      <th>62</th>\n",
       "      <td>63</td>\n",
       "      <td>17</td>\n",
       "      <td>033</td>\n",
       "      <td>ESCAMBIA</td>\n",
       "      <td>2000-05-16 00:00:00+00:00</td>\n",
       "      <td>1.915206e+10</td>\n",
       "      <td>1.448408e+06</td>\n",
       "      <td>MULTIPOLYGON (((-87.231 30.997, -87.238 30.997...</td>\n",
       "      <td>51.0</td>\n",
       "    </tr>\n",
       "    <tr>\n",
       "      <th>63</th>\n",
       "      <td>64</td>\n",
       "      <td>47</td>\n",
       "      <td>093</td>\n",
       "      <td>OKEECHOBEE</td>\n",
       "      <td>2000-05-16 00:00:00+00:00</td>\n",
       "      <td>2.484427e+10</td>\n",
       "      <td>8.939740e+05</td>\n",
       "      <td>POLYGON ((-80.679 27.558, -80.679 27.558, -80....</td>\n",
       "      <td>7.0</td>\n",
       "    </tr>\n",
       "    <tr>\n",
       "      <th>64</th>\n",
       "      <td>65</td>\n",
       "      <td>19</td>\n",
       "      <td>037</td>\n",
       "      <td>FRANKLIN</td>\n",
       "      <td>2000-05-16 00:00:00+00:00</td>\n",
       "      <td>1.558955e+10</td>\n",
       "      <td>1.467125e+06</td>\n",
       "      <td>MULTIPOLYGON (((-84.667 30.012, -84.71 30.012,...</td>\n",
       "      <td>NaN</td>\n",
       "    </tr>\n",
       "    <tr>\n",
       "      <th>65</th>\n",
       "      <td>66</td>\n",
       "      <td>1</td>\n",
       "      <td>001</td>\n",
       "      <td>ALACHUA</td>\n",
       "      <td>2000-05-16 00:00:00+00:00</td>\n",
       "      <td>2.702324e+10</td>\n",
       "      <td>8.927266e+05</td>\n",
       "      <td>POLYGON ((-82.419 29.923, -82.419 29.923, -82....</td>\n",
       "      <td>25.0</td>\n",
       "    </tr>\n",
       "    <tr>\n",
       "      <th>66</th>\n",
       "      <td>67</td>\n",
       "      <td>55</td>\n",
       "      <td>109</td>\n",
       "      <td>ST. JOHNS</td>\n",
       "      <td>2000-05-16 00:00:00+00:00</td>\n",
       "      <td>1.784792e+10</td>\n",
       "      <td>1.130720e+06</td>\n",
       "      <td>MULTIPOLYGON (((-81.378 30.108, -81.378 30.112...</td>\n",
       "      <td>37.0</td>\n",
       "    </tr>\n",
       "  </tbody>\n",
       "</table>\n",
       "<p>67 rows × 9 columns</p>\n",
       "</div>"
      ],
      "text/plain": [
       "    OBJECTID  DEPCODE COUNTY  COUNTYNAME                 DATESTAMP  \\\n",
       "0          1       21    041   GILCHRIST 2000-05-16 00:00:00+00:00   \n",
       "1          2       54    107      PUTNAM 2000-05-16 00:00:00+00:00   \n",
       "2          3       62    123      TAYLOR 2000-05-16 00:00:00+00:00   \n",
       "3          4       46    091    OKALOOSA 2000-05-16 00:00:00+00:00   \n",
       "4          5        7    013     CALHOUN 2000-05-16 00:00:00+00:00   \n",
       "..       ...      ...    ...         ...                       ...   \n",
       "62        63       17    033    ESCAMBIA 2000-05-16 00:00:00+00:00   \n",
       "63        64       47    093  OKEECHOBEE 2000-05-16 00:00:00+00:00   \n",
       "64        65       19    037    FRANKLIN 2000-05-16 00:00:00+00:00   \n",
       "65        66        1    001     ALACHUA 2000-05-16 00:00:00+00:00   \n",
       "66        67       55    109   ST. JOHNS 2000-05-16 00:00:00+00:00   \n",
       "\n",
       "     ShapeSTArea  ShapeSTLength  \\\n",
       "0   9.908353e+09   4.873000e+05   \n",
       "1   2.305869e+10   7.629677e+05   \n",
       "2   2.891747e+10   8.772527e+05   \n",
       "3   2.562159e+10   1.087058e+06   \n",
       "4   1.604809e+10   6.313440e+05   \n",
       "..           ...            ...   \n",
       "62  1.915206e+10   1.448408e+06   \n",
       "63  2.484427e+10   8.939740e+05   \n",
       "64  1.558955e+10   1.467125e+06   \n",
       "65  2.702324e+10   8.927266e+05   \n",
       "66  1.784792e+10   1.130720e+06   \n",
       "\n",
       "                                             geometry  n_shelters  \n",
       "0   POLYGON ((-82.658 29.83, -82.659 29.83, -82.66...         9.0  \n",
       "1   POLYGON ((-81.581 29.84, -81.606 29.84, -81.62...        12.0  \n",
       "2   MULTIPOLYGON (((-83.73 30.304, -83.74 30.303, ...        11.0  \n",
       "3   MULTIPOLYGON (((-86.392 30.65, -86.392 30.652,...        22.0  \n",
       "4   POLYGON ((-84.933 30.606, -84.957 30.606, -84....        10.0  \n",
       "..                                                ...         ...  \n",
       "62  MULTIPOLYGON (((-87.231 30.997, -87.238 30.997...        51.0  \n",
       "63  POLYGON ((-80.679 27.558, -80.679 27.558, -80....         7.0  \n",
       "64  MULTIPOLYGON (((-84.667 30.012, -84.71 30.012,...         NaN  \n",
       "65  POLYGON ((-82.419 29.923, -82.419 29.923, -82....        25.0  \n",
       "66  MULTIPOLYGON (((-81.378 30.108, -81.378 30.112...        37.0  \n",
       "\n",
       "[67 rows x 9 columns]"
      ]
     },
     "execution_count": 111,
     "metadata": {},
     "output_type": "execute_result"
    }
   ],
   "source": [
    "florida_counties_shelters_per_county = florida_counties_gpd.merge(florida_counties_shelters_counts, on=\"COUNTYNAME\", how=\"left\")\n",
    "florida_counties_shelters_per_county"
   ]
  },
  {
   "cell_type": "markdown",
   "metadata": {},
   "source": [
    "merging the shelter count per county to the main GeoDataFrame **florida_counties_gpd**."
   ]
  },
  {
   "cell_type": "code",
   "execution_count": 137,
   "metadata": {},
   "outputs": [
    {
     "data": {
      "image/png": "[encoded data removed]",
      "text/plain": [
       "<Figure size 640x480 with 2 Axes>"
      ]
     },
     "metadata": {},
     "output_type": "display_data"
    }
   ],
   "source": [
    "FL_shelters_per_county_map = florida_counties_shelters_per_county.plot(column='n_shelters', \n",
    "                                          legend=True, \n",
    "                                          missing_kwds={\"color\":\"grey\"},\n",
    "                                          cmap=\"PuBuGn\")\n",
    "\n",
    "FL_shelters_per_county_map.set_facecolor('#ADADAD')"
   ]
  },
  {
   "cell_type": "markdown",
   "metadata": {},
   "source": [
    "mapping shelters per county."
   ]
  },
  {
   "cell_type": "markdown",
   "metadata": {},
   "source": [
    "### Calculating Total Capacity of Shelters per County"
   ]
  },
  {
   "cell_type": "markdown",
   "metadata": {},
   "source": [
    "### Calculating the Total Area of Shelters per County"
   ]
  }
 ],
 "metadata": {
  "kernelspec": {
   "display_name": ".conda",
   "language": "python",
   "name": "python3"
  },
  "language_info": {
   "codemirror_mode": {
    "name": "ipython",
    "version": 3
   },
   "file_extension": ".py",
   "mimetype": "text/x-python",
   "name": "python",
   "nbconvert_exporter": "python",
   "pygments_lexer": "ipython3",
   "version": "3.11.9"
  }
 },
 "nbformat": 4,
 "nbformat_minor": 2
}

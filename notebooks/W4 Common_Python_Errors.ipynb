{
 "cells": [
  {
   "cell_type": "markdown",
   "id": "02d9ac3d",
   "metadata": {},
   "source": [
    "# Common Python Errors"
   ]
  },
  {
   "cell_type": "markdown",
   "id": "b86c0e39",
   "metadata": {},
   "source": [
    "### 1. IndentationError"
   ]
  },
  {
   "cell_type": "markdown",
   "id": "2b8ac9de",
   "metadata": {},
   "source": [
    "- **Description**: Incorrect indentation will raise an `IndentationError`.\n",
    "- **Example**:"
   ]
  },
  {
   "cell_type": "code",
   "execution_count": 2,
   "id": "d18389e5",
   "metadata": {},
   "outputs": [
    {
     "ename": "IndentationError",
     "evalue": "expected an indented block after 'if' statement on line 1 (3500652489.py, line 2)",
     "output_type": "error",
     "traceback": [
      "\u001b[1;36m  Cell \u001b[1;32mIn[2], line 2\u001b[1;36m\u001b[0m\n\u001b[1;33m    print(\"Hello\")  # This line is not indented correctly\u001b[0m\n\u001b[1;37m    ^\u001b[0m\n\u001b[1;31mIndentationError\u001b[0m\u001b[1;31m:\u001b[0m expected an indented block after 'if' statement on line 1\n"
     ]
    }
   ],
   "source": [
    "if True:\n",
    "print(\"Hello\")  # This line is not indented correctly"
   ]
  },
  {
   "cell_type": "code",
   "execution_count": 1,
   "id": "942374be",
   "metadata": {},
   "outputs": [
    {
     "name": "stdout",
     "output_type": "stream",
     "text": [
      "Hello\n"
     ]
    }
   ],
   "source": [
    "if True:\n",
    "    print(\"Hello\")"
   ]
  },
  {
   "cell_type": "markdown",
   "id": "27e6d7e7",
   "metadata": {},
   "source": [
    "- **Fix**: Ensure consistent indentation. Python typically uses 4 spaces or 1 tab per indentation level."
   ]
  },
  {
   "cell_type": "markdown",
   "id": "e5f7a621",
   "metadata": {},
   "source": [
    "### 2. SyntaxError"
   ]
  },
  {
   "cell_type": "markdown",
   "id": "5dd5e9ab",
   "metadata": {},
   "source": [
    "- **Description**: A `SyntaxError` occurs when Python encounters incorrect syntax."
   ]
  },
  {
   "cell_type": "code",
   "execution_count": 3,
   "id": "88e49eb8",
   "metadata": {},
   "outputs": [
    {
     "ename": "SyntaxError",
     "evalue": "Missing parentheses in call to 'print'. Did you mean print(...)? (720984825.py, line 1)",
     "output_type": "error",
     "traceback": [
      "\u001b[1;36m  Cell \u001b[1;32mIn[3], line 1\u001b[1;36m\u001b[0m\n\u001b[1;33m    print \"Hello\"  # Missing parentheses\u001b[0m\n\u001b[1;37m    ^\u001b[0m\n\u001b[1;31mSyntaxError\u001b[0m\u001b[1;31m:\u001b[0m Missing parentheses in call to 'print'. Did you mean print(...)?\n"
     ]
    }
   ],
   "source": [
    "print \"Hello\"  # Missing parentheses"
   ]
  },
  {
   "cell_type": "markdown",
   "id": "189c7a48",
   "metadata": {},
   "source": [
    "- **Fix**: Ensure proper syntax.\n",
    "- **Correct Version**:"
   ]
  },
  {
   "cell_type": "code",
   "execution_count": 4,
   "id": "ccc944df",
   "metadata": {},
   "outputs": [
    {
     "name": "stdout",
     "output_type": "stream",
     "text": [
      "Hello\n"
     ]
    }
   ],
   "source": [
    "print(\"Hello\")"
   ]
  },
  {
   "cell_type": "code",
   "execution_count": 5,
   "id": "b2ed9071",
   "metadata": {},
   "outputs": [
    {
     "ename": "SyntaxError",
     "evalue": "expected ':' (4224461048.py, line 1)",
     "output_type": "error",
     "traceback": [
      "\u001b[1;36m  Cell \u001b[1;32mIn[5], line 1\u001b[1;36m\u001b[0m\n\u001b[1;33m    if True  # Missing :\u001b[0m\n\u001b[1;37m             ^\u001b[0m\n\u001b[1;31mSyntaxError\u001b[0m\u001b[1;31m:\u001b[0m expected ':'\n"
     ]
    }
   ],
   "source": [
    "if True  # Missing :\n",
    "    print(\"Hello\")"
   ]
  },
  {
   "cell_type": "code",
   "execution_count": 6,
   "id": "50be8c3d",
   "metadata": {},
   "outputs": [
    {
     "name": "stdout",
     "output_type": "stream",
     "text": [
      "Hello\n"
     ]
    }
   ],
   "source": [
    "if True:\n",
    "    print(\"Hello\")"
   ]
  },
  {
   "cell_type": "markdown",
   "id": "1863b92f",
   "metadata": {},
   "source": [
    "### 3. NameError"
   ]
  },
  {
   "cell_type": "markdown",
   "id": "3de37a00",
   "metadata": {},
   "source": [
    "- **Description**: A `NameError` occurs when a variable or function is used before it has been defined."
   ]
  },
  {
   "cell_type": "code",
   "execution_count": 7,
   "id": "93d07dac",
   "metadata": {},
   "outputs": [
    {
     "ename": "NameError",
     "evalue": "name 'x' is not defined",
     "output_type": "error",
     "traceback": [
      "\u001b[1;31m---------------------------------------------------------------------------\u001b[0m",
      "\u001b[1;31mNameError\u001b[0m                                 Traceback (most recent call last)",
      "Cell \u001b[1;32mIn[7], line 1\u001b[0m\n\u001b[1;32m----> 1\u001b[0m \u001b[38;5;28mprint\u001b[39m(\u001b[43mx\u001b[49m)  \u001b[38;5;66;03m# x is not defined\u001b[39;00m\n",
      "\u001b[1;31mNameError\u001b[0m: name 'x' is not defined"
     ]
    }
   ],
   "source": [
    "print(x)  # x is not defined"
   ]
  },
  {
   "cell_type": "markdown",
   "id": "da65595f",
   "metadata": {},
   "source": [
    "- **Fix**: Define variables before using them.\n",
    "- **Correct Version**:"
   ]
  },
  {
   "cell_type": "code",
   "execution_count": 8,
   "id": "89811aaf",
   "metadata": {},
   "outputs": [
    {
     "name": "stdout",
     "output_type": "stream",
     "text": [
      "5\n"
     ]
    }
   ],
   "source": [
    "x = 5\n",
    "print(x)"
   ]
  },
  {
   "cell_type": "markdown",
   "id": "278da0c0",
   "metadata": {},
   "source": [
    "### 4. TypeError"
   ]
  },
  {
   "cell_type": "markdown",
   "id": "cb68dd8f",
   "metadata": {},
   "source": [
    "- **Description**: A `TypeError` occurs when an operation is applied to an incompatible type."
   ]
  },
  {
   "cell_type": "code",
   "execution_count": 9,
   "id": "3b5cb14b",
   "metadata": {},
   "outputs": [
    {
     "ename": "TypeError",
     "evalue": "unsupported operand type(s) for +: 'int' and 'str'",
     "output_type": "error",
     "traceback": [
      "\u001b[1;31m---------------------------------------------------------------------------\u001b[0m",
      "\u001b[1;31mTypeError\u001b[0m                                 Traceback (most recent call last)",
      "Cell \u001b[1;32mIn[9], line 3\u001b[0m\n\u001b[0;32m      1\u001b[0m x \u001b[38;5;241m=\u001b[39m \u001b[38;5;241m5\u001b[39m\n\u001b[0;32m      2\u001b[0m y \u001b[38;5;241m=\u001b[39m \u001b[38;5;124m\"\u001b[39m\u001b[38;5;124mhello\u001b[39m\u001b[38;5;124m\"\u001b[39m\n\u001b[1;32m----> 3\u001b[0m \u001b[38;5;28mprint\u001b[39m(\u001b[43mx\u001b[49m\u001b[43m \u001b[49m\u001b[38;5;241;43m+\u001b[39;49m\u001b[43m \u001b[49m\u001b[43my\u001b[49m)  \u001b[38;5;66;03m# Incompatible types\u001b[39;00m\n",
      "\u001b[1;31mTypeError\u001b[0m: unsupported operand type(s) for +: 'int' and 'str'"
     ]
    }
   ],
   "source": [
    "x = 5\n",
    "y = \"hello\"\n",
    "print(x + y)  # Incompatible types"
   ]
  },
  {
   "cell_type": "markdown",
   "id": "b43d2c1e",
   "metadata": {},
   "source": [
    "- **Fix**: Convert types if necessary.\n",
    "- **Correct Version**:"
   ]
  },
  {
   "cell_type": "code",
   "execution_count": 10,
   "id": "7fdbfce5",
   "metadata": {},
   "outputs": [
    {
     "name": "stdout",
     "output_type": "stream",
     "text": [
      "5hello\n"
     ]
    }
   ],
   "source": [
    "print(str(x) + y)"
   ]
  },
  {
   "cell_type": "markdown",
   "id": "89afdbcf",
   "metadata": {},
   "source": [
    "### 5. ValueError"
   ]
  },
  {
   "cell_type": "markdown",
   "id": "191df91b",
   "metadata": {},
   "source": [
    "- **Description**: A `ValueError` occurs when a function gets an argument of the correct type but inappropriate value."
   ]
  },
  {
   "cell_type": "code",
   "execution_count": 11,
   "id": "7eb5987d",
   "metadata": {},
   "outputs": [
    {
     "ename": "ValueError",
     "evalue": "invalid literal for int() with base 10: 'hello'",
     "output_type": "error",
     "traceback": [
      "\u001b[1;31m---------------------------------------------------------------------------\u001b[0m",
      "\u001b[1;31mValueError\u001b[0m                                Traceback (most recent call last)",
      "Cell \u001b[1;32mIn[11], line 1\u001b[0m\n\u001b[1;32m----> 1\u001b[0m \u001b[38;5;28;43mint\u001b[39;49m\u001b[43m(\u001b[49m\u001b[38;5;124;43m\"\u001b[39;49m\u001b[38;5;124;43mhello\u001b[39;49m\u001b[38;5;124;43m\"\u001b[39;49m\u001b[43m)\u001b[49m  \u001b[38;5;66;03m# Invalid value for conversion\u001b[39;00m\n",
      "\u001b[1;31mValueError\u001b[0m: invalid literal for int() with base 10: 'hello'"
     ]
    }
   ],
   "source": [
    "int(\"hello\")  # Invalid value for conversion"
   ]
  },
  {
   "cell_type": "markdown",
   "id": "f23c928c",
   "metadata": {},
   "source": [
    "- **Fix**: Ensure the value is appropriate.\n",
    "- **Correct Version**:"
   ]
  },
  {
   "cell_type": "code",
   "execution_count": 12,
   "id": "8816158f",
   "metadata": {},
   "outputs": [
    {
     "data": {
      "text/plain": [
       "123"
      ]
     },
     "execution_count": 12,
     "metadata": {},
     "output_type": "execute_result"
    }
   ],
   "source": [
    "int(\"123\")"
   ]
  },
  {
   "cell_type": "markdown",
   "id": "94e46eff",
   "metadata": {},
   "source": [
    "### 6. IndexError"
   ]
  },
  {
   "cell_type": "markdown",
   "id": "f419b411",
   "metadata": {},
   "source": [
    "- **Description**: An `IndexError` occurs when trying to access an element at an index that does not exist."
   ]
  },
  {
   "cell_type": "code",
   "execution_count": 13,
   "id": "c0672f35",
   "metadata": {},
   "outputs": [
    {
     "ename": "IndexError",
     "evalue": "list index out of range",
     "output_type": "error",
     "traceback": [
      "\u001b[1;31m---------------------------------------------------------------------------\u001b[0m",
      "\u001b[1;31mIndexError\u001b[0m                                Traceback (most recent call last)",
      "Cell \u001b[1;32mIn[13], line 2\u001b[0m\n\u001b[0;32m      1\u001b[0m my_list \u001b[38;5;241m=\u001b[39m [\u001b[38;5;241m1\u001b[39m, \u001b[38;5;241m2\u001b[39m, \u001b[38;5;241m3\u001b[39m]\n\u001b[1;32m----> 2\u001b[0m \u001b[38;5;28mprint\u001b[39m(\u001b[43mmy_list\u001b[49m\u001b[43m[\u001b[49m\u001b[38;5;241;43m5\u001b[39;49m\u001b[43m]\u001b[49m)  \u001b[38;5;66;03m# Index out of range\u001b[39;00m\n",
      "\u001b[1;31mIndexError\u001b[0m: list index out of range"
     ]
    }
   ],
   "source": [
    "my_list = [1, 2, 3]\n",
    "print(my_list[5])  # Index out of range"
   ]
  },
  {
   "cell_type": "markdown",
   "id": "400ba891",
   "metadata": {},
   "source": [
    "- **Fix**: Check the index bounds.\n",
    "- **Correct Version**:"
   ]
  },
  {
   "cell_type": "code",
   "execution_count": 14,
   "id": "87841073",
   "metadata": {},
   "outputs": [
    {
     "name": "stdout",
     "output_type": "stream",
     "text": [
      "3\n"
     ]
    }
   ],
   "source": [
    "print(my_list[2])"
   ]
  },
  {
   "cell_type": "markdown",
   "id": "b13549a6",
   "metadata": {},
   "source": [
    "### 7. KeyError"
   ]
  },
  {
   "cell_type": "markdown",
   "id": "f28fab74",
   "metadata": {},
   "source": [
    "- **Description**: A `KeyError` occurs when trying to access a key that doesn’t exist in a dictionary."
   ]
  },
  {
   "cell_type": "code",
   "execution_count": 15,
   "id": "e3a65f3d",
   "metadata": {},
   "outputs": [
    {
     "ename": "KeyError",
     "evalue": "'c'",
     "output_type": "error",
     "traceback": [
      "\u001b[1;31m---------------------------------------------------------------------------\u001b[0m",
      "\u001b[1;31mKeyError\u001b[0m                                  Traceback (most recent call last)",
      "Cell \u001b[1;32mIn[15], line 2\u001b[0m\n\u001b[0;32m      1\u001b[0m my_dict \u001b[38;5;241m=\u001b[39m {\u001b[38;5;124m\"\u001b[39m\u001b[38;5;124ma\u001b[39m\u001b[38;5;124m\"\u001b[39m: \u001b[38;5;241m1\u001b[39m, \u001b[38;5;124m\"\u001b[39m\u001b[38;5;124mb\u001b[39m\u001b[38;5;124m\"\u001b[39m: \u001b[38;5;241m2\u001b[39m}\n\u001b[1;32m----> 2\u001b[0m \u001b[38;5;28mprint\u001b[39m(\u001b[43mmy_dict\u001b[49m\u001b[43m[\u001b[49m\u001b[38;5;124;43m\"\u001b[39;49m\u001b[38;5;124;43mc\u001b[39;49m\u001b[38;5;124;43m\"\u001b[39;49m\u001b[43m]\u001b[49m)  \u001b[38;5;66;03m# Key does not exist\u001b[39;00m\n",
      "\u001b[1;31mKeyError\u001b[0m: 'c'"
     ]
    }
   ],
   "source": [
    "my_dict = {\"a\": 1, \"b\": 2}\n",
    "print(my_dict[\"c\"])  # Key does not exist"
   ]
  },
  {
   "cell_type": "markdown",
   "id": "b547452b",
   "metadata": {},
   "source": [
    "- **Fix**: Use `.get()` or check if the key exists.\n",
    "- **Correct Version**:"
   ]
  },
  {
   "cell_type": "code",
   "execution_count": 16,
   "id": "d30752b9",
   "metadata": {},
   "outputs": [
    {
     "name": "stdout",
     "output_type": "stream",
     "text": [
      "Key not found\n"
     ]
    }
   ],
   "source": [
    "print(my_dict.get(\"c\", \"Key not found\"))"
   ]
  },
  {
   "cell_type": "markdown",
   "id": "afe3e910",
   "metadata": {},
   "source": [
    "### 8. AttributeError"
   ]
  },
  {
   "cell_type": "markdown",
   "id": "f1c05bab",
   "metadata": {},
   "source": [
    "- **Description**: An `AttributeError` occurs when trying to access a non-existent attribute or method."
   ]
  },
  {
   "cell_type": "code",
   "execution_count": 17,
   "id": "3a34e99c",
   "metadata": {},
   "outputs": [
    {
     "ename": "AttributeError",
     "evalue": "'int' object has no attribute 'append'",
     "output_type": "error",
     "traceback": [
      "\u001b[1;31m---------------------------------------------------------------------------\u001b[0m",
      "\u001b[1;31mAttributeError\u001b[0m                            Traceback (most recent call last)",
      "Cell \u001b[1;32mIn[17], line 2\u001b[0m\n\u001b[0;32m      1\u001b[0m x \u001b[38;5;241m=\u001b[39m \u001b[38;5;241m5\u001b[39m\n\u001b[1;32m----> 2\u001b[0m \u001b[43mx\u001b[49m\u001b[38;5;241;43m.\u001b[39;49m\u001b[43mappend\u001b[49m(\u001b[38;5;241m6\u001b[39m)  \u001b[38;5;66;03m# Integers do not have an append method\u001b[39;00m\n",
      "\u001b[1;31mAttributeError\u001b[0m: 'int' object has no attribute 'append'"
     ]
    }
   ],
   "source": [
    "x = 5\n",
    "x.append(6)  # Integers do not have an append method"
   ]
  },
  {
   "cell_type": "markdown",
   "id": "9ef8e862",
   "metadata": {},
   "source": [
    "- **Fix**: Check if the method or attribute exists for the object.\n",
    "- **Correct Version**:"
   ]
  },
  {
   "cell_type": "code",
   "execution_count": 18,
   "id": "c3c4c3e0",
   "metadata": {},
   "outputs": [],
   "source": [
    "my_list = [1, 2, 3]\n",
    "my_list.append(6)"
   ]
  },
  {
   "cell_type": "markdown",
   "id": "847551c9",
   "metadata": {},
   "source": [
    "### 9. ModuleNotFoundError"
   ]
  },
  {
   "cell_type": "markdown",
   "id": "13cb0cec",
   "metadata": {},
   "source": [
    "- **Description**: This error occurs when a module cannot be found."
   ]
  },
  {
   "cell_type": "code",
   "execution_count": 19,
   "id": "d7819fc1",
   "metadata": {},
   "outputs": [
    {
     "ename": "ModuleNotFoundError",
     "evalue": "No module named 'non_existent_module'",
     "output_type": "error",
     "traceback": [
      "\u001b[1;31m---------------------------------------------------------------------------\u001b[0m",
      "\u001b[1;31mModuleNotFoundError\u001b[0m                       Traceback (most recent call last)",
      "Cell \u001b[1;32mIn[19], line 1\u001b[0m\n\u001b[1;32m----> 1\u001b[0m \u001b[38;5;28;01mimport\u001b[39;00m \u001b[38;5;21;01mnon_existent_module\u001b[39;00m\n",
      "\u001b[1;31mModuleNotFoundError\u001b[0m: No module named 'non_existent_module'"
     ]
    }
   ],
   "source": [
    "import non_existent_module"
   ]
  },
  {
   "cell_type": "markdown",
   "id": "8bf90104",
   "metadata": {},
   "source": [
    "- **Fix**: Ensure the module is installed or spelled correctly.\n",
    "- **Correct Version**:"
   ]
  },
  {
   "cell_type": "code",
   "execution_count": 20,
   "id": "a8775fc3",
   "metadata": {},
   "outputs": [],
   "source": [
    "import numpy  # Assuming numpy is installed"
   ]
  },
  {
   "cell_type": "markdown",
   "id": "abacde39",
   "metadata": {},
   "source": [
    "### 10. ZeroDivisionError"
   ]
  },
  {
   "cell_type": "markdown",
   "id": "711da131",
   "metadata": {},
   "source": [
    "- **Description**: A `ZeroDivisionError` occurs when trying to divide by zero."
   ]
  },
  {
   "cell_type": "code",
   "execution_count": 21,
   "id": "921c7ebf",
   "metadata": {},
   "outputs": [
    {
     "ename": "ZeroDivisionError",
     "evalue": "division by zero",
     "output_type": "error",
     "traceback": [
      "\u001b[1;31m---------------------------------------------------------------------------\u001b[0m",
      "\u001b[1;31mZeroDivisionError\u001b[0m                         Traceback (most recent call last)",
      "Cell \u001b[1;32mIn[21], line 1\u001b[0m\n\u001b[1;32m----> 1\u001b[0m result \u001b[38;5;241m=\u001b[39m \u001b[38;5;241;43m10\u001b[39;49m\u001b[43m \u001b[49m\u001b[38;5;241;43m/\u001b[39;49m\u001b[43m \u001b[49m\u001b[38;5;241;43m0\u001b[39;49m\n",
      "\u001b[1;31mZeroDivisionError\u001b[0m: division by zero"
     ]
    }
   ],
   "source": [
    "result = 10 / 0"
   ]
  },
  {
   "cell_type": "markdown",
   "id": "7080b0ff",
   "metadata": {},
   "source": [
    "- **Fix**: Ensure the divisor is not zero.\n",
    "- **Correct Version**:"
   ]
  },
  {
   "cell_type": "code",
   "execution_count": 23,
   "id": "9fea433e",
   "metadata": {},
   "outputs": [],
   "source": [
    "divisor = 0\n",
    "\n",
    "if divisor != 0:\n",
    "    result = 10 / divisor"
   ]
  },
  {
   "cell_type": "markdown",
   "id": "6f1476c9",
   "metadata": {},
   "source": [
    "### 11. ImportError"
   ]
  },
  {
   "cell_type": "markdown",
   "id": "b34d8a10",
   "metadata": {},
   "source": [
    "- **Description**: An `ImportError` occurs when a function or module cannot be imported."
   ]
  },
  {
   "cell_type": "code",
   "execution_count": 24,
   "id": "a6acea12",
   "metadata": {},
   "outputs": [
    {
     "ename": "ImportError",
     "evalue": "cannot import name 'square' from 'math' (unknown location)",
     "output_type": "error",
     "traceback": [
      "\u001b[1;31m---------------------------------------------------------------------------\u001b[0m",
      "\u001b[1;31mImportError\u001b[0m                               Traceback (most recent call last)",
      "Cell \u001b[1;32mIn[24], line 1\u001b[0m\n\u001b[1;32m----> 1\u001b[0m \u001b[38;5;28;01mfrom\u001b[39;00m \u001b[38;5;21;01mmath\u001b[39;00m \u001b[38;5;28;01mimport\u001b[39;00m square  \u001b[38;5;66;03m# Function does not exist\u001b[39;00m\n",
      "\u001b[1;31mImportError\u001b[0m: cannot import name 'square' from 'math' (unknown location)"
     ]
    }
   ],
   "source": [
    "from math import square  # Function does not exist"
   ]
  },
  {
   "cell_type": "markdown",
   "id": "8d2c886e",
   "metadata": {},
   "source": [
    "- **Fix**: Ensure the function or module exists.\n",
    "- **Correct Version**:"
   ]
  },
  {
   "cell_type": "code",
   "execution_count": 25,
   "id": "e1dcb1a3",
   "metadata": {},
   "outputs": [],
   "source": [
    "from math import sqrt"
   ]
  },
  {
   "cell_type": "markdown",
   "id": "1a1e0177",
   "metadata": {},
   "source": [
    "### 12. FileNotFoundError"
   ]
  },
  {
   "cell_type": "markdown",
   "id": "f447ffe0",
   "metadata": {},
   "source": [
    "- **Description**: A `FileNotFoundError` occurs when trying to access a file that doesn't exist."
   ]
  },
  {
   "cell_type": "code",
   "execution_count": 26,
   "id": "f5361bd0",
   "metadata": {},
   "outputs": [
    {
     "ename": "FileNotFoundError",
     "evalue": "[Errno 2] No such file or directory: 'non_existent_file.txt'",
     "output_type": "error",
     "traceback": [
      "\u001b[1;31m---------------------------------------------------------------------------\u001b[0m",
      "\u001b[1;31mFileNotFoundError\u001b[0m                         Traceback (most recent call last)",
      "Cell \u001b[1;32mIn[26], line 1\u001b[0m\n\u001b[1;32m----> 1\u001b[0m \u001b[38;5;28;43mopen\u001b[39;49m\u001b[43m(\u001b[49m\u001b[38;5;124;43m\"\u001b[39;49m\u001b[38;5;124;43mnon_existent_file.txt\u001b[39;49m\u001b[38;5;124;43m\"\u001b[39;49m\u001b[43m)\u001b[49m\n",
      "File \u001b[1;32mc:\\Users\\alexb\\Documents\\GIS5103\\GIS5103\\.conda\\Lib\\site-packages\\IPython\\core\\interactiveshell.py:324\u001b[0m, in \u001b[0;36m_modified_open\u001b[1;34m(file, *args, **kwargs)\u001b[0m\n\u001b[0;32m    317\u001b[0m \u001b[38;5;28;01mif\u001b[39;00m file \u001b[38;5;129;01min\u001b[39;00m {\u001b[38;5;241m0\u001b[39m, \u001b[38;5;241m1\u001b[39m, \u001b[38;5;241m2\u001b[39m}:\n\u001b[0;32m    318\u001b[0m     \u001b[38;5;28;01mraise\u001b[39;00m \u001b[38;5;167;01mValueError\u001b[39;00m(\n\u001b[0;32m    319\u001b[0m         \u001b[38;5;124mf\u001b[39m\u001b[38;5;124m\"\u001b[39m\u001b[38;5;124mIPython won\u001b[39m\u001b[38;5;124m'\u001b[39m\u001b[38;5;124mt let you open fd=\u001b[39m\u001b[38;5;132;01m{\u001b[39;00mfile\u001b[38;5;132;01m}\u001b[39;00m\u001b[38;5;124m by default \u001b[39m\u001b[38;5;124m\"\u001b[39m\n\u001b[0;32m    320\u001b[0m         \u001b[38;5;124m\"\u001b[39m\u001b[38;5;124mas it is likely to crash IPython. If you know what you are doing, \u001b[39m\u001b[38;5;124m\"\u001b[39m\n\u001b[0;32m    321\u001b[0m         \u001b[38;5;124m\"\u001b[39m\u001b[38;5;124myou can use builtins\u001b[39m\u001b[38;5;124m'\u001b[39m\u001b[38;5;124m open.\u001b[39m\u001b[38;5;124m\"\u001b[39m\n\u001b[0;32m    322\u001b[0m     )\n\u001b[1;32m--> 324\u001b[0m \u001b[38;5;28;01mreturn\u001b[39;00m \u001b[43mio_open\u001b[49m\u001b[43m(\u001b[49m\u001b[43mfile\u001b[49m\u001b[43m,\u001b[49m\u001b[43m \u001b[49m\u001b[38;5;241;43m*\u001b[39;49m\u001b[43margs\u001b[49m\u001b[43m,\u001b[49m\u001b[43m \u001b[49m\u001b[38;5;241;43m*\u001b[39;49m\u001b[38;5;241;43m*\u001b[39;49m\u001b[43mkwargs\u001b[49m\u001b[43m)\u001b[49m\n",
      "\u001b[1;31mFileNotFoundError\u001b[0m: [Errno 2] No such file or directory: 'non_existent_file.txt'"
     ]
    }
   ],
   "source": [
    "open(\"non_existent_file.txt\")"
   ]
  },
  {
   "cell_type": "markdown",
   "id": "807b95af",
   "metadata": {},
   "source": [
    "- **Fix**: Ensure the file exists and the path is correct.\n",
    "- **Correct Version**:"
   ]
  },
  {
   "cell_type": "code",
   "execution_count": null,
   "id": "0d2dc5c8",
   "metadata": {},
   "outputs": [],
   "source": [
    "open(\"existing_file.txt\")"
   ]
  }
 ],
 "metadata": {
  "kernelspec": {
   "display_name": "Python 3 (ipykernel)",
   "language": "python",
   "name": "python3"
  },
  "language_info": {
   "codemirror_mode": {
    "name": "ipython",
    "version": 3
   },
   "file_extension": ".py",
   "mimetype": "text/x-python",
   "name": "python",
   "nbconvert_exporter": "python",
   "pygments_lexer": "ipython3",
   "version": "3.11.9"
  }
 },
 "nbformat": 4,
 "nbformat_minor": 5
}

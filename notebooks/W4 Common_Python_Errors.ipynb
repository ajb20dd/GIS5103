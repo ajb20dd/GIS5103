{
 "cells": [
  {
   "cell_type": "markdown",
   "id": "02d9ac3d",
   "metadata": {},
   "source": [
    "# Common Python Errors"
   ]
  },
  {
   "cell_type": "markdown",
   "id": "b86c0e39",
   "metadata": {},
   "source": [
    "### 1. IndentationError"
   ]
  },
  {
   "cell_type": "markdown",
   "id": "2b8ac9de",
   "metadata": {},
   "source": [
    "- **Description**: Incorrect indentation will raise an `IndentationError`.\n",
    "- **Example**:"
   ]
  },
  {
   "cell_type": "code",
   "execution_count": null,
   "id": "d18389e5",
   "metadata": {},
   "outputs": [],
   "source": [
    "if True:\n",
    "print(\"Hello\")  # This line is not indented correctly"
   ]
  },
  {
   "cell_type": "code",
   "execution_count": null,
   "id": "942374be",
   "metadata": {},
   "outputs": [],
   "source": []
  },
  {
   "cell_type": "markdown",
   "id": "27e6d7e7",
   "metadata": {},
   "source": [
    "- **Fix**: Ensure consistent indentation. Python typically uses 4 spaces or 1 tab per indentation level."
   ]
  },
  {
   "cell_type": "markdown",
   "id": "e5f7a621",
   "metadata": {},
   "source": [
    "### 2. SyntaxError"
   ]
  },
  {
   "cell_type": "markdown",
   "id": "5dd5e9ab",
   "metadata": {},
   "source": [
    "- **Description**: A `SyntaxError` occurs when Python encounters incorrect syntax."
   ]
  },
  {
   "cell_type": "code",
   "execution_count": null,
   "id": "88e49eb8",
   "metadata": {},
   "outputs": [],
   "source": [
    "print \"Hello\"  # Missing parentheses"
   ]
  },
  {
   "cell_type": "markdown",
   "id": "189c7a48",
   "metadata": {},
   "source": [
    "- **Fix**: Ensure proper syntax.\n",
    "- **Correct Version**:"
   ]
  },
  {
   "cell_type": "code",
   "execution_count": null,
   "id": "ccc944df",
   "metadata": {},
   "outputs": [],
   "source": [
    "print(\"Hello\")"
   ]
  },
  {
   "cell_type": "code",
   "execution_count": null,
   "id": "b2ed9071",
   "metadata": {},
   "outputs": [],
   "source": [
    "if True  # Missing :\n",
    "    print(\"Hello\")"
   ]
  },
  {
   "cell_type": "markdown",
   "id": "1863b92f",
   "metadata": {},
   "source": [
    "### 3. NameError"
   ]
  },
  {
   "cell_type": "markdown",
   "id": "3de37a00",
   "metadata": {},
   "source": [
    "- **Description**: A `NameError` occurs when a variable or function is used before it has been defined."
   ]
  },
  {
   "cell_type": "code",
   "execution_count": null,
   "id": "93d07dac",
   "metadata": {},
   "outputs": [],
   "source": [
    "print(x)  # x is not defined"
   ]
  },
  {
   "cell_type": "markdown",
   "id": "da65595f",
   "metadata": {},
   "source": [
    "- **Fix**: Define variables before using them.\n",
    "- **Correct Version**:"
   ]
  },
  {
   "cell_type": "code",
   "execution_count": null,
   "id": "89811aaf",
   "metadata": {},
   "outputs": [],
   "source": [
    "x = 5\n",
    "print(x)"
   ]
  },
  {
   "cell_type": "markdown",
   "id": "278da0c0",
   "metadata": {},
   "source": [
    "### 4. TypeError"
   ]
  },
  {
   "cell_type": "markdown",
   "id": "cb68dd8f",
   "metadata": {},
   "source": [
    "- **Description**: A `TypeError` occurs when an operation is applied to an incompatible type."
   ]
  },
  {
   "cell_type": "code",
   "execution_count": null,
   "id": "3b5cb14b",
   "metadata": {},
   "outputs": [],
   "source": [
    "x = 5\n",
    "y = \"hello\"\n",
    "print(x + y)  # Incompatible types"
   ]
  },
  {
   "cell_type": "markdown",
   "id": "b43d2c1e",
   "metadata": {},
   "source": [
    "- **Fix**: Convert types if necessary.\n",
    "- **Correct Version**:"
   ]
  },
  {
   "cell_type": "code",
   "execution_count": null,
   "id": "7fdbfce5",
   "metadata": {},
   "outputs": [],
   "source": [
    "print(str(x) + y)"
   ]
  },
  {
   "cell_type": "markdown",
   "id": "89afdbcf",
   "metadata": {},
   "source": [
    "### 5. ValueError"
   ]
  },
  {
   "cell_type": "markdown",
   "id": "191df91b",
   "metadata": {},
   "source": [
    "- **Description**: A `ValueError` occurs when a function gets an argument of the correct type but inappropriate value."
   ]
  },
  {
   "cell_type": "code",
   "execution_count": null,
   "id": "7eb5987d",
   "metadata": {},
   "outputs": [],
   "source": [
    "int(\"hello\")  # Invalid value for conversion"
   ]
  },
  {
   "cell_type": "markdown",
   "id": "f23c928c",
   "metadata": {},
   "source": [
    "- **Fix**: Ensure the value is appropriate.\n",
    "- **Correct Version**:"
   ]
  },
  {
   "cell_type": "code",
   "execution_count": null,
   "id": "8816158f",
   "metadata": {},
   "outputs": [],
   "source": [
    "int(\"123\")"
   ]
  },
  {
   "cell_type": "markdown",
   "id": "94e46eff",
   "metadata": {},
   "source": [
    "### 6. IndexError"
   ]
  },
  {
   "cell_type": "markdown",
   "id": "f419b411",
   "metadata": {},
   "source": [
    "- **Description**: An `IndexError` occurs when trying to access an element at an index that does not exist."
   ]
  },
  {
   "cell_type": "code",
   "execution_count": null,
   "id": "c0672f35",
   "metadata": {},
   "outputs": [],
   "source": [
    "my_list = [1, 2, 3]\n",
    "print(my_list[5])  # Index out of range"
   ]
  },
  {
   "cell_type": "markdown",
   "id": "400ba891",
   "metadata": {},
   "source": [
    "- **Fix**: Check the index bounds.\n",
    "- **Correct Version**:"
   ]
  },
  {
   "cell_type": "code",
   "execution_count": null,
   "id": "87841073",
   "metadata": {},
   "outputs": [],
   "source": [
    "print(my_list[2])"
   ]
  },
  {
   "cell_type": "markdown",
   "id": "b13549a6",
   "metadata": {},
   "source": [
    "### 7. KeyError"
   ]
  },
  {
   "cell_type": "markdown",
   "id": "f28fab74",
   "metadata": {},
   "source": [
    "- **Description**: A `KeyError` occurs when trying to access a key that doesn’t exist in a dictionary."
   ]
  },
  {
   "cell_type": "code",
   "execution_count": null,
   "id": "e3a65f3d",
   "metadata": {},
   "outputs": [],
   "source": [
    "my_dict = {\"a\": 1, \"b\": 2}\n",
    "print(my_dict[\"c\"])  # Key does not exist"
   ]
  },
  {
   "cell_type": "markdown",
   "id": "b547452b",
   "metadata": {},
   "source": [
    "- **Fix**: Use `.get()` or check if the key exists.\n",
    "- **Correct Version**:"
   ]
  },
  {
   "cell_type": "code",
   "execution_count": null,
   "id": "d30752b9",
   "metadata": {},
   "outputs": [],
   "source": [
    "print(my_dict.get(\"c\", \"Key not found\"))"
   ]
  },
  {
   "cell_type": "markdown",
   "id": "afe3e910",
   "metadata": {},
   "source": [
    "### 8. AttributeError"
   ]
  },
  {
   "cell_type": "markdown",
   "id": "f1c05bab",
   "metadata": {},
   "source": [
    "- **Description**: An `AttributeError` occurs when trying to access a non-existent attribute or method."
   ]
  },
  {
   "cell_type": "code",
   "execution_count": null,
   "id": "3a34e99c",
   "metadata": {},
   "outputs": [],
   "source": [
    "x = 5\n",
    "x.append(6)  # Integers do not have an append method"
   ]
  },
  {
   "cell_type": "markdown",
   "id": "9ef8e862",
   "metadata": {},
   "source": [
    "- **Fix**: Check if the method or attribute exists for the object.\n",
    "- **Correct Version**:"
   ]
  },
  {
   "cell_type": "code",
   "execution_count": null,
   "id": "c3c4c3e0",
   "metadata": {},
   "outputs": [],
   "source": [
    "my_list = [1, 2, 3]\n",
    "my_list.append(6)"
   ]
  },
  {
   "cell_type": "markdown",
   "id": "847551c9",
   "metadata": {},
   "source": [
    "### 9. ModuleNotFoundError"
   ]
  },
  {
   "cell_type": "markdown",
   "id": "13cb0cec",
   "metadata": {},
   "source": [
    "- **Description**: This error occurs when a module cannot be found."
   ]
  },
  {
   "cell_type": "code",
   "execution_count": null,
   "id": "d7819fc1",
   "metadata": {},
   "outputs": [],
   "source": [
    "import non_existent_module"
   ]
  },
  {
   "cell_type": "markdown",
   "id": "8bf90104",
   "metadata": {},
   "source": [
    "- **Fix**: Ensure the module is installed or spelled correctly.\n",
    "- **Correct Version**:"
   ]
  },
  {
   "cell_type": "code",
   "execution_count": null,
   "id": "a8775fc3",
   "metadata": {},
   "outputs": [],
   "source": [
    "import numpy  # Assuming numpy is installed"
   ]
  },
  {
   "cell_type": "markdown",
   "id": "abacde39",
   "metadata": {},
   "source": [
    "### 10. ZeroDivisionError"
   ]
  },
  {
   "cell_type": "markdown",
   "id": "711da131",
   "metadata": {},
   "source": [
    "- **Description**: A `ZeroDivisionError` occurs when trying to divide by zero."
   ]
  },
  {
   "cell_type": "code",
   "execution_count": null,
   "id": "921c7ebf",
   "metadata": {},
   "outputs": [],
   "source": [
    "result = 10 / 0"
   ]
  },
  {
   "cell_type": "markdown",
   "id": "7080b0ff",
   "metadata": {},
   "source": [
    "- **Fix**: Ensure the divisor is not zero.\n",
    "- **Correct Version**:"
   ]
  },
  {
   "cell_type": "code",
   "execution_count": null,
   "id": "9fea433e",
   "metadata": {},
   "outputs": [],
   "source": [
    "if divisor != 0:\n",
    "    result = 10 / divisor"
   ]
  },
  {
   "cell_type": "markdown",
   "id": "6f1476c9",
   "metadata": {},
   "source": [
    "### 11. ImportError"
   ]
  },
  {
   "cell_type": "markdown",
   "id": "b34d8a10",
   "metadata": {},
   "source": [
    "- **Description**: An `ImportError` occurs when a function or module cannot be imported."
   ]
  },
  {
   "cell_type": "code",
   "execution_count": null,
   "id": "a6acea12",
   "metadata": {},
   "outputs": [],
   "source": [
    "from math import square  # Function does not exist"
   ]
  },
  {
   "cell_type": "markdown",
   "id": "8d2c886e",
   "metadata": {},
   "source": [
    "- **Fix**: Ensure the function or module exists.\n",
    "- **Correct Version**:"
   ]
  },
  {
   "cell_type": "code",
   "execution_count": null,
   "id": "e1dcb1a3",
   "metadata": {},
   "outputs": [],
   "source": [
    "from math import sqrt"
   ]
  },
  {
   "cell_type": "markdown",
   "id": "1a1e0177",
   "metadata": {},
   "source": [
    "### 12. FileNotFoundError"
   ]
  },
  {
   "cell_type": "markdown",
   "id": "f447ffe0",
   "metadata": {},
   "source": [
    "- **Description**: A `FileNotFoundError` occurs when trying to access a file that doesn't exist."
   ]
  },
  {
   "cell_type": "code",
   "execution_count": null,
   "id": "f5361bd0",
   "metadata": {},
   "outputs": [],
   "source": [
    "open(\"non_existent_file.txt\")"
   ]
  },
  {
   "cell_type": "markdown",
   "id": "807b95af",
   "metadata": {},
   "source": [
    "- **Fix**: Ensure the file exists and the path is correct.\n",
    "- **Correct Version**:"
   ]
  },
  {
   "cell_type": "code",
   "execution_count": null,
   "id": "0d2dc5c8",
   "metadata": {},
   "outputs": [],
   "source": [
    "open(\"existing_file.txt\")"
   ]
  }
 ],
 "metadata": {
  "kernelspec": {
   "display_name": "Python 3 (ipykernel)",
   "language": "python",
   "name": "python3"
  },
  "language_info": {
   "codemirror_mode": {
    "name": "ipython",
    "version": 3
   },
   "file_extension": ".py",
   "mimetype": "text/x-python",
   "name": "python",
   "nbconvert_exporter": "python",
   "pygments_lexer": "ipython3",
   "version": "3.11.9"
  }
 },
 "nbformat": 4,
 "nbformat_minor": 5
}

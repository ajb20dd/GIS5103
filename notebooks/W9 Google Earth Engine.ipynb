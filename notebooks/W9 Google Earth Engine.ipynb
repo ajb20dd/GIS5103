{
 "cells": [
  {
   "cell_type": "markdown",
   "id": "9156e354",
   "metadata": {},
   "source": [
    "## Google Earth Engine\n",
    "\n",
    "This notebook will demostrate how to access Google Earth Engine from python through the `ee` and `geemap` packages.\n",
    "\n",
    "**Google Earth Engine (GEE)** is a cloud-based platform designed for processing and analyzing geospatial data on a large scale. \n",
    "\n",
    "It provides access to a vast collection of public datasets, including satellite imagery, aerial photography, weather data, and other geospatial information. GEE allows users to run computations on these datasets using its powerful cloud infrastructure, making it ideal for environmental monitoring, research, and analysis.\n",
    "\n"
   ]
  },
  {
   "cell_type": "markdown",
   "id": "c090f954",
   "metadata": {},
   "source": [
    "Google Earth Engine is free for educational purpose, you can sign up for acess using your google account at [here](https://earthengine.google.com/noncommercial/)."
   ]
  },
  {
   "cell_type": "markdown",
   "id": "271f2c27",
   "metadata": {},
   "source": [
    "Google Earth Engine and `geemap` have many functionalities, I will introduce a few, but you can find other usages [here](https://geemap.org)"
   ]
  },
  {
   "cell_type": "markdown",
   "id": "12560852",
   "metadata": {},
   "source": [
    "Below are the examples provided in this notebook.\n",
    "- A quick start of geemap\n",
    "- Zonal Statistics with Polygon GIS file\n",
    "- Generate time series animation"
   ]
  },
  {
   "cell_type": "code",
   "execution_count": null,
   "id": "87b72225",
   "metadata": {},
   "outputs": [],
   "source": []
  },
  {
   "cell_type": "code",
   "execution_count": null,
   "id": "516183cd",
   "metadata": {},
   "outputs": [],
   "source": []
  },
  {
   "cell_type": "markdown",
   "id": "f63597f5",
   "metadata": {},
   "source": [
    "## Installation"
   ]
  },
  {
   "cell_type": "code",
   "execution_count": 1,
   "id": "1e48d699",
   "metadata": {},
   "outputs": [],
   "source": []
  },
  {
   "cell_type": "code",
   "execution_count": 2,
   "id": "6e4ee869",
   "metadata": {},
   "outputs": [],
   "source": [
    "#pip install earthengine-api"
   ]
  },
  {
   "cell_type": "code",
   "execution_count": 4,
   "id": "94a98e5b",
   "metadata": {},
   "outputs": [],
   "source": [
    "#pip install geemap"
   ]
  },
  {
   "cell_type": "markdown",
   "id": "9facf00a",
   "metadata": {},
   "source": [
    "## Quick start and demo"
   ]
  },
  {
   "cell_type": "code",
   "execution_count": 1,
   "id": "28170ef2",
   "metadata": {},
   "outputs": [],
   "source": [
    "import ee\n",
    "import geemap"
   ]
  },
  {
   "cell_type": "markdown",
   "id": "efea5d76",
   "metadata": {},
   "source": [
    "It should pop up with a new window asking your permissionn, and at the end, you will have a token/verification code."
   ]
  },
  {
   "cell_type": "markdown",
   "id": "c393cc16",
   "metadata": {},
   "source": [
    "![image](https://book.geemap.org/_images/ch01_generate_token.jpg)"
   ]
  },
  {
   "cell_type": "code",
   "execution_count": 2,
   "id": "53a931f9",
   "metadata": {},
   "outputs": [
    {
     "data": {
      "text/html": [
       "\n",
       "            <style>\n",
       "                .geemap-dark {\n",
       "                    --jp-widgets-color: white;\n",
       "                    --jp-widgets-label-color: white;\n",
       "                    --jp-ui-font-color1: white;\n",
       "                    --jp-layout-color2: #454545;\n",
       "                    background-color: #383838;\n",
       "                }\n",
       "\n",
       "                .geemap-dark .jupyter-button {\n",
       "                    --jp-layout-color3: #383838;\n",
       "                }\n",
       "\n",
       "                .geemap-colab {\n",
       "                    background-color: var(--colab-primary-surface-color, white);\n",
       "                }\n",
       "\n",
       "                .geemap-colab .jupyter-button {\n",
       "                    --jp-layout-color3: var(--colab-primary-surface-color, white);\n",
       "                }\n",
       "            </style>\n",
       "            "
      ],
      "text/plain": [
       "<IPython.core.display.HTML object>"
      ]
     },
     "metadata": {},
     "output_type": "display_data"
    },
    {
     "data": {
      "text/html": [
       "<p>To authorize access needed by Earth Engine, open the following\n",
       "        URL in a web browser and follow the instructions:</p>\n",
       "        <p><a href=https://code.earthengine.google.com/client-auth?scopes=https%3A//www.googleapis.com/auth/earthengine%20https%3A//www.googleapis.com/auth/cloud-platform%20https%3A//www.googleapis.com/auth/devstorage.full_control&request_id=EAB68h-f30G45KoWRDZfuq1V3Fnqp4SxLXiAHA44OeQ&tc=YVerMVJB9k533rsfrdSEPqIfuIz6VyPGo8PNMdmV7Yg&cc=XX-rSnHZMvfz68PjhNn_0so7OGiH3xGeB0IWJk5LTbI>https://code.earthengine.google.com/client-auth?scopes=https%3A//www.googleapis.com/auth/earthengine%20https%3A//www.googleapis.com/auth/cloud-platform%20https%3A//www.googleapis.com/auth/devstorage.full_control&request_id=EAB68h-f30G45KoWRDZfuq1V3Fnqp4SxLXiAHA44OeQ&tc=YVerMVJB9k533rsfrdSEPqIfuIz6VyPGo8PNMdmV7Yg&cc=XX-rSnHZMvfz68PjhNn_0so7OGiH3xGeB0IWJk5LTbI</a></p>\n",
       "        <p>The authorization workflow will generate a code, which you should paste in the box below.</p>\n",
       "        "
      ],
      "text/plain": [
       "<IPython.core.display.HTML object>"
      ]
     },
     "metadata": {},
     "output_type": "display_data"
    },
    {
     "name": "stdout",
     "output_type": "stream",
     "text": [
      "\n",
      "Successfully saved authorization token.\n"
     ]
    }
   ],
   "source": [
    "Map = geemap.Map(center=(40, -100), zoom=4)"
   ]
  },
  {
   "cell_type": "code",
   "execution_count": 3,
   "id": "163aa20f",
   "metadata": {},
   "outputs": [
    {
     "data": {
      "text/html": [
       "\n",
       "            <style>\n",
       "                .geemap-dark {\n",
       "                    --jp-widgets-color: white;\n",
       "                    --jp-widgets-label-color: white;\n",
       "                    --jp-ui-font-color1: white;\n",
       "                    --jp-layout-color2: #454545;\n",
       "                    background-color: #383838;\n",
       "                }\n",
       "\n",
       "                .geemap-dark .jupyter-button {\n",
       "                    --jp-layout-color3: #383838;\n",
       "                }\n",
       "\n",
       "                .geemap-colab {\n",
       "                    background-color: var(--colab-primary-surface-color, white);\n",
       "                }\n",
       "\n",
       "                .geemap-colab .jupyter-button {\n",
       "                    --jp-layout-color3: var(--colab-primary-surface-color, white);\n",
       "                }\n",
       "            </style>\n",
       "            "
      ],
      "text/plain": [
       "<IPython.core.display.HTML object>"
      ]
     },
     "metadata": {},
     "output_type": "display_data"
    },
    {
     "data": {
      "application/vnd.jupyter.widget-view+json": {
       "model_id": "5a7397937d5c4b7abdc142d7393b8518",
       "version_major": 2,
       "version_minor": 0
      },
      "text/plain": [
       "Map(center=[40, -100], controls=(WidgetControl(options=['position', 'transparent_bg'], widget=SearchDataGUI(ch…"
      ]
     },
     "execution_count": 3,
     "metadata": {},
     "output_type": "execute_result"
    }
   ],
   "source": [
    "Map"
   ]
  },
  {
   "cell_type": "markdown",
   "id": "13888ce7",
   "metadata": {},
   "source": [
    "You may need to run this if your map is not shown"
   ]
  },
  {
   "cell_type": "code",
   "execution_count": null,
   "id": "930514a3",
   "metadata": {},
   "outputs": [],
   "source": [
    "#conda install -c conda-forge ipyleaflet #https://ipyleaflet.readthedocs.io/en/latest/installation/index.html"
   ]
  },
  {
   "cell_type": "markdown",
   "id": "063079c0",
   "metadata": {},
   "source": [
    "You can add some more basemap layers, and below are all the options"
   ]
  },
  {
   "cell_type": "markdown",
   "id": "8d75508e",
   "metadata": {},
   "source": [
    "Basemap can only be one of the following:\n",
    "  OpenStreetMap\n",
    "  Esri.WorldStreetMap\n",
    "  Esri.WorldImagery\n",
    "  Esri.WorldTopoMap\n",
    "  FWS NWI Wetlands\n",
    "  FWS NWI Wetlands Raster\n",
    "  NLCD 2021 CONUS Land Cover\n",
    "  NLCD 2019 CONUS Land Cover\n",
    "  NLCD 2016 CONUS Land Cover\n",
    "  NLCD 2013 CONUS Land Cover\n",
    "  NLCD 2011 CONUS Land Cover\n",
    "  NLCD 2008 CONUS Land Cover\n",
    "  NLCD 2006 CONUS Land Cover\n",
    "  NLCD 2004 CONUS Land Cover\n",
    "  NLCD 2001 CONUS Land Cover\n",
    "  USGS NAIP Imagery\n",
    "  USGS NAIP Imagery False Color\n",
    "  USGS NAIP Imagery NDVI\n",
    "  USGS Hydrography\n",
    "  USGS 3DEP Elevation\n",
    "  ESA Worldcover 2020\n",
    "  ESA Worldcover 2020 S2 FCC\n",
    "  ESA Worldcover 2020 S2 TCC\n",
    "  ESA Worldcover 2021\n",
    "  ESA Worldcover 2021 S2 FCC\n",
    "  ESA Worldcover 2021 S2 TCC\n",
    "  BasemapAT.basemap\n",
    "  BasemapAT.grau\n",
    "  BasemapAT.highdpi\n",
    "  BasemapAT.orthofoto\n",
    "  BasemapAT.overlay\n",
    "  BasemapAT.surface\n",
    "  BasemapAT.terrain\n",
    "  CartoDB.DarkMatter\n",
    "  CartoDB.DarkMatterNoLabels\n",
    "  CartoDB.DarkMatterOnlyLabels\n",
    "  CartoDB.Positron\n",
    "  CartoDB.PositronNoLabels\n",
    "  CartoDB.PositronOnlyLabels\n",
    "  CartoDB.Voyager\n",
    "  CartoDB.VoyagerLabelsUnder\n",
    "  CartoDB.VoyagerNoLabels\n",
    "  CartoDB.VoyagerOnlyLabels\n",
    "  CyclOSM\n",
    "  Esri.AntarcticBasemap\n",
    "  Esri.AntarcticImagery\n",
    "  Esri.ArcticImagery\n",
    "  Esri.ArcticOceanBase\n",
    "  Esri.ArcticOceanReference\n",
    "  Esri.DeLorme\n",
    "  Esri.NatGeoWorldMap\n",
    "  Esri.OceanBasemap\n",
    "  Esri.WorldGrayCanvas\n",
    "  Esri.WorldPhysical\n",
    "  Esri.WorldShadedRelief\n",
    "  Esri.WorldTerrain\n",
    "  FreeMapSK\n",
    "  Gaode.Normal\n",
    "  Gaode.Satellite\n",
    "  HikeBike.HikeBike\n",
    "  HikeBike.HillShading\n",
    "  JusticeMap.americanIndian\n",
    "  JusticeMap.asian\n",
    "  JusticeMap.black\n",
    "  JusticeMap.hispanic\n",
    "  JusticeMap.income\n",
    "  JusticeMap.multi\n",
    "  JusticeMap.nonWhite\n",
    "  JusticeMap.plurality\n",
    "  JusticeMap.white\n",
    "  MtbMap\n",
    "  NASAGIBS.ASTER_GDEM_Greyscale_Shaded_Relief\n",
    "  NASAGIBS.BlueMarble\n",
    "  NASAGIBS.BlueMarble3031\n",
    "  NASAGIBS.BlueMarble3413\n",
    "  NASAGIBS.ModisAquaBands721CR\n",
    "  NASAGIBS.ModisAquaTrueColorCR\n",
    "  NASAGIBS.ModisTerraAOD\n",
    "  NASAGIBS.ModisTerraBands367CR\n",
    "  NASAGIBS.ModisTerraBands721CR\n",
    "  NASAGIBS.ModisTerraChlorophyll\n",
    "  NASAGIBS.ModisTerraLSTDay\n",
    "  NASAGIBS.ModisTerraSnowCover\n",
    "  NASAGIBS.ModisTerraTrueColorCR\n",
    "  NASAGIBS.ViirsEarthAtNight2012\n",
    "  NASAGIBS.ViirsTrueColorCR\n",
    "  NLS\n",
    "  OPNVKarte\n",
    "  OneMapSG.Default\n",
    "  OneMapSG.Grey\n",
    "  OneMapSG.LandLot\n",
    "  OneMapSG.Night\n",
    "  OneMapSG.Original\n",
    "  OpenAIP\n",
    "  OpenFireMap\n",
    "  OpenRailwayMap\n",
    "  OpenSeaMap\n",
    "  OpenSnowMap.pistes\n",
    "  OpenStreetMap.BZH\n",
    "  OpenStreetMap.BlackAndWhite\n",
    "  OpenStreetMap.CH\n",
    "  OpenStreetMap.DE\n",
    "  OpenStreetMap.HOT\n",
    "  OpenStreetMap.Mapnik\n",
    "  OpenTopoMap\n",
    "  SafeCast\n",
    "  Stadia.AlidadeSmooth\n",
    "  Stadia.AlidadeSmoothDark\n",
    "  Stadia.OSMBright\n",
    "  Stadia.Outdoors\n",
    "  Stamen.Terrain\n",
    "  Stamen.TerrainBackground\n",
    "  Stamen.TerrainLabels\n",
    "  Stamen.Toner\n",
    "  Stamen.TonerBackground\n",
    "  Stamen.TonerHybrid\n",
    "  Stamen.TonerLabels\n",
    "  Stamen.TonerLines\n",
    "  Stamen.TonerLite\n",
    "  Stamen.TopOSMFeatures\n",
    "  Stamen.TopOSMRelief\n",
    "  Stamen.Watercolor\n",
    "  Strava.All\n",
    "  Strava.Ride\n",
    "  Strava.Run\n",
    "  Strava.Water\n",
    "  Strava.Winter\n",
    "  SwissFederalGeoportal.JourneyThroughTime\n",
    "  SwissFederalGeoportal.NationalMapColor\n",
    "  SwissFederalGeoportal.NationalMapGrey\n",
    "  SwissFederalGeoportal.SWISSIMAGE\n",
    "  USGS.USImagery\n",
    "  USGS.USImageryTopo\n",
    "  USGS.USTopo\n",
    "  WaymarkedTrails.cycling\n",
    "  WaymarkedTrails.hiking\n",
    "  WaymarkedTrails.mtb\n",
    "  WaymarkedTrails.riding\n",
    "  WaymarkedTrails.skating\n",
    "  WaymarkedTrails.slopes\n",
    "  nlmaps.grijs\n",
    "  nlmaps.luchtfoto\n",
    "  nlmaps.pastel\n",
    "  nlmaps.standaard\n",
    "  nlmaps.water"
   ]
  },
  {
   "cell_type": "code",
   "execution_count": 4,
   "id": "d29dc83e",
   "metadata": {
    "scrolled": true
   },
   "outputs": [
    {
     "data": {
      "text/html": [
       "\n",
       "            <style>\n",
       "                .geemap-dark {\n",
       "                    --jp-widgets-color: white;\n",
       "                    --jp-widgets-label-color: white;\n",
       "                    --jp-ui-font-color1: white;\n",
       "                    --jp-layout-color2: #454545;\n",
       "                    background-color: #383838;\n",
       "                }\n",
       "\n",
       "                .geemap-dark .jupyter-button {\n",
       "                    --jp-layout-color3: #383838;\n",
       "                }\n",
       "\n",
       "                .geemap-colab {\n",
       "                    background-color: var(--colab-primary-surface-color, white);\n",
       "                }\n",
       "\n",
       "                .geemap-colab .jupyter-button {\n",
       "                    --jp-layout-color3: var(--colab-primary-surface-color, white);\n",
       "                }\n",
       "            </style>\n",
       "            "
      ],
      "text/plain": [
       "<IPython.core.display.HTML object>"
      ]
     },
     "metadata": {},
     "output_type": "display_data"
    },
    {
     "data": {
      "application/vnd.jupyter.widget-view+json": {
       "model_id": "30232af840c348b59324860914d424a7",
       "version_major": 2,
       "version_minor": 0
      },
      "text/plain": [
       "Map(center=[0, 0], controls=(WidgetControl(options=['position', 'transparent_bg'], widget=SearchDataGUI(childr…"
      ]
     },
     "execution_count": 4,
     "metadata": {},
     "output_type": "execute_result"
    }
   ],
   "source": [
    "Map = geemap.Map()\n",
    "Map.add_basemap(\"CartoDB.DarkMatterNoLabels\")\n",
    "Map.add_basemap(\"Strava.Run\")\n",
    "Map"
   ]
  },
  {
   "cell_type": "code",
   "execution_count": null,
   "id": "6824a64e",
   "metadata": {},
   "outputs": [],
   "source": []
  },
  {
   "cell_type": "markdown",
   "id": "89dd9bd8",
   "metadata": {},
   "source": [
    "### Adding image dataset\n",
    "\n",
    "All available datasets are: https://developers.google.com/earth-engine/datasets/"
   ]
  },
  {
   "cell_type": "markdown",
   "id": "f77a3531",
   "metadata": {},
   "source": [
    "Add a DEM data"
   ]
  },
  {
   "cell_type": "code",
   "execution_count": 5,
   "id": "825f5c70",
   "metadata": {
    "scrolled": true
   },
   "outputs": [
    {
     "data": {
      "text/html": [
       "\n",
       "            <style>\n",
       "                .geemap-dark {\n",
       "                    --jp-widgets-color: white;\n",
       "                    --jp-widgets-label-color: white;\n",
       "                    --jp-ui-font-color1: white;\n",
       "                    --jp-layout-color2: #454545;\n",
       "                    background-color: #383838;\n",
       "                }\n",
       "\n",
       "                .geemap-dark .jupyter-button {\n",
       "                    --jp-layout-color3: #383838;\n",
       "                }\n",
       "\n",
       "                .geemap-colab {\n",
       "                    background-color: var(--colab-primary-surface-color, white);\n",
       "                }\n",
       "\n",
       "                .geemap-colab .jupyter-button {\n",
       "                    --jp-layout-color3: var(--colab-primary-surface-color, white);\n",
       "                }\n",
       "            </style>\n",
       "            "
      ],
      "text/plain": [
       "<IPython.core.display.HTML object>"
      ]
     },
     "metadata": {},
     "output_type": "display_data"
    },
    {
     "data": {
      "application/vnd.jupyter.widget-view+json": {
       "model_id": "30232af840c348b59324860914d424a7",
       "version_major": 2,
       "version_minor": 0
      },
      "text/plain": [
       "Map(bottom=1985.0, center=[30.37287518811804, -95.2337246179876], controls=(WidgetControl(options=['position',…"
      ]
     },
     "execution_count": 5,
     "metadata": {},
     "output_type": "execute_result"
    }
   ],
   "source": [
    "dataset = ee.Image('USGS/3DEP/10m')\n",
    "elevation = dataset.select('elevation')\n",
    "\n",
    "\n",
    "viz = {'min': 0, \n",
    "       'max': 3000,\n",
    "       'palette': ['000000','ffffff'], #scale the min and max based on the palette\n",
    "}\n",
    "\n",
    "\n",
    "Map.addLayer(elevation, viz , 'elevation');\n",
    "\n",
    "Map"
   ]
  },
  {
   "cell_type": "markdown",
   "id": "e760a599",
   "metadata": {},
   "source": [
    "## Land cover data"
   ]
  },
  {
   "cell_type": "code",
   "execution_count": 6,
   "id": "b2525456",
   "metadata": {},
   "outputs": [
    {
     "data": {
      "text/html": [
       "\n",
       "            <style>\n",
       "                .geemap-dark {\n",
       "                    --jp-widgets-color: white;\n",
       "                    --jp-widgets-label-color: white;\n",
       "                    --jp-ui-font-color1: white;\n",
       "                    --jp-layout-color2: #454545;\n",
       "                    background-color: #383838;\n",
       "                }\n",
       "\n",
       "                .geemap-dark .jupyter-button {\n",
       "                    --jp-layout-color3: #383838;\n",
       "                }\n",
       "\n",
       "                .geemap-colab {\n",
       "                    background-color: var(--colab-primary-surface-color, white);\n",
       "                }\n",
       "\n",
       "                .geemap-colab .jupyter-button {\n",
       "                    --jp-layout-color3: var(--colab-primary-surface-color, white);\n",
       "                }\n",
       "            </style>\n",
       "            "
      ],
      "text/plain": [
       "<IPython.core.display.HTML object>"
      ]
     },
     "metadata": {},
     "output_type": "display_data"
    }
   ],
   "source": [
    "landcover = ee.ImageCollection('ESA/WorldCover/v200').first()\n",
    "\n",
    "visualization = {\n",
    "  'bands': ['Map'],\n",
    "}\n",
    "\n",
    "\n",
    "Map.addLayer(landcover, visualization, 'Landcover')\n",
    "\n",
    "#Map land cover class = 10\n",
    "Map.addLayer(landcover.eq(10), {}, 'forest')"
   ]
  },
  {
   "cell_type": "code",
   "execution_count": 7,
   "id": "445ad087",
   "metadata": {},
   "outputs": [
    {
     "data": {
      "text/html": [
       "\n",
       "            <style>\n",
       "                .geemap-dark {\n",
       "                    --jp-widgets-color: white;\n",
       "                    --jp-widgets-label-color: white;\n",
       "                    --jp-ui-font-color1: white;\n",
       "                    --jp-layout-color2: #454545;\n",
       "                    background-color: #383838;\n",
       "                }\n",
       "\n",
       "                .geemap-dark .jupyter-button {\n",
       "                    --jp-layout-color3: #383838;\n",
       "                }\n",
       "\n",
       "                .geemap-colab {\n",
       "                    background-color: var(--colab-primary-surface-color, white);\n",
       "                }\n",
       "\n",
       "                .geemap-colab .jupyter-button {\n",
       "                    --jp-layout-color3: var(--colab-primary-surface-color, white);\n",
       "                }\n",
       "            </style>\n",
       "            "
      ],
      "text/plain": [
       "<IPython.core.display.HTML object>"
      ]
     },
     "metadata": {},
     "output_type": "display_data"
    },
    {
     "data": {
      "application/vnd.jupyter.widget-view+json": {
       "model_id": "30232af840c348b59324860914d424a7",
       "version_major": 2,
       "version_minor": 0
      },
      "text/plain": [
       "Map(bottom=1985.0, center=[30.37287518811804, -95.2337246179876], controls=(WidgetControl(options=['position',…"
      ]
     },
     "execution_count": 7,
     "metadata": {},
     "output_type": "execute_result"
    }
   ],
   "source": [
    "Map"
   ]
  },
  {
   "cell_type": "code",
   "execution_count": 8,
   "id": "eb474f98",
   "metadata": {},
   "outputs": [
    {
     "data": {
      "text/html": [
       "\n",
       "            <style>\n",
       "                .geemap-dark {\n",
       "                    --jp-widgets-color: white;\n",
       "                    --jp-widgets-label-color: white;\n",
       "                    --jp-ui-font-color1: white;\n",
       "                    --jp-layout-color2: #454545;\n",
       "                    background-color: #383838;\n",
       "                }\n",
       "\n",
       "                .geemap-dark .jupyter-button {\n",
       "                    --jp-layout-color3: #383838;\n",
       "                }\n",
       "\n",
       "                .geemap-colab {\n",
       "                    background-color: var(--colab-primary-surface-color, white);\n",
       "                }\n",
       "\n",
       "                .geemap-colab .jupyter-button {\n",
       "                    --jp-layout-color3: var(--colab-primary-surface-color, white);\n",
       "                }\n",
       "            </style>\n",
       "            "
      ],
      "text/plain": [
       "<IPython.core.display.HTML object>"
      ]
     },
     "metadata": {},
     "output_type": "display_data"
    }
   ],
   "source": [
    "states = ee.FeatureCollection(\"TIGER/2018/States\")"
   ]
  },
  {
   "cell_type": "code",
   "execution_count": 9,
   "id": "57e91c92",
   "metadata": {},
   "outputs": [
    {
     "data": {
      "text/html": [
       "\n",
       "            <style>\n",
       "                .geemap-dark {\n",
       "                    --jp-widgets-color: white;\n",
       "                    --jp-widgets-label-color: white;\n",
       "                    --jp-ui-font-color1: white;\n",
       "                    --jp-layout-color2: #454545;\n",
       "                    background-color: #383838;\n",
       "                }\n",
       "\n",
       "                .geemap-dark .jupyter-button {\n",
       "                    --jp-layout-color3: #383838;\n",
       "                }\n",
       "\n",
       "                .geemap-colab {\n",
       "                    background-color: var(--colab-primary-surface-color, white);\n",
       "                }\n",
       "\n",
       "                .geemap-colab .jupyter-button {\n",
       "                    --jp-layout-color3: var(--colab-primary-surface-color, white);\n",
       "                }\n",
       "            </style>\n",
       "            "
      ],
      "text/plain": [
       "<IPython.core.display.HTML object>"
      ]
     },
     "metadata": {},
     "output_type": "display_data"
    }
   ],
   "source": [
    "Map.addLayer(states, {}, \"US States\")"
   ]
  },
  {
   "cell_type": "markdown",
   "id": "d4fbc7ef",
   "metadata": {},
   "source": [
    "## Zonal Statistics\n",
    "\n",
    "\n",
    "![Image of Zonal stats](https://www.researchgate.net/publication/378083082/figure/fig1/AS:11431281222891210@1707482635650/Zonal-statistics-operation.png)\n",
    "\n",
    "\n",
    "\n",
    "\n",
    "Calcualte highest elevation point for each county in FL"
   ]
  },
  {
   "cell_type": "code",
   "execution_count": null,
   "id": "e17a5c87",
   "metadata": {},
   "outputs": [],
   "source": []
  },
  {
   "cell_type": "code",
   "execution_count": 10,
   "id": "5e80eae9",
   "metadata": {},
   "outputs": [
    {
     "data": {
      "text/html": [
       "\n",
       "            <style>\n",
       "                .geemap-dark {\n",
       "                    --jp-widgets-color: white;\n",
       "                    --jp-widgets-label-color: white;\n",
       "                    --jp-ui-font-color1: white;\n",
       "                    --jp-layout-color2: #454545;\n",
       "                    background-color: #383838;\n",
       "                }\n",
       "\n",
       "                .geemap-dark .jupyter-button {\n",
       "                    --jp-layout-color3: #383838;\n",
       "                }\n",
       "\n",
       "                .geemap-colab {\n",
       "                    background-color: var(--colab-primary-surface-color, white);\n",
       "                }\n",
       "\n",
       "                .geemap-colab .jupyter-button {\n",
       "                    --jp-layout-color3: var(--colab-primary-surface-color, white);\n",
       "                }\n",
       "            </style>\n",
       "            "
      ],
      "text/plain": [
       "<IPython.core.display.HTML object>"
      ]
     },
     "metadata": {},
     "output_type": "display_data"
    }
   ],
   "source": [
    "import geopandas as gpd"
   ]
  },
  {
   "cell_type": "code",
   "execution_count": 11,
   "id": "bbffb846",
   "metadata": {},
   "outputs": [
    {
     "data": {
      "text/html": [
       "\n",
       "            <style>\n",
       "                .geemap-dark {\n",
       "                    --jp-widgets-color: white;\n",
       "                    --jp-widgets-label-color: white;\n",
       "                    --jp-ui-font-color1: white;\n",
       "                    --jp-layout-color2: #454545;\n",
       "                    background-color: #383838;\n",
       "                }\n",
       "\n",
       "                .geemap-dark .jupyter-button {\n",
       "                    --jp-layout-color3: #383838;\n",
       "                }\n",
       "\n",
       "                .geemap-colab {\n",
       "                    background-color: var(--colab-primary-surface-color, white);\n",
       "                }\n",
       "\n",
       "                .geemap-colab .jupyter-button {\n",
       "                    --jp-layout-color3: var(--colab-primary-surface-color, white);\n",
       "                }\n",
       "            </style>\n",
       "            "
      ],
      "text/plain": [
       "<IPython.core.display.HTML object>"
      ]
     },
     "metadata": {},
     "output_type": "display_data"
    }
   ],
   "source": [
    "# Load your GIS file as a GeoDataFrame\n",
    "path = \"https://raw.githubusercontent.com/Ziqi-Li/GIS5103/main/data/fl_income.geojson\"\n",
    "\n",
    "gdf = gpd.read_file(path)"
   ]
  },
  {
   "cell_type": "code",
   "execution_count": 12,
   "id": "70d0d15b",
   "metadata": {},
   "outputs": [
    {
     "data": {
      "text/html": [
       "\n",
       "            <style>\n",
       "                .geemap-dark {\n",
       "                    --jp-widgets-color: white;\n",
       "                    --jp-widgets-label-color: white;\n",
       "                    --jp-ui-font-color1: white;\n",
       "                    --jp-layout-color2: #454545;\n",
       "                    background-color: #383838;\n",
       "                }\n",
       "\n",
       "                .geemap-dark .jupyter-button {\n",
       "                    --jp-layout-color3: #383838;\n",
       "                }\n",
       "\n",
       "                .geemap-colab {\n",
       "                    background-color: var(--colab-primary-surface-color, white);\n",
       "                }\n",
       "\n",
       "                .geemap-colab .jupyter-button {\n",
       "                    --jp-layout-color3: var(--colab-primary-surface-color, white);\n",
       "                }\n",
       "            </style>\n",
       "            "
      ],
      "text/plain": [
       "<IPython.core.display.HTML object>"
      ]
     },
     "metadata": {},
     "output_type": "display_data"
    }
   ],
   "source": [
    "# Convert the GeoDataFrame to an Earth Engine feature collection\n",
    "features = geemap.geopandas_to_ee(gdf)"
   ]
  },
  {
   "cell_type": "markdown",
   "id": "72d23af7",
   "metadata": {},
   "source": [
    "Possible Zonal Statistics keywords:\n",
    "\n",
    "COUNT, MEAN, MEAN_UNWEIGHTED, MAXIMUM, MEDIAN, MINIMUM, MODE, STD, MIN_MAX, SUM, VARIANCE, HIST, FIXED_HIST, COMBINED_COUNT_MEAN, COMBINED_COUNT_MEAN_UNWEIGHTED"
   ]
  },
  {
   "cell_type": "code",
   "execution_count": 13,
   "id": "c66cc17b",
   "metadata": {},
   "outputs": [
    {
     "data": {
      "text/html": [
       "\n",
       "            <style>\n",
       "                .geemap-dark {\n",
       "                    --jp-widgets-color: white;\n",
       "                    --jp-widgets-label-color: white;\n",
       "                    --jp-ui-font-color1: white;\n",
       "                    --jp-layout-color2: #454545;\n",
       "                    background-color: #383838;\n",
       "                }\n",
       "\n",
       "                .geemap-dark .jupyter-button {\n",
       "                    --jp-layout-color3: #383838;\n",
       "                }\n",
       "\n",
       "                .geemap-colab {\n",
       "                    background-color: var(--colab-primary-surface-color, white);\n",
       "                }\n",
       "\n",
       "                .geemap-colab .jupyter-button {\n",
       "                    --jp-layout-color3: var(--colab-primary-surface-color, white);\n",
       "                }\n",
       "            </style>\n",
       "            "
      ],
      "text/plain": [
       "<IPython.core.display.HTML object>"
      ]
     },
     "metadata": {},
     "output_type": "display_data"
    },
    {
     "name": "stdout",
     "output_type": "stream",
     "text": [
      "Computing statistics ...\n",
      "Generating URL ...\n",
      "Downloading data from https://earthengine.googleapis.com/v1/projects/311878577716/tables/a60ef4b7c33cdf477f9855db3980a546-95688df142153928fcd41e5a7d1c8f56:getFeatures\n",
      "Please wait ...\n",
      "Data downloaded to c:\\Users\\alexb\\Documents\\GIS5103\\GIS5103\\notebooks\\result.geojson\n"
     ]
    }
   ],
   "source": [
    "geemap.zonal_stats(elevation, features, \"result.geojson\", stat_type=\"MAXIMUM\")"
   ]
  },
  {
   "cell_type": "code",
   "execution_count": 14,
   "id": "10d34780",
   "metadata": {},
   "outputs": [
    {
     "data": {
      "text/html": [
       "\n",
       "            <style>\n",
       "                .geemap-dark {\n",
       "                    --jp-widgets-color: white;\n",
       "                    --jp-widgets-label-color: white;\n",
       "                    --jp-ui-font-color1: white;\n",
       "                    --jp-layout-color2: #454545;\n",
       "                    background-color: #383838;\n",
       "                }\n",
       "\n",
       "                .geemap-dark .jupyter-button {\n",
       "                    --jp-layout-color3: #383838;\n",
       "                }\n",
       "\n",
       "                .geemap-colab {\n",
       "                    background-color: var(--colab-primary-surface-color, white);\n",
       "                }\n",
       "\n",
       "                .geemap-colab .jupyter-button {\n",
       "                    --jp-layout-color3: var(--colab-primary-surface-color, white);\n",
       "                }\n",
       "            </style>\n",
       "            "
      ],
      "text/plain": [
       "<IPython.core.display.HTML object>"
      ]
     },
     "metadata": {},
     "output_type": "display_data"
    }
   ],
   "source": [
    "result = gpd.read_file(\"result.geojson\")"
   ]
  },
  {
   "cell_type": "code",
   "execution_count": 15,
   "id": "c4663c3d",
   "metadata": {},
   "outputs": [
    {
     "data": {
      "text/html": [
       "\n",
       "            <style>\n",
       "                .geemap-dark {\n",
       "                    --jp-widgets-color: white;\n",
       "                    --jp-widgets-label-color: white;\n",
       "                    --jp-ui-font-color1: white;\n",
       "                    --jp-layout-color2: #454545;\n",
       "                    background-color: #383838;\n",
       "                }\n",
       "\n",
       "                .geemap-dark .jupyter-button {\n",
       "                    --jp-layout-color3: #383838;\n",
       "                }\n",
       "\n",
       "                .geemap-colab {\n",
       "                    background-color: var(--colab-primary-surface-color, white);\n",
       "                }\n",
       "\n",
       "                .geemap-colab .jupyter-button {\n",
       "                    --jp-layout-color3: var(--colab-primary-surface-color, white);\n",
       "                }\n",
       "            </style>\n",
       "            "
      ],
      "text/plain": [
       "<IPython.core.display.HTML object>"
      ]
     },
     "metadata": {},
     "output_type": "display_data"
    },
    {
     "data": {
      "text/html": [
       "<div>\n",
       "<style scoped>\n",
       "    .dataframe tbody tr th:only-of-type {\n",
       "        vertical-align: middle;\n",
       "    }\n",
       "\n",
       "    .dataframe tbody tr th {\n",
       "        vertical-align: top;\n",
       "    }\n",
       "\n",
       "    .dataframe thead th {\n",
       "        text-align: right;\n",
       "    }\n",
       "</style>\n",
       "<table border=\"1\" class=\"dataframe\">\n",
       "  <thead>\n",
       "    <tr style=\"text-align: right;\">\n",
       "      <th></th>\n",
       "      <th>id</th>\n",
       "      <th>max</th>\n",
       "      <th>COUNTY</th>\n",
       "      <th>COUNTYNAME</th>\n",
       "      <th>Geo_ID</th>\n",
       "      <th>Median_income</th>\n",
       "      <th>Name</th>\n",
       "      <th>geometry</th>\n",
       "    </tr>\n",
       "  </thead>\n",
       "  <tbody>\n",
       "    <tr>\n",
       "      <th>0</th>\n",
       "      <td>0</td>\n",
       "      <td>35.284779</td>\n",
       "      <td>041</td>\n",
       "      <td>GILCHRIST</td>\n",
       "      <td>0500000US12041</td>\n",
       "      <td>50983</td>\n",
       "      <td>Gilchrist County, Florida</td>\n",
       "      <td>POLYGON ((-82.65814 29.83028, -82.65887 29.830...</td>\n",
       "    </tr>\n",
       "    <tr>\n",
       "      <th>1</th>\n",
       "      <td>1</td>\n",
       "      <td>68.072441</td>\n",
       "      <td>107</td>\n",
       "      <td>PUTNAM</td>\n",
       "      <td>0500000US12107</td>\n",
       "      <td>39975</td>\n",
       "      <td>Putnam County, Florida</td>\n",
       "      <td>POLYGON ((-81.58084 29.83956, -81.60611 29.839...</td>\n",
       "    </tr>\n",
       "    <tr>\n",
       "      <th>2</th>\n",
       "      <td>2</td>\n",
       "      <td>31.549129</td>\n",
       "      <td>123</td>\n",
       "      <td>TAYLOR</td>\n",
       "      <td>0500000US12123</td>\n",
       "      <td>43563</td>\n",
       "      <td>Taylor County, Florida</td>\n",
       "      <td>MULTIPOLYGON (((-83.73037 30.30358, -83.73987 ...</td>\n",
       "    </tr>\n",
       "    <tr>\n",
       "      <th>3</th>\n",
       "      <td>3</td>\n",
       "      <td>96.228264</td>\n",
       "      <td>091</td>\n",
       "      <td>OKALOOSA</td>\n",
       "      <td>0500000US12091</td>\n",
       "      <td>67390</td>\n",
       "      <td>Okaloosa County, Florida</td>\n",
       "      <td>MULTIPOLYGON (((-86.39159 30.6497, -86.39157 3...</td>\n",
       "    </tr>\n",
       "    <tr>\n",
       "      <th>4</th>\n",
       "      <td>4</td>\n",
       "      <td>82.574677</td>\n",
       "      <td>013</td>\n",
       "      <td>CALHOUN</td>\n",
       "      <td>0500000US12013</td>\n",
       "      <td>38098</td>\n",
       "      <td>Calhoun County, Florida</td>\n",
       "      <td>POLYGON ((-84.93266 30.60637, -84.95729 30.606...</td>\n",
       "    </tr>\n",
       "  </tbody>\n",
       "</table>\n",
       "</div>"
      ],
      "text/plain": [
       "  id        max COUNTY COUNTYNAME          Geo_ID  Median_income  \\\n",
       "0  0  35.284779    041  GILCHRIST  0500000US12041          50983   \n",
       "1  1  68.072441    107     PUTNAM  0500000US12107          39975   \n",
       "2  2  31.549129    123     TAYLOR  0500000US12123          43563   \n",
       "3  3  96.228264    091   OKALOOSA  0500000US12091          67390   \n",
       "4  4  82.574677    013    CALHOUN  0500000US12013          38098   \n",
       "\n",
       "                        Name  \\\n",
       "0  Gilchrist County, Florida   \n",
       "1     Putnam County, Florida   \n",
       "2     Taylor County, Florida   \n",
       "3   Okaloosa County, Florida   \n",
       "4    Calhoun County, Florida   \n",
       "\n",
       "                                            geometry  \n",
       "0  POLYGON ((-82.65814 29.83028, -82.65887 29.830...  \n",
       "1  POLYGON ((-81.58084 29.83956, -81.60611 29.839...  \n",
       "2  MULTIPOLYGON (((-83.73037 30.30358, -83.73987 ...  \n",
       "3  MULTIPOLYGON (((-86.39159 30.6497, -86.39157 3...  \n",
       "4  POLYGON ((-84.93266 30.60637, -84.95729 30.606...  "
      ]
     },
     "execution_count": 15,
     "metadata": {},
     "output_type": "execute_result"
    }
   ],
   "source": [
    "result.head()"
   ]
  },
  {
   "cell_type": "code",
   "execution_count": 16,
   "id": "7ce96162",
   "metadata": {},
   "outputs": [
    {
     "data": {
      "text/html": [
       "\n",
       "            <style>\n",
       "                .geemap-dark {\n",
       "                    --jp-widgets-color: white;\n",
       "                    --jp-widgets-label-color: white;\n",
       "                    --jp-ui-font-color1: white;\n",
       "                    --jp-layout-color2: #454545;\n",
       "                    background-color: #383838;\n",
       "                }\n",
       "\n",
       "                .geemap-dark .jupyter-button {\n",
       "                    --jp-layout-color3: #383838;\n",
       "                }\n",
       "\n",
       "                .geemap-colab {\n",
       "                    background-color: var(--colab-primary-surface-color, white);\n",
       "                }\n",
       "\n",
       "                .geemap-colab .jupyter-button {\n",
       "                    --jp-layout-color3: var(--colab-primary-surface-color, white);\n",
       "                }\n",
       "            </style>\n",
       "            "
      ],
      "text/plain": [
       "<IPython.core.display.HTML object>"
      ]
     },
     "metadata": {},
     "output_type": "display_data"
    },
    {
     "data": {
      "text/plain": [
       "Text(0.5, 1.0, 'The highest elevation in each county')"
      ]
     },
     "execution_count": 16,
     "metadata": {},
     "output_type": "execute_result"
    },
    {
     "data": {
      "image/png": "[encoded data removed]",
      "text/plain": [
       "<Figure size 640x480 with 2 Axes>"
      ]
     },
     "metadata": {},
     "output_type": "display_data"
    }
   ],
   "source": [
    "import matplotlib.pyplot as plt\n",
    "\n",
    "result.plot(\"max\",legend=True)\n",
    "\n",
    "plt.title(\"The highest elevation in each county\")"
   ]
  },
  {
   "cell_type": "markdown",
   "id": "6db6a31e",
   "metadata": {},
   "source": [
    "Calcualte percentage of forest cover in each county\n",
    "\n",
    "\n",
    "Count total number of forest pixels per county.\n",
    "\n",
    "Note that you can use `.mask` to mask out pixels based on a certain math condition, in this example `=10`."
   ]
  },
  {
   "cell_type": "code",
   "execution_count": 17,
   "id": "0b99b7a9",
   "metadata": {},
   "outputs": [
    {
     "data": {
      "text/html": [
       "\n",
       "            <style>\n",
       "                .geemap-dark {\n",
       "                    --jp-widgets-color: white;\n",
       "                    --jp-widgets-label-color: white;\n",
       "                    --jp-ui-font-color1: white;\n",
       "                    --jp-layout-color2: #454545;\n",
       "                    background-color: #383838;\n",
       "                }\n",
       "\n",
       "                .geemap-dark .jupyter-button {\n",
       "                    --jp-layout-color3: #383838;\n",
       "                }\n",
       "\n",
       "                .geemap-colab {\n",
       "                    background-color: var(--colab-primary-surface-color, white);\n",
       "                }\n",
       "\n",
       "                .geemap-colab .jupyter-button {\n",
       "                    --jp-layout-color3: var(--colab-primary-surface-color, white);\n",
       "                }\n",
       "            </style>\n",
       "            "
      ],
      "text/plain": [
       "<IPython.core.display.HTML object>"
      ]
     },
     "metadata": {},
     "output_type": "display_data"
    },
    {
     "name": "stdout",
     "output_type": "stream",
     "text": [
      "Computing statistics ...\n",
      "Generating URL ...\n",
      "Downloading data from https://earthengine.googleapis.com/v1/projects/311878577716/tables/57b591697fe9c032453e50af7e786b4f-cff698ffc6c3ee76398c9b69332bc153:getFeatures\n",
      "Please wait ...\n",
      "Data downloaded to c:\\Users\\alexb\\Documents\\GIS5103\\GIS5103\\notebooks\\land_cover_forest_result.geojson\n"
     ]
    }
   ],
   "source": [
    "geemap.zonal_stats(landcover.mask(landcover.eq(10)), features, \"land_cover_forest_result.geojson\", stat_type=\"COUNT\")"
   ]
  },
  {
   "cell_type": "markdown",
   "id": "9c49b61e",
   "metadata": {},
   "source": [
    "Get total number of pixels per county"
   ]
  },
  {
   "cell_type": "code",
   "execution_count": 18,
   "id": "ba22505a",
   "metadata": {},
   "outputs": [
    {
     "data": {
      "text/html": [
       "\n",
       "            <style>\n",
       "                .geemap-dark {\n",
       "                    --jp-widgets-color: white;\n",
       "                    --jp-widgets-label-color: white;\n",
       "                    --jp-ui-font-color1: white;\n",
       "                    --jp-layout-color2: #454545;\n",
       "                    background-color: #383838;\n",
       "                }\n",
       "\n",
       "                .geemap-dark .jupyter-button {\n",
       "                    --jp-layout-color3: #383838;\n",
       "                }\n",
       "\n",
       "                .geemap-colab {\n",
       "                    background-color: var(--colab-primary-surface-color, white);\n",
       "                }\n",
       "\n",
       "                .geemap-colab .jupyter-button {\n",
       "                    --jp-layout-color3: var(--colab-primary-surface-color, white);\n",
       "                }\n",
       "            </style>\n",
       "            "
      ],
      "text/plain": [
       "<IPython.core.display.HTML object>"
      ]
     },
     "metadata": {},
     "output_type": "display_data"
    },
    {
     "name": "stdout",
     "output_type": "stream",
     "text": [
      "Computing statistics ...\n",
      "Generating URL ...\n",
      "Downloading data from https://earthengine.googleapis.com/v1/projects/311878577716/tables/f7aa4be9b4adebeac46907c95c2a569d-d8a0b8116355b15156855f5148087e47:getFeatures\n",
      "Please wait ...\n",
      "Data downloaded to c:\\Users\\alexb\\Documents\\GIS5103\\GIS5103\\notebooks\\land_cover_all_result.geojson\n"
     ]
    }
   ],
   "source": [
    "geemap.zonal_stats(landcover, features, \"land_cover_all_result.geojson\", stat_type=\"COUNT\")"
   ]
  },
  {
   "cell_type": "code",
   "execution_count": 19,
   "id": "c7556086",
   "metadata": {},
   "outputs": [
    {
     "data": {
      "text/html": [
       "\n",
       "            <style>\n",
       "                .geemap-dark {\n",
       "                    --jp-widgets-color: white;\n",
       "                    --jp-widgets-label-color: white;\n",
       "                    --jp-ui-font-color1: white;\n",
       "                    --jp-layout-color2: #454545;\n",
       "                    background-color: #383838;\n",
       "                }\n",
       "\n",
       "                .geemap-dark .jupyter-button {\n",
       "                    --jp-layout-color3: #383838;\n",
       "                }\n",
       "\n",
       "                .geemap-colab {\n",
       "                    background-color: var(--colab-primary-surface-color, white);\n",
       "                }\n",
       "\n",
       "                .geemap-colab .jupyter-button {\n",
       "                    --jp-layout-color3: var(--colab-primary-surface-color, white);\n",
       "                }\n",
       "            </style>\n",
       "            "
      ],
      "text/plain": [
       "<IPython.core.display.HTML object>"
      ]
     },
     "metadata": {},
     "output_type": "display_data"
    }
   ],
   "source": [
    "forest = gpd.read_file(\"land_cover_forest_result.geojson\")\n",
    "\n",
    "all_type = gpd.read_file(\"land_cover_all_result.geojson\")"
   ]
  },
  {
   "cell_type": "markdown",
   "id": "51f3aaa5",
   "metadata": {},
   "source": [
    "Simple math to calculate the forest share per county."
   ]
  },
  {
   "cell_type": "code",
   "execution_count": 20,
   "id": "c6c0a47b",
   "metadata": {},
   "outputs": [
    {
     "data": {
      "text/html": [
       "\n",
       "            <style>\n",
       "                .geemap-dark {\n",
       "                    --jp-widgets-color: white;\n",
       "                    --jp-widgets-label-color: white;\n",
       "                    --jp-ui-font-color1: white;\n",
       "                    --jp-layout-color2: #454545;\n",
       "                    background-color: #383838;\n",
       "                }\n",
       "\n",
       "                .geemap-dark .jupyter-button {\n",
       "                    --jp-layout-color3: #383838;\n",
       "                }\n",
       "\n",
       "                .geemap-colab {\n",
       "                    background-color: var(--colab-primary-surface-color, white);\n",
       "                }\n",
       "\n",
       "                .geemap-colab .jupyter-button {\n",
       "                    --jp-layout-color3: var(--colab-primary-surface-color, white);\n",
       "                }\n",
       "            </style>\n",
       "            "
      ],
      "text/plain": [
       "<IPython.core.display.HTML object>"
      ]
     },
     "metadata": {},
     "output_type": "display_data"
    }
   ],
   "source": [
    "forest[\"perc_forest\"] = forest[\"count\"]/all_type[\"count\"] * 100"
   ]
  },
  {
   "cell_type": "code",
   "execution_count": 24,
   "id": "d705df5d",
   "metadata": {},
   "outputs": [
    {
     "data": {
      "text/html": [
       "\n",
       "            <style>\n",
       "                .geemap-dark {\n",
       "                    --jp-widgets-color: white;\n",
       "                    --jp-widgets-label-color: white;\n",
       "                    --jp-ui-font-color1: white;\n",
       "                    --jp-layout-color2: #454545;\n",
       "                    background-color: #383838;\n",
       "                }\n",
       "\n",
       "                .geemap-dark .jupyter-button {\n",
       "                    --jp-layout-color3: #383838;\n",
       "                }\n",
       "\n",
       "                .geemap-colab {\n",
       "                    background-color: var(--colab-primary-surface-color, white);\n",
       "                }\n",
       "\n",
       "                .geemap-colab .jupyter-button {\n",
       "                    --jp-layout-color3: var(--colab-primary-surface-color, white);\n",
       "                }\n",
       "            </style>\n",
       "            "
      ],
      "text/plain": [
       "<IPython.core.display.HTML object>"
      ]
     },
     "metadata": {},
     "output_type": "display_data"
    },
    {
     "data": {
      "text/plain": [
       "Text(0.5, 1.0, '% of Forest Cover')"
      ]
     },
     "execution_count": 24,
     "metadata": {},
     "output_type": "execute_result"
    },
    {
     "data": {
      "image/png": "[encoded data removed]",
      "text/plain": [
       "<Figure size 640x480 with 2 Axes>"
      ]
     },
     "metadata": {},
     "output_type": "display_data"
    }
   ],
   "source": [
    "forest.plot(column=\"perc_forest\", legend=True)\n",
    "plt.title(\"% of Forest Cover\")"
   ]
  },
  {
   "cell_type": "markdown",
   "id": "9e9ff860",
   "metadata": {},
   "source": []
  },
  {
   "cell_type": "code",
   "execution_count": null,
   "id": "c47849e4",
   "metadata": {},
   "outputs": [],
   "source": []
  },
  {
   "cell_type": "markdown",
   "id": "e253361c",
   "metadata": {},
   "source": [
    "## Animation"
   ]
  },
  {
   "cell_type": "code",
   "execution_count": 21,
   "id": "1cfeeafc",
   "metadata": {},
   "outputs": [
    {
     "data": {
      "text/html": [
       "\n",
       "            <style>\n",
       "                .geemap-dark {\n",
       "                    --jp-widgets-color: white;\n",
       "                    --jp-widgets-label-color: white;\n",
       "                    --jp-ui-font-color1: white;\n",
       "                    --jp-layout-color2: #454545;\n",
       "                    background-color: #383838;\n",
       "                }\n",
       "\n",
       "                .geemap-dark .jupyter-button {\n",
       "                    --jp-layout-color3: #383838;\n",
       "                }\n",
       "\n",
       "                .geemap-colab {\n",
       "                    background-color: var(--colab-primary-surface-color, white);\n",
       "                }\n",
       "\n",
       "                .geemap-colab .jupyter-button {\n",
       "                    --jp-layout-color3: var(--colab-primary-surface-color, white);\n",
       "                }\n",
       "            </style>\n",
       "            "
      ],
      "text/plain": [
       "<IPython.core.display.HTML object>"
      ]
     },
     "metadata": {},
     "output_type": "display_data"
    }
   ],
   "source": [
    "import ee\n",
    "import geemap\n",
    "\n",
    "ee.Initialize()\n",
    "\n",
    "# Define an area of interest geometry with a global non-polar extent.\n",
    "#Global\n",
    "aoi = ee.Geometry.Polygon(\n",
    "  [[[-179.0, 78.0], [-179.0, -58.0], [179.0, -58.0], [179.0, 78.0]]], None, False)\n",
    "\n",
    "\n",
    "# Import hourly predicted temperature image collection for northern winter\n",
    "# solstice. Note that predictions extend for 384 hours; limit the collection\n",
    "# to the first 24 hours.\n",
    "\n",
    "era5_2mt = (\n",
    "    ee.ImageCollection('ECMWF/ERA5/DAILY')\n",
    "    .select('mean_2m_air_temperature')\n",
    "    .filter(ee.Filter.date('2019-07-01', '2019-08-01'))\n",
    ")\n",
    "\n",
    "\n",
    "# Define arguments for animation function parameters.\n",
    "videoArgs = {\n",
    "  'dimensions': 768,\n",
    "  'region': aoi,\n",
    "  'framesPerSecond': 10,\n",
    "  'crs': 'EPSG:3857',\n",
    "    'min': 250,\n",
    "    'max': 320,\n",
    "    'palette': [\n",
    "        '000080',\n",
    "        '0000d9',\n",
    "        '4000ff',\n",
    "        '8000ff',\n",
    "        '0080ff',\n",
    "        '00ffff',\n",
    "        '00ff80',\n",
    "        '80ff00',\n",
    "        'daff00',\n",
    "        'ffff00',\n",
    "        'fff500',\n",
    "        'ffda00',\n",
    "        'ffb000',\n",
    "        'ffa400',\n",
    "        'ff4f00',\n",
    "        'ff2500',\n",
    "        'ff0a00',\n",
    "        'ff00ff',\n",
    "    ],\n",
    "}\n"
   ]
  },
  {
   "cell_type": "code",
   "execution_count": 22,
   "id": "7113cf4b",
   "metadata": {},
   "outputs": [
    {
     "data": {
      "text/html": [
       "\n",
       "            <style>\n",
       "                .geemap-dark {\n",
       "                    --jp-widgets-color: white;\n",
       "                    --jp-widgets-label-color: white;\n",
       "                    --jp-ui-font-color1: white;\n",
       "                    --jp-layout-color2: #454545;\n",
       "                    background-color: #383838;\n",
       "                }\n",
       "\n",
       "                .geemap-dark .jupyter-button {\n",
       "                    --jp-layout-color3: #383838;\n",
       "                }\n",
       "\n",
       "                .geemap-colab {\n",
       "                    background-color: var(--colab-primary-surface-color, white);\n",
       "                }\n",
       "\n",
       "                .geemap-colab .jupyter-button {\n",
       "                    --jp-layout-color3: var(--colab-primary-surface-color, white);\n",
       "                }\n",
       "            </style>\n",
       "            "
      ],
      "text/plain": [
       "<IPython.core.display.HTML object>"
      ]
     },
     "metadata": {},
     "output_type": "display_data"
    },
    {
     "name": "stdout",
     "output_type": "stream",
     "text": [
      "Generating URL...\n",
      "Downloading GIF image from https://earthengine.googleapis.com/v1/projects/311878577716/videoThumbnails/c6ee8334570fcfa08da116a8844497fa-6ef814350e6bb7e348b096e55b3b49b5:getPixels\n",
      "Please wait ...\n",
      "The GIF image has been saved to: c:\\Users\\alexb\\Documents\\GIS5103\\GIS5103\\notebooks\\temperature.gif\n"
     ]
    }
   ],
   "source": [
    "#Submit the request to GEE and download it.\n",
    "import os\n",
    "\n",
    "geemap.download_ee_video(era5_2mt, videoArgs, 'temperature.gif')"
   ]
  },
  {
   "cell_type": "code",
   "execution_count": 23,
   "id": "9dc8b6b5",
   "metadata": {},
   "outputs": [
    {
     "data": {
      "text/html": [
       "\n",
       "            <style>\n",
       "                .geemap-dark {\n",
       "                    --jp-widgets-color: white;\n",
       "                    --jp-widgets-label-color: white;\n",
       "                    --jp-ui-font-color1: white;\n",
       "                    --jp-layout-color2: #454545;\n",
       "                    background-color: #383838;\n",
       "                }\n",
       "\n",
       "                .geemap-dark .jupyter-button {\n",
       "                    --jp-layout-color3: #383838;\n",
       "                }\n",
       "\n",
       "                .geemap-colab {\n",
       "                    background-color: var(--colab-primary-surface-color, white);\n",
       "                }\n",
       "\n",
       "                .geemap-colab .jupyter-button {\n",
       "                    --jp-layout-color3: var(--colab-primary-surface-color, white);\n",
       "                }\n",
       "            </style>\n",
       "            "
      ],
      "text/plain": [
       "<IPython.core.display.HTML object>"
      ]
     },
     "metadata": {},
     "output_type": "display_data"
    },
    {
     "data": {
      "application/vnd.jupyter.widget-view+json": {
       "model_id": "2cd54f66c4fe42159d7c59f089f86a0d",
       "version_major": 2,
       "version_minor": 0
      },
      "text/plain": [
       "Output()"
      ]
     },
     "metadata": {},
     "output_type": "display_data"
    }
   ],
   "source": [
    "geemap.show_image('temperature.gif')"
   ]
  },
  {
   "cell_type": "code",
   "execution_count": 24,
   "id": "e85f71e7",
   "metadata": {},
   "outputs": [
    {
     "data": {
      "text/html": [
       "\n",
       "            <style>\n",
       "                .geemap-dark {\n",
       "                    --jp-widgets-color: white;\n",
       "                    --jp-widgets-label-color: white;\n",
       "                    --jp-ui-font-color1: white;\n",
       "                    --jp-layout-color2: #454545;\n",
       "                    background-color: #383838;\n",
       "                }\n",
       "\n",
       "                .geemap-dark .jupyter-button {\n",
       "                    --jp-layout-color3: #383838;\n",
       "                }\n",
       "\n",
       "                .geemap-colab {\n",
       "                    background-color: var(--colab-primary-surface-color, white);\n",
       "                }\n",
       "\n",
       "                .geemap-colab .jupyter-button {\n",
       "                    --jp-layout-color3: var(--colab-primary-surface-color, white);\n",
       "                }\n",
       "            </style>\n",
       "            "
      ],
      "text/plain": [
       "<IPython.core.display.HTML object>"
      ]
     },
     "metadata": {},
     "output_type": "display_data"
    },
    {
     "name": "stdout",
     "output_type": "stream",
     "text": [
      "['July 1', 'July 2', 'July 3', 'July 4', 'July 5', 'July 6', 'July 7', 'July 8', 'July 9', 'July 10', 'July 11', 'July 12', 'July 13', 'July 14', 'July 15', 'July 16', 'July 17', 'July 18', 'July 19', 'July 20', 'July 21', 'July 22', 'July 23', 'July 24', 'July 25', 'July 26', 'July 27', 'July 28', 'July 29', 'July 30', 'July 31']\n"
     ]
    }
   ],
   "source": [
    "#Add some text to the video showing the hour of temperature measured.\n",
    "text = [\"July \" + str(n+1) for n in range(0, 31)]\n",
    "print(text)"
   ]
  },
  {
   "cell_type": "code",
   "execution_count": 25,
   "id": "9c5d65fd",
   "metadata": {},
   "outputs": [
    {
     "data": {
      "text/html": [
       "\n",
       "            <style>\n",
       "                .geemap-dark {\n",
       "                    --jp-widgets-color: white;\n",
       "                    --jp-widgets-label-color: white;\n",
       "                    --jp-ui-font-color1: white;\n",
       "                    --jp-layout-color2: #454545;\n",
       "                    background-color: #383838;\n",
       "                }\n",
       "\n",
       "                .geemap-dark .jupyter-button {\n",
       "                    --jp-layout-color3: #383838;\n",
       "                }\n",
       "\n",
       "                .geemap-colab {\n",
       "                    background-color: var(--colab-primary-surface-color, white);\n",
       "                }\n",
       "\n",
       "                .geemap-colab .jupyter-button {\n",
       "                    --jp-layout-color3: var(--colab-primary-surface-color, white);\n",
       "                }\n",
       "            </style>\n",
       "            "
      ],
      "text/plain": [
       "<IPython.core.display.HTML object>"
      ]
     },
     "metadata": {},
     "output_type": "display_data"
    },
    {
     "data": {
      "application/vnd.jupyter.widget-view+json": {
       "model_id": "6abcd3f05d0b44fc9c802bf2c0e9126e",
       "version_major": 2,
       "version_minor": 0
      },
      "text/plain": [
       "Output()"
      ]
     },
     "metadata": {},
     "output_type": "display_data"
    }
   ],
   "source": [
    "geemap.add_text_to_gif('temperature.gif', 'temperature.gif', xy=('3%', '5%'), text_sequence=text, font_size=30, font_color='#000000')\n",
    "\n",
    "geemap.show_image('temperature.gif')"
   ]
  },
  {
   "cell_type": "code",
   "execution_count": null,
   "id": "a3b07c5e",
   "metadata": {},
   "outputs": [],
   "source": []
  },
  {
   "cell_type": "code",
   "execution_count": null,
   "id": "2a962174",
   "metadata": {},
   "outputs": [],
   "source": []
  },
  {
   "cell_type": "code",
   "execution_count": null,
   "id": "393df381",
   "metadata": {},
   "outputs": [],
   "source": []
  },
  {
   "cell_type": "code",
   "execution_count": null,
   "id": "49f12f2e",
   "metadata": {},
   "outputs": [],
   "source": []
  },
  {
   "cell_type": "markdown",
   "id": "9f2e2e15",
   "metadata": {},
   "source": [
    "A Landsat time series"
   ]
  },
  {
   "cell_type": "code",
   "execution_count": 26,
   "id": "0ef3a162",
   "metadata": {},
   "outputs": [
    {
     "data": {
      "text/html": [
       "\n",
       "            <style>\n",
       "                .geemap-dark {\n",
       "                    --jp-widgets-color: white;\n",
       "                    --jp-widgets-label-color: white;\n",
       "                    --jp-ui-font-color1: white;\n",
       "                    --jp-layout-color2: #454545;\n",
       "                    background-color: #383838;\n",
       "                }\n",
       "\n",
       "                .geemap-dark .jupyter-button {\n",
       "                    --jp-layout-color3: #383838;\n",
       "                }\n",
       "\n",
       "                .geemap-colab {\n",
       "                    background-color: var(--colab-primary-surface-color, white);\n",
       "                }\n",
       "\n",
       "                .geemap-colab .jupyter-button {\n",
       "                    --jp-layout-color3: var(--colab-primary-surface-color, white);\n",
       "                }\n",
       "            </style>\n",
       "            "
      ],
      "text/plain": [
       "<IPython.core.display.HTML object>"
      ]
     },
     "metadata": {},
     "output_type": "display_data"
    }
   ],
   "source": [
    "#Define a study area\n",
    "roi_tlh = ee.Geometry.Polygon(\n",
    "    [[[-84.4365, 30.3482],\n",
    "      [-84.4365, 30.5498],\n",
    "      [-84.1531, 30.5498],\n",
    "      [-84.1531, 30.3482]]],\n",
    "    None,\n",
    "    False,)\n"
   ]
  },
  {
   "cell_type": "code",
   "execution_count": 27,
   "id": "7d0c393f",
   "metadata": {},
   "outputs": [
    {
     "data": {
      "text/html": [
       "\n",
       "            <style>\n",
       "                .geemap-dark {\n",
       "                    --jp-widgets-color: white;\n",
       "                    --jp-widgets-label-color: white;\n",
       "                    --jp-ui-font-color1: white;\n",
       "                    --jp-layout-color2: #454545;\n",
       "                    background-color: #383838;\n",
       "                }\n",
       "\n",
       "                .geemap-dark .jupyter-button {\n",
       "                    --jp-layout-color3: #383838;\n",
       "                }\n",
       "\n",
       "                .geemap-colab {\n",
       "                    background-color: var(--colab-primary-surface-color, white);\n",
       "                }\n",
       "\n",
       "                .geemap-colab .jupyter-button {\n",
       "                    --jp-layout-color3: var(--colab-primary-surface-color, white);\n",
       "                }\n",
       "            </style>\n",
       "            "
      ],
      "text/plain": [
       "<IPython.core.display.HTML object>"
      ]
     },
     "metadata": {},
     "output_type": "display_data"
    }
   ],
   "source": [
    "collection = geemap.landsat_timeseries(\n",
    "    roi=roi_tlh, start_year=1985, end_year=2019, start_date=\"06-10\", end_date=\"09-20\"\n",
    ")"
   ]
  },
  {
   "cell_type": "code",
   "execution_count": 28,
   "id": "c39e5d3d",
   "metadata": {},
   "outputs": [
    {
     "data": {
      "text/html": [
       "\n",
       "            <style>\n",
       "                .geemap-dark {\n",
       "                    --jp-widgets-color: white;\n",
       "                    --jp-widgets-label-color: white;\n",
       "                    --jp-ui-font-color1: white;\n",
       "                    --jp-layout-color2: #454545;\n",
       "                    background-color: #383838;\n",
       "                }\n",
       "\n",
       "                .geemap-dark .jupyter-button {\n",
       "                    --jp-layout-color3: #383838;\n",
       "                }\n",
       "\n",
       "                .geemap-colab {\n",
       "                    background-color: var(--colab-primary-surface-color, white);\n",
       "                }\n",
       "\n",
       "                .geemap-colab .jupyter-button {\n",
       "                    --jp-layout-color3: var(--colab-primary-surface-color, white);\n",
       "                }\n",
       "            </style>\n",
       "            "
      ],
      "text/plain": [
       "<IPython.core.display.HTML object>"
      ]
     },
     "metadata": {},
     "output_type": "display_data"
    }
   ],
   "source": [
    "collection = geemap.landsat_timeseries(roi=roi_tlh, start_year=1990, end_year=2020)"
   ]
  },
  {
   "cell_type": "code",
   "execution_count": null,
   "id": "2e499b45",
   "metadata": {},
   "outputs": [],
   "source": []
  },
  {
   "cell_type": "code",
   "execution_count": 29,
   "id": "a60091d0",
   "metadata": {},
   "outputs": [
    {
     "data": {
      "text/html": [
       "\n",
       "            <style>\n",
       "                .geemap-dark {\n",
       "                    --jp-widgets-color: white;\n",
       "                    --jp-widgets-label-color: white;\n",
       "                    --jp-ui-font-color1: white;\n",
       "                    --jp-layout-color2: #454545;\n",
       "                    background-color: #383838;\n",
       "                }\n",
       "\n",
       "                .geemap-dark .jupyter-button {\n",
       "                    --jp-layout-color3: #383838;\n",
       "                }\n",
       "\n",
       "                .geemap-colab {\n",
       "                    background-color: var(--colab-primary-surface-color, white);\n",
       "                }\n",
       "\n",
       "                .geemap-colab .jupyter-button {\n",
       "                    --jp-layout-color3: var(--colab-primary-surface-color, white);\n",
       "                }\n",
       "            </style>\n",
       "            "
      ],
      "text/plain": [
       "<IPython.core.display.HTML object>"
      ]
     },
     "metadata": {},
     "output_type": "display_data"
    }
   ],
   "source": [
    "#Some video parameters\n",
    "# Define arguments for animation function parameters.\n",
    "video_args = {\n",
    "  'dimensions': 768,\n",
    "  'region': roi_tlh,\n",
    "  'bands': ['Red', 'Green', 'Blue'],\n",
    "  'min': 0,\n",
    "  'max': 0.1,\n",
    "}"
   ]
  },
  {
   "cell_type": "code",
   "execution_count": 30,
   "id": "b81274aa",
   "metadata": {},
   "outputs": [
    {
     "data": {
      "text/html": [
       "\n",
       "            <style>\n",
       "                .geemap-dark {\n",
       "                    --jp-widgets-color: white;\n",
       "                    --jp-widgets-label-color: white;\n",
       "                    --jp-ui-font-color1: white;\n",
       "                    --jp-layout-color2: #454545;\n",
       "                    background-color: #383838;\n",
       "                }\n",
       "\n",
       "                .geemap-dark .jupyter-button {\n",
       "                    --jp-layout-color3: #383838;\n",
       "                }\n",
       "\n",
       "                .geemap-colab {\n",
       "                    background-color: var(--colab-primary-surface-color, white);\n",
       "                }\n",
       "\n",
       "                .geemap-colab .jupyter-button {\n",
       "                    --jp-layout-color3: var(--colab-primary-surface-color, white);\n",
       "                }\n",
       "            </style>\n",
       "            "
      ],
      "text/plain": [
       "<IPython.core.display.HTML object>"
      ]
     },
     "metadata": {},
     "output_type": "display_data"
    },
    {
     "name": "stdout",
     "output_type": "stream",
     "text": [
      "Generating URL...\n",
      "Downloading GIF image from https://earthengine.googleapis.com/v1/projects/311878577716/videoThumbnails/65e610ef9eab095316f58985fdd268b4-2a1d2c355d7559c54ea1d9cbe041621b:getPixels\n",
      "Please wait ...\n",
      "The GIF image has been saved to: c:\\Users\\alexb\\Documents\\GIS5103\\GIS5103\\notebooks\\tlh_land_cover.gif\n"
     ]
    }
   ],
   "source": [
    "geemap.download_ee_video(collection, video_args, \"tlh_land_cover.gif\")"
   ]
  },
  {
   "cell_type": "code",
   "execution_count": 31,
   "id": "66fa615d",
   "metadata": {},
   "outputs": [
    {
     "data": {
      "text/html": [
       "\n",
       "            <style>\n",
       "                .geemap-dark {\n",
       "                    --jp-widgets-color: white;\n",
       "                    --jp-widgets-label-color: white;\n",
       "                    --jp-ui-font-color1: white;\n",
       "                    --jp-layout-color2: #454545;\n",
       "                    background-color: #383838;\n",
       "                }\n",
       "\n",
       "                .geemap-dark .jupyter-button {\n",
       "                    --jp-layout-color3: #383838;\n",
       "                }\n",
       "\n",
       "                .geemap-colab {\n",
       "                    background-color: var(--colab-primary-surface-color, white);\n",
       "                }\n",
       "\n",
       "                .geemap-colab .jupyter-button {\n",
       "                    --jp-layout-color3: var(--colab-primary-surface-color, white);\n",
       "                }\n",
       "            </style>\n",
       "            "
      ],
      "text/plain": [
       "<IPython.core.display.HTML object>"
      ]
     },
     "metadata": {},
     "output_type": "display_data"
    }
   ],
   "source": [
    "geemap.add_text_to_gif(\"tlh_land_cover.gif\", \"tlh_land_cover.gif\", xy=('3%', '5%'), \n",
    "                       text_sequence=1990, font_size=30, font_color='#ffffff', add_progress_bar=False)"
   ]
  },
  {
   "cell_type": "code",
   "execution_count": 32,
   "id": "d1265585",
   "metadata": {},
   "outputs": [
    {
     "data": {
      "text/html": [
       "\n",
       "            <style>\n",
       "                .geemap-dark {\n",
       "                    --jp-widgets-color: white;\n",
       "                    --jp-widgets-label-color: white;\n",
       "                    --jp-ui-font-color1: white;\n",
       "                    --jp-layout-color2: #454545;\n",
       "                    background-color: #383838;\n",
       "                }\n",
       "\n",
       "                .geemap-dark .jupyter-button {\n",
       "                    --jp-layout-color3: #383838;\n",
       "                }\n",
       "\n",
       "                .geemap-colab {\n",
       "                    background-color: var(--colab-primary-surface-color, white);\n",
       "                }\n",
       "\n",
       "                .geemap-colab .jupyter-button {\n",
       "                    --jp-layout-color3: var(--colab-primary-surface-color, white);\n",
       "                }\n",
       "            </style>\n",
       "            "
      ],
      "text/plain": [
       "<IPython.core.display.HTML object>"
      ]
     },
     "metadata": {},
     "output_type": "display_data"
    },
    {
     "data": {
      "application/vnd.jupyter.widget-view+json": {
       "model_id": "e0f892a704b34ff281dff89b9c197825",
       "version_major": 2,
       "version_minor": 0
      },
      "text/plain": [
       "Output()"
      ]
     },
     "metadata": {},
     "output_type": "display_data"
    }
   ],
   "source": [
    "geemap.show_image(\"tlh_land_cover.gif\")"
   ]
  },
  {
   "cell_type": "code",
   "execution_count": null,
   "id": "5a685e53",
   "metadata": {},
   "outputs": [],
   "source": []
  },
  {
   "cell_type": "code",
   "execution_count": null,
   "id": "3d4589a4",
   "metadata": {},
   "outputs": [],
   "source": []
  }
 ],
 "metadata": {
  "kernelspec": {
   "display_name": ".conda",
   "language": "python",
   "name": "python3"
  },
  "language_info": {
   "codemirror_mode": {
    "name": "ipython",
    "version": 3
   },
   "file_extension": ".py",
   "mimetype": "text/x-python",
   "name": "python",
   "nbconvert_exporter": "python",
   "pygments_lexer": "ipython3",
   "version": "3.11.9"
  }
 },
 "nbformat": 4,
 "nbformat_minor": 5
}

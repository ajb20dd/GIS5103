{
 "cells": [
  {
   "cell_type": "markdown",
   "metadata": {},
   "source": [
    "# Google Earth Engine\n",
    "Alexander Bedine  \n",
    "ajb20dd@fsu.edu  \n",
    "November 1, 2024"
   ]
  },
  {
   "cell_type": "markdown",
   "metadata": {},
   "source": [
    "## Table of Contents\n",
    "\n",
    " - [Environment Setup](#environment-setup)\n",
    " - [Google Earth Maps and Zonal Stats](#google-earth-maps-and-zonal-stats)\n",
    " - [Ranking States by Elevation](#ranking-states-by-elevation)\n",
    " - [Mean Elevation Map](#mean-elevation-map)"
   ]
  },
  {
   "cell_type": "markdown",
   "metadata": {},
   "source": [
    "### Environment Setup"
   ]
  },
  {
   "cell_type": "code",
   "execution_count": 1,
   "metadata": {},
   "outputs": [],
   "source": [
    "import ee\n",
    "import geemap\n",
    "import pandas as pd\n",
    "import geopandas as gpd"
   ]
  },
  {
   "cell_type": "code",
   "execution_count": 2,
   "metadata": {},
   "outputs": [
    {
     "data": {
      "text/html": [
       "\n",
       "            <style>\n",
       "                .geemap-dark {\n",
       "                    --jp-widgets-color: white;\n",
       "                    --jp-widgets-label-color: white;\n",
       "                    --jp-ui-font-color1: white;\n",
       "                    --jp-layout-color2: #454545;\n",
       "                    background-color: #383838;\n",
       "                }\n",
       "\n",
       "                .geemap-dark .jupyter-button {\n",
       "                    --jp-layout-color3: #383838;\n",
       "                }\n",
       "\n",
       "                .geemap-colab {\n",
       "                    background-color: var(--colab-primary-surface-color, white);\n",
       "                }\n",
       "\n",
       "                .geemap-colab .jupyter-button {\n",
       "                    --jp-layout-color3: var(--colab-primary-surface-color, white);\n",
       "                }\n",
       "            </style>\n",
       "            "
      ],
      "text/plain": [
       "<IPython.core.display.HTML object>"
      ]
     },
     "metadata": {},
     "output_type": "display_data"
    },
    {
     "data": {
      "text/plain": [
       "True"
      ]
     },
     "execution_count": 2,
     "metadata": {},
     "output_type": "execute_result"
    }
   ],
   "source": [
    "ee.Authenticate()"
   ]
  },
  {
   "cell_type": "markdown",
   "metadata": {},
   "source": [
    "### Google Earth Maps and Zonal Stats"
   ]
  },
  {
   "cell_type": "code",
   "execution_count": 3,
   "metadata": {},
   "outputs": [
    {
     "data": {
      "text/html": [
       "\n",
       "            <style>\n",
       "                .geemap-dark {\n",
       "                    --jp-widgets-color: white;\n",
       "                    --jp-widgets-label-color: white;\n",
       "                    --jp-ui-font-color1: white;\n",
       "                    --jp-layout-color2: #454545;\n",
       "                    background-color: #383838;\n",
       "                }\n",
       "\n",
       "                .geemap-dark .jupyter-button {\n",
       "                    --jp-layout-color3: #383838;\n",
       "                }\n",
       "\n",
       "                .geemap-colab {\n",
       "                    background-color: var(--colab-primary-surface-color, white);\n",
       "                }\n",
       "\n",
       "                .geemap-colab .jupyter-button {\n",
       "                    --jp-layout-color3: var(--colab-primary-surface-color, white);\n",
       "                }\n",
       "            </style>\n",
       "            "
      ],
      "text/plain": [
       "<IPython.core.display.HTML object>"
      ]
     },
     "metadata": {},
     "output_type": "display_data"
    },
    {
     "data": {
      "application/vnd.jupyter.widget-view+json": {
       "model_id": "988db8adeca04edb95f31a788d834d91",
       "version_major": 2,
       "version_minor": 0
      },
      "text/plain": [
       "Map(center=[40, -100], controls=(WidgetControl(options=['position', 'transparent_bg'], widget=SearchDataGUI(ch…"
      ]
     },
     "execution_count": 3,
     "metadata": {},
     "output_type": "execute_result"
    }
   ],
   "source": [
    "Map = geemap.Map(center=(40, -100), zoom=3)\n",
    "\n",
    "USGS_3DEP_10m = ee.Image(\"USGS/3DEP/10m\")\n",
    "elevation = USGS_3DEP_10m.select('elevation')\n",
    "viz = {\n",
    "    'min': 0,\n",
    "    'max': 3000,\n",
    "    'palette': ['3ae237', 'b5e22e', 'd6e21f', 'fff705', 'ffd611', 'ffb613', 'ff8b13',\n",
    "    'ff6e08', 'ff500d', 'ff0000', 'de0101', 'c21301', '0602ff', '235cb1',\n",
    "    '307ef3', '269db1', '30c8e2', '32d3ef', '3be285', '3ff38f', '86e26f']\n",
    "}\n",
    "\n",
    "Map.addLayer(elevation, viz, 'elevation')\n",
    "Map"
   ]
  },
  {
   "cell_type": "markdown",
   "metadata": {},
   "source": [
    "Create a Map using the USGS DEM that shows the elevation of the United States."
   ]
  },
  {
   "cell_type": "code",
   "execution_count": 4,
   "metadata": {},
   "outputs": [
    {
     "data": {
      "text/html": [
       "\n",
       "            <style>\n",
       "                .geemap-dark {\n",
       "                    --jp-widgets-color: white;\n",
       "                    --jp-widgets-label-color: white;\n",
       "                    --jp-ui-font-color1: white;\n",
       "                    --jp-layout-color2: #454545;\n",
       "                    background-color: #383838;\n",
       "                }\n",
       "\n",
       "                .geemap-dark .jupyter-button {\n",
       "                    --jp-layout-color3: #383838;\n",
       "                }\n",
       "\n",
       "                .geemap-colab {\n",
       "                    background-color: var(--colab-primary-surface-color, white);\n",
       "                }\n",
       "\n",
       "                .geemap-colab .jupyter-button {\n",
       "                    --jp-layout-color3: var(--colab-primary-surface-color, white);\n",
       "                }\n",
       "            </style>\n",
       "            "
      ],
      "text/plain": [
       "<IPython.core.display.HTML object>"
      ]
     },
     "metadata": {},
     "output_type": "display_data"
    },
    {
     "data": {
      "application/vnd.jupyter.widget-view+json": {
       "model_id": "988db8adeca04edb95f31a788d834d91",
       "version_major": 2,
       "version_minor": 0
      },
      "text/plain": [
       "Map(center=[40, -100], controls=(WidgetControl(options=['position', 'transparent_bg'], widget=SearchDataGUI(ch…"
      ]
     },
     "execution_count": 4,
     "metadata": {},
     "output_type": "execute_result"
    }
   ],
   "source": [
    "us_states = ee.FeatureCollection(\"TIGER/2018/States\")\n",
    "Map.addLayer(us_states, {'opacity': 0.7}, \"US States\")\n",
    "Map"
   ]
  },
  {
   "cell_type": "markdown",
   "metadata": {},
   "source": [
    "add the boundaries for US States based on the 2018 Census to the map."
   ]
  },
  {
   "cell_type": "code",
   "execution_count": 5,
   "metadata": {},
   "outputs": [
    {
     "data": {
      "text/html": [
       "\n",
       "            <style>\n",
       "                .geemap-dark {\n",
       "                    --jp-widgets-color: white;\n",
       "                    --jp-widgets-label-color: white;\n",
       "                    --jp-ui-font-color1: white;\n",
       "                    --jp-layout-color2: #454545;\n",
       "                    background-color: #383838;\n",
       "                }\n",
       "\n",
       "                .geemap-dark .jupyter-button {\n",
       "                    --jp-layout-color3: #383838;\n",
       "                }\n",
       "\n",
       "                .geemap-colab {\n",
       "                    background-color: var(--colab-primary-surface-color, white);\n",
       "                }\n",
       "\n",
       "                .geemap-colab .jupyter-button {\n",
       "                    --jp-layout-color3: var(--colab-primary-surface-color, white);\n",
       "                }\n",
       "            </style>\n",
       "            "
      ],
      "text/plain": [
       "<IPython.core.display.HTML object>"
      ]
     },
     "metadata": {},
     "output_type": "display_data"
    },
    {
     "name": "stdout",
     "output_type": "stream",
     "text": [
      "Computing statistics ...\n",
      "Generating URL ...\n",
      "Downloading data from https://earthengine.googleapis.com/v1/projects/311878577716/tables/fb8f64775884cd8969f039889b9bf637-0a5a7a5d5901baf3c510956d3891f2a8:getFeatures\n",
      "Please wait ...\n",
      "Data downloaded to c:\\Users\\alexb\\Documents\\GIS5103\\GIS5103\\assignments\\elevresults.geojson\n"
     ]
    }
   ],
   "source": [
    "geemap.zonal_stats(elevation, us_states, \"elevresults.geojson\", stat_type=\"MEAN\")"
   ]
  },
  {
   "cell_type": "code",
   "execution_count": 6,
   "metadata": {},
   "outputs": [
    {
     "data": {
      "text/html": [
       "\n",
       "            <style>\n",
       "                .geemap-dark {\n",
       "                    --jp-widgets-color: white;\n",
       "                    --jp-widgets-label-color: white;\n",
       "                    --jp-ui-font-color1: white;\n",
       "                    --jp-layout-color2: #454545;\n",
       "                    background-color: #383838;\n",
       "                }\n",
       "\n",
       "                .geemap-dark .jupyter-button {\n",
       "                    --jp-layout-color3: #383838;\n",
       "                }\n",
       "\n",
       "                .geemap-colab {\n",
       "                    background-color: var(--colab-primary-surface-color, white);\n",
       "                }\n",
       "\n",
       "                .geemap-colab .jupyter-button {\n",
       "                    --jp-layout-color3: var(--colab-primary-surface-color, white);\n",
       "                }\n",
       "            </style>\n",
       "            "
      ],
      "text/plain": [
       "<IPython.core.display.HTML object>"
      ]
     },
     "metadata": {},
     "output_type": "display_data"
    },
    {
     "data": {
      "text/html": [
       "<div>\n",
       "<style scoped>\n",
       "    .dataframe tbody tr th:only-of-type {\n",
       "        vertical-align: middle;\n",
       "    }\n",
       "\n",
       "    .dataframe tbody tr th {\n",
       "        vertical-align: top;\n",
       "    }\n",
       "\n",
       "    .dataframe thead th {\n",
       "        text-align: right;\n",
       "    }\n",
       "</style>\n",
       "<table border=\"1\" class=\"dataframe\">\n",
       "  <thead>\n",
       "    <tr style=\"text-align: right;\">\n",
       "      <th></th>\n",
       "      <th>id</th>\n",
       "      <th>mean</th>\n",
       "      <th>STATENS</th>\n",
       "      <th>GEOID</th>\n",
       "      <th>AWATER</th>\n",
       "      <th>LSAD</th>\n",
       "      <th>STUSPS</th>\n",
       "      <th>STATEFP</th>\n",
       "      <th>FUNCSTAT</th>\n",
       "      <th>INTPTLAT</th>\n",
       "      <th>DIVISION</th>\n",
       "      <th>REGION</th>\n",
       "      <th>NAME</th>\n",
       "      <th>INTPTLON</th>\n",
       "      <th>MTFCC</th>\n",
       "      <th>ALAND</th>\n",
       "      <th>geometry</th>\n",
       "    </tr>\n",
       "  </thead>\n",
       "  <tbody>\n",
       "    <tr>\n",
       "      <th>0</th>\n",
       "      <td>00000000000000000022</td>\n",
       "      <td>14.883586</td>\n",
       "      <td>01802710</td>\n",
       "      <td>78</td>\n",
       "      <td>1550236201</td>\n",
       "      <td>00</td>\n",
       "      <td>VI</td>\n",
       "      <td>78</td>\n",
       "      <td>A</td>\n",
       "      <td>+18.3267480</td>\n",
       "      <td>0</td>\n",
       "      <td>9</td>\n",
       "      <td>United States Virgin Islands</td>\n",
       "      <td>-064.9712508</td>\n",
       "      <td>G4000</td>\n",
       "      <td>348021896</td>\n",
       "      <td>MULTIPOLYGON (((-64.95671 17.67899, -64.95649 ...</td>\n",
       "    </tr>\n",
       "    <tr>\n",
       "      <th>1</th>\n",
       "      <td>00000000000000000023</td>\n",
       "      <td>27.111721</td>\n",
       "      <td>01779809</td>\n",
       "      <td>69</td>\n",
       "      <td>4644252461</td>\n",
       "      <td>00</td>\n",
       "      <td>MP</td>\n",
       "      <td>69</td>\n",
       "      <td>A</td>\n",
       "      <td>+14.9367835</td>\n",
       "      <td>0</td>\n",
       "      <td>9</td>\n",
       "      <td>Commonwealth of the Northern Mariana Islands</td>\n",
       "      <td>+145.6010210</td>\n",
       "      <td>G4000</td>\n",
       "      <td>472292529</td>\n",
       "      <td>MULTIPOLYGON (((146.00197 16.02877, 146.00224 ...</td>\n",
       "    </tr>\n",
       "    <tr>\n",
       "      <th>2</th>\n",
       "      <td>00000000000000000024</td>\n",
       "      <td>89.677631</td>\n",
       "      <td>01802705</td>\n",
       "      <td>66</td>\n",
       "      <td>934337453</td>\n",
       "      <td>00</td>\n",
       "      <td>GU</td>\n",
       "      <td>66</td>\n",
       "      <td>A</td>\n",
       "      <td>+13.4382886</td>\n",
       "      <td>0</td>\n",
       "      <td>9</td>\n",
       "      <td>Guam</td>\n",
       "      <td>+144.7729493</td>\n",
       "      <td>G4000</td>\n",
       "      <td>543555840</td>\n",
       "      <td>POLYGON ((144.56342 13.44807, 144.56355 13.445...</td>\n",
       "    </tr>\n",
       "    <tr>\n",
       "      <th>3</th>\n",
       "      <td>00000000000000000029</td>\n",
       "      <td>43.026537</td>\n",
       "      <td>01802701</td>\n",
       "      <td>60</td>\n",
       "      <td>1307243754</td>\n",
       "      <td>00</td>\n",
       "      <td>AS</td>\n",
       "      <td>60</td>\n",
       "      <td>A</td>\n",
       "      <td>-14.2671590</td>\n",
       "      <td>0</td>\n",
       "      <td>9</td>\n",
       "      <td>American Samoa</td>\n",
       "      <td>-170.6682674</td>\n",
       "      <td>G4000</td>\n",
       "      <td>197759063</td>\n",
       "      <td>GEOMETRYCOLLECTION (LINESTRING (-170.8231 -14....</td>\n",
       "    </tr>\n",
       "    <tr>\n",
       "      <th>4</th>\n",
       "      <td>00000000000000000031</td>\n",
       "      <td>155.109137</td>\n",
       "      <td>01779808</td>\n",
       "      <td>72</td>\n",
       "      <td>4922382562</td>\n",
       "      <td>00</td>\n",
       "      <td>PR</td>\n",
       "      <td>72</td>\n",
       "      <td>A</td>\n",
       "      <td>+18.2176480</td>\n",
       "      <td>0</td>\n",
       "      <td>9</td>\n",
       "      <td>Puerto Rico</td>\n",
       "      <td>-066.4107992</td>\n",
       "      <td>G4000</td>\n",
       "      <td>8868896030</td>\n",
       "      <td>MULTIPOLYGON (((-67.54302 18.38613, -67.54244 ...</td>\n",
       "    </tr>\n",
       "  </tbody>\n",
       "</table>\n",
       "</div>"
      ],
      "text/plain": [
       "                     id        mean   STATENS GEOID      AWATER LSAD STUSPS  \\\n",
       "0  00000000000000000022   14.883586  01802710    78  1550236201   00     VI   \n",
       "1  00000000000000000023   27.111721  01779809    69  4644252461   00     MP   \n",
       "2  00000000000000000024   89.677631  01802705    66   934337453   00     GU   \n",
       "3  00000000000000000029   43.026537  01802701    60  1307243754   00     AS   \n",
       "4  00000000000000000031  155.109137  01779808    72  4922382562   00     PR   \n",
       "\n",
       "  STATEFP FUNCSTAT     INTPTLAT DIVISION REGION  \\\n",
       "0      78        A  +18.3267480        0      9   \n",
       "1      69        A  +14.9367835        0      9   \n",
       "2      66        A  +13.4382886        0      9   \n",
       "3      60        A  -14.2671590        0      9   \n",
       "4      72        A  +18.2176480        0      9   \n",
       "\n",
       "                                           NAME      INTPTLON  MTFCC  \\\n",
       "0                  United States Virgin Islands  -064.9712508  G4000   \n",
       "1  Commonwealth of the Northern Mariana Islands  +145.6010210  G4000   \n",
       "2                                          Guam  +144.7729493  G4000   \n",
       "3                                American Samoa  -170.6682674  G4000   \n",
       "4                                   Puerto Rico  -066.4107992  G4000   \n",
       "\n",
       "        ALAND                                           geometry  \n",
       "0   348021896  MULTIPOLYGON (((-64.95671 17.67899, -64.95649 ...  \n",
       "1   472292529  MULTIPOLYGON (((146.00197 16.02877, 146.00224 ...  \n",
       "2   543555840  POLYGON ((144.56342 13.44807, 144.56355 13.445...  \n",
       "3   197759063  GEOMETRYCOLLECTION (LINESTRING (-170.8231 -14....  \n",
       "4  8868896030  MULTIPOLYGON (((-67.54302 18.38613, -67.54244 ...  "
      ]
     },
     "execution_count": 6,
     "metadata": {},
     "output_type": "execute_result"
    }
   ],
   "source": [
    "elevresults = gpd.read_file(\"elevresults.geojson\") \n",
    "elevresults.head()"
   ]
  },
  {
   "cell_type": "markdown",
   "metadata": {},
   "source": [
    "We now have a dataframe that has every state and the mean elevation for that state."
   ]
  },
  {
   "cell_type": "markdown",
   "metadata": {},
   "source": [
    "### Ranking States by Elevation"
   ]
  },
  {
   "cell_type": "code",
   "execution_count": 7,
   "metadata": {},
   "outputs": [
    {
     "data": {
      "text/html": [
       "\n",
       "            <style>\n",
       "                .geemap-dark {\n",
       "                    --jp-widgets-color: white;\n",
       "                    --jp-widgets-label-color: white;\n",
       "                    --jp-ui-font-color1: white;\n",
       "                    --jp-layout-color2: #454545;\n",
       "                    background-color: #383838;\n",
       "                }\n",
       "\n",
       "                .geemap-dark .jupyter-button {\n",
       "                    --jp-layout-color3: #383838;\n",
       "                }\n",
       "\n",
       "                .geemap-colab {\n",
       "                    background-color: var(--colab-primary-surface-color, white);\n",
       "                }\n",
       "\n",
       "                .geemap-colab .jupyter-button {\n",
       "                    --jp-layout-color3: var(--colab-primary-surface-color, white);\n",
       "                }\n",
       "            </style>\n",
       "            "
      ],
      "text/plain": [
       "<IPython.core.display.HTML object>"
      ]
     },
     "metadata": {},
     "output_type": "display_data"
    }
   ],
   "source": [
    "continental_us_results = elevresults.drop([0, 1, 2, 3, 4, 54, 55])\n",
    "#continental_us_results    # Verify the new dataframe"
   ]
  },
  {
   "cell_type": "markdown",
   "metadata": {},
   "source": [
    "First thing we are going to do is create a new dataframe that drops HI, AK, and US Territories that are not on the mainland.  \n",
    "We do this for mapping purposes later as having the extra states becomes problematic for showcasing a map in Python."
   ]
  },
  {
   "cell_type": "code",
   "execution_count": 20,
   "metadata": {},
   "outputs": [
    {
     "data": {
      "text/html": [
       "\n",
       "            <style>\n",
       "                .geemap-dark {\n",
       "                    --jp-widgets-color: white;\n",
       "                    --jp-widgets-label-color: white;\n",
       "                    --jp-ui-font-color1: white;\n",
       "                    --jp-layout-color2: #454545;\n",
       "                    background-color: #383838;\n",
       "                }\n",
       "\n",
       "                .geemap-dark .jupyter-button {\n",
       "                    --jp-layout-color3: #383838;\n",
       "                }\n",
       "\n",
       "                .geemap-colab {\n",
       "                    background-color: var(--colab-primary-surface-color, white);\n",
       "                }\n",
       "\n",
       "                .geemap-colab .jupyter-button {\n",
       "                    --jp-layout-color3: var(--colab-primary-surface-color, white);\n",
       "                }\n",
       "            </style>\n",
       "            "
      ],
      "text/plain": [
       "<IPython.core.display.HTML object>"
      ]
     },
     "metadata": {},
     "output_type": "display_data"
    }
   ],
   "source": [
    "ranked_elev = continental_us_results.sort_values(\"mean\", axis=0, ascending=False)"
   ]
  },
  {
   "cell_type": "markdown",
   "metadata": {},
   "source": [
    "we are making a ranked dataframe from the previous one that orders the dataframe by the elevation of the states."
   ]
  },
  {
   "cell_type": "code",
   "execution_count": 21,
   "metadata": {},
   "outputs": [
    {
     "data": {
      "text/html": [
       "\n",
       "            <style>\n",
       "                .geemap-dark {\n",
       "                    --jp-widgets-color: white;\n",
       "                    --jp-widgets-label-color: white;\n",
       "                    --jp-ui-font-color1: white;\n",
       "                    --jp-layout-color2: #454545;\n",
       "                    background-color: #383838;\n",
       "                }\n",
       "\n",
       "                .geemap-dark .jupyter-button {\n",
       "                    --jp-layout-color3: #383838;\n",
       "                }\n",
       "\n",
       "                .geemap-colab {\n",
       "                    background-color: var(--colab-primary-surface-color, white);\n",
       "                }\n",
       "\n",
       "                .geemap-colab .jupyter-button {\n",
       "                    --jp-layout-color3: var(--colab-primary-surface-color, white);\n",
       "                }\n",
       "            </style>\n",
       "            "
      ],
      "text/plain": [
       "<IPython.core.display.HTML object>"
      ]
     },
     "metadata": {},
     "output_type": "display_data"
    }
   ],
   "source": [
    "ranked_elev = ranked_elev.rename(columns={\"mean\": \"Mean Elevation\", \"STUSPS\": \"State\"})\n",
    "ranked_elev[\"Rank\"] = ranked_elev['Mean Elevation'].rank(method='min', ascending=False).astype(int)"
   ]
  },
  {
   "cell_type": "markdown",
   "metadata": {},
   "source": [
    "We do some column renaming here and add a \"Rank\" column."
   ]
  },
  {
   "cell_type": "code",
   "execution_count": 24,
   "metadata": {},
   "outputs": [
    {
     "data": {
      "text/html": [
       "\n",
       "            <style>\n",
       "                .geemap-dark {\n",
       "                    --jp-widgets-color: white;\n",
       "                    --jp-widgets-label-color: white;\n",
       "                    --jp-ui-font-color1: white;\n",
       "                    --jp-layout-color2: #454545;\n",
       "                    background-color: #383838;\n",
       "                }\n",
       "\n",
       "                .geemap-dark .jupyter-button {\n",
       "                    --jp-layout-color3: #383838;\n",
       "                }\n",
       "\n",
       "                .geemap-colab {\n",
       "                    background-color: var(--colab-primary-surface-color, white);\n",
       "                }\n",
       "\n",
       "                .geemap-colab .jupyter-button {\n",
       "                    --jp-layout-color3: var(--colab-primary-surface-color, white);\n",
       "                }\n",
       "            </style>\n",
       "            "
      ],
      "text/plain": [
       "<IPython.core.display.HTML object>"
      ]
     },
     "metadata": {},
     "output_type": "display_data"
    },
    {
     "data": {
      "text/html": [
       "<style type=\"text/css\">\n",
       "</style>\n",
       "<table id=\"T_20cec\">\n",
       "  <thead>\n",
       "    <tr>\n",
       "      <th id=\"T_20cec_level0_col0\" class=\"col_heading level0 col0\" >Rank</th>\n",
       "      <th id=\"T_20cec_level0_col1\" class=\"col_heading level0 col1\" >State</th>\n",
       "      <th id=\"T_20cec_level0_col2\" class=\"col_heading level0 col2\" >Mean Elevation</th>\n",
       "    </tr>\n",
       "  </thead>\n",
       "  <tbody>\n",
       "    <tr>\n",
       "      <td id=\"T_20cec_row0_col0\" class=\"data row0 col0\" >1</td>\n",
       "      <td id=\"T_20cec_row0_col1\" class=\"data row0 col1\" >CO</td>\n",
       "      <td id=\"T_20cec_row0_col2\" class=\"data row0 col2\" >2090.83 m</td>\n",
       "    </tr>\n",
       "    <tr>\n",
       "      <td id=\"T_20cec_row1_col0\" class=\"data row1 col0\" >2</td>\n",
       "      <td id=\"T_20cec_row1_col1\" class=\"data row1 col1\" >WY</td>\n",
       "      <td id=\"T_20cec_row1_col2\" class=\"data row1 col2\" >1947.70 m</td>\n",
       "    </tr>\n",
       "    <tr>\n",
       "      <td id=\"T_20cec_row2_col0\" class=\"data row2 col0\" >3</td>\n",
       "      <td id=\"T_20cec_row2_col1\" class=\"data row2 col1\" >UT</td>\n",
       "      <td id=\"T_20cec_row2_col2\" class=\"data row2 col2\" >1833.04 m</td>\n",
       "    </tr>\n",
       "    <tr>\n",
       "      <td id=\"T_20cec_row3_col0\" class=\"data row3 col0\" >4</td>\n",
       "      <td id=\"T_20cec_row3_col1\" class=\"data row3 col1\" >NM</td>\n",
       "      <td id=\"T_20cec_row3_col2\" class=\"data row3 col2\" >1764.20 m</td>\n",
       "    </tr>\n",
       "    <tr>\n",
       "      <td id=\"T_20cec_row4_col0\" class=\"data row4 col0\" >5</td>\n",
       "      <td id=\"T_20cec_row4_col1\" class=\"data row4 col1\" >NV</td>\n",
       "      <td id=\"T_20cec_row4_col2\" class=\"data row4 col2\" >1688.56 m</td>\n",
       "    </tr>\n",
       "  </tbody>\n",
       "</table>\n"
      ],
      "text/plain": [
       "<pandas.io.formats.style.Styler at 0x26deb403450>"
      ]
     },
     "execution_count": 24,
     "metadata": {},
     "output_type": "execute_result"
    }
   ],
   "source": [
    "ranked_elev = ranked_elev[[\"Rank\", \"State\", \"Mean Elevation\"]]\n",
    "ranked_elev.head(5).style.format({\"Mean Elevation\": \"{:.2f} m\"}).hide(axis='index')"
   ]
  },
  {
   "cell_type": "markdown",
   "metadata": {},
   "source": [
    "Here is our final **Ranking Table** for the top 5 states!  \n",
    "Colorado, Wyoming, Utah, New Mexico, and Nevada."
   ]
  },
  {
   "cell_type": "markdown",
   "metadata": {},
   "source": [
    "### Mean Elevation Map"
   ]
  },
  {
   "cell_type": "code",
   "execution_count": 50,
   "metadata": {},
   "outputs": [
    {
     "data": {
      "text/html": [
       "\n",
       "            <style>\n",
       "                .geemap-dark {\n",
       "                    --jp-widgets-color: white;\n",
       "                    --jp-widgets-label-color: white;\n",
       "                    --jp-ui-font-color1: white;\n",
       "                    --jp-layout-color2: #454545;\n",
       "                    background-color: #383838;\n",
       "                }\n",
       "\n",
       "                .geemap-dark .jupyter-button {\n",
       "                    --jp-layout-color3: #383838;\n",
       "                }\n",
       "\n",
       "                .geemap-colab {\n",
       "                    background-color: var(--colab-primary-surface-color, white);\n",
       "                }\n",
       "\n",
       "                .geemap-colab .jupyter-button {\n",
       "                    --jp-layout-color3: var(--colab-primary-surface-color, white);\n",
       "                }\n",
       "            </style>\n",
       "            "
      ],
      "text/plain": [
       "<IPython.core.display.HTML object>"
      ]
     },
     "metadata": {},
     "output_type": "display_data"
    }
   ],
   "source": [
    "import seaborn as sns\n",
    "import matplotlib.pyplot as plt\n",
    "import mapclassify\n",
    "from legendgram import legendgram\n",
    "import palettable.matplotlib as palmpl\n",
    "from palettable.cartocolors.sequential import SunsetDark_7\n",
    "import matplotlib\n",
    "from matplotlib.colors import ListedColormap"
   ]
  },
  {
   "cell_type": "markdown",
   "metadata": {},
   "source": [
    "import some stuff for mapping purposes."
   ]
  },
  {
   "cell_type": "code",
   "execution_count": 62,
   "metadata": {},
   "outputs": [
    {
     "data": {
      "text/html": [
       "\n",
       "            <style>\n",
       "                .geemap-dark {\n",
       "                    --jp-widgets-color: white;\n",
       "                    --jp-widgets-label-color: white;\n",
       "                    --jp-ui-font-color1: white;\n",
       "                    --jp-layout-color2: #454545;\n",
       "                    background-color: #383838;\n",
       "                }\n",
       "\n",
       "                .geemap-dark .jupyter-button {\n",
       "                    --jp-layout-color3: #383838;\n",
       "                }\n",
       "\n",
       "                .geemap-colab {\n",
       "                    background-color: var(--colab-primary-surface-color, white);\n",
       "                }\n",
       "\n",
       "                .geemap-colab .jupyter-button {\n",
       "                    --jp-layout-color3: var(--colab-primary-surface-color, white);\n",
       "                }\n",
       "            </style>\n",
       "            "
      ],
      "text/plain": [
       "<IPython.core.display.HTML object>"
      ]
     },
     "metadata": {},
     "output_type": "display_data"
    },
    {
     "data": {
      "image/png": "[encoded data removed]",
      "text/plain": [
       "<Figure size 640x480 with 2 Axes>"
      ]
     },
     "metadata": {},
     "output_type": "display_data"
    }
   ],
   "source": [
    "f,ax = plt.subplots()\n",
    "\n",
    "\n",
    "continental_us_results.plot('mean', k=10, ax=ax, scheme='naturalbreaks')\n",
    "\n",
    "\n",
    "#bins returns the steps\n",
    "bins = mapclassify.Quantiles(continental_us_results['mean'], k=10).bins\n",
    "\n",
    "legendgram(f,ax,continental_us_results['mean'],bins,pal=palmpl.Viridis_10,\n",
    "           \n",
    "          legend_size=(1, 0.2), # legend size in fractions of the axis\n",
    "           \n",
    "           loc = 'lower left', # matplotlib-style legend locations\n",
    "           \n",
    "           )\n",
    "\n",
    "\n",
    "ax.axis('off');"
   ]
  },
  {
   "cell_type": "markdown",
   "metadata": {},
   "source": []
  }
 ],
 "metadata": {
  "kernelspec": {
   "display_name": ".conda",
   "language": "python",
   "name": "python3"
  },
  "language_info": {
   "codemirror_mode": {
    "name": "ipython",
    "version": 3
   },
   "file_extension": ".py",
   "mimetype": "text/x-python",
   "name": "python",
   "nbconvert_exporter": "python",
   "pygments_lexer": "ipython3",
   "version": "3.11.9"
  }
 },
 "nbformat": 4,
 "nbformat_minor": 2
}
